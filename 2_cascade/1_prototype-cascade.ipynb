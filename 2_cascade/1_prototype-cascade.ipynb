{
 "cells": [
  {
   "cell_type": "markdown",
   "id": "bcb6f711-2a4a-4908-85ac-e35d7b52fb03",
   "metadata": {},
   "source": [
    "## Pseudocode"
   ]
  },
  {
   "cell_type": "markdown",
   "id": "5f9929d1-ebb5-4a80-955a-f9370043e085",
   "metadata": {},
   "source": [
    "We want to build something like this\n",
    "```python\n",
    "new_training_examples = []\n",
    "initial_starting_points = []\n",
    "\n",
    "explore_timesteps = 50\n",
    "n_audit_frames = 10\n",
    "\n",
    "class Trajectory: \n",
    "    def __init__(self, file): \n",
    "        file = file\n",
    "    last_trusted_ix = 0\n",
    "\n",
    "def audit(trajectory, reference_calc): \n",
    "    uqs = [uq(frame) for frame in traj[last_trusted:]]\n",
    "    # audit the topk worst UQ frames\n",
    "    audit_indices = np.argsort(uqs)[::-n_audit_frames] # double check this indexing\n",
    "    ref_energies, ref_forces = [compute_forces(frames[i]) for i in audit_indices]\n",
    "    error = compute_error(forces, ref_forces)\n",
    "    return error, ref_energies, ref_forces\n",
    "    \n",
    "trajectories = [Trajectory() for file in initial_starting_points]\n",
    "\n",
    "done = False\n",
    "while not done: # loop breaks when all trajectories are done\n",
    "    if training_set.updated(): \n",
    "        model.retrain()\n",
    "    for traj in trajectories:\n",
    "        calc = reference_calc\n",
    "        init = read(traj.file, index=traj.last_trusted_ix)\n",
    "        dyn.run(init, explore_timesteps, traj)\n",
    "        error, audit_frames = audit(trajectory, calc)\n",
    "        if error > tol: \n",
    "            training_set.append(audit_frames)\n",
    "\n",
    "    done = all(traj.done() for traj in trajectory)\n",
    "```"
   ]
  },
  {
   "cell_type": "markdown",
   "id": "54f820f1-0550-4d3b-bb37-603131f848cc",
   "metadata": {},
   "source": [
    "## prototype"
   ]
  },
  {
   "cell_type": "code",
   "execution_count": 1,
   "id": "9c49f1f6-3a41-4d70-8126-236faccc3f4d",
   "metadata": {},
   "outputs": [],
   "source": [
    "from glob import glob\n",
    "from pathlib import Path\n",
    "from ase.io import read\n",
    "from ase.io.trajectory import Trajectory\n",
    "from ase import units\n",
    "from ase.md.npt import NPT\n",
    "\n",
    "import numpy as np\n",
    "from cascade.calculator import make_calculator\n",
    "\n",
    "from mace.calculators import MACECalculator"
   ]
  },
  {
   "cell_type": "code",
   "execution_count": null,
   "id": "96d521c2-9c3d-444f-bced-b72f9f0b464c",
   "metadata": {},
   "outputs": [],
   "source": []
  },
  {
   "cell_type": "markdown",
   "id": "106599fc-325b-44c2-b1d2-de5b86ba81da",
   "metadata": {},
   "source": [
    "### Read in initial conditions and get trajectory names"
   ]
  },
  {
   "cell_type": "code",
   "execution_count": 2,
   "id": "ee7db088-b996-4bae-b3c5-1d2180f806a7",
   "metadata": {},
   "outputs": [
    {
     "data": {
      "text/plain": [
       "['../0_setup/md/packmol-CH4-in-H2O=32-seed=3-blyp-npt=298/md.traj']"
      ]
     },
     "execution_count": 2,
     "metadata": {},
     "output_type": "execute_result"
    }
   ],
   "source": [
    "initial_trajectories = glob('../0_setup/md/**/*md.traj')[-1:]\n",
    "initial_trajectories"
   ]
  },
  {
   "cell_type": "code",
   "execution_count": 3,
   "id": "3cf58db7-8b22-4c92-af03-97553e8ba481",
   "metadata": {},
   "outputs": [
    {
     "data": {
      "text/plain": [
       "['packmol-CH4-in-H2O=32-seed=3-blyp-npt=298']"
      ]
     },
     "execution_count": 3,
     "metadata": {},
     "output_type": "execute_result"
    }
   ],
   "source": [
    "traj_names = [traj.split('/')[-2] for traj in initial_trajectories]\n",
    "traj_names"
   ]
  },
  {
   "cell_type": "code",
   "execution_count": 4,
   "id": "3fa67b03-b320-4a90-978b-e9642eaf78a2",
   "metadata": {},
   "outputs": [],
   "source": [
    "initial_conditions = {name: read(traj, index='0') \n",
    "                      for traj, name in \n",
    "                      zip(initial_trajectories, \n",
    "                          traj_names)}"
   ]
  },
  {
   "cell_type": "code",
   "execution_count": 5,
   "id": "3dea51da-ddac-416d-a8c1-b058b8dab889",
   "metadata": {},
   "outputs": [
    {
     "data": {
      "text/plain": [
       "{'packmol-CH4-in-H2O=32-seed=3-blyp-npt=298': Atoms(symbols='CH68O32', pbc=True, cell=[10.288817093428836, 10.288817093428836, 10.288817093428836], momenta=..., calculator=SinglePointCalculator(...))}"
      ]
     },
     "execution_count": 5,
     "metadata": {},
     "output_type": "execute_result"
    }
   ],
   "source": [
    "initial_conditions"
   ]
  },
  {
   "cell_type": "markdown",
   "id": "2ccce74a-3702-4dcf-b3ef-868a3ca235ca",
   "metadata": {},
   "source": [
    "## Read in initial models"
   ]
  },
  {
   "cell_type": "code",
   "execution_count": 6,
   "id": "76525cbb-f5e0-4b7e-a426-0d7624702f5e",
   "metadata": {},
   "outputs": [
    {
     "name": "stdout",
     "output_type": "stream",
     "text": [
      "Running committee mace with 4 models\n",
      "No dtype selected, switching to float32 to match model dtype.\n"
     ]
    }
   ],
   "source": [
    "initial_model_files = glob('../1_mace/ensemble/*.pt')\n",
    "calc_ml = MACECalculator(initial_model_files, device='cuda:0')\n",
    "calc_ref = make_calculator('blyp')"
   ]
  },
  {
   "cell_type": "markdown",
   "id": "e4790f85-a806-4d12-87e8-cb9b2b350db1",
   "metadata": {},
   "source": [
    "## TODO:\n",
    "handle the trajectory splicing/overwiting. I think it makes sense to see how Logan did this. \n",
    "\n",
    "One idea is to track the trusted segments\n",
    "something like \n",
    "\n",
    "```python\n",
    "@dataclass\n",
    "class Trajectory: \n",
    "\n",
    "    id: str\n",
    "    starting: ase.Atoms\n",
    "    last_trusted_timestep = 0\n",
    "    \n",
    "    # which chunks to splice together into a trusted trajectory\n",
    "    trusted_chunks = tuple()\n",
    "```"
   ]
  },
  {
   "cell_type": "code",
   "execution_count": null,
   "id": "f94d5cc5-5213-4172-9384-a5bd9f91ffb0",
   "metadata": {},
   "outputs": [],
   "source": []
  },
  {
   "cell_type": "code",
   "execution_count": 8,
   "id": "22556b00-3256-44d6-890f-ea1de576956f",
   "metadata": {},
   "outputs": [],
   "source": [
    "from typing import Tuple, List, Dict\n",
    "from dataclasses import dataclass, field\n",
    "from collections import defaultdict"
   ]
  },
  {
   "cell_type": "markdown",
   "id": "5bd84274-61b5-4875-8180-6279fe7ff2fb",
   "metadata": {},
   "source": [
    "Really maybe what makes more sense is something like \n",
    "\n",
    "```python\n",
    "\n",
    "@dataclass\n",
    "class Trajectory: \n",
    "\n",
    "    chunk_size: int = 50 # number of timesteps in a chunk (for now is constant)\n",
    "    last_trusted_timestep: int = 0\n",
    "    chunks = {} # (factory!) dict mapping chunk: list of filenames, or just int: int\n",
    "```"
   ]
  },
  {
   "cell_type": "code",
   "execution_count": null,
   "id": "d8c166b7-ad04-4b0d-9688-cbe7bccb3e33",
   "metadata": {},
   "outputs": [],
   "source": []
  },
  {
   "cell_type": "code",
   "execution_count": 9,
   "id": "e62cbd7c-4a4e-46a9-8d70-b986a95ac792",
   "metadata": {},
   "outputs": [],
   "source": [
    "@dataclass\n",
    "class CascadeTrajectory:\n",
    "    \"\"\"A class to encasplulate a cascade trajectory, which has trusted and untrusted chunks\"\"\"\n",
    "    \n",
    "    dir: str\n",
    "    last_trusted_timestep: int = 0\n",
    "    trusted_chunks: List[int] = field(default_factory=list)\n",
    "    \n",
    "    def read(self): \n",
    "        pass"
   ]
  },
  {
   "cell_type": "code",
   "execution_count": 15,
   "id": "568bdb51-d2a5-4ff5-9b50-13d4bc111e5f",
   "metadata": {},
   "outputs": [],
   "source": [
    "name = traj_names[0]\n",
    "chunk_size = 50\n",
    "total_steps = 512\n",
    "n_chunks = np.ceil(total_steps / chunk_size)\n",
    "done = False\n",
    "retrain_ix = 1 # start counting at 1 (scary!)\n",
    "chunk_ix = 1\n",
    "chunk_passes = defaultdict(lambda: 0) # int: int how many passes for each chunk\n",
    "\n",
    "while not done:\n",
    "    pass_ix = 1\n",
    "    \n",
    "    # set up the directory to hold the trajectory for this pass\n",
    "    run_dir = Path(f'cascade-md') / name\n",
    "    pass_dir = run_dir / f'chunk={chunk_ix}-pass={pass_ix}'\n",
    "    pass_dir.mkdir(exist_ok=True, parents=True)\n",
    "\n",
    "    # pull in initial conidtions or last frame from the most recent trusted chunk\n",
    "    if chunk_ix == 1: \n",
    "        atoms = initial_conditions[name]\n",
    "    else:\n",
    "        last_pass = chunk_passes[chunk_ix-1]\n",
    "        atoms = read(Path(run_dir)/name/f'chunk={chunk_ix-1}-{last_pass}', \n",
    "                     index='-1')\n",
    "\n",
    "    # we save the trajectory in chunks, inluding every pass at simulating that chunk\n",
    "    logfile = str(pass_dir / 'md.log')\n",
    "    trajfile = str(pass_dir / 'md.traj')\n",
    "    \n",
    "    # setup the ml-driven dynamics\n",
    "    atoms.calc = calc_ml\n",
    "    dyn = NPT(atoms,\n",
    "      timestep=0.5 * units.fs,\n",
    "      temperature_K=298,\n",
    "      ttime=100 * units.fs,\n",
    "      pfactor=0.01,\n",
    "      externalstress=0,\n",
    "      logfile=logfile,\n",
    "      trajectory=trajfile,\n",
    "      append_trajectory=False)\n",
    "    # timestep indexing\n",
    "    # start = (chunk_ix-1) * chunk_size # the actual starting timestep\n",
    "    # stop = min(chunk_size, chunk_size*chunk_ix)\n",
    "    # there is probably a nice mathy way to do this\n",
    "    resulting_steps = chunk_ix * chunk_size # how many total timesteps will be achieved\n",
    "    if resulting_steps < total_steps: \n",
    "        chunk_steps = chunk_size\n",
    "    else: \n",
    "        chunk_steps = total_steps - ((chunk_ix-1)*chunk_size)\n",
    "\n",
    "    # run the dynamics for this chunk\n",
    "    dyn.run(chunk_steps)\n",
    "\n",
    "    # read in the recent chunk\n",
    "    chunk = read(trajfile)\n",
    "    break"
   ]
  },
  {
   "cell_type": "markdown",
   "id": "89188bb0-23cc-4e64-9f00-21e5b8efd4ed",
   "metadata": {},
   "source": [
    "## todo\n",
    "\n",
    "- [ ] make the UQ eval plots\n",
    "- [ ] get ASE/cp2k working locally again\n",
    "- [ ] get the above working code working with a single trajectory in a token manner\n",
    "- [ ] get it working with multiple trajectories in a less token manner"
   ]
  },
  {
   "cell_type": "code",
   "execution_count": 18,
   "id": "a8e3be7b-5b3c-4d50-ba75-460445f9428c",
   "metadata": {},
   "outputs": [
    {
     "name": "stdout",
     "output_type": "stream",
     "text": [
      "\u001b[01;34mcascade-md\u001b[0m\n",
      "└── \u001b[01;34mpackmol-CH4-in-H2O=32-seed=3-blyp-npt=298\u001b[0m\n",
      "    └── \u001b[01;34mchunk=1-pass=1\u001b[0m\n",
      "        ├── md.log\n",
      "        └── md.traj\n",
      "\n",
      "2 directories, 2 files\n"
     ]
    }
   ],
   "source": [
    "!tree cascade-md"
   ]
  },
  {
   "cell_type": "code",
   "execution_count": null,
   "id": "bda9cdfc-805f-496e-b22c-39616304dcd0",
   "metadata": {},
   "outputs": [],
   "source": []
  }
 ],
 "metadata": {
  "kernelspec": {
   "display_name": "Python 3 (ipykernel)",
   "language": "python",
   "name": "python3"
  },
  "language_info": {
   "codemirror_mode": {
    "name": "ipython",
    "version": 3
   },
   "file_extension": ".py",
   "mimetype": "text/x-python",
   "name": "python",
   "nbconvert_exporter": "python",
   "pygments_lexer": "ipython3",
   "version": "3.11.0"
  }
 },
 "nbformat": 4,
 "nbformat_minor": 5
}
