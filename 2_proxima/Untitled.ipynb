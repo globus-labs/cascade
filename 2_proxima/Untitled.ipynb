{
 "cells": [
  {
   "cell_type": "code",
   "execution_count": 25,
   "id": "8ba474d6-be49-4643-9bb2-17674074c211",
   "metadata": {},
   "outputs": [],
   "source": [
    "from ase.io import read, extxyz\n",
    "from glob import glob\n",
    "from pathlib import Path\n",
    "import json\n",
    "import pandas as pd\n",
    "import seaborn as sns\n",
    "\n",
    "import matplotlib.pyplot as plt"
   ]
  },
  {
   "cell_type": "code",
   "execution_count": 2,
   "id": "f887ee81-052b-44d7-b109-f8ead74f5cff",
   "metadata": {},
   "outputs": [
    {
     "data": {
      "text/plain": [
       "['runs/cost-accuracy/si-vacancy-2x2x2-temp=1573.0-method=lda-blend=10-231d118b',\n",
       " 'runs/cost-accuracy/si-vacancy-2x2x2-temp=1573.0-method=lda-blend=10-b7ef829c',\n",
       " 'runs/cost-accuracy/si-vacancy-2x2x2-temp=1573.0-method=lda-blend=10-e06061cb',\n",
       " 'runs/cost-accuracy/si-vacancy-2x2x2-temp=1573.0-method=lda-blend=10-4065eb7d',\n",
       " 'runs/cost-accuracy/si-vacancy-2x2x2-temp=1573.0-method=lda-blend=10-eee35ffd',\n",
       " 'runs/cost-accuracy/si-vacancy-2x2x2-temp=1573.0-method=lda-blend=10-ed0b720a',\n",
       " 'runs/cost-accuracy/si-vacancy-2x2x2-temp=1573.0-method=lda-blend=10-858ac6aa',\n",
       " 'runs/cost-accuracy/si-vacancy-2x2x2-temp=1573.0-method=lda-blend=10-51095cbe']"
      ]
     },
     "execution_count": 2,
     "metadata": {},
     "output_type": "execute_result"
    }
   ],
   "source": [
    "paths = glob('runs/cost-accuracy/*')\n",
    "paths"
   ]
  },
  {
   "cell_type": "code",
   "execution_count": 3,
   "id": "05d730b1-150b-4b62-bee5-2c99c5e9f02d",
   "metadata": {},
   "outputs": [],
   "source": [
    "params = []\n",
    "for d in paths:\n",
    "    try:\n",
    "        params.append(json.loads((Path(d)/'params.json').read_text()))\n",
    "    except: \n",
    "        print(f'couldnt find {d}/params.json; skipping')\n",
    "        continue\n",
    "    params[-1]['dir'] = d\n",
    "params = pd.DataFrame(params)"
   ]
  },
  {
   "cell_type": "code",
   "execution_count": 4,
   "id": "1afb779e-a51b-4106-84e5-5572ab3e4e18",
   "metadata": {},
   "outputs": [
    {
     "data": {
      "text/plain": [
       "Index(['file', 'starting_strc', 'temperature', 'timestep', 'calculator',\n",
       "       'ensemble', 'temp_tau', 'stress_tau', 'steps', 'seed', 'bulk_modulus',\n",
       "       'initial_volume', 'model_type', 'initial_model', 'initial_data',\n",
       "       'ensemble_size', 'online_training', 'training_epochs',\n",
       "       'training_batch_size', 'training_max_size', 'training_recency_bias',\n",
       "       'training_device', 'target_error', 'error_history', 'retrain_freq',\n",
       "       'min_target_frac', 'n_blending_steps', 'cascade_commit', 'my_commit',\n",
       "       'start_time', 'dir'],\n",
       "      dtype='object')"
      ]
     },
     "execution_count": 4,
     "metadata": {},
     "output_type": "execute_result"
    }
   ],
   "source": [
    "params.columns"
   ]
  },
  {
   "cell_type": "code",
   "execution_count": 5,
   "id": "f53206cb-935e-453e-82c7-be93e59844e4",
   "metadata": {},
   "outputs": [],
   "source": [
    "param_vars = ['target_error', 'retrain_freq']"
   ]
  },
  {
   "cell_type": "code",
   "execution_count": 6,
   "id": "d7bb5872-d05f-467e-8e73-999b091b26d1",
   "metadata": {},
   "outputs": [],
   "source": [
    "data = []\n",
    "hashes = []\n",
    "for i, row in params.iterrows(): \n",
    "    # read in the results for each set of parameters\n",
    "    run = row['dir']\n",
    "    try:\n",
    "        _data = pd.read_json(Path(run)/'proxima-log.json', lines=True)\n",
    "    except: \n",
    "        print('couldnt read proximal log for', run)\n",
    "        hashes.append(None)\n",
    "        continue\n",
    "    # make sure to have timestep\n",
    "    _data.reset_index(names='timestep', inplace=True)\n",
    "\n",
    "    # keep the hash of the run\n",
    "    _hash = run.split('-')[-1]\n",
    "    hashes.append(_hash)\n",
    "    _data['hash'] = _hash \n",
    "    #traj = read(Path(run)/'md.traj', index=':')\n",
    "    #break    \n",
    "    # add the parameters to the experiment df for easy plotting, grouping, etc\n",
    "    for var in param_vars:\n",
    "        _data[var] = row[var]\n",
    "    data.append(_data)\n",
    "\n",
    "# track the hashes as well for param lookup\n",
    "params['hash'] = hashes\n",
    "data = pd.concat(data)"
   ]
  },
  {
   "cell_type": "markdown",
   "id": "6dc9a383-8758-47bf-9965-580f0ac4a607",
   "metadata": {},
   "source": [
    "## examining the costs"
   ]
  },
  {
   "cell_type": "code",
   "execution_count": 7,
   "id": "3500c86e-e168-47d9-aed0-37a026523387",
   "metadata": {},
   "outputs": [
    {
     "data": {
      "text/plain": [
       "target_error  retrain_freq\n",
       "3.0           512             100002\n",
       "10.0          512             100002\n",
       "3.0           64               60243\n",
       "10.0          64               59381\n",
       "Name: count, dtype: int64"
      ]
     },
     "execution_count": 7,
     "metadata": {},
     "output_type": "execute_result"
    }
   ],
   "source": [
    "data[param_vars].value_counts()"
   ]
  },
  {
   "cell_type": "code",
   "execution_count": 8,
   "id": "d6c8b544-2ff7-459f-ba4a-66ae46254074",
   "metadata": {},
   "outputs": [],
   "source": [
    "invocations = []\n",
    "\n",
    "for h, df in data.groupby('hash'):\n",
    "    invocations.append(df.iloc[-1])\n",
    "invocations = pd.DataFrame(invocations)\n",
    "invocations\n",
    "invocations['frac_target'] = invocations['target_invocations'] / invocations['total_invocations']"
   ]
  },
  {
   "cell_type": "code",
   "execution_count": 9,
   "id": "76860f4c-600c-4be2-9690-b46a35cc42f1",
   "metadata": {},
   "outputs": [
    {
     "data": {
      "text/html": [
       "<div>\n",
       "<style scoped>\n",
       "    .dataframe tbody tr th:only-of-type {\n",
       "        vertical-align: middle;\n",
       "    }\n",
       "\n",
       "    .dataframe tbody tr th {\n",
       "        vertical-align: top;\n",
       "    }\n",
       "\n",
       "    .dataframe thead th {\n",
       "        text-align: right;\n",
       "    }\n",
       "</style>\n",
       "<table border=\"1\" class=\"dataframe\">\n",
       "  <thead>\n",
       "    <tr style=\"text-align: right;\">\n",
       "      <th></th>\n",
       "      <th></th>\n",
       "      <th>timestep</th>\n",
       "      <th>target_invocations</th>\n",
       "      <th>total_invocations</th>\n",
       "      <th>frac_target</th>\n",
       "    </tr>\n",
       "    <tr>\n",
       "      <th>target_error</th>\n",
       "      <th>retrain_freq</th>\n",
       "      <th></th>\n",
       "      <th></th>\n",
       "      <th></th>\n",
       "      <th></th>\n",
       "    </tr>\n",
       "  </thead>\n",
       "  <tbody>\n",
       "    <tr>\n",
       "      <th rowspan=\"2\" valign=\"top\">3.0</th>\n",
       "      <th>64</th>\n",
       "      <td>30120.5</td>\n",
       "      <td>8878.0</td>\n",
       "      <td>57968.0</td>\n",
       "      <td>0.153596</td>\n",
       "    </tr>\n",
       "    <tr>\n",
       "      <th>512</th>\n",
       "      <td>50000.0</td>\n",
       "      <td>11357.0</td>\n",
       "      <td>99488.5</td>\n",
       "      <td>0.114154</td>\n",
       "    </tr>\n",
       "    <tr>\n",
       "      <th rowspan=\"2\" valign=\"top\">10.0</th>\n",
       "      <th>64</th>\n",
       "      <td>29689.5</td>\n",
       "      <td>9677.5</td>\n",
       "      <td>55846.5</td>\n",
       "      <td>0.176369</td>\n",
       "    </tr>\n",
       "    <tr>\n",
       "      <th>512</th>\n",
       "      <td>50000.0</td>\n",
       "      <td>12190.0</td>\n",
       "      <td>98816.0</td>\n",
       "      <td>0.123446</td>\n",
       "    </tr>\n",
       "  </tbody>\n",
       "</table>\n",
       "</div>"
      ],
      "text/plain": [
       "                           timestep  target_invocations  total_invocations  \\\n",
       "target_error retrain_freq                                                    \n",
       "3.0          64             30120.5              8878.0            57968.0   \n",
       "             512            50000.0             11357.0            99488.5   \n",
       "10.0         64             29689.5              9677.5            55846.5   \n",
       "             512            50000.0             12190.0            98816.0   \n",
       "\n",
       "                           frac_target  \n",
       "target_error retrain_freq               \n",
       "3.0          64               0.153596  \n",
       "             512              0.114154  \n",
       "10.0         64               0.176369  \n",
       "             512              0.123446  "
      ]
     },
     "execution_count": 9,
     "metadata": {},
     "output_type": "execute_result"
    }
   ],
   "source": [
    "invocations.groupby(param_vars)[['timestep', 'target_invocations', 'total_invocations', 'frac_target']].mean()"
   ]
  },
  {
   "cell_type": "code",
   "execution_count": 10,
   "id": "1f209254-3641-4ba6-8f0b-55ae2ac3cfdf",
   "metadata": {},
   "outputs": [
    {
     "data": {
      "text/html": [
       "<div>\n",
       "<style scoped>\n",
       "    .dataframe tbody tr th:only-of-type {\n",
       "        vertical-align: middle;\n",
       "    }\n",
       "\n",
       "    .dataframe tbody tr th {\n",
       "        vertical-align: top;\n",
       "    }\n",
       "\n",
       "    .dataframe thead th {\n",
       "        text-align: right;\n",
       "    }\n",
       "</style>\n",
       "<table border=\"1\" class=\"dataframe\">\n",
       "  <thead>\n",
       "    <tr style=\"text-align: right;\">\n",
       "      <th></th>\n",
       "      <th>target_error</th>\n",
       "      <th>retrain_freq</th>\n",
       "      <th>hash</th>\n",
       "    </tr>\n",
       "  </thead>\n",
       "  <tbody>\n",
       "    <tr>\n",
       "      <th>50000</th>\n",
       "      <td>10.0</td>\n",
       "      <td>512</td>\n",
       "      <td>231d118b</td>\n",
       "    </tr>\n",
       "    <tr>\n",
       "      <th>28430</th>\n",
       "      <td>10.0</td>\n",
       "      <td>64</td>\n",
       "      <td>4065eb7d</td>\n",
       "    </tr>\n",
       "    <tr>\n",
       "      <th>30949</th>\n",
       "      <td>10.0</td>\n",
       "      <td>64</td>\n",
       "      <td>51095cbe</td>\n",
       "    </tr>\n",
       "    <tr>\n",
       "      <th>30435</th>\n",
       "      <td>3.0</td>\n",
       "      <td>64</td>\n",
       "      <td>858ac6aa</td>\n",
       "    </tr>\n",
       "    <tr>\n",
       "      <th>50000</th>\n",
       "      <td>3.0</td>\n",
       "      <td>512</td>\n",
       "      <td>b7ef829c</td>\n",
       "    </tr>\n",
       "    <tr>\n",
       "      <th>29806</th>\n",
       "      <td>3.0</td>\n",
       "      <td>64</td>\n",
       "      <td>e06061cb</td>\n",
       "    </tr>\n",
       "    <tr>\n",
       "      <th>50000</th>\n",
       "      <td>3.0</td>\n",
       "      <td>512</td>\n",
       "      <td>ed0b720a</td>\n",
       "    </tr>\n",
       "    <tr>\n",
       "      <th>50000</th>\n",
       "      <td>10.0</td>\n",
       "      <td>512</td>\n",
       "      <td>eee35ffd</td>\n",
       "    </tr>\n",
       "  </tbody>\n",
       "</table>\n",
       "</div>"
      ],
      "text/plain": [
       "       target_error  retrain_freq      hash\n",
       "50000          10.0           512  231d118b\n",
       "28430          10.0            64  4065eb7d\n",
       "30949          10.0            64  51095cbe\n",
       "30435           3.0            64  858ac6aa\n",
       "50000           3.0           512  b7ef829c\n",
       "29806           3.0            64  e06061cb\n",
       "50000           3.0           512  ed0b720a\n",
       "50000          10.0           512  eee35ffd"
      ]
     },
     "execution_count": 10,
     "metadata": {},
     "output_type": "execute_result"
    }
   ],
   "source": [
    "invocations[param_vars+['hash']]"
   ]
  },
  {
   "cell_type": "code",
   "execution_count": 11,
   "id": "09e16fd4-a3fb-437d-9dec-c1d036d23c0f",
   "metadata": {},
   "outputs": [],
   "source": [
    "time_sums = data.groupby('hash')['step_time'].sum()"
   ]
  },
  {
   "cell_type": "code",
   "execution_count": 12,
   "id": "8ab37523-9cb3-47a8-acac-1461f1f8fc46",
   "metadata": {},
   "outputs": [],
   "source": [
    "params = pd.merge(params, time_sums, left_on='hash', right_index=True)"
   ]
  },
  {
   "cell_type": "code",
   "execution_count": 13,
   "id": "ca4b7853-35de-487e-9ac7-fe07c7939e66",
   "metadata": {},
   "outputs": [
    {
     "data": {
      "text/plain": [
       "0    118203.631572\n",
       "1     66489.231897\n",
       "2     78868.111647\n",
       "3    276753.556887\n",
       "4    159970.507536\n",
       "5     64595.694225\n",
       "6    110527.086321\n",
       "7    176009.488204\n",
       "Name: step_time, dtype: float64"
      ]
     },
     "execution_count": 13,
     "metadata": {},
     "output_type": "execute_result"
    }
   ],
   "source": [
    "params['step_time']"
   ]
  },
  {
   "cell_type": "code",
   "execution_count": 14,
   "id": "bf0e6006-2cff-4d27-adb3-eced0934a5c4",
   "metadata": {
    "scrolled": true
   },
   "outputs": [
    {
     "data": {
      "text/plain": [
       "target_error  retrain_freq\n",
       "3.0           64              26.304889\n",
       "              512             18.206240\n",
       "10.0          64              62.883756\n",
       "              512             38.635297\n",
       "Name: step_time, dtype: float64"
      ]
     },
     "execution_count": 14,
     "metadata": {},
     "output_type": "execute_result"
    }
   ],
   "source": [
    "params.groupby(param_vars)['step_time'].mean() / (60*60)"
   ]
  },
  {
   "cell_type": "markdown",
   "id": "7d350d5a-0082-4ee0-9aaa-f7913634d587",
   "metadata": {},
   "source": [
    "# finding the training steps"
   ]
  },
  {
   "cell_type": "code",
   "execution_count": 27,
   "id": "8a3c1123-4693-449a-b32f-3d6aa0053161",
   "metadata": {},
   "outputs": [
    {
     "data": {
      "text/plain": [
       "<seaborn.axisgrid.FacetGrid at 0x7c8df3402090>"
      ]
     },
     "execution_count": 27,
     "metadata": {},
     "output_type": "execute_result"
    },
    {
     "data": {
      "image/png": "[encoded data removed]",
      "text/plain": [
       "<Figure size 500x500 with 1 Axes>"
      ]
     },
     "metadata": {},
     "output_type": "display_data"
    }
   ],
   "source": [
    "sns.displot(data['step_time'], kind='kde')"
   ]
  },
  {
   "cell_type": "code",
   "execution_count": 32,
   "id": "f19beb73-e531-4335-9112-21073e79c489",
   "metadata": {},
   "outputs": [
    {
     "data": {
      "text/plain": [
       "2933.613557233475"
      ]
     },
     "execution_count": 32,
     "metadata": {},
     "output_type": "execute_result"
    }
   ],
   "source": [
    "data['step_time'][data['model_version'].diff() == 1].max()"
   ]
  },
  {
   "cell_type": "code",
   "execution_count": null,
   "id": "ffb32943-ab61-4cf6-8119-9f2064c9cd38",
   "metadata": {},
   "outputs": [],
   "source": []
  }
 ],
 "metadata": {
  "kernelspec": {
   "display_name": "Python 3 (ipykernel)",
   "language": "python",
   "name": "python3"
  },
  "language_info": {
   "codemirror_mode": {
    "name": "ipython",
    "version": 3
   },
   "file_extension": ".py",
   "mimetype": "text/x-python",
   "name": "python",
   "nbconvert_exporter": "python",
   "pygments_lexer": "ipython3",
   "version": "3.11.0"
  }
 },
 "nbformat": 4,
 "nbformat_minor": 5
}
