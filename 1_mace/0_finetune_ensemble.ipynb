{
 "cells": [
  {
   "cell_type": "markdown",
   "id": "0e479d33-f079-4972-b570-4a08424dfe0d",
   "metadata": {},
   "source": [
    "# Example Training Script\n",
    "\n",
    "\n",
    "Set up an ensemble of fine-tuned mace potentials "
   ]
  },
  {
   "cell_type": "code",
   "execution_count": 14,
   "id": "e401bb55-85ea-45a6-827b-b48c8c44b275",
   "metadata": {},
   "outputs": [],
   "source": [
    "%matplotlib inline\n",
    "from pathlib import Path\n",
    "from matplotlib import pyplot as plt\n",
    "from mace.calculators.foundations_models import mace_mp\n",
    "from mace.data.utils import config_from_atoms, compute_average_E0s\n",
    "from mace.data import AtomicData\n",
    "from mace.modules import WeightedEnergyForcesLoss, scaling_classes\n",
    "from mace.tools.torch_geometric.dataloader import DataLoader\n",
    "from ignite.engine import Engine, Events\n",
    "from ignite.metrics import Loss\n",
    "from ase.io import iread\n",
    "from tqdm import tqdm\n",
    "from torch import nn\n",
    "import pandas as pd\n",
    "import numpy as np\n",
    "import torch"
   ]
  },
  {
   "cell_type": "code",
   "execution_count": null,
   "id": "755ea03c-900d-494d-ba54-7407163d6aa2",
   "metadata": {},
   "outputs": [],
   "source": []
  },
  {
   "cell_type": "markdown",
   "id": "77464220-b185-4bf8-b70c-1b1afa7842cb",
   "metadata": {},
   "source": [
    "## Load MD Dataset\n",
    "Load the MD data from our previous runs. Currently we have four demo trajectories and will use the first three for training"
   ]
  },
  {
   "cell_type": "code",
   "execution_count": 16,
   "id": "bcf07b86-5930-4952-81f2-d8167b6789f6",
   "metadata": {},
   "outputs": [],
   "source": [
    "data_dir = '../0_setup/md/'\n",
    "train_files = [f'packmol-CH4-in-H2O=32-seed={i}-blyp-npt=298/md.traj' for i in range(3)]"
   ]
  },
  {
   "cell_type": "code",
   "execution_count": null,
   "id": "4e524208-82fe-48fd-b5a9-351e16333013",
   "metadata": {},
   "outputs": [],
   "source": []
  },
  {
   "cell_type": "code",
   "execution_count": 31,
   "id": "014bd3a8-ac82-442c-9167-f5130fc81d05",
   "metadata": {},
   "outputs": [],
   "source": [
    "for file in train_files: \n",
    "    file = Path(data_dir) / file\n",
    "    assert file.exists(), \"File must exist\" "
   ]
  },
  {
   "cell_type": "code",
   "execution_count": 33,
   "id": "4bec7b88-60a8-4faa-8a3c-8f69cf3feba6",
   "metadata": {},
   "outputs": [],
   "source": [
    "configs = []\n",
    "for file in train_files: \n",
    "    file = Path(data_dir) / file\n",
    "    assert file.exists(), \"File must exist\" \n",
    "    for atoms in iread(file):\n",
    "        # Move the data into an \"info\" so MACE can find it\n",
    "        atoms.info = {\n",
    "            'energy': atoms.get_potential_energy(),\n",
    "            'stress': atoms.get_stress()\n",
    "        }\n",
    "        atoms.arrays.update({\n",
    "            'forces': atoms.get_forces(),\n",
    "            'positions': atoms.positions,\n",
    "        })\n",
    "        configs.append(config_from_atoms(atoms))"
   ]
  },
  {
   "cell_type": "markdown",
   "id": "d85d848f-d343-4adc-9cff-7b1bbf13b844",
   "metadata": {},
   "source": [
    "## Load the Starting Model\n",
    "We are going to start from the [MACE-MP Medium](https://arxiv.org/abs/2401.00096) model.\n",
    "\n",
    "The first step is to re-compute the \"atomic energies\" to account for differences in energy scales for atomic refernece energies\n",
    "The dataloader for MACE needs a \"Z table\" to match between atomic number and index in the nueral network. \n",
    "We are going to use the same one as the MACE-MP model"
   ]
  },
  {
   "cell_type": "code",
   "execution_count": 34,
   "id": "872293b5-7083-4451-a5d1-006b288311dd",
   "metadata": {},
   "outputs": [
    {
     "data": {
      "text/plain": [
       "True"
      ]
     },
     "execution_count": 34,
     "metadata": {},
     "output_type": "execute_result"
    }
   ],
   "source": [
    "import torch\n",
    "torch.cuda.is_available()"
   ]
  },
  {
   "cell_type": "code",
   "execution_count": 38,
   "id": "53c2e45e-6f0d-454b-bc31-df9714013d2d",
   "metadata": {},
   "outputs": [],
   "source": [
    "n_committee = 4"
   ]
  },
  {
   "cell_type": "code",
   "execution_count": 39,
   "id": "d4f0a1c9-e6df-447e-b767-0ecc955a5003",
   "metadata": {},
   "outputs": [
    {
     "name": "stdout",
     "output_type": "stream",
     "text": [
      "Using Materials Project MACE for MACECalculator with /home/mike/.cache/mace/46jrkm3v\n",
      "Using float32 for MACECalculator, which is faster but less accurate. Recommended for MD. Use float64 for geometry optimization.\n",
      "Default dtype float32 does not match model dtype float64, converting models to float32.\n"
     ]
    }
   ],
   "source": [
    "calc = mace_mp('small', device='cuda')"
   ]
  },
  {
   "cell_type": "code",
   "execution_count": 40,
   "id": "248f7835-4ad8-4005-b1ee-f4c3540ed0d7",
   "metadata": {},
   "outputs": [
    {
     "data": {
      "text/plain": [
       "ScaleShiftMACE(\n",
       "  (node_embedding): LinearNodeEmbeddingBlock(\n",
       "    (linear): Linear(89x0e -> 128x0e | 11392 weights)\n",
       "  )\n",
       "  (radial_embedding): RadialEmbeddingBlock(\n",
       "    (bessel_fn): BesselBasis(r_max=6.0, num_basis=10, trainable=False)\n",
       "    (cutoff_fn): PolynomialCutoff(p=5.0, r_max=6.0)\n",
       "  )\n",
       "  (spherical_harmonics): SphericalHarmonics()\n",
       "  (atomic_energies_fn): AtomicEnergiesBlock(energies=[-3.6672, -1.3321, -3.4821, -4.7367, -7.7249, -8.4056, -7.3601, -7.2846, -4.8965, 0.0000, -2.7594, -2.8140, -4.8469, -7.6948, -6.9633, -4.6726, -2.8117, -0.0626, -2.6176, -5.3905, -7.8858, -10.2684, -8.6651, -9.2331, -8.3050, -7.0490, -5.5774, -5.1727, -3.2521, -1.2902, -3.5271, -4.7085, -3.9765, -3.8862, -2.5185, 6.7669, -2.5635, -4.9380, -10.1498, -11.8469, -12.1389, -8.7917, -8.7869, -7.7809, -6.8500, -4.8910, -2.0634, -0.6396, -2.7887, -3.8186, -3.5871, -2.8804, -1.6356, 9.8467, -2.7653, -4.9910, -8.9337, -8.7356, -8.0190, -8.2515, -7.5917, -8.1697, -13.5927, -18.5175, -7.6474, -8.1230, -7.6078, -6.8503, -7.8269, -3.5848, -7.4554, -12.7963, -14.1081, -9.3549, -11.3875, -9.6219, -7.3244, -5.3047, -2.3801, 0.2495, -2.3240, -3.7300, -3.4388, -5.0629, -11.0246, -12.2656, -13.8556, -14.9331, -15.2828])\n",
       "  (interactions): ModuleList(\n",
       "    (0-1): 2 x RealAgnosticResidualInteractionBlock(\n",
       "      (linear_up): Linear(128x0e -> 128x0e | 16384 weights)\n",
       "      (conv_tp): TensorProduct(128x0e x 1x0e+1x1o+1x2e+1x3o -> 128x0e+128x1o+128x2e+128x3o | 512 paths | 512 weights)\n",
       "      (conv_tp_weights): FullyConnectedNet[10, 64, 64, 64, 512]\n",
       "      (linear): Linear(128x0e+128x1o+128x2e+128x3o -> 128x0e+128x1o+128x2e+128x3o | 65536 weights)\n",
       "      (skip_tp): FullyConnectedTensorProduct(128x0e x 89x0e -> 128x0e | 1458176 paths | 1458176 weights)\n",
       "      (reshape): reshape_irreps()\n",
       "    )\n",
       "  )\n",
       "  (products): ModuleList(\n",
       "    (0-1): 2 x EquivariantProductBasisBlock(\n",
       "      (symmetric_contractions): SymmetricContraction(\n",
       "        (contractions): ModuleList(\n",
       "          (0): Contraction(\n",
       "            (contractions_weighting): ModuleList(\n",
       "              (0-1): 2 x GraphModule()\n",
       "            )\n",
       "            (contractions_features): ModuleList(\n",
       "              (0-1): 2 x GraphModule()\n",
       "            )\n",
       "            (weights): ParameterList(\n",
       "                (0): Parameter containing: [torch.float32 of size 89x4x128 (cuda:0)]\n",
       "                (1): Parameter containing: [torch.float32 of size 89x1x128 (cuda:0)]\n",
       "            )\n",
       "            (graph_opt_main): GraphModule()\n",
       "          )\n",
       "        )\n",
       "      )\n",
       "      (linear): Linear(128x0e -> 128x0e | 16384 weights)\n",
       "    )\n",
       "  )\n",
       "  (readouts): ModuleList(\n",
       "    (0): LinearReadoutBlock(\n",
       "      (linear): Linear(128x0e -> 1x0e | 128 weights)\n",
       "    )\n",
       "    (1): NonLinearReadoutBlock(\n",
       "      (linear_1): Linear(128x0e -> 16x0e | 2048 weights)\n",
       "      (non_linearity): Activation [x] (16x0e -> 16x0e)\n",
       "      (linear_2): Linear(16x0e -> 1x0e | 16 weights)\n",
       "    )\n",
       "  )\n",
       "  (scale_shift): ScaleShiftBlock(scale=0.804154, shift=0.164097)\n",
       ")"
      ]
     },
     "execution_count": 40,
     "metadata": {},
     "output_type": "execute_result"
    }
   ],
   "source": [
    "calc.models[0]"
   ]
  },
  {
   "cell_type": "code",
   "execution_count": 41,
   "id": "f9c1dc2c-aa74-4174-8977-ade251c398a9",
   "metadata": {},
   "outputs": [],
   "source": [
    "atomic_energies_dict = compute_average_E0s(configs, calc.z_table)\n",
    "atomic_energies = np.array([atomic_energies_dict[z] for z in calc.z_table.zs])"
   ]
  },
  {
   "cell_type": "code",
   "execution_count": 42,
   "id": "d1d8daa8-8061-451a-9cae-7c0e4a13ba96",
   "metadata": {},
   "outputs": [],
   "source": [
    "assert len(calc.models) == 1\n",
    "model = calc.models[0]"
   ]
  },
  {
   "cell_type": "code",
   "execution_count": 43,
   "id": "f13801d3-ddea-497d-8ae0-f62cac49735b",
   "metadata": {},
   "outputs": [
    {
     "data": {
      "text/plain": [
       "torch.Size([89, 23, 128])"
      ]
     },
     "execution_count": 43,
     "metadata": {},
     "output_type": "execute_result"
    }
   ],
   "source": [
    "next(model.products.parameters()).size()"
   ]
  },
  {
   "cell_type": "code",
   "execution_count": 44,
   "id": "5a65f2a9-421a-4388-a874-fc553f36e9dd",
   "metadata": {},
   "outputs": [],
   "source": [
    "with torch.no_grad():\n",
    "    ae = model.atomic_energies_fn.atomic_energies\n",
    "    model.atomic_energies_fn.atomic_energies = torch.from_numpy(atomic_energies).to(ae.dtype).to(ae.device)"
   ]
  },
  {
   "cell_type": "markdown",
   "id": "08b618e5-7aa2-4c70-aa51-fb89e6f9b45b",
   "metadata": {},
   "source": [
    "Then readjust the \"shift\" of the energy scale"
   ]
  },
  {
   "cell_type": "code",
   "execution_count": 45,
   "id": "ab56dcbf-e681-4123-8327-2338e7a6de9e",
   "metadata": {},
   "outputs": [
    {
     "name": "stderr",
     "output_type": "stream",
     "text": [
      "512it [00:26, 19.56it/s]\n"
     ]
    }
   ],
   "source": [
    "comparison = []\n",
    "for atoms in tqdm(iread(train_file)):\n",
    "    comparison.append({\n",
    "        'dft': atoms.get_potential_energy() / len(atoms),\n",
    "        'ml': calc.get_potential_energy(atoms) / len(atoms)\n",
    "    })"
   ]
  },
  {
   "cell_type": "code",
   "execution_count": 46,
   "id": "f5ef85b2-8840-49da-a9da-389fafa9a1cb",
   "metadata": {},
   "outputs": [],
   "source": [
    "comparison = pd.DataFrame(comparison)"
   ]
  },
  {
   "cell_type": "code",
   "execution_count": 47,
   "id": "ee24d63b-f94b-414d-9c99-dbb6d4e252e2",
   "metadata": {},
   "outputs": [
    {
     "data": {
      "text/plain": [
       "count    512.000000\n",
       "mean       0.010447\n",
       "std        0.000971\n",
       "min        0.007972\n",
       "25%        0.009682\n",
       "50%        0.010580\n",
       "75%        0.011180\n",
       "max        0.012326\n",
       "Name: error, dtype: float64"
      ]
     },
     "execution_count": 47,
     "metadata": {},
     "output_type": "execute_result"
    }
   ],
   "source": [
    "comparison['error'] = (comparison['ml'] - comparison['dft'])\n",
    "comparison['error'].describe()"
   ]
  },
  {
   "cell_type": "code",
   "execution_count": 14,
   "id": "005f5b40-a4fd-4868-9354-9625a3352a7b",
   "metadata": {},
   "outputs": [],
   "source": [
    "model.scale_shift.shift -=  comparison['error'].mean()"
   ]
  },
  {
   "cell_type": "markdown",
   "id": "7e70cd75-c11d-4f5d-b6c7-d1f852b61b95",
   "metadata": {},
   "source": [
    "Repeat analysis to make sure it gives the correct energy scale"
   ]
  },
  {
   "cell_type": "code",
   "execution_count": 15,
   "id": "21e495e0-b86a-47d8-a3a6-47f52949180a",
   "metadata": {},
   "outputs": [
    {
     "name": "stderr",
     "output_type": "stream",
     "text": [
      "512it [00:25, 20.43it/s]\n"
     ]
    }
   ],
   "source": [
    "comparison = []\n",
    "for atoms in tqdm(iread(train_file)):\n",
    "    comparison.append({\n",
    "        'dft': atoms.get_potential_energy() / len(atoms),\n",
    "        'dft-forces': atoms.get_forces(),\n",
    "        'ml': calc.get_potential_energy(atoms) / len(atoms),\n",
    "        'ml-forces': calc.get_forces(atoms),\n",
    "    })"
   ]
  },
  {
   "cell_type": "code",
   "execution_count": 16,
   "id": "becc7569-5867-4623-88c9-50977279aedd",
   "metadata": {},
   "outputs": [],
   "source": [
    "comparison = pd.DataFrame(comparison)"
   ]
  },
  {
   "cell_type": "code",
   "execution_count": 17,
   "id": "66101c0d-906e-45f0-b435-9ea36b6cd6fe",
   "metadata": {},
   "outputs": [],
   "source": [
    "comparison['force_rmse'] = np.sqrt([np.power(x - y, 2).mean() for x, y in \n",
    "                                    zip(comparison['dft-forces'], comparison['ml-forces'])])"
   ]
  },
  {
   "cell_type": "code",
   "execution_count": 18,
   "id": "1e965c5b-e3f1-4076-ba5e-9166dede2aaf",
   "metadata": {},
   "outputs": [
    {
     "data": {
      "text/plain": [
       "Text(0, 0.5, 'E, DFT (eV/atom)')"
      ]
     },
     "execution_count": 18,
     "metadata": {},
     "output_type": "execute_result"
    },
    {
     "data": {
      "image/png": "[encoded data removed]",
      "text/plain": [
       "<Figure size 300x300 with 1 Axes>"
      ]
     },
     "metadata": {},
     "output_type": "display_data"
    }
   ],
   "source": [
    "fig, ax = plt.subplots(figsize=(3., 3.))\n",
    "\n",
    "ref = comparison.loc[comparison['dft'].argmin()]\n",
    "ax.scatter(comparison['ml'] - ref['dft'], comparison['dft'] - ref['dft'], s=0.2)\n",
    "\n",
    "ax.set_xlim(ax.get_xlim())\n",
    "ax.set_ylim(ax.get_xlim())\n",
    "\n",
    "ax.plot(ax.get_xlim(), ax.get_xlim(), 'k--', lw=1)\n",
    "\n",
    "ax.set_xlabel('E, ML (eV/atom)')\n",
    "ax.set_ylabel('E, DFT (eV/atom)')"
   ]
  },
  {
   "cell_type": "markdown",
   "id": "645f58c9-a0fa-4616-afb6-43b735d4e02a",
   "metadata": {},
   "source": [
    "## Run a Few Training Sets\n",
    "Enough to show that we can get better"
   ]
  },
  {
   "cell_type": "code",
   "execution_count": 19,
   "id": "fdb4ab54-4189-43dd-97b3-25df68149ae3",
   "metadata": {},
   "outputs": [],
   "source": [
    "loader = DataLoader(\n",
    "    [AtomicData.from_config(c, z_table=calc.z_table, cutoff=calc.r_max) for c in configs],\n",
    "    batch_size=4,\n",
    "    shuffle=True,\n",
    "    drop_last=True,\n",
    ")"
   ]
  },
  {
   "cell_type": "markdown",
   "id": "fa533857-09e7-4ff5-a751-9028e708e13f",
   "metadata": {},
   "source": [
    "Set some weights as eligible for training"
   ]
  },
  {
   "cell_type": "code",
   "execution_count": 20,
   "id": "cd2fb1b5-a986-4fa2-97e4-0d8e7484f823",
   "metadata": {},
   "outputs": [],
   "source": [
    "for p in model.readouts.parameters():\n",
    "    p.requires_grad = True"
   ]
  },
  {
   "cell_type": "markdown",
   "id": "ec11dfd1-2fff-470f-b4bf-4596493823ba",
   "metadata": {},
   "source": [
    "Define the loss function and optimizer"
   ]
  },
  {
   "cell_type": "code",
   "execution_count": 21,
   "id": "1ef43fc8-5840-4bd4-a6af-3a9516ffb911",
   "metadata": {},
   "outputs": [],
   "source": [
    "opt = torch.optim.Adam(model.parameters(), lr=1e-5)\n",
    "criterion = WeightedEnergyForcesLoss(energy_weight=1.0, forces_weight=100.)"
   ]
  },
  {
   "cell_type": "markdown",
   "id": "a039f681-1444-4191-8f30-78a4eb05d6bf",
   "metadata": {},
   "source": [
    "Define the trainer and evaluators"
   ]
  },
  {
   "cell_type": "code",
   "execution_count": 22,
   "id": "9dde016d-14a6-4e3a-94d1-0a75963e40b9",
   "metadata": {},
   "outputs": [],
   "source": [
    "def train_step(engine, batch):\n",
    "    \"\"\"Borrowed from the training step used inside MACE\"\"\"\n",
    "    model.train()\n",
    "    opt.zero_grad()\n",
    "    batch = batch.to('cuda')\n",
    "    y = model(\n",
    "        batch,\n",
    "        training=True,\n",
    "        compute_force=True,\n",
    "        compute_virials=False,\n",
    "        compute_stress=False,\n",
    "    )\n",
    "    loss = criterion(pred=y, ref=batch)\n",
    "    loss.backward()\n",
    "    opt.step()\n",
    "    return loss.item()"
   ]
  },
  {
   "cell_type": "code",
   "execution_count": 23,
   "id": "67f562be-93a6-44fd-8bde-a2aafd4d1ae2",
   "metadata": {},
   "outputs": [],
   "source": [
    "val_metrics = {\n",
    "    \"loss\": Loss(criterion)\n",
    "}\n",
    "trainer = Engine(train_step)"
   ]
  },
  {
   "cell_type": "code",
   "execution_count": 24,
   "id": "3f8577e6-45f5-4355-8908-aebb1cc65e49",
   "metadata": {},
   "outputs": [],
   "source": [
    "log_interval = 25\n",
    "@trainer.on(Events.ITERATION_COMPLETED(every=log_interval))\n",
    "def log_training_loss(engine):\n",
    "    print(f\"Epoch[{engine.state.epoch}], Iter[{engine.state.iteration}] Loss: {engine.state.output:.2f}\")\n",
    "\n",
    "@trainer.on(Events.EPOCH_COMPLETED)\n",
    "def log_epoch_time():\n",
    "    print(f\"Epoch {trainer.state.epoch}, Time Taken : {trainer.state.times['EPOCH_COMPLETED']}\")\n",
    "@trainer.on(Events.COMPLETED)\n",
    "def log_total_time():\n",
    "    print(f\"Total Time: {trainer.state.times['COMPLETED']}\")"
   ]
  },
  {
   "cell_type": "code",
   "execution_count": 25,
   "id": "7e4548e6-7576-4e92-9f5d-c14835ac16e0",
   "metadata": {},
   "outputs": [
    {
     "data": {
      "text/plain": [
       "{'EPOCH_COMPLETED': None, 'COMPLETED': None}"
      ]
     },
     "execution_count": 25,
     "metadata": {},
     "output_type": "execute_result"
    }
   ],
   "source": [
    "trainer.state.times"
   ]
  },
  {
   "cell_type": "code",
   "execution_count": 26,
   "id": "d5936799-fe56-4cee-bb3f-d38b8e5f9581",
   "metadata": {},
   "outputs": [
    {
     "name": "stdout",
     "output_type": "stream",
     "text": [
      "Epoch[1], Iter[25] Loss: 2.13\n",
      "Epoch[1], Iter[50] Loss: 1.28\n",
      "Epoch[1], Iter[75] Loss: 7.58\n",
      "Epoch[1], Iter[100] Loss: 1.81\n",
      "Epoch[1], Iter[125] Loss: 3.81\n",
      "Epoch 1, Time Taken : 63.202730655670166\n",
      "Epoch[2], Iter[150] Loss: 1.49\n",
      "Epoch[2], Iter[175] Loss: 1.68\n",
      "Epoch[2], Iter[200] Loss: 1.88\n",
      "Epoch[2], Iter[225] Loss: 1.45\n",
      "Epoch[2], Iter[250] Loss: 3.82\n",
      "Epoch 2, Time Taken : 61.49806880950928\n",
      "Epoch[3], Iter[275] Loss: 1.51\n",
      "Epoch[3], Iter[300] Loss: 1.50\n",
      "Epoch[3], Iter[325] Loss: 1.88\n",
      "Epoch[3], Iter[350] Loss: 1.24\n",
      "Epoch[3], Iter[375] Loss: 1.53\n",
      "Epoch 3, Time Taken : 61.60580658912659\n",
      "Epoch[4], Iter[400] Loss: 1.32\n",
      "Epoch[4], Iter[425] Loss: 1.29\n",
      "Epoch[4], Iter[450] Loss: 1.61\n",
      "Epoch[4], Iter[475] Loss: 1.54\n",
      "Epoch[4], Iter[500] Loss: 1.54\n",
      "Epoch 4, Time Taken : 61.91881966590881\n",
      "Epoch[5], Iter[525] Loss: 1.40\n",
      "Epoch[5], Iter[550] Loss: 1.51\n",
      "Epoch[5], Iter[575] Loss: 1.47\n",
      "Epoch[5], Iter[600] Loss: 1.28\n",
      "Epoch[5], Iter[625] Loss: 1.81\n",
      "Epoch 5, Time Taken : 62.11845350265503\n",
      "Epoch[6], Iter[650] Loss: 1.49\n",
      "Epoch[6], Iter[675] Loss: 1.34\n",
      "Epoch[6], Iter[700] Loss: 1.13\n",
      "Epoch[6], Iter[725] Loss: 1.42\n",
      "Epoch[6], Iter[750] Loss: 1.27\n",
      "Epoch 6, Time Taken : 62.28091216087341\n",
      "Epoch[7], Iter[775] Loss: 1.16\n",
      "Epoch[7], Iter[800] Loss: 1.31\n",
      "Epoch[7], Iter[825] Loss: 1.50\n",
      "Epoch[7], Iter[850] Loss: 1.12\n",
      "Epoch[7], Iter[875] Loss: 1.44\n",
      "Epoch 7, Time Taken : 63.04385948181152\n",
      "Epoch[8], Iter[900] Loss: 1.81\n",
      "Epoch[8], Iter[925] Loss: 1.41\n",
      "Epoch[8], Iter[950] Loss: 1.01\n",
      "Epoch[8], Iter[975] Loss: 1.33\n",
      "Epoch[8], Iter[1000] Loss: 1.46\n",
      "Epoch 8, Time Taken : 63.63981580734253\n",
      "Epoch[9], Iter[1025] Loss: 1.70\n",
      "Epoch[9], Iter[1050] Loss: 1.62\n",
      "Epoch[9], Iter[1075] Loss: 1.63\n",
      "Epoch[9], Iter[1100] Loss: 1.79\n",
      "Epoch[9], Iter[1125] Loss: 3.81\n",
      "Epoch[9], Iter[1150] Loss: 1.24\n",
      "Epoch 9, Time Taken : 64.035888671875\n",
      "Epoch[10], Iter[1175] Loss: 3.94\n",
      "Epoch[10], Iter[1200] Loss: 1.90\n",
      "Epoch[10], Iter[1225] Loss: 1.00\n",
      "Epoch[10], Iter[1250] Loss: 1.72\n",
      "Epoch[10], Iter[1275] Loss: 1.30\n",
      "Epoch 10, Time Taken : 63.539615869522095\n",
      "Epoch[11], Iter[1300] Loss: 1.66\n",
      "Epoch[11], Iter[1325] Loss: 1.13\n",
      "Epoch[11], Iter[1350] Loss: 1.61\n",
      "Epoch[11], Iter[1375] Loss: 6.68\n",
      "Epoch[11], Iter[1400] Loss: 1.34\n",
      "Epoch 11, Time Taken : 63.38021445274353\n",
      "Epoch[12], Iter[1425] Loss: 1.92\n",
      "Epoch[12], Iter[1450] Loss: 1.27\n",
      "Epoch[12], Iter[1475] Loss: 1.03\n",
      "Epoch[12], Iter[1500] Loss: 1.40\n",
      "Epoch[12], Iter[1525] Loss: 1.71\n",
      "Epoch 12, Time Taken : 63.33911609649658\n",
      "Epoch[13], Iter[1550] Loss: 1.74\n",
      "Epoch[13], Iter[1575] Loss: 1.14\n",
      "Epoch[13], Iter[1600] Loss: 1.49\n",
      "Epoch[13], Iter[1625] Loss: 2.78\n",
      "Epoch[13], Iter[1650] Loss: 1.56\n",
      "Epoch 13, Time Taken : 63.48901700973511\n",
      "Epoch[14], Iter[1675] Loss: 1.58\n",
      "Epoch[14], Iter[1700] Loss: 1.62\n",
      "Epoch[14], Iter[1725] Loss: 1.50\n",
      "Epoch[14], Iter[1750] Loss: 1.14\n",
      "Epoch[14], Iter[1775] Loss: 1.27\n",
      "Epoch 14, Time Taken : 63.53353548049927\n",
      "Epoch[15], Iter[1800] Loss: 1.65\n",
      "Epoch[15], Iter[1825] Loss: 1.20\n",
      "Epoch[15], Iter[1850] Loss: 1.11\n",
      "Epoch[15], Iter[1875] Loss: 1.27\n",
      "Epoch[15], Iter[1900] Loss: 1.06\n",
      "Epoch 15, Time Taken : 63.63757801055908\n",
      "Epoch[16], Iter[1925] Loss: 1.35\n",
      "Epoch[16], Iter[1950] Loss: 1.42\n",
      "Epoch[16], Iter[1975] Loss: 1.40\n",
      "Epoch[16], Iter[2000] Loss: 1.53\n",
      "Epoch[16], Iter[2025] Loss: 1.84\n",
      "Epoch 16, Time Taken : 63.603907108306885\n",
      "Epoch[17], Iter[2050] Loss: 1.40\n",
      "Epoch[17], Iter[2075] Loss: 1.60\n",
      "Epoch[17], Iter[2100] Loss: 3.93\n",
      "Epoch[17], Iter[2125] Loss: 1.70\n",
      "Epoch[17], Iter[2150] Loss: 1.51\n",
      "Epoch[17], Iter[2175] Loss: 1.61\n",
      "Epoch 17, Time Taken : 63.59060287475586\n",
      "Epoch[18], Iter[2200] Loss: 1.29\n",
      "Epoch[18], Iter[2225] Loss: 3.80\n",
      "Epoch[18], Iter[2250] Loss: 1.73\n",
      "Epoch[18], Iter[2275] Loss: 1.23\n",
      "Epoch[18], Iter[2300] Loss: 1.43\n",
      "Epoch 18, Time Taken : 63.7497673034668\n",
      "Epoch[19], Iter[2325] Loss: 1.34\n",
      "Epoch[19], Iter[2350] Loss: 1.03\n",
      "Epoch[19], Iter[2375] Loss: 1.25\n",
      "Epoch[19], Iter[2400] Loss: 1.35\n",
      "Epoch[19], Iter[2425] Loss: 1.31\n",
      "Epoch 19, Time Taken : 63.79766654968262\n",
      "Epoch[20], Iter[2450] Loss: 1.37\n",
      "Epoch[20], Iter[2475] Loss: 1.43\n",
      "Epoch[20], Iter[2500] Loss: 1.18\n",
      "Epoch[20], Iter[2525] Loss: 1.45\n",
      "Epoch[20], Iter[2550] Loss: 1.74\n",
      "Epoch 20, Time Taken : 63.65235900878906\n",
      "Epoch[21], Iter[2575] Loss: 3.78\n",
      "Epoch[21], Iter[2600] Loss: 1.42\n",
      "Epoch[21], Iter[2625] Loss: 1.37\n",
      "Epoch[21], Iter[2650] Loss: 1.27\n",
      "Epoch[21], Iter[2675] Loss: 2.04\n",
      "Epoch 21, Time Taken : 63.66583800315857\n",
      "Epoch[22], Iter[2700] Loss: 1.02\n",
      "Epoch[22], Iter[2725] Loss: 0.98\n",
      "Epoch[22], Iter[2750] Loss: 1.41\n",
      "Epoch[22], Iter[2775] Loss: 1.26\n",
      "Epoch[22], Iter[2800] Loss: 1.31\n",
      "Epoch 22, Time Taken : 63.62758946418762\n",
      "Epoch[23], Iter[2825] Loss: 1.69\n",
      "Epoch[23], Iter[2850] Loss: 1.05\n",
      "Epoch[23], Iter[2875] Loss: 1.69\n",
      "Epoch[23], Iter[2900] Loss: 1.55\n",
      "Epoch[23], Iter[2925] Loss: 1.46\n",
      "Epoch 23, Time Taken : 63.59664463996887\n",
      "Epoch[24], Iter[2950] Loss: 1.60\n",
      "Epoch[24], Iter[2975] Loss: 1.35\n",
      "Epoch[24], Iter[3000] Loss: 1.49\n",
      "Epoch[24], Iter[3025] Loss: 1.36\n",
      "Epoch[24], Iter[3050] Loss: 3.70\n",
      "Epoch 24, Time Taken : 63.639564990997314\n",
      "Epoch[25], Iter[3075] Loss: 1.20\n",
      "Epoch[25], Iter[3100] Loss: 1.14\n",
      "Epoch[25], Iter[3125] Loss: 1.72\n",
      "Epoch[25], Iter[3150] Loss: 1.57\n",
      "Epoch[25], Iter[3175] Loss: 1.20\n",
      "Epoch[25], Iter[3200] Loss: 1.25\n",
      "Epoch 25, Time Taken : 63.93246936798096\n",
      "Epoch[26], Iter[3225] Loss: 1.19\n",
      "Epoch[26], Iter[3250] Loss: 1.43\n",
      "Epoch[26], Iter[3275] Loss: 1.51\n",
      "Epoch[26], Iter[3300] Loss: 1.67\n",
      "Epoch[26], Iter[3325] Loss: 1.32\n",
      "Epoch 26, Time Taken : 64.33966541290283\n",
      "Epoch[27], Iter[3350] Loss: 1.47\n",
      "Epoch[27], Iter[3375] Loss: 1.43\n",
      "Epoch[27], Iter[3400] Loss: 1.58\n",
      "Epoch[27], Iter[3425] Loss: 1.45\n",
      "Epoch[27], Iter[3450] Loss: 3.08\n",
      "Epoch 27, Time Taken : 64.16550707817078\n",
      "Epoch[28], Iter[3475] Loss: 1.67\n",
      "Epoch[28], Iter[3500] Loss: 1.40\n",
      "Epoch[28], Iter[3525] Loss: 1.42\n",
      "Epoch[28], Iter[3550] Loss: 1.46\n",
      "Epoch[28], Iter[3575] Loss: 1.19\n",
      "Epoch 28, Time Taken : 64.10322856903076\n",
      "Epoch[29], Iter[3600] Loss: 1.27\n",
      "Epoch[29], Iter[3625] Loss: 1.65\n",
      "Epoch[29], Iter[3650] Loss: 1.44\n",
      "Epoch[29], Iter[3675] Loss: 0.87\n",
      "Epoch[29], Iter[3700] Loss: 1.38\n",
      "Epoch 29, Time Taken : 63.806716203689575\n",
      "Epoch[30], Iter[3725] Loss: 1.94\n",
      "Epoch[30], Iter[3750] Loss: 1.68\n",
      "Epoch[30], Iter[3775] Loss: 1.70\n",
      "Epoch[30], Iter[3800] Loss: 1.21\n",
      "Epoch[30], Iter[3825] Loss: 1.08\n",
      "Epoch 30, Time Taken : 63.95609927177429\n",
      "Epoch[31], Iter[3850] Loss: 1.36\n",
      "Epoch[31], Iter[3875] Loss: 1.13\n",
      "Epoch[31], Iter[3900] Loss: 1.28\n",
      "Epoch[31], Iter[3925] Loss: 1.35\n",
      "Epoch[31], Iter[3950] Loss: 1.05\n",
      "Epoch 31, Time Taken : 63.88335728645325\n",
      "Epoch[32], Iter[3975] Loss: 1.51\n",
      "Epoch[32], Iter[4000] Loss: 1.21\n",
      "Epoch[32], Iter[4025] Loss: 1.34\n",
      "Epoch[32], Iter[4050] Loss: 1.21\n",
      "Epoch[32], Iter[4075] Loss: 1.24\n",
      "Epoch 32, Time Taken : 63.91889214515686\n",
      "Epoch[33], Iter[4100] Loss: 1.35\n",
      "Epoch[33], Iter[4125] Loss: 1.51\n",
      "Epoch[33], Iter[4150] Loss: 1.42\n",
      "Epoch[33], Iter[4175] Loss: 3.86\n",
      "Epoch[33], Iter[4200] Loss: 1.22\n",
      "Epoch 33, Time Taken : 63.857218742370605\n",
      "Epoch[34], Iter[4225] Loss: 1.70\n",
      "Epoch[34], Iter[4250] Loss: 1.79\n",
      "Epoch[34], Iter[4275] Loss: 1.60\n",
      "Epoch[34], Iter[4300] Loss: 1.33\n",
      "Epoch[34], Iter[4325] Loss: 1.19\n",
      "Epoch[34], Iter[4350] Loss: 1.55\n",
      "Epoch 34, Time Taken : 64.19907975196838\n",
      "Epoch[35], Iter[4375] Loss: 1.11\n",
      "Epoch[35], Iter[4400] Loss: 1.38\n",
      "Epoch[35], Iter[4425] Loss: 1.29\n",
      "Epoch[35], Iter[4450] Loss: 1.39\n",
      "Epoch[35], Iter[4475] Loss: 1.21\n",
      "Epoch 35, Time Taken : 63.930840492248535\n",
      "Epoch[36], Iter[4500] Loss: 1.27\n",
      "Epoch[36], Iter[4525] Loss: 1.04\n",
      "Epoch[36], Iter[4550] Loss: 1.38\n",
      "Epoch[36], Iter[4575] Loss: 1.56\n",
      "Epoch[36], Iter[4600] Loss: 1.68\n",
      "Epoch 36, Time Taken : 64.25687026977539\n",
      "Epoch[37], Iter[4625] Loss: 1.17\n",
      "Epoch[37], Iter[4650] Loss: 1.34\n",
      "Epoch[37], Iter[4675] Loss: 1.01\n",
      "Epoch[37], Iter[4700] Loss: 1.00\n",
      "Epoch[37], Iter[4725] Loss: 1.16\n",
      "Epoch 37, Time Taken : 64.39514684677124\n",
      "Epoch[38], Iter[4750] Loss: 1.54\n",
      "Epoch[38], Iter[4775] Loss: 1.28\n",
      "Epoch[38], Iter[4800] Loss: 1.26\n",
      "Epoch[38], Iter[4825] Loss: 1.28\n",
      "Epoch[38], Iter[4850] Loss: 1.45\n",
      "Epoch 38, Time Taken : 64.01444053649902\n",
      "Epoch[39], Iter[4875] Loss: 1.42\n",
      "Epoch[39], Iter[4900] Loss: 1.80\n",
      "Epoch[39], Iter[4925] Loss: 1.23\n",
      "Epoch[39], Iter[4950] Loss: 1.31\n",
      "Epoch[39], Iter[4975] Loss: 0.97\n",
      "Epoch 39, Time Taken : 64.00611615180969\n",
      "Epoch[40], Iter[5000] Loss: 1.57\n",
      "Epoch[40], Iter[5025] Loss: 1.74\n",
      "Epoch[40], Iter[5050] Loss: 1.17\n",
      "Epoch[40], Iter[5075] Loss: 1.48\n",
      "Epoch[40], Iter[5100] Loss: 1.61\n",
      "Epoch 40, Time Taken : 64.43988919258118\n",
      "Epoch[41], Iter[5125] Loss: 1.50\n",
      "Epoch[41], Iter[5150] Loss: 1.19\n",
      "Epoch[41], Iter[5175] Loss: 1.23\n",
      "Epoch[41], Iter[5200] Loss: 1.57\n",
      "Epoch[41], Iter[5225] Loss: 1.20\n",
      "Epoch 41, Time Taken : 64.40732622146606\n",
      "Epoch[42], Iter[5250] Loss: 1.69\n",
      "Epoch[42], Iter[5275] Loss: 1.10\n",
      "Epoch[42], Iter[5300] Loss: 7.10\n",
      "Epoch[42], Iter[5325] Loss: 1.25\n",
      "Epoch[42], Iter[5350] Loss: 1.47\n",
      "Epoch[42], Iter[5375] Loss: 1.92\n",
      "Epoch 42, Time Taken : 64.27211165428162\n",
      "Epoch[43], Iter[5400] Loss: 1.20\n",
      "Epoch[43], Iter[5425] Loss: 1.41\n",
      "Epoch[43], Iter[5450] Loss: 1.71\n",
      "Epoch[43], Iter[5475] Loss: 1.31\n",
      "Epoch[43], Iter[5500] Loss: 1.18\n",
      "Epoch 43, Time Taken : 64.09173679351807\n",
      "Epoch[44], Iter[5525] Loss: 1.28\n",
      "Epoch[44], Iter[5550] Loss: 1.91\n",
      "Epoch[44], Iter[5575] Loss: 2.66\n",
      "Epoch[44], Iter[5600] Loss: 1.17\n",
      "Epoch[44], Iter[5625] Loss: 1.27\n",
      "Epoch 44, Time Taken : 64.08658909797668\n",
      "Epoch[45], Iter[5650] Loss: 1.13\n",
      "Epoch[45], Iter[5675] Loss: 3.83\n",
      "Epoch[45], Iter[5700] Loss: 1.59\n",
      "Epoch[45], Iter[5725] Loss: 1.21\n",
      "Epoch[45], Iter[5750] Loss: 1.29\n",
      "Epoch 45, Time Taken : 63.98970150947571\n",
      "Epoch[46], Iter[5775] Loss: 1.20\n",
      "Epoch[46], Iter[5800] Loss: 3.72\n",
      "Epoch[46], Iter[5825] Loss: 1.27\n",
      "Epoch[46], Iter[5850] Loss: 1.68\n",
      "Epoch[46], Iter[5875] Loss: 1.52\n",
      "Epoch 46, Time Taken : 63.960423707962036\n",
      "Epoch[47], Iter[5900] Loss: 1.33\n",
      "Epoch[47], Iter[5925] Loss: 1.33\n",
      "Epoch[47], Iter[5950] Loss: 1.30\n",
      "Epoch[47], Iter[5975] Loss: 1.41\n",
      "Epoch[47], Iter[6000] Loss: 1.55\n",
      "Epoch 47, Time Taken : 63.947240114212036\n",
      "Epoch[48], Iter[6025] Loss: 1.23\n",
      "Epoch[48], Iter[6050] Loss: 1.80\n",
      "Epoch[48], Iter[6075] Loss: 1.52\n",
      "Epoch[48], Iter[6100] Loss: 1.28\n",
      "Epoch[48], Iter[6125] Loss: 1.43\n",
      "Epoch 48, Time Taken : 64.20785284042358\n",
      "Epoch[49], Iter[6150] Loss: 1.36\n",
      "Epoch[49], Iter[6175] Loss: 1.08\n",
      "Epoch[49], Iter[6200] Loss: 1.88\n",
      "Epoch[49], Iter[6225] Loss: 1.58\n",
      "Epoch[49], Iter[6250] Loss: 3.61\n",
      "Epoch 49, Time Taken : 64.35242080688477\n",
      "Epoch[50], Iter[6275] Loss: 1.31\n",
      "Epoch[50], Iter[6300] Loss: 1.33\n",
      "Epoch[50], Iter[6325] Loss: 1.49\n",
      "Epoch[50], Iter[6350] Loss: 1.26\n",
      "Epoch[50], Iter[6375] Loss: 1.30\n",
      "Epoch[50], Iter[6400] Loss: 1.38\n",
      "Epoch 50, Time Taken : 64.33169198036194\n",
      "Epoch[51], Iter[6425] Loss: 3.49\n",
      "Epoch[51], Iter[6450] Loss: 1.18\n",
      "Epoch[51], Iter[6475] Loss: 1.60\n",
      "Epoch[51], Iter[6500] Loss: 1.60\n",
      "Epoch[51], Iter[6525] Loss: 1.71\n",
      "Epoch 51, Time Taken : 64.3042848110199\n",
      "Epoch[52], Iter[6550] Loss: 1.32\n",
      "Epoch[52], Iter[6575] Loss: 1.04\n",
      "Epoch[52], Iter[6600] Loss: 1.57\n",
      "Epoch[52], Iter[6625] Loss: 3.26\n",
      "Epoch[52], Iter[6650] Loss: 1.18\n",
      "Epoch 52, Time Taken : 64.24145150184631\n",
      "Epoch[53], Iter[6675] Loss: 1.42\n",
      "Epoch[53], Iter[6700] Loss: 1.19\n",
      "Epoch[53], Iter[6725] Loss: 3.05\n",
      "Epoch[53], Iter[6750] Loss: 3.91\n",
      "Epoch[53], Iter[6775] Loss: 1.67\n",
      "Epoch 53, Time Taken : 64.17918038368225\n",
      "Epoch[54], Iter[6800] Loss: 1.30\n",
      "Epoch[54], Iter[6825] Loss: 1.46\n",
      "Epoch[54], Iter[6850] Loss: 1.56\n",
      "Epoch[54], Iter[6875] Loss: 1.39\n",
      "Epoch[54], Iter[6900] Loss: 1.31\n",
      "Epoch 54, Time Taken : 64.07119536399841\n",
      "Epoch[55], Iter[6925] Loss: 1.70\n",
      "Epoch[55], Iter[6950] Loss: 1.17\n",
      "Epoch[55], Iter[6975] Loss: 1.42\n",
      "Epoch[55], Iter[7000] Loss: 1.06\n",
      "Epoch[55], Iter[7025] Loss: 1.15\n",
      "Epoch 55, Time Taken : 64.0567991733551\n",
      "Epoch[56], Iter[7050] Loss: 1.23\n",
      "Epoch[56], Iter[7075] Loss: 1.37\n",
      "Epoch[56], Iter[7100] Loss: 1.69\n",
      "Epoch[56], Iter[7125] Loss: 1.08\n",
      "Epoch[56], Iter[7150] Loss: 1.34\n",
      "Epoch 56, Time Taken : 63.92182898521423\n",
      "Epoch[57], Iter[7175] Loss: 1.56\n",
      "Epoch[57], Iter[7200] Loss: 1.09\n",
      "Epoch[57], Iter[7225] Loss: 1.41\n",
      "Epoch[57], Iter[7250] Loss: 3.17\n",
      "Epoch[57], Iter[7275] Loss: 1.29\n",
      "Epoch 57, Time Taken : 63.91641688346863\n",
      "Epoch[58], Iter[7300] Loss: 1.24\n",
      "Epoch[58], Iter[7325] Loss: 1.47\n",
      "Epoch[58], Iter[7350] Loss: 1.42\n",
      "Epoch[58], Iter[7375] Loss: 1.32\n",
      "Epoch[58], Iter[7400] Loss: 1.33\n",
      "Epoch 58, Time Taken : 64.11854982376099\n",
      "Epoch[59], Iter[7425] Loss: 1.52\n",
      "Epoch[59], Iter[7450] Loss: 0.99\n",
      "Epoch[59], Iter[7475] Loss: 1.13\n",
      "Epoch[59], Iter[7500] Loss: 1.21\n",
      "Epoch[59], Iter[7525] Loss: 1.44\n",
      "Epoch[59], Iter[7550] Loss: 0.89\n",
      "Epoch 59, Time Taken : 64.00581669807434\n",
      "Epoch[60], Iter[7575] Loss: 1.34\n",
      "Epoch[60], Iter[7600] Loss: 1.50\n",
      "Epoch[60], Iter[7625] Loss: 1.74\n",
      "Epoch[60], Iter[7650] Loss: 1.25\n",
      "Epoch[60], Iter[7675] Loss: 1.62\n",
      "Epoch 60, Time Taken : 64.10122919082642\n",
      "Epoch[61], Iter[7700] Loss: 1.26\n",
      "Epoch[61], Iter[7725] Loss: 1.19\n",
      "Epoch[61], Iter[7750] Loss: 1.14\n",
      "Epoch[61], Iter[7775] Loss: 1.12\n",
      "Epoch[61], Iter[7800] Loss: 1.08\n",
      "Epoch 61, Time Taken : 64.1723530292511\n",
      "Epoch[62], Iter[7825] Loss: 1.38\n",
      "Epoch[62], Iter[7850] Loss: 1.49\n",
      "Epoch[62], Iter[7875] Loss: 3.93\n",
      "Epoch[62], Iter[7900] Loss: 1.30\n",
      "Epoch[62], Iter[7925] Loss: 1.15\n",
      "Epoch 62, Time Taken : 64.07962727546692\n",
      "Epoch[63], Iter[7950] Loss: 7.22\n",
      "Epoch[63], Iter[7975] Loss: 1.76\n",
      "Epoch[63], Iter[8000] Loss: 1.53\n",
      "Epoch[63], Iter[8025] Loss: 1.58\n",
      "Epoch[63], Iter[8050] Loss: 1.24\n",
      "Epoch 63, Time Taken : 64.03963160514832\n",
      "Epoch[64], Iter[8075] Loss: 2.48\n",
      "Epoch[64], Iter[8100] Loss: 1.36\n",
      "Epoch[64], Iter[8125] Loss: 1.19\n",
      "Epoch[64], Iter[8150] Loss: 1.13\n",
      "Epoch[64], Iter[8175] Loss: 1.15\n",
      "Epoch 64, Time Taken : 64.0150089263916\n",
      "Total Time: 4081.2688002586365\n"
     ]
    },
    {
     "data": {
      "text/plain": [
       "State:\n",
       "\titeration: 8192\n",
       "\tepoch: 64\n",
       "\tepoch_length: 128\n",
       "\tmax_epochs: 64\n",
       "\toutput: 1.6027605533599854\n",
       "\tbatch: <class 'mace.tools.torch_geometric.batch.Batch'>\n",
       "\tmetrics: <class 'dict'>\n",
       "\tdataloader: <class 'mace.tools.torch_geometric.dataloader.DataLoader'>\n",
       "\tseed: <class 'NoneType'>\n",
       "\ttimes: <class 'dict'>"
      ]
     },
     "execution_count": 26,
     "metadata": {},
     "output_type": "execute_result"
    }
   ],
   "source": [
    "trainer.run(loader, max_epochs=64)"
   ]
  },
  {
   "cell_type": "code",
   "execution_count": 27,
   "id": "885ff3e2-cb63-4f64-b7a2-391ee1490a9d",
   "metadata": {},
   "outputs": [
    {
     "name": "stderr",
     "output_type": "stream",
     "text": [
      "512it [00:26, 19.43it/s]\n"
     ]
    }
   ],
   "source": [
    "comparison['ml-next'] = [\n",
    "    calc.get_potential_energy(atoms) / len(atoms) for atoms \n",
    "    in tqdm(iread(train_file))\n",
    "]"
   ]
  },
  {
   "cell_type": "code",
   "execution_count": 28,
   "id": "30aa6566-d16a-4e3b-a1bf-01287fdd29ad",
   "metadata": {},
   "outputs": [
    {
     "name": "stderr",
     "output_type": "stream",
     "text": [
      "512it [00:26, 19.55it/s]\n"
     ]
    }
   ],
   "source": [
    "comparison['ml-forces-next'] = [\n",
    "    calc.get_forces(atoms) for atoms \n",
    "    in tqdm(iread(train_file))\n",
    "]\n"
   ]
  },
  {
   "cell_type": "code",
   "execution_count": 29,
   "id": "b7094e41-1300-452e-95e8-12884701128d",
   "metadata": {},
   "outputs": [],
   "source": [
    "comparison['force_rmse-next'] = np.sqrt([np.power(x - y, 2).mean() for x, y in \n",
    "                                    zip(comparison['dft-forces'], comparison['ml-forces-next'])])"
   ]
  },
  {
   "cell_type": "code",
   "execution_count": 30,
   "id": "b7693fca-97db-48ba-a84b-31aa5c6c6a1b",
   "metadata": {},
   "outputs": [
    {
     "data": {
      "text/html": [
       "<div>\n",
       "<style scoped>\n",
       "    .dataframe tbody tr th:only-of-type {\n",
       "        vertical-align: middle;\n",
       "    }\n",
       "\n",
       "    .dataframe tbody tr th {\n",
       "        vertical-align: top;\n",
       "    }\n",
       "\n",
       "    .dataframe thead th {\n",
       "        text-align: right;\n",
       "    }\n",
       "</style>\n",
       "<table border=\"1\" class=\"dataframe\">\n",
       "  <thead>\n",
       "    <tr style=\"text-align: right;\">\n",
       "      <th></th>\n",
       "      <th>force_rmse</th>\n",
       "      <th>force_rmse-next</th>\n",
       "    </tr>\n",
       "  </thead>\n",
       "  <tbody>\n",
       "    <tr>\n",
       "      <th>count</th>\n",
       "      <td>512.000000</td>\n",
       "      <td>512.000000</td>\n",
       "    </tr>\n",
       "    <tr>\n",
       "      <th>mean</th>\n",
       "      <td>0.129648</td>\n",
       "      <td>0.118579</td>\n",
       "    </tr>\n",
       "    <tr>\n",
       "      <th>std</th>\n",
       "      <td>0.041134</td>\n",
       "      <td>0.042720</td>\n",
       "    </tr>\n",
       "    <tr>\n",
       "      <th>min</th>\n",
       "      <td>0.069677</td>\n",
       "      <td>0.049437</td>\n",
       "    </tr>\n",
       "    <tr>\n",
       "      <th>25%</th>\n",
       "      <td>0.114177</td>\n",
       "      <td>0.101631</td>\n",
       "    </tr>\n",
       "    <tr>\n",
       "      <th>50%</th>\n",
       "      <td>0.124432</td>\n",
       "      <td>0.113708</td>\n",
       "    </tr>\n",
       "    <tr>\n",
       "      <th>75%</th>\n",
       "      <td>0.136421</td>\n",
       "      <td>0.126088</td>\n",
       "    </tr>\n",
       "    <tr>\n",
       "      <th>max</th>\n",
       "      <td>0.589726</td>\n",
       "      <td>0.585937</td>\n",
       "    </tr>\n",
       "  </tbody>\n",
       "</table>\n",
       "</div>"
      ],
      "text/plain": [
       "       force_rmse  force_rmse-next\n",
       "count  512.000000       512.000000\n",
       "mean     0.129648         0.118579\n",
       "std      0.041134         0.042720\n",
       "min      0.069677         0.049437\n",
       "25%      0.114177         0.101631\n",
       "50%      0.124432         0.113708\n",
       "75%      0.136421         0.126088\n",
       "max      0.589726         0.585937"
      ]
     },
     "execution_count": 30,
     "metadata": {},
     "output_type": "execute_result"
    }
   ],
   "source": [
    "comparison[['force_rmse', 'force_rmse-next']].describe()"
   ]
  },
  {
   "cell_type": "code",
   "execution_count": 31,
   "id": "8e23f32f-d408-4b73-a902-a2b4ab64bbbe",
   "metadata": {},
   "outputs": [
    {
     "name": "stdout",
     "output_type": "stream",
     "text": [
      "ml 0.001120540252890212\n",
      "ml-next 0.01829095620862725\n"
     ]
    },
    {
     "data": {
      "text/plain": [
       "Text(0, 0.5, 'E, DFT (eV)')"
      ]
     },
     "execution_count": 31,
     "metadata": {},
     "output_type": "execute_result"
    },
    {
     "data": {
      "image/png": "[encoded data removed]",
      "text/plain": [
       "<Figure size 600x300 with 2 Axes>"
      ]
     },
     "metadata": {},
     "output_type": "display_data"
    }
   ],
   "source": [
    "fig, axs = plt.subplots(1, 2, figsize=(6., 3.), sharey=True, sharex=True)\n",
    "\n",
    "ref = comparison.loc[comparison['dft'].argmin()]\n",
    "for ax, c in zip(axs, ['ml', 'ml-next']):\n",
    "    mae = (comparison['dft'] - comparison[c]).abs().mean()\n",
    "    print(c, mae)\n",
    "    \n",
    "    ax.scatter(comparison[c] - ref[c], comparison['dft'] - ref['dft'], s=0.2)\n",
    "\n",
    "    ax.set_xlim(ax.get_xlim())\n",
    "    ax.set_ylim(ax.get_xlim())\n",
    "    \n",
    "    ax.plot(ax.get_xlim(), ax.get_xlim(), 'k--', lw=1)\n",
    "\n",
    "    ax.set_xlabel('E, ML (eV)')\n",
    "axs[0].set_ylabel('E, DFT (eV)')"
   ]
  },
  {
   "cell_type": "markdown",
   "id": "eb46a038-4e00-4e63-bf70-c490d13b403c",
   "metadata": {},
   "source": [
    "The energy is getting worse while our predictions of forces get better. Changes are happening and we've got work to do to make them work as well as we need"
   ]
  },
  {
   "cell_type": "code",
   "execution_count": null,
   "id": "85675acc-cd45-4ca7-8f90-0f96e515665a",
   "metadata": {},
   "outputs": [],
   "source": []
  }
 ],
 "metadata": {
  "kernelspec": {
   "display_name": "Python 3 (ipykernel)",
   "language": "python",
   "name": "python3"
  },
  "language_info": {
   "codemirror_mode": {
    "name": "ipython",
    "version": 3
   },
   "file_extension": ".py",
   "mimetype": "text/x-python",
   "name": "python",
   "nbconvert_exporter": "python",
   "pygments_lexer": "ipython3",
   "version": "3.11.0"
  }
 },
 "nbformat": 4,
 "nbformat_minor": 5
}
