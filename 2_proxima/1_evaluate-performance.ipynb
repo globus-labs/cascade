{
 "cells": [
  {
   "cell_type": "markdown",
   "id": "22c6e2cb-87b9-4c3b-832f-e73005b389f0",
   "metadata": {},
   "source": [
    "# Evaluate Proxima Performance\n",
    "There are a few things we want to watch to see if Proxima is working as intended:\n",
    "1. Is the machine learning model getting used more often?\n",
    "2. Is the machine learning model getting better?"
   ]
  },
  {
   "cell_type": "code",
   "execution_count": 3,
   "id": "3aeb88f7-7ba2-4c6d-a87c-73e105e474cb",
   "metadata": {},
   "outputs": [
    {
     "name": "stderr",
     "output_type": "stream",
     "text": [
      "/home/lward/miniconda3/envs/cascade/lib/python3.11/site-packages/torchani/aev.py:16: UserWarning: cuaev not installed\n",
      "  warnings.warn(\"cuaev not installed\")\n"
     ]
    }
   ],
   "source": [
    "%matplotlib inline\n",
    "from matplotlib import pyplot as plt\n",
    "from cascade.learning.torchani import TorchANI\n",
    "from pathlib import Path\n",
    "from ase.io import read\n",
    "from ase import units\n",
    "import pickle as pkl\n",
    "import pandas as pd\n",
    "import numpy as np\n",
    "import json"
   ]
  },
  {
   "cell_type": "markdown",
   "id": "e9226f9f-3fbd-4ab5-a9bc-a4b397583a56",
   "metadata": {},
   "source": [
    "Configuration"
   ]
  },
  {
   "cell_type": "code",
   "execution_count": 21,
   "id": "bde5fcfd-36e0-4a9e-b620-acd68cbf260b",
   "metadata": {},
   "outputs": [],
   "source": [
    "run_dir = 'runs/si-vacancy-2x2x2-blyp-temp=800.0-method=blyp-a6c5d7d3/'"
   ]
  },
  {
   "cell_type": "code",
   "execution_count": 22,
   "id": "9f80d271-e981-4655-b299-1a16860abfcc",
   "metadata": {},
   "outputs": [],
   "source": [
    "run_dir = Path(run_dir)\n",
    "params = json.loads((run_dir / 'params.json').read_text())"
   ]
  },
  {
   "cell_type": "markdown",
   "id": "023b2984-5b00-4fd5-a8b1-f6abbac73de9",
   "metadata": {},
   "source": [
    "## Load in run data\n",
    "We are going to look at the log file produced by the run script, which is line-delimited JSON records"
   ]
  },
  {
   "cell_type": "code",
   "execution_count": 23,
   "id": "8449c8e6-894d-4b37-ae2a-c6ef9dcf4b23",
   "metadata": {},
   "outputs": [
    {
     "data": {
      "text/html": [
       "<div>\n",
       "<style scoped>\n",
       "    .dataframe tbody tr th:only-of-type {\n",
       "        vertical-align: middle;\n",
       "    }\n",
       "\n",
       "    .dataframe tbody tr th {\n",
       "        vertical-align: top;\n",
       "    }\n",
       "\n",
       "    .dataframe thead th {\n",
       "        text-align: right;\n",
       "    }\n",
       "</style>\n",
       "<table border=\"1\" class=\"dataframe\">\n",
       "  <thead>\n",
       "    <tr style=\"text-align: right;\">\n",
       "      <th></th>\n",
       "      <th>step_time</th>\n",
       "      <th>energy</th>\n",
       "      <th>maximum_force</th>\n",
       "      <th>stress</th>\n",
       "      <th>temperature</th>\n",
       "      <th>volume</th>\n",
       "      <th>used_surrogate</th>\n",
       "      <th>proxima_alpha</th>\n",
       "      <th>proxima_threshold</th>\n",
       "      <th>last_uncer</th>\n",
       "      <th>last_error</th>\n",
       "      <th>total_invocations</th>\n",
       "      <th>target_invocations</th>\n",
       "      <th>model_version</th>\n",
       "    </tr>\n",
       "  </thead>\n",
       "  <tbody>\n",
       "    <tr>\n",
       "      <th>19</th>\n",
       "      <td>28.214968</td>\n",
       "      <td>-6682.833297</td>\n",
       "      <td>3.131616</td>\n",
       "      <td>[-0.011766252902637001, -0.009923054118602, -0...</td>\n",
       "      <td>337.373207</td>\n",
       "      <td>1321.69757</td>\n",
       "      <td>False</td>\n",
       "      <td>83.190001</td>\n",
       "      <td>0.0</td>\n",
       "      <td>0.038343</td>\n",
       "      <td>3.140449</td>\n",
       "      <td>20</td>\n",
       "      <td>20</td>\n",
       "      <td>0</td>\n",
       "    </tr>\n",
       "    <tr>\n",
       "      <th>20</th>\n",
       "      <td>32.191111</td>\n",
       "      <td>-6682.656413</td>\n",
       "      <td>3.091926</td>\n",
       "      <td>[-0.012096409252372, -0.010317783797137001, -0...</td>\n",
       "      <td>343.275054</td>\n",
       "      <td>1321.69757</td>\n",
       "      <td>False</td>\n",
       "      <td>82.970460</td>\n",
       "      <td>0.0</td>\n",
       "      <td>0.038701</td>\n",
       "      <td>3.100909</td>\n",
       "      <td>21</td>\n",
       "      <td>21</td>\n",
       "      <td>0</td>\n",
       "    </tr>\n",
       "    <tr>\n",
       "      <th>21</th>\n",
       "      <td>32.285839</td>\n",
       "      <td>-6682.510319</td>\n",
       "      <td>3.020031</td>\n",
       "      <td>[-0.012347336076819001, -0.010644955633193, -0...</td>\n",
       "      <td>345.910518</td>\n",
       "      <td>1321.69757</td>\n",
       "      <td>False</td>\n",
       "      <td>82.340607</td>\n",
       "      <td>0.0</td>\n",
       "      <td>0.038930</td>\n",
       "      <td>3.029123</td>\n",
       "      <td>22</td>\n",
       "      <td>22</td>\n",
       "      <td>0</td>\n",
       "    </tr>\n",
       "    <tr>\n",
       "      <th>22</th>\n",
       "      <td>30.751961</td>\n",
       "      <td>-6682.392562</td>\n",
       "      <td>2.915713</td>\n",
       "      <td>[-0.012519067985082, -0.010904189505346001, -0...</td>\n",
       "      <td>365.038347</td>\n",
       "      <td>1321.69757</td>\n",
       "      <td>False</td>\n",
       "      <td>81.254955</td>\n",
       "      <td>0.0</td>\n",
       "      <td>0.039042</td>\n",
       "      <td>2.924860</td>\n",
       "      <td>23</td>\n",
       "      <td>23</td>\n",
       "      <td>0</td>\n",
       "    </tr>\n",
       "    <tr>\n",
       "      <th>23</th>\n",
       "      <td>32.731717</td>\n",
       "      <td>-6682.303921</td>\n",
       "      <td>2.782362</td>\n",
       "      <td>[-0.012607182113513, -0.01108820590054, -0.009...</td>\n",
       "      <td>377.904744</td>\n",
       "      <td>1321.69757</td>\n",
       "      <td>False</td>\n",
       "      <td>79.683591</td>\n",
       "      <td>0.0</td>\n",
       "      <td>0.039045</td>\n",
       "      <td>2.791502</td>\n",
       "      <td>24</td>\n",
       "      <td>24</td>\n",
       "      <td>0</td>\n",
       "    </tr>\n",
       "  </tbody>\n",
       "</table>\n",
       "</div>"
      ],
      "text/plain": [
       "    step_time       energy  maximum_force  \\\n",
       "19  28.214968 -6682.833297       3.131616   \n",
       "20  32.191111 -6682.656413       3.091926   \n",
       "21  32.285839 -6682.510319       3.020031   \n",
       "22  30.751961 -6682.392562       2.915713   \n",
       "23  32.731717 -6682.303921       2.782362   \n",
       "\n",
       "                                               stress  temperature  \\\n",
       "19  [-0.011766252902637001, -0.009923054118602, -0...   337.373207   \n",
       "20  [-0.012096409252372, -0.010317783797137001, -0...   343.275054   \n",
       "21  [-0.012347336076819001, -0.010644955633193, -0...   345.910518   \n",
       "22  [-0.012519067985082, -0.010904189505346001, -0...   365.038347   \n",
       "23  [-0.012607182113513, -0.01108820590054, -0.009...   377.904744   \n",
       "\n",
       "        volume  used_surrogate  proxima_alpha  proxima_threshold  last_uncer  \\\n",
       "19  1321.69757           False      83.190001                0.0    0.038343   \n",
       "20  1321.69757           False      82.970460                0.0    0.038701   \n",
       "21  1321.69757           False      82.340607                0.0    0.038930   \n",
       "22  1321.69757           False      81.254955                0.0    0.039042   \n",
       "23  1321.69757           False      79.683591                0.0    0.039045   \n",
       "\n",
       "    last_error  total_invocations  target_invocations  model_version  \n",
       "19    3.140449                 20                  20              0  \n",
       "20    3.100909                 21                  21              0  \n",
       "21    3.029123                 22                  22              0  \n",
       "22    2.924860                 23                  23              0  \n",
       "23    2.791502                 24                  24              0  "
      ]
     },
     "execution_count": 23,
     "metadata": {},
     "output_type": "execute_result"
    }
   ],
   "source": [
    "data = pd.read_json(run_dir / 'proxima-log.json', lines=True)\n",
    "data.tail()"
   ]
  },
  {
   "cell_type": "markdown",
   "id": "6d9527ce-cadc-4968-8748-18095eca3523",
   "metadata": {},
   "source": [
    "## Sanity Check: Plot Energy and Volume over Time\n",
    "The energy and volume should not change suddenly during the run"
   ]
  },
  {
   "cell_type": "code",
   "execution_count": 24,
   "id": "4ece1619-6c17-4081-934a-c33c9b831d79",
   "metadata": {},
   "outputs": [
    {
     "data": {
      "image/png": "[encoded data removed]",
      "text/plain": [
       "<Figure size 350x270 with 3 Axes>"
      ]
     },
     "metadata": {},
     "output_type": "display_data"
    }
   ],
   "source": [
    "fig, axs = plt.subplots(3, 1, figsize=(3.5, 2.7), sharex=True)\n",
    "\n",
    "ax = axs[0]\n",
    "ax.plot(data.index, data['energy'] - data['energy'].iloc[0], '-o', ms=1)\n",
    "ax.set_ylabel('$\\\\Delta E (eV)$')\n",
    "\n",
    "ax = axs[1]\n",
    "if params.get('ensemble', 'npt') == 'npt':\n",
    "    ax.plot(data.index, data['volume'], '-o', ms=1)\n",
    "    ax.set_ylabel('$V (\\\\AA^3)$')\n",
    "else:\n",
    "    ax.plot(data.index, data['stress'].apply(np.diag).apply(np.sum) * units.GPa * 1000, '-o', ms=1)\n",
    "    ax.set_ylabel('$P (MPa)$')\n",
    "\n",
    "ax = axs[2]\n",
    "ax.plot(data.index, data['temperature'], '-o', ms=1)\n",
    "ax.set_ylabel('$T (K)$')\n",
    "\n",
    "ax.set_xlim(ax.get_xlim())\n",
    "ax.set_xlabel('Step')\n",
    "\n",
    "fig.tight_layout()"
   ]
  },
  {
   "cell_type": "markdown",
   "id": "10b3ad5b-590f-41a5-b629-73612ab2145a",
   "metadata": {},
   "source": [
    "## Plot the model error\n",
    "The `last_error` column captures the error of the surrogate model the last time the target function was used. So, it is only meaningful on timesteps where `used_surrogate` is false.\n",
    "\n",
    "We want to see the steps at which we use the model become less frequent"
   ]
  },
  {
   "cell_type": "code",
   "execution_count": 19,
   "id": "016553aa-9bea-41b6-8aca-4b5154e237e8",
   "metadata": {},
   "outputs": [],
   "source": [
    "target_ran = data.query('not used_surrogate')"
   ]
  },
  {
   "cell_type": "code",
   "execution_count": 20,
   "id": "5552f30d-8906-466f-9469-3c5745f1f208",
   "metadata": {},
   "outputs": [
    {
     "data": {
      "image/png": "[encoded data removed]",
      "text/plain": [
       "<Figure size 350x210 with 1 Axes>"
      ]
     },
     "metadata": {},
     "output_type": "display_data"
    }
   ],
   "source": [
    "fig, ax = plt.subplots(figsize=(3.5, 2.1))\n",
    "\n",
    "ax.scatter(target_ran.index, target_ran['last_error'], s=4, label='Max Error')\n",
    "ax.set_xlim(ax.get_xlim())\n",
    "ax.semilogy(ax.get_xlim(), [params['target_error']]*2, 'k--', lw=1, label='Target')\n",
    "ax.set_ylim(ax.get_ylim())\n",
    "\n",
    "ax.plot(data.index, data['maximum_force'], ':r', label='$F_{max}$')\n",
    "\n",
    "ax.set_xlabel('Step')\n",
    "ax.set_ylabel('Error')\n",
    "ax.legend(fontsize=8, ncols=3)\n",
    "\n",
    "fig.tight_layout()"
   ]
  },
  {
   "cell_type": "markdown",
   "id": "d20b5f75-7743-4476-afae-b4ea61fefaea",
   "metadata": {},
   "source": [
    "## Plot the Controller Performance\n",
    "The proxima controller updates a threshold ($T$) and a relationship between UQ signal and system error ($\\alpha$) each time the target is ran."
   ]
  },
  {
   "cell_type": "code",
   "execution_count": 186,
   "id": "43f50827-6ebe-4b80-b846-82fc9a01b26d",
   "metadata": {},
   "outputs": [
    {
     "data": {
      "image/png": "[encoded data removed]",
      "text/plain": [
       "<Figure size 350x260 with 2 Axes>"
      ]
     },
     "metadata": {},
     "output_type": "display_data"
    }
   ],
   "source": [
    "fig, axs = plt.subplots(2, 1, figsize=(3.5, 2.6), sharex=True)\n",
    "\n",
    "ax = axs[0]\n",
    "ax.scatter(target_ran.index, target_ran['proxima_threshold'], c='k', s=4, label='Threshold')\n",
    "ax.scatter(target_ran.index, target_ran['last_uncer'], c='r', s=4, label='UQ')\n",
    "ax.set_ylabel('$T$')\n",
    "ax.set_yscale('log')\n",
    "ax.legend(fontsize=6)\n",
    "\n",
    "ax = axs[1]\n",
    "ax.semilogy(target_ran.index, target_ran['proxima_alpha'], 'o', ms=2)\n",
    "ax.set_ylabel('$\\\\alpha$')\n",
    "\n",
    "ax.set_xlim(ax.get_xlim())\n",
    "ax.set_xlabel('Step')\n",
    "\n",
    "fig.tight_layout()"
   ]
  },
  {
   "cell_type": "markdown",
   "id": "370ca155-b4a3-4875-a3cb-792979ac47d2",
   "metadata": {},
   "source": [
    "Plot the relationship between UQ signal and observed error.\n",
    "\n",
    "There should be a positive correlation between them. The controller can work fine without a good correlation, however."
   ]
  },
  {
   "cell_type": "code",
   "execution_count": 187,
   "id": "5c80d80c-1055-4578-9720-5613d1792365",
   "metadata": {},
   "outputs": [],
   "source": [
    "with open(run_dir / 'proxima-state.pkl', 'rb') as fp:\n",
    "    state = pkl.load(fp)"
   ]
  },
  {
   "cell_type": "code",
   "execution_count": 188,
   "id": "631a2620-81fc-441e-bc1d-95d8dff031c6",
   "metadata": {},
   "outputs": [],
   "source": [
    "uq_signal, obs_error = zip(*state['error_history'])"
   ]
  },
  {
   "cell_type": "code",
   "execution_count": 190,
   "id": "f2634b82-12b7-41fd-a6e1-2c2a1c07962a",
   "metadata": {},
   "outputs": [
    {
     "data": {
      "text/plain": [
       "Text(0, 0.5, 'Actual Error')"
      ]
     },
     "execution_count": 190,
     "metadata": {},
     "output_type": "execute_result"
    },
    {
     "data": {
      "image/png": "[encoded data removed]",
      "text/plain": [
       "<Figure size 350x250 with 1 Axes>"
      ]
     },
     "metadata": {},
     "output_type": "display_data"
    }
   ],
   "source": [
    "fig, ax = plt.subplots(figsize=(3.5, 2.5))\n",
    "\n",
    "ax.scatter(uq_signal, obs_error)\n",
    "\n",
    "ax.set_xlabel('UQ Signal')\n",
    "ax.set_ylabel('Actual Error')"
   ]
  },
  {
   "cell_type": "markdown",
   "id": "3e0bd2da-416c-45ef-918b-989111ae258a",
   "metadata": {},
   "source": [
    "## Plot Model Performance\n",
    "See how good the model is compared to the available training data"
   ]
  },
  {
   "cell_type": "code",
   "execution_count": 12,
   "id": "4944af43-9a54-4fea-ab1e-e5a3cc3ec83c",
   "metadata": {},
   "outputs": [],
   "source": [
    "models = state['models']\n",
    "train_logs = state['train_logs']"
   ]
  },
  {
   "cell_type": "code",
   "execution_count": 13,
   "id": "02cf597a-2462-445b-9ea5-4676254add79",
   "metadata": {},
   "outputs": [],
   "source": [
    "atoms = read(run_dir / 'proxima.db', ':')"
   ]
  },
  {
   "cell_type": "markdown",
   "id": "b62ddf77-1bd3-4760-92d5-473f213a5d61",
   "metadata": {},
   "source": [
    "Run inference"
   ]
  },
  {
   "cell_type": "code",
   "execution_count": 14,
   "id": "3e1c7395-3707-4872-a1b1-3248512b4fb0",
   "metadata": {},
   "outputs": [],
   "source": [
    "pred_e, pred_f, pred_s = TorchANI().evaluate(models[1], atoms)"
   ]
  },
  {
   "cell_type": "markdown",
   "id": "5df755d9-396b-446e-82f3-1c56a8324446",
   "metadata": {},
   "source": [
    "Convert energies to per atom above the minimum in meV/atom"
   ]
  },
  {
   "cell_type": "code",
   "execution_count": 15,
   "id": "93c64242-c52e-445e-8421-1e819e2895f9",
   "metadata": {},
   "outputs": [],
   "source": [
    "pred_e_pera = np.divide(pred_e, [len(a) for a in atoms])\n",
    "true_e_pera = np.divide([a.get_potential_energy() for a in atoms], [len(a) for a in atoms])"
   ]
  },
  {
   "cell_type": "code",
   "execution_count": 16,
   "id": "7211381c-41cb-4926-9880-19dd9c2d6464",
   "metadata": {},
   "outputs": [],
   "source": [
    "pred_e_pera -= true_e_pera.min()\n",
    "true_e_pera -= true_e_pera.min()"
   ]
  },
  {
   "cell_type": "code",
   "execution_count": 17,
   "id": "75881a9c-3e5f-4e86-b7c1-fb785e0294a6",
   "metadata": {},
   "outputs": [],
   "source": [
    "for m in [pred_e_pera, true_e_pera]:\n",
    "    m *= 1000."
   ]
  },
  {
   "cell_type": "code",
   "execution_count": 18,
   "id": "c2c655c1-8122-444f-867c-fd0f7bb36a45",
   "metadata": {},
   "outputs": [],
   "source": [
    "true_f = [a.get_forces() for a in atoms]"
   ]
  },
  {
   "cell_type": "markdown",
   "id": "a204e666-5a83-4a9f-9052-698bb210591f",
   "metadata": {},
   "source": [
    "Plot comparison"
   ]
  },
  {
   "cell_type": "code",
   "execution_count": 19,
   "id": "3057661f-c4ea-42c2-a3d3-d871c18053f2",
   "metadata": {},
   "outputs": [
    {
     "data": {
      "image/png": "[encoded data removed]",
      "text/plain": [
       "<Figure size 640x230 with 3 Axes>"
      ]
     },
     "metadata": {},
     "output_type": "display_data"
    }
   ],
   "source": [
    "fig, axs = plt.subplots(1, 3, figsize=(6.4, 2.3))\n",
    "\n",
    "ax = axs[0]\n",
    "ax.scatter(pred_e_pera, true_e_pera, s=2)\n",
    "lim = [\n",
    "    min(pred_e_pera.min(), true_e_pera.min()),\n",
    "    max(pred_e_pera.max(), true_e_pera.max())\n",
    "]\n",
    "ax.set_xlim(lim)\n",
    "ax.set_ylim(lim)\n",
    "ax.plot(ax.get_xlim(), ax.get_xlim(), 'k--', lw=1)\n",
    "\n",
    "r2_score = np.corrcoef(pred_e_pera, true_e_pera)[0, 1]\n",
    "ax.text(0.1, 0.8, f'$R^2$: {r2_score: .2f}', transform=ax.transAxes, fontsize=10)\n",
    "\n",
    "ax.set_title('Energy (meV/atom)', loc='left', fontsize=10)\n",
    "\n",
    "ax = axs[1]\n",
    "ax.scatter(pred_f[-1].flatten(), true_f[-1].flatten(), s=2)\n",
    "ax.set_title('Forces (eV/$\\\\AA$)', loc='left', fontsize=10)\n",
    "\n",
    "ax.set_xlim(ax.get_ylim())\n",
    "ax.set_ylim(ax.get_ylim())\n",
    "ax.plot(ax.get_xlim(), ax.get_xlim(), 'k--', lw=1)\n",
    "\n",
    "rmse = np.sqrt(np.power(pred_f[-1] - true_f[-1], 2).mean())\n",
    "ax.text(0.1, 0.9, f'RMSE: {rmse:.2f}', transform=ax.transAxes, fontsize=10)\n",
    "\n",
    "\n",
    "ax = axs[2]\n",
    "true_s = np.array([a.get_stress(False) for a in atoms])\n",
    "ax.scatter(pred_s.flatten() / units.GPa, true_s.flatten() / units.GPa, s=2)\n",
    "ax.set_title('Stress (GPa)', loc='left', fontsize=10)\n",
    "\n",
    "rmse = np.sqrt(np.power(pred_s - true_s, 2).mean()) / units.GPa\n",
    "ax.text(0.1, 0.9, f'RMSE: {rmse:.2f}', transform=ax.transAxes, fontsize=10)\n",
    "\n",
    "\n",
    "ax.set_xlim(ax.get_ylim())\n",
    "ax.set_ylim(ax.get_ylim())\n",
    "ax.plot(ax.get_xlim(), ax.get_xlim(), 'k--', lw=1)\n",
    "\n",
    "for ax in axs:\n",
    "    ax.set_xlabel('ML')\n",
    "    ax.set_ylabel('DFT')\n",
    "\n",
    "fig.tight_layout()"
   ]
  },
  {
   "cell_type": "markdown",
   "id": "11021830-1045-4383-b231-4d5b6c7c39b2",
   "metadata": {},
   "source": [
    "Plot the training results"
   ]
  },
  {
   "cell_type": "code",
   "execution_count": 20,
   "id": "01204c79-f9d8-4332-bf6c-2bfff5fce0c7",
   "metadata": {},
   "outputs": [
    {
     "ename": "TypeError",
     "evalue": "'NoneType' object is not subscriptable",
     "output_type": "error",
     "traceback": [
      "\u001b[0;31m---------------------------------------------------------------------------\u001b[0m",
      "\u001b[0;31mTypeError\u001b[0m                                 Traceback (most recent call last)",
      "Cell \u001b[0;32mIn[20], line 3\u001b[0m\n\u001b[1;32m      1\u001b[0m fig, axs \u001b[38;5;241m=\u001b[39m plt\u001b[38;5;241m.\u001b[39msubplots(\u001b[38;5;241m3\u001b[39m, \u001b[38;5;241m1\u001b[39m, figsize\u001b[38;5;241m=\u001b[39m(\u001b[38;5;241m3.5\u001b[39m, \u001b[38;5;241m2.\u001b[39m), sharex\u001b[38;5;241m=\u001b[39m\u001b[38;5;28;01mTrue\u001b[39;00m)\n\u001b[0;32m----> 3\u001b[0m log \u001b[38;5;241m=\u001b[39m \u001b[43mtrain_logs\u001b[49m\u001b[43m[\u001b[49m\u001b[38;5;241;43m0\u001b[39;49m\u001b[43m]\u001b[49m\n\u001b[1;32m      4\u001b[0m \u001b[38;5;28;01mfor\u001b[39;00m ax, tag, letter \u001b[38;5;129;01min\u001b[39;00m \u001b[38;5;28mzip\u001b[39m(axs, [\u001b[38;5;124m'\u001b[39m\u001b[38;5;124mF\u001b[39m\u001b[38;5;124m'\u001b[39m, \u001b[38;5;124m'\u001b[39m\u001b[38;5;124mE\u001b[39m\u001b[38;5;124m'\u001b[39m, \u001b[38;5;124m'\u001b[39m\u001b[38;5;130;01m\\\\\u001b[39;00m\u001b[38;5;124msigma\u001b[39m\u001b[38;5;124m'\u001b[39m], [\u001b[38;5;124m'\u001b[39m\u001b[38;5;124mf\u001b[39m\u001b[38;5;124m'\u001b[39m, \u001b[38;5;124m'\u001b[39m\u001b[38;5;124me\u001b[39m\u001b[38;5;124m'\u001b[39m, \u001b[38;5;124m'\u001b[39m\u001b[38;5;124ms\u001b[39m\u001b[38;5;124m'\u001b[39m]):\n\u001b[1;32m      5\u001b[0m     ax\u001b[38;5;241m.\u001b[39mplot(log[\u001b[38;5;124m'\u001b[39m\u001b[38;5;124miteration\u001b[39m\u001b[38;5;124m'\u001b[39m], log[\u001b[38;5;124mf\u001b[39m\u001b[38;5;124m'\u001b[39m\u001b[38;5;132;01m{\u001b[39;00mletter\u001b[38;5;132;01m}\u001b[39;00m\u001b[38;5;124m_rmse_valid\u001b[39m\u001b[38;5;124m'\u001b[39m])\n",
      "\u001b[0;31mTypeError\u001b[0m: 'NoneType' object is not subscriptable"
     ]
    },
    {
     "data": {
      "image/png": "[encoded data removed]",
      "text/plain": [
       "<Figure size 350x200 with 3 Axes>"
      ]
     },
     "metadata": {},
     "output_type": "display_data"
    }
   ],
   "source": [
    "fig, axs = plt.subplots(3, 1, figsize=(3.5, 2.), sharex=True)\n",
    "\n",
    "log = train_logs[0]\n",
    "for ax, tag, letter in zip(axs, ['F', 'E', '\\\\sigma'], ['f', 'e', 's']):\n",
    "    ax.plot(log['iteration'], log[f'{letter}_rmse_valid'])\n",
    "    ax.set_ylabel(f'Loss, ${tag}$')\n",
    "    \n",
    "#axs[-1].set_ylabel('Loss')\n",
    "axs[-1].set_xlabel('Epoch')"
   ]
  },
  {
   "cell_type": "code",
   "execution_count": null,
   "id": "7771fe56-d693-466e-ab68-20539eb5245d",
   "metadata": {},
   "outputs": [],
   "source": []
  },
  {
   "cell_type": "code",
   "execution_count": null,
   "id": "9d6d7d4d-1f95-45f7-a677-e41e3012adb7",
   "metadata": {},
   "outputs": [],
   "source": []
  }
 ],
 "metadata": {
  "kernelspec": {
   "display_name": "Python 3 (ipykernel)",
   "language": "python",
   "name": "python3"
  },
  "language_info": {
   "codemirror_mode": {
    "name": "ipython",
    "version": 3
   },
   "file_extension": ".py",
   "mimetype": "text/x-python",
   "name": "python",
   "nbconvert_exporter": "python",
   "pygments_lexer": "ipython3",
   "version": "3.11.0"
  }
 },
 "nbformat": 4,
 "nbformat_minor": 5
}
