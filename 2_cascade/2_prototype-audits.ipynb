{
 "cells": [
  {
   "cell_type": "code",
   "execution_count": 1,
   "id": "92036efc-fdd3-4e27-8c26-9c3d54abde00",
   "metadata": {},
   "outputs": [],
   "source": [
    "from typing import List\n",
    "from copy import deepcopy\n",
    "import pandas as pd\n",
    "\n",
    "import ase\n",
    "from ase import Atoms\n",
    "from ase.calculators.lj import LennardJones\n",
    "from ase.io import Trajectory\n",
    "from ase.calculators.calculator import Calculator, all_changes\n",
    "\n",
    "import numpy as np\n",
    "import matplotlib.pyplot as plt\n",
    "\n",
    "from cascade.utils import canonicalize\n",
    "\n",
    "%load_ext autoreload\n",
    "%autoreload 2"
   ]
  },
  {
   "cell_type": "code",
   "execution_count": 2,
   "id": "e31d78b1-a0aa-4a5e-92f7-b07588cd2758",
   "metadata": {},
   "outputs": [],
   "source": [
    "atoms = Atoms('N2')"
   ]
  },
  {
   "cell_type": "code",
   "execution_count": 3,
   "id": "2a424365-f19b-44c9-aba6-03d354576856",
   "metadata": {},
   "outputs": [
    {
     "data": {
      "text/plain": [
       "array([[0., 0., 0.],\n",
       "       [0., 0., 0.]])"
      ]
     },
     "execution_count": 3,
     "metadata": {},
     "output_type": "execute_result"
    }
   ],
   "source": [
    "atoms.positions"
   ]
  },
  {
   "cell_type": "code",
   "execution_count": 4,
   "id": "2a57232d-ac61-418d-8b06-19a67982af8e",
   "metadata": {},
   "outputs": [],
   "source": [
    "def sample_diatomic_distances(\n",
    "    atoms_str: str = 'N2', \n",
    "    dist_range: tuple = (1.1, 3), \n",
    "    n: int = 100) -> List[ase.Atoms]:     \n",
    "    \"\"\"Create a trajectory of a diatomic system with linearly sampled distances\n",
    "    atoms_str: ase specification of diatomic\n",
    "    dist_range: (angsroms) range of distances to sample\n",
    "    n: number of samples\n",
    "    \"\"\"\n",
    "    atoms = Atoms(atoms_str)\n",
    "    trajectory = []\n",
    "    x_vals = np.linspace(*dist_range, n)\n",
    "    for x in x_vals: \n",
    "        atoms = atoms.copy()\n",
    "        atoms.set_positions([[0,0,0], [x, 0, 0]])\n",
    "        trajectory.append(atoms)\n",
    "    return trajectory"
   ]
  },
  {
   "cell_type": "code",
   "execution_count": null,
   "id": "c54bd270-ecb5-450f-98b7-6d1ad524b076",
   "metadata": {},
   "outputs": [],
   "source": []
  },
  {
   "cell_type": "code",
   "execution_count": 5,
   "id": "9bee2920-a9b0-4748-9b69-20df42b36640",
   "metadata": {},
   "outputs": [],
   "source": [
    "def apply_calculator(\n",
    "    calc: ase.calculators.calculator.Calculator, \n",
    "    traj: List[ase.Atoms]) -> List[Atoms]:\n",
    "    \"\"\"Run a calculator on every atoms object in a list\"\"\"\n",
    "\n",
    "    traj = deepcopy(traj)\n",
    "    out = []\n",
    "    for atoms in traj: \n",
    "        atoms.calc = calc\n",
    "        atoms.get_forces()\n",
    "        atoms = canonicalize(atoms)\n",
    "        out.append(atoms)\n",
    "    return out"
   ]
  },
  {
   "cell_type": "code",
   "execution_count": 6,
   "id": "80eaa2ca-b4f2-4f26-acdd-da612695d8fb",
   "metadata": {},
   "outputs": [],
   "source": [
    "lj1, lj2  = LennardJones(sigma=1, eps=1), LennardJones(sigma=1, epsilon=1.1)"
   ]
  },
  {
   "cell_type": "code",
   "execution_count": 7,
   "id": "954825a2-19f1-4aea-8d61-bfb4c82caf0f",
   "metadata": {},
   "outputs": [],
   "source": [
    "traj_base = sample_diatomic_distances()\n",
    "traj_lj1  = apply_calculator(lj1, traj_base)\n",
    "traj_lj2  = apply_calculator(lj2, traj_base)"
   ]
  },
  {
   "cell_type": "code",
   "execution_count": 8,
   "id": "fde8a5d5-d2db-411e-aad1-35716ca31cb4",
   "metadata": {},
   "outputs": [
    {
     "data": {
      "text/plain": [
       "[Atoms(symbols='N2', pbc=False),\n",
       " Atoms(symbols='N2', pbc=False),\n",
       " Atoms(symbols='N2', pbc=False)]"
      ]
     },
     "execution_count": 8,
     "metadata": {},
     "output_type": "execute_result"
    }
   ],
   "source": [
    "traj_lj1[:3]"
   ]
  },
  {
   "cell_type": "code",
   "execution_count": 9,
   "id": "002aa0cb-7634-43a2-ae06-b2e754415c40",
   "metadata": {},
   "outputs": [
    {
     "data": {
      "text/plain": [
       "True"
      ]
     },
     "execution_count": 9,
     "metadata": {},
     "output_type": "execute_result"
    }
   ],
   "source": [
    "atoms.calc is None"
   ]
  },
  {
   "cell_type": "code",
   "execution_count": null,
   "id": "b1852648-116e-4808-88ee-4e1fc69330b0",
   "metadata": {},
   "outputs": [],
   "source": []
  },
  {
   "cell_type": "code",
   "execution_count": null,
   "id": "fa039ca3-2bdc-4c03-b08d-cfe4a09eac04",
   "metadata": {},
   "outputs": [],
   "source": []
  },
  {
   "cell_type": "code",
   "execution_count": null,
   "id": "4bf31c38-93bf-4dc5-8d8b-bb5fac9960ab",
   "metadata": {},
   "outputs": [],
   "source": [
    "plt.plot(traj_lj1['position'], traj_lj1['force'], label='$\\epsilon=1$')\n",
    "plt.plot(traj_lj2['position'], traj_lj2['force'], label='$\\epsilon=1.1$')\n",
    "plt.xlabel('$R_\\mathrm{{N-N}}$ ($\\mathrm{\\AA}$)')\n",
    "plt.ylabel('$F_{LJ}$ (eV/$\\mathrm{\\AA}$)')\n",
    "plt.legend()\n",
    "plt.title('Lennard Jones Forces acting on N-N for varying $\\epsilon$');"
   ]
  },
  {
   "cell_type": "code",
   "execution_count": null,
   "id": "d27b182e-6e12-4410-ab2a-6d50b38bfeb4",
   "metadata": {},
   "outputs": [],
   "source": [
    "plt.plot(traj_lj1['position'], (traj_lj1['force'] - traj_lj2['force']).abs(), label='$\\epsilon=1$')\n",
    "plt.title('Absolute force difference given $R_\\mathrm{{N-N}}$ across LJ potentials')\n",
    "plt.ylabel('$|F^{\\epsilon=1}_{LJ} - F^{\\epsilon=1.1}_{LJ}|$ (eV/$\\mathrm{\\AA}$)')\n",
    "plt.xlabel('$R_\\mathrm{{N-N}}$ ($\\mathrm{\\AA}$)')"
   ]
  },
  {
   "cell_type": "markdown",
   "id": "ee2c8396-4d56-4838-abe9-dba17d3fea2c",
   "metadata": {},
   "source": [
    "## Ensemble Class"
   ]
  },
  {
   "cell_type": "code",
   "execution_count": null,
   "id": "88969215-b6ac-4fba-8e99-13c134a60e38",
   "metadata": {},
   "outputs": [],
   "source": [
    "from ase.calculators import EnsembleCalculator"
   ]
  },
  {
   "cell_type": "code",
   "execution_count": null,
   "id": "16a786a0-a9c4-4ec5-a54e-d3a9c9d31b63",
   "metadata": {},
   "outputs": [],
   "source": [
    "ens = EnsembleCalculator([lj1, lj2])"
   ]
  },
  {
   "cell_type": "code",
   "execution_count": null,
   "id": "056e206e-c386-4de2-9014-6b5195de4e30",
   "metadata": {},
   "outputs": [],
   "source": [
    "traj_ens = apply_calculator(ens, traj_base)"
   ]
  },
  {
   "cell_type": "code",
   "execution_count": null,
   "id": "10828811-cd4f-4fdf-9f15-34aba9fc8800",
   "metadata": {},
   "outputs": [],
   "source": [
    "traj_ens"
   ]
  },
  {
   "cell_type": "code",
   "execution_count": null,
   "id": "920520f2-2456-4785-af5b-0a34e8691626",
   "metadata": {},
   "outputs": [],
   "source": [
    "traj_ens['UQ'] = traj_ens['atoms'].map(lambda a: a.info['forces_std'][0,0])"
   ]
  },
  {
   "cell_type": "code",
   "execution_count": null,
   "id": "a625ef22-5bf7-485b-8285-6b4c8c2cf636",
   "metadata": {},
   "outputs": [],
   "source": [
    "plt.plot(traj_lj1['position'], (traj_lj1['force'] - traj_lj2['force']).abs(), label='$|F^{\\epsilon=1}_{LJ} - F^{\\epsilon=1.1}_{LJ}|$')\n",
    "plt.plot(traj_ens['position'], traj_ens['UQ'], label='std($F_\\mathrm{ens}$)[0,0]')\n",
    "plt.ylabel('$F eV/$\\mathrm{\\AA}$)')\n",
    "plt.xlabel('$R_\\mathrm{{N-N}}$ ($\\mathrm{\\AA}$)')\n",
    "plt.legend()"
   ]
  },
  {
   "cell_type": "code",
   "execution_count": null,
   "id": "098610f1-63fa-4c22-ac34-4b1469b94a9e",
   "metadata": {},
   "outputs": [],
   "source": [
    "traj_ens['atoms'][0].calc"
   ]
  },
  {
   "cell_type": "markdown",
   "id": "fdf7f966-23bd-4aea-94be-b5d12faa1a77",
   "metadata": {},
   "source": [
    "## TODO import the auditors and try them out"
   ]
  },
  {
   "cell_type": "code",
   "execution_count": null,
   "id": "d6d0d2d7-78e1-400c-8654-320666fab21a",
   "metadata": {},
   "outputs": [],
   "source": []
  },
  {
   "cell_type": "code",
   "execution_count": null,
   "id": "410a405f-8e2b-45e1-8a0b-1db6d2317202",
   "metadata": {},
   "outputs": [],
   "source": []
  }
 ],
 "metadata": {
  "kernelspec": {
   "display_name": "Python 3 (ipykernel)",
   "language": "python",
   "name": "python3"
  },
  "language_info": {
   "codemirror_mode": {
    "name": "ipython",
    "version": 3
   },
   "file_extension": ".py",
   "mimetype": "text/x-python",
   "name": "python",
   "nbconvert_exporter": "python",
   "pygments_lexer": "ipython3",
   "version": "3.11.0"
  }
 },
 "nbformat": 4,
 "nbformat_minor": 5
}
