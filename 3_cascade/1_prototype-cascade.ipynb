{
 "cells": [
  {
   "cell_type": "markdown",
   "id": "7a850a23-dd4a-49d1-8d24-9fa0500f85af",
   "metadata": {},
   "source": [
    "# Cascade: serial prototype implementation\n",
    "\n",
    "Here we use some of the classes we've written to create a serial prototype run of cascade\n",
    "\n",
    "This is the minimum viable run, intended to inform upcoming design decisions before distributed runs.\n",
    "\n",
    "No science is done here. "
   ]
  },
  {
   "cell_type": "code",
   "execution_count": 40,
   "id": "9c49f1f6-3a41-4d70-8126-236faccc3f4d",
   "metadata": {},
   "outputs": [],
   "source": [
    "from glob import glob\n",
    "from pathlib import Path\n",
    "\n",
    "from ase.io import read, write\n",
    "from ase.io.trajectory import Trajectory\n",
    "from ase import units\n",
    "from ase.md import MDLogger, VelocityVerlet\n",
    "import numpy as np\n",
    "from mace.calculators import mace_mp\n",
    "\n",
    "\n",
    "from cascade.utils import canonicalize\n",
    "from cascade.auditor import RandomAuditor\n",
    "from cascade.learning.torchani import TorchANI\n",
    "from cascade.learning.torchani.build import make_output_nets, make_aev_computer"
   ]
  },
  {
   "cell_type": "markdown",
   "id": "57a27e82-15de-4767-befb-72b46f7fb6ce",
   "metadata": {},
   "source": [
    "## Read in structure\n",
    "We'll do these simulations on a Si 2x2x2 with a vacancy"
   ]
  },
  {
   "cell_type": "code",
   "execution_count": 2,
   "id": "59fc8963-e05d-449a-aeca-19d8aee6dac1",
   "metadata": {},
   "outputs": [],
   "source": [
    "atoms = read('../0_setup/initial-geometries/si-vacancy-2x2x2.vasp')"
   ]
  },
  {
   "cell_type": "markdown",
   "id": "dc76b922-d1ef-4b0d-a9c2-4ef5aea84819",
   "metadata": {},
   "source": [
    "## Set up calculator\n",
    "\n",
    "We'll use a small MACE model as our *target*.   \n",
    "That is to say, MACE is our ground truth physics.   \n",
    "(We want fast for this prototype)"
   ]
  },
  {
   "cell_type": "code",
   "execution_count": 3,
   "id": "08a8ef58-4ee3-4686-9ff4-3942211e23c2",
   "metadata": {},
   "outputs": [
    {
     "name": "stderr",
     "output_type": "stream",
     "text": [
      "/home/mike/miniconda3/envs/cascade/lib/python3.11/site-packages/mace/calculators/mace.py:128: FutureWarning: You are using `torch.load` with `weights_only=False` (the current default value), which uses the default pickle module implicitly. It is possible to construct malicious pickle data which will execute arbitrary code during unpickling (See https://github.com/pytorch/pytorch/blob/main/SECURITY.md#untrusted-models for more details). In a future release, the default value for `weights_only` will be flipped to `True`. This limits the functions that could be executed during unpickling. Arbitrary objects will no longer be allowed to be loaded via this mode unless they are explicitly allowlisted by the user via `torch.serialization.add_safe_globals`. We recommend you start setting `weights_only=True` for any use case where you don't have full control of the loaded file. Please open an issue on GitHub for any issues related to this experimental feature.\n",
      "  torch.load(f=model_path, map_location=device)\n"
     ]
    },
    {
     "name": "stdout",
     "output_type": "stream",
     "text": [
      "Using Materials Project MACE for MACECalculator with /home/mike/.cache/mace/20231210mace128L0_energy_epoch249model\n",
      "Using float32 for MACECalculator, which is faster but less accurate. Recommended for MD. Use float64 for geometry optimization.\n",
      "Default dtype float32 does not match model dtype float64, converting models to float32.\n"
     ]
    }
   ],
   "source": [
    "device = 'cuda:0'\n",
    "calc = mace_mp('small')"
   ]
  },
  {
   "cell_type": "markdown",
   "id": "9c5584da-e85c-4558-8150-c8fee87848a0",
   "metadata": {},
   "source": [
    "## Set up learner\n",
    "\n",
    "We'll fit two ANI models to MACE"
   ]
  },
  {
   "cell_type": "code",
   "execution_count": 5,
   "id": "a8f2e17c-c414-42da-ba43-3ebe7a49176d",
   "metadata": {},
   "outputs": [],
   "source": [
    "learner = TorchANI()"
   ]
  },
  {
   "cell_type": "code",
   "execution_count": 38,
   "id": "29fab573-4c07-49d0-aeed-db13b6c8f7df",
   "metadata": {},
   "outputs": [],
   "source": [
    "species = list(set(atoms.symbols))\n",
    "aev = make_aev_computer(species)\n",
    "\n",
    "model = aev, make_output_nets(species, aev), dict((s, 0.) for s in species)"
   ]
  },
  {
   "cell_type": "markdown",
   "id": "8623b624-6d03-42b6-bf76-2fd17043a8ac",
   "metadata": {},
   "source": [
    "## Class for trajectories"
   ]
  },
  {
   "cell_type": "code",
   "execution_count": 7,
   "id": "e62cbd7c-4a4e-46a9-8d70-b986a95ac792",
   "metadata": {},
   "outputs": [],
   "source": [
    "class CascadeTrajectory:\n",
    "    \"\"\"A class to encasplulate a cascade trajectory\n",
    "\n",
    "    This is useful for reading and auditing trajectories\n",
    "    so we know where to start sampling from (e.g., after the last trusted timestep)\n",
    "    \"\"\"\n",
    "\n",
    "    def __init__(self,\n",
    "                 path: str,\n",
    "                 last_trusted_timestep: int = 0):\n",
    "        self.path = path\n",
    "        self.last_trusted_timestep = last_trusted_timestep\n",
    "    \n",
    "    def read(self, index=':', *args, **kwargs):\n",
    "        return read(self.path, *args, index=index, **kwargs)\n",
    "\n",
    "    def get_untrusted_segment(self):\n",
    "        return read(self.path, index=f'{self.last_trusted_timestep+1}:')\n",
    "    \n",
    "    def trim_untrusted_segment(self):\n",
    "        # todo: is there a way to do this without loading into memory?\n",
    "        write(self.path, read(self.path, index=f':{self.last_trusted_timestep+1}'))\n",
    "        "
   ]
  },
  {
   "cell_type": "markdown",
   "id": "fd1f1599-f541-4d40-affb-8368b3292afb",
   "metadata": {},
   "source": [
    "### tests \n",
    "\n",
    "#### Todo: (these should go in a test suite if we're keeping this), update the coords or something to make sure the right things are getting deleted"
   ]
  },
  {
   "cell_type": "code",
   "execution_count": 8,
   "id": "1b225651-b0ee-46be-ac8d-8b55d8ea4c83",
   "metadata": {},
   "outputs": [],
   "source": [
    "write('test.traj', [atoms, atoms.copy()])"
   ]
  },
  {
   "cell_type": "code",
   "execution_count": 9,
   "id": "766de0f0-2df7-4dc2-813a-06e414047c97",
   "metadata": {},
   "outputs": [],
   "source": [
    "traj = CascadeTrajectory('test.traj')"
   ]
  },
  {
   "cell_type": "code",
   "execution_count": 10,
   "id": "10c2c251-dcc8-4e1d-b8fc-f4e51fd9f552",
   "metadata": {},
   "outputs": [
    {
     "data": {
      "text/plain": [
       "[Atoms(symbols='Si63', pbc=True, cell=[10.86, 10.86, 10.86]),\n",
       " Atoms(symbols='Si63', pbc=True, cell=[10.86, 10.86, 10.86])]"
      ]
     },
     "execution_count": 10,
     "metadata": {},
     "output_type": "execute_result"
    }
   ],
   "source": [
    "traj.read()"
   ]
  },
  {
   "cell_type": "code",
   "execution_count": 11,
   "id": "f0e8a83c-8c95-44f3-ab42-02806c1ed390",
   "metadata": {},
   "outputs": [
    {
     "data": {
      "text/plain": [
       "[Atoms(symbols='Si63', pbc=True, cell=[10.86, 10.86, 10.86])]"
      ]
     },
     "execution_count": 11,
     "metadata": {},
     "output_type": "execute_result"
    }
   ],
   "source": [
    "traj.get_untrusted_segment()"
   ]
  },
  {
   "cell_type": "code",
   "execution_count": 12,
   "id": "60a186dd-037b-4395-8284-5933d051c3b4",
   "metadata": {},
   "outputs": [
    {
     "data": {
      "text/plain": [
       "[Atoms(symbols='Si63', pbc=True, cell=[10.86, 10.86, 10.86])]"
      ]
     },
     "execution_count": 12,
     "metadata": {},
     "output_type": "execute_result"
    }
   ],
   "source": [
    "read('test.traj', index=':1')"
   ]
  },
  {
   "cell_type": "code",
   "execution_count": 13,
   "id": "004ff4db-6f18-43dc-a441-e09fb570f7a1",
   "metadata": {},
   "outputs": [],
   "source": [
    "traj.trim_untrusted_segment()"
   ]
  },
  {
   "cell_type": "code",
   "execution_count": 14,
   "id": "c17f0a18-f39d-4e52-8db3-dfe18b8f7423",
   "metadata": {},
   "outputs": [
    {
     "data": {
      "text/plain": [
       "[Atoms(symbols='Si63', pbc=True, cell=[10.86, 10.86, 10.86])]"
      ]
     },
     "execution_count": 14,
     "metadata": {},
     "output_type": "execute_result"
    }
   ],
   "source": [
    "traj.read()"
   ]
  },
  {
   "cell_type": "raw",
   "id": "18029a5c-a96a-44ad-ab72-5668f20a57c5",
   "metadata": {},
   "source": []
  },
  {
   "cell_type": "markdown",
   "id": "60991038-6191-4bd5-aa3c-e30fe1a0c976",
   "metadata": {},
   "source": [
    "## train initial models\n",
    "I just can't stomach starting with comepletely untrained ani models"
   ]
  },
  {
   "cell_type": "code",
   "execution_count": 15,
   "id": "3eae7ee0-bd2d-432d-8c78-1eebfb185569",
   "metadata": {},
   "outputs": [],
   "source": [
    "class CanonicalWriter():\n",
    "\n",
    "    def __init__(self, path):\n",
    "        self.path = path\n",
    "\n",
    "    def __call__(self): \n",
    "\n",
    "        with Trajectory(self.path, mode='a') as traj: \n",
    "            traj.write(canonicalize(atoms))"
   ]
  },
  {
   "cell_type": "code",
   "execution_count": 16,
   "id": "76f8685a-1cfb-4579-8373-c707bb079dc6",
   "metadata": {},
   "outputs": [],
   "source": [
    "from time import perf_counter"
   ]
  },
  {
   "cell_type": "code",
   "execution_count": 17,
   "id": "c4b1a101-fd95-4aa8-b94d-f40a5a4274ec",
   "metadata": {},
   "outputs": [],
   "source": [
    "n_training_frames = 128\n",
    "atoms.calc = calc\n",
    "dynamics = VelocityVerlet(atoms, timestep=1*units.fs)"
   ]
  },
  {
   "cell_type": "code",
   "execution_count": 18,
   "id": "9f185353-35ad-4a88-9041-2436d4ac7310",
   "metadata": {},
   "outputs": [],
   "source": [
    "md_logger = MDLogger(np, atoms, 'train.log', stress=True)\n",
    "traj_writer = CanonicalWriter('train.traj')\n",
    "dynamics.attach(md_logger)\n",
    "dynamics.attach(traj_writer)"
   ]
  },
  {
   "cell_type": "code",
   "execution_count": 19,
   "id": "cf5d2836-0cff-4822-bf9f-8e6479e3f225",
   "metadata": {},
   "outputs": [
    {
     "name": "stdout",
     "output_type": "stream",
     "text": [
      "CPU times: user 9.1 s, sys: 5.31 s, total: 14.4 s\n",
      "Wall time: 7.42 s\n"
     ]
    },
    {
     "data": {
      "text/plain": [
       "True"
      ]
     },
     "execution_count": 19,
     "metadata": {},
     "output_type": "execute_result"
    }
   ],
   "source": [
    "%%time\n",
    "dynamics.run(n_training_frames)"
   ]
  },
  {
   "cell_type": "markdown",
   "id": "a218b17b-b290-42d9-aa67-c545bd6b34c7",
   "metadata": {},
   "source": []
  },
  {
   "cell_type": "markdown",
   "id": "fa54bc5d-929b-403d-a2aa-0309d8c196f0",
   "metadata": {},
   "source": [
    "## Set up protype run"
   ]
  },
  {
   "cell_type": "code",
   "execution_count": null,
   "id": "d486f89f-3ee8-42ae-b4f8-15912b16fb1d",
   "metadata": {},
   "outputs": [],
   "source": []
  },
  {
   "cell_type": "code",
   "execution_count": 20,
   "id": "a0e17cd2-cf74-446e-8b21-94b16c24afc3",
   "metadata": {},
   "outputs": [],
   "source": [
    "seeds = [0, 1]"
   ]
  },
  {
   "cell_type": "code",
   "execution_count": 21,
   "id": "568bdb51-d2a5-4ff5-9b50-13d4bc111e5f",
   "metadata": {},
   "outputs": [],
   "source": [
    "total_steps = 128\n",
    "increment_steps = 64\n",
    "\n",
    "# while not done:\n",
    "#     pass_ix = 1\n",
    "    \n",
    "#     # set up the directory to hold the trajectory for this pass\n",
    "#     run_dir = Path(f'cascade-md') / name\n",
    "#     pass_dir = run_dir / f'chunk={chunk_ix}-pass={pass_ix}'\n",
    "#     pass_dir.mkdir(exist_ok=True, parents=True)\n",
    "\n",
    "#     # pull in initial conidtions or last frame from the most recent trusted chunk\n",
    "#     if chunk_ix == 1: \n",
    "#         atoms = initial_conditions[name]\n",
    "#     else:\n",
    "#         last_pass = chunk_passes[chunk_ix-1]\n",
    "#         atoms = read(Path(run_dir)/name/f'chunk={chunk_ix-1}-{last_pass}', \n",
    "#                      index='-1')\n",
    "\n",
    "#     # we save the trajectory in chunks, inluding every pass at simulating that chunk\n",
    "#     logfile = str(pass_dir / 'md.log')\n",
    "#     trajfile = str(pass_dir / 'md.traj')\n",
    "    \n",
    "#     # setup the ml-driven dynamics\n",
    "#     atoms.calc = calc_ml\n",
    "#     dyn = NPT(atoms,\n",
    "#       timestep=0.5 * units.fs,\n",
    "#       temperature_K=298,\n",
    "#       ttime=100 * units.fs,\n",
    "#       pfactor=0.01,\n",
    "#       externalstress=0,\n",
    "#       logfile=logfile,\n",
    "#       trajectory=trajfile,\n",
    "#       append_trajectory=False)\n",
    "#     # timestep indexing\n",
    "#     # start = (chunk_ix-1) * chunk_size # the actual starting timestep\n",
    "#     # stop = min(chunk_size, chunk_size*chunk_ix)\n",
    "#     # there is probably a nice mathy way to do this\n",
    "#     resulting_steps = chunk_ix * chunk_size # how many total timesteps will be achieved\n",
    "#     if resulting_steps < total_steps: \n",
    "#         chunk_steps = chunk_size\n",
    "#     else: \n",
    "#         chunk_steps = total_steps - ((chunk_ix-1)*chunk_size)\n",
    "\n",
    "#     # run the dynamics for this chunk\n",
    "#     dyn.run(chunk_steps)\n",
    "\n",
    "#     # read in the recent chunk\n",
    "#     chunk = read(trajfile)\n",
    "#     break"
   ]
  },
  {
   "cell_type": "code",
   "execution_count": 36,
   "id": "cf4d7556-2614-4667-8c58-6556d8ec2a78",
   "metadata": {},
   "outputs": [
    {
     "data": {
      "text/plain": [
       "0.5192068632195513"
      ]
     },
     "execution_count": 36,
     "metadata": {},
     "output_type": "execute_result"
    }
   ],
   "source": [
    "np.random.RandomState(None).uniform(0, 1)"
   ]
  },
  {
   "cell_type": "code",
   "execution_count": null,
   "id": "07448032-737c-49ac-9958-2829b95b841e",
   "metadata": {},
   "outputs": [],
   "source": []
  }
 ],
 "metadata": {
  "kernelspec": {
   "display_name": "Python 3 (ipykernel)",
   "language": "python",
   "name": "python3"
  },
  "language_info": {
   "codemirror_mode": {
    "name": "ipython",
    "version": 3
   },
   "file_extension": ".py",
   "mimetype": "text/x-python",
   "name": "python",
   "nbconvert_exporter": "python",
   "pygments_lexer": "ipython3",
   "version": "3.11.0"
  }
 },
 "nbformat": 4,
 "nbformat_minor": 5
}
