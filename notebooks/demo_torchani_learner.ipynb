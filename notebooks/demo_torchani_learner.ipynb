{
 "cells": [
  {
   "cell_type": "markdown",
   "id": "fbe7239e-54bb-4bcd-a89d-01334c8a95ab",
   "metadata": {},
   "source": [
    "## Goal: demo training ani on MD trajectories from ASE"
   ]
  },
  {
   "cell_type": "code",
   "execution_count": 1,
   "id": "e87efa7c-bb8b-4fbc-848c-78e9400eda15",
   "metadata": {},
   "outputs": [
    {
     "name": "stderr",
     "output_type": "stream",
     "text": [
      "/home/mike/miniconda3/envs/cascade/lib/python3.11/site-packages/torchani/aev.py:16: UserWarning: cuaev not installed\n",
      "  warnings.warn(\"cuaev not installed\")\n"
     ]
    }
   ],
   "source": [
    "import torch\n",
    "\n",
    "from ase.io import read\n",
    "\n",
    "from cascade.learning.torchani import TorchANI, estimate_atomic_energies\n",
    "from cascade.learning.torchani.build import make_aev_computer, make_output_nets"
   ]
  },
  {
   "cell_type": "code",
   "execution_count": 2,
   "id": "b13fb6f3-9d03-4eff-a619-135b5fbcc274",
   "metadata": {},
   "outputs": [],
   "source": [
    "traj = read('../0_setup/md/packmol-CH4-in-H2O=32-seed=0-blyp-npt=298/md.traj', \n",
    "            index=':')"
   ]
  },
  {
   "cell_type": "code",
   "execution_count": 3,
   "id": "2a3f40a1-27a6-4731-9364-ed511b7b0966",
   "metadata": {},
   "outputs": [],
   "source": [
    "ref_energies = estimate_atomic_energies(traj)\n",
    "species = list(ref_energies.keys())\n",
    "aev = make_aev_computer(species)\n",
    "nn = make_output_nets(species, aev, \n",
    "                      # hidden_units=8, \n",
    "                      # hidden_layers=1,\n",
    "                     )"
   ]
  },
  {
   "cell_type": "code",
   "execution_count": 4,
   "id": "ea869e4a-0331-48f8-b7d4-ad26d4c6fdac",
   "metadata": {},
   "outputs": [],
   "source": [
    "ani = TorchANI()"
   ]
  },
  {
   "cell_type": "code",
   "execution_count": 5,
   "id": "e5df0dc8-0f4d-49b8-9716-ffcb49a557ab",
   "metadata": {},
   "outputs": [
    {
     "data": {
      "text/plain": [
       "'cuda'"
      ]
     },
     "execution_count": 5,
     "metadata": {},
     "output_type": "execute_result"
    }
   ],
   "source": [
    "use_cuda = torch.cuda.is_available()\n",
    "device = 'cuda' if use_cuda else 'cpu'\n",
    "device"
   ]
  },
  {
   "cell_type": "code",
   "execution_count": 6,
   "id": "9ab9238c-ecc7-4e3e-97bd-00170fee7e9c",
   "metadata": {},
   "outputs": [
    {
     "name": "stdout",
     "output_type": "stream",
     "text": [
      "CPU times: user 1.67 s, sys: 327 ms, total: 2 s\n",
      "Wall time: 2.01 s\n"
     ]
    }
   ],
   "source": [
    "%%time\n",
    "orig_e, orig_f = ani.evaluate((aev, nn, ref_energies), \n",
    "                              traj,\n",
    "                              #batch_size=,\n",
    "                              device=device)"
   ]
  },
  {
   "cell_type": "code",
   "execution_count": 7,
   "id": "863d7a98-1746-40ac-a0d6-04435f27d7ff",
   "metadata": {},
   "outputs": [
    {
     "name": "stdout",
     "output_type": "stream",
     "text": [
      "CPU times: user 5min 9s, sys: 1.62 s, total: 5min 11s\n",
      "Wall time: 22.5 s\n"
     ]
    }
   ],
   "source": [
    "%%time\n",
    "model_msg, results = ani.train((aev, nn, ref_energies), \n",
    "                         traj[:400], traj[400:], 2)"
   ]
  },
  {
   "cell_type": "code",
   "execution_count": 8,
   "id": "1c39d485-cdad-4233-a458-e1aa46cd09ca",
   "metadata": {},
   "outputs": [
    {
     "data": {
      "text/html": [
       "<div>\n",
       "<style scoped>\n",
       "    .dataframe tbody tr th:only-of-type {\n",
       "        vertical-align: middle;\n",
       "    }\n",
       "\n",
       "    .dataframe tbody tr th {\n",
       "        vertical-align: top;\n",
       "    }\n",
       "\n",
       "    .dataframe thead th {\n",
       "        text-align: right;\n",
       "    }\n",
       "</style>\n",
       "<table border=\"1\" class=\"dataframe\">\n",
       "  <thead>\n",
       "    <tr style=\"text-align: right;\">\n",
       "      <th></th>\n",
       "      <th>val_force_rmse</th>\n",
       "      <th>val_energy_mae</th>\n",
       "    </tr>\n",
       "  </thead>\n",
       "  <tbody>\n",
       "    <tr>\n",
       "      <th>0</th>\n",
       "      <td>0.479543</td>\n",
       "      <td>0.018704</td>\n",
       "    </tr>\n",
       "    <tr>\n",
       "      <th>1</th>\n",
       "      <td>0.441236</td>\n",
       "      <td>0.010166</td>\n",
       "    </tr>\n",
       "  </tbody>\n",
       "</table>\n",
       "</div>"
      ],
      "text/plain": [
       "   val_force_rmse  val_energy_mae\n",
       "0        0.479543        0.018704\n",
       "1        0.441236        0.010166"
      ]
     },
     "execution_count": 8,
     "metadata": {},
     "output_type": "execute_result"
    }
   ],
   "source": [
    "results"
   ]
  }
 ],
 "metadata": {
  "kernelspec": {
   "display_name": "Python 3 (ipykernel)",
   "language": "python",
   "name": "python3"
  },
  "language_info": {
   "codemirror_mode": {
    "name": "ipython",
    "version": 3
   },
   "file_extension": ".py",
   "mimetype": "text/x-python",
   "name": "python",
   "nbconvert_exporter": "python",
   "pygments_lexer": "ipython3",
   "version": "3.11.0"
  }
 },
 "nbformat": 4,
 "nbformat_minor": 5
}
