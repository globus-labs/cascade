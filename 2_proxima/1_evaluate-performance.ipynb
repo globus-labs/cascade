{
 "cells": [
  {
   "cell_type": "markdown",
   "id": "22c6e2cb-87b9-4c3b-832f-e73005b389f0",
   "metadata": {},
   "source": [
    "# Evaluate Proxima Performance\n",
    "There are a few things we want to watch to see if Proxima is working as intended:\n",
    "1. Is the machine learning model getting used more often?\n",
    "2. Is the machine learning model getting better?"
   ]
  },
  {
   "cell_type": "code",
   "execution_count": 2,
   "id": "3aeb88f7-7ba2-4c6d-a87c-73e105e474cb",
   "metadata": {},
   "outputs": [
    {
     "name": "stderr",
     "output_type": "stream",
     "text": [
      "/home/lward/miniconda3/envs/cascade/lib/python3.11/site-packages/torchani/aev.py:16: UserWarning: cuaev not installed\n",
      "  warnings.warn(\"cuaev not installed\")\n"
     ]
    }
   ],
   "source": [
    "%matplotlib inline\n",
    "from matplotlib import pyplot as plt\n",
    "from cascade.learning.torchani import TorchANI\n",
    "from pathlib import Path\n",
    "from ase.io import read\n",
    "from ase import units\n",
    "import pickle as pkl\n",
    "import pandas as pd\n",
    "import numpy as np\n",
    "import json"
   ]
  },
  {
   "cell_type": "markdown",
   "id": "e9226f9f-3fbd-4ab5-a9bc-a4b397583a56",
   "metadata": {},
   "source": [
    "Configuration"
   ]
  },
  {
   "cell_type": "code",
   "execution_count": 3,
   "id": "bde5fcfd-36e0-4a9e-b620-acd68cbf260b",
   "metadata": {},
   "outputs": [],
   "source": [
    "run_dir = 'runs/si-vacancy-2x2x2-blyp-temp=800.0-method=lda-c0a5d89f/'"
   ]
  },
  {
   "cell_type": "code",
   "execution_count": 4,
   "id": "9f80d271-e981-4655-b299-1a16860abfcc",
   "metadata": {},
   "outputs": [],
   "source": [
    "run_dir = Path(run_dir)\n",
    "params = json.loads((run_dir / 'params.json').read_text())"
   ]
  },
  {
   "cell_type": "markdown",
   "id": "023b2984-5b00-4fd5-a8b1-f6abbac73de9",
   "metadata": {},
   "source": [
    "## Load in run data\n",
    "We are going to look at the log file produced by the run script, which is line-delimited JSON records"
   ]
  },
  {
   "cell_type": "code",
   "execution_count": 10,
   "id": "8449c8e6-894d-4b37-ae2a-c6ef9dcf4b23",
   "metadata": {},
   "outputs": [
    {
     "data": {
      "text/html": [
       "<div>\n",
       "<style scoped>\n",
       "    .dataframe tbody tr th:only-of-type {\n",
       "        vertical-align: middle;\n",
       "    }\n",
       "\n",
       "    .dataframe tbody tr th {\n",
       "        vertical-align: top;\n",
       "    }\n",
       "\n",
       "    .dataframe thead th {\n",
       "        text-align: right;\n",
       "    }\n",
       "</style>\n",
       "<table border=\"1\" class=\"dataframe\">\n",
       "  <thead>\n",
       "    <tr style=\"text-align: right;\">\n",
       "      <th></th>\n",
       "      <th>step_time</th>\n",
       "      <th>energy</th>\n",
       "      <th>maximum_force</th>\n",
       "      <th>stress</th>\n",
       "      <th>temperature</th>\n",
       "      <th>volume</th>\n",
       "      <th>used_surrogate</th>\n",
       "      <th>proxima_alpha</th>\n",
       "      <th>proxima_threshold</th>\n",
       "      <th>last_uncer</th>\n",
       "      <th>last_error</th>\n",
       "      <th>total_invocations</th>\n",
       "      <th>target_invocations</th>\n",
       "      <th>model_version</th>\n",
       "    </tr>\n",
       "  </thead>\n",
       "  <tbody>\n",
       "    <tr>\n",
       "      <th>100</th>\n",
       "      <td>3.679739</td>\n",
       "      <td>-6680.647908</td>\n",
       "      <td>3.022898</td>\n",
       "      <td>[-0.016146015383969002, -0.00045087602253, -0....</td>\n",
       "      <td>978.800998</td>\n",
       "      <td>1321.69757</td>\n",
       "      <td>False</td>\n",
       "      <td>4.826126</td>\n",
       "      <td>0.0</td>\n",
       "      <td>0.188100</td>\n",
       "      <td>0.814866</td>\n",
       "      <td>101</td>\n",
       "      <td>101</td>\n",
       "      <td>1</td>\n",
       "    </tr>\n",
       "    <tr>\n",
       "      <th>101</th>\n",
       "      <td>3.427768</td>\n",
       "      <td>-6680.741121</td>\n",
       "      <td>2.998469</td>\n",
       "      <td>[-0.016139694313627002, -0.000416709711794, -0...</td>\n",
       "      <td>990.936199</td>\n",
       "      <td>1321.69757</td>\n",
       "      <td>False</td>\n",
       "      <td>4.729366</td>\n",
       "      <td>0.0</td>\n",
       "      <td>0.182568</td>\n",
       "      <td>0.826773</td>\n",
       "      <td>102</td>\n",
       "      <td>102</td>\n",
       "      <td>1</td>\n",
       "    </tr>\n",
       "    <tr>\n",
       "      <th>102</th>\n",
       "      <td>3.460254</td>\n",
       "      <td>-6680.796821</td>\n",
       "      <td>2.956999</td>\n",
       "      <td>[-0.016203520531741, -0.000453730959855, -0.00...</td>\n",
       "      <td>1026.824063</td>\n",
       "      <td>1321.69757</td>\n",
       "      <td>False</td>\n",
       "      <td>4.680782</td>\n",
       "      <td>0.0</td>\n",
       "      <td>0.177498</td>\n",
       "      <td>0.859499</td>\n",
       "      <td>103</td>\n",
       "      <td>103</td>\n",
       "      <td>1</td>\n",
       "    </tr>\n",
       "    <tr>\n",
       "      <th>103</th>\n",
       "      <td>3.669056</td>\n",
       "      <td>-6680.813412</td>\n",
       "      <td>2.899020</td>\n",
       "      <td>[-0.016338094452738, -0.0005601364244730001, -...</td>\n",
       "      <td>1042.153404</td>\n",
       "      <td>1321.69757</td>\n",
       "      <td>False</td>\n",
       "      <td>4.722848</td>\n",
       "      <td>0.0</td>\n",
       "      <td>0.170267</td>\n",
       "      <td>0.894145</td>\n",
       "      <td>104</td>\n",
       "      <td>104</td>\n",
       "      <td>1</td>\n",
       "    </tr>\n",
       "    <tr>\n",
       "      <th>104</th>\n",
       "      <td>3.484317</td>\n",
       "      <td>-6680.791924</td>\n",
       "      <td>2.825379</td>\n",
       "      <td>[-0.016540769480814, -0.000731020831502, -0.00...</td>\n",
       "      <td>1044.687981</td>\n",
       "      <td>1321.69757</td>\n",
       "      <td>False</td>\n",
       "      <td>4.781941</td>\n",
       "      <td>0.0</td>\n",
       "      <td>0.170944</td>\n",
       "      <td>0.917507</td>\n",
       "      <td>105</td>\n",
       "      <td>105</td>\n",
       "      <td>1</td>\n",
       "    </tr>\n",
       "  </tbody>\n",
       "</table>\n",
       "</div>"
      ],
      "text/plain": [
       "     step_time       energy  maximum_force  \\\n",
       "100   3.679739 -6680.647908       3.022898   \n",
       "101   3.427768 -6680.741121       2.998469   \n",
       "102   3.460254 -6680.796821       2.956999   \n",
       "103   3.669056 -6680.813412       2.899020   \n",
       "104   3.484317 -6680.791924       2.825379   \n",
       "\n",
       "                                                stress  temperature  \\\n",
       "100  [-0.016146015383969002, -0.00045087602253, -0....   978.800998   \n",
       "101  [-0.016139694313627002, -0.000416709711794, -0...   990.936199   \n",
       "102  [-0.016203520531741, -0.000453730959855, -0.00...  1026.824063   \n",
       "103  [-0.016338094452738, -0.0005601364244730001, -...  1042.153404   \n",
       "104  [-0.016540769480814, -0.000731020831502, -0.00...  1044.687981   \n",
       "\n",
       "         volume  used_surrogate  proxima_alpha  proxima_threshold  last_uncer  \\\n",
       "100  1321.69757           False       4.826126                0.0    0.188100   \n",
       "101  1321.69757           False       4.729366                0.0    0.182568   \n",
       "102  1321.69757           False       4.680782                0.0    0.177498   \n",
       "103  1321.69757           False       4.722848                0.0    0.170267   \n",
       "104  1321.69757           False       4.781941                0.0    0.170944   \n",
       "\n",
       "     last_error  total_invocations  target_invocations  model_version  \n",
       "100    0.814866                101                 101              1  \n",
       "101    0.826773                102                 102              1  \n",
       "102    0.859499                103                 103              1  \n",
       "103    0.894145                104                 104              1  \n",
       "104    0.917507                105                 105              1  "
      ]
     },
     "execution_count": 10,
     "metadata": {},
     "output_type": "execute_result"
    }
   ],
   "source": [
    "data = pd.read_json(run_dir / 'proxima-log.json', lines=True)\n",
    "data.tail()"
   ]
  },
  {
   "cell_type": "markdown",
   "id": "6d9527ce-cadc-4968-8748-18095eca3523",
   "metadata": {},
   "source": [
    "## Sanity Check: Plot Energy and Volume over Time\n",
    "The energy and volume should not change suddenly during the run"
   ]
  },
  {
   "cell_type": "code",
   "execution_count": 11,
   "id": "4ece1619-6c17-4081-934a-c33c9b831d79",
   "metadata": {},
   "outputs": [
    {
     "data": {
      "image/png": "[encoded data removed]",
      "text/plain": [
       "<Figure size 350x270 with 3 Axes>"
      ]
     },
     "metadata": {},
     "output_type": "display_data"
    }
   ],
   "source": [
    "fig, axs = plt.subplots(3, 1, figsize=(3.5, 2.7), sharex=True)\n",
    "\n",
    "ax = axs[0]\n",
    "ax.plot(data.index, data['energy'] - data['energy'].iloc[0], '-o', ms=1)\n",
    "ax.set_ylabel('$\\\\Delta E (eV)$')\n",
    "\n",
    "ax = axs[1]\n",
    "if params.get('ensemble', 'npt') == 'npt':\n",
    "    ax.plot(data.index, data['volume'], '-o', ms=1)\n",
    "    ax.set_ylabel('$V (\\\\AA^3)$')\n",
    "else:\n",
    "    ax.plot(data.index, data['stress'].apply(np.diag).apply(np.sum) * units.GPa * 1000, '-o', ms=1)\n",
    "    ax.set_ylabel('P (MPa)')\n",
    "\n",
    "ax = axs[2]\n",
    "ax.plot(data.index, data['temperature'], '-o', ms=1)\n",
    "ax.set_ylabel('$T (K)$')\n",
    "\n",
    "ax.set_xlim(ax.get_xlim())\n",
    "ax.set_xlabel('Step')\n",
    "\n",
    "fig.tight_layout()"
   ]
  },
  {
   "cell_type": "markdown",
   "id": "10b3ad5b-590f-41a5-b629-73612ab2145a",
   "metadata": {},
   "source": [
    "## Plot the model error\n",
    "The `last_error` column captures the error of the surrogate model the last time the target function was used. So, it is only meaningful on timesteps where `used_surrogate` is false.\n",
    "\n",
    "We want to see the steps at which we use the model become less frequent"
   ]
  },
  {
   "cell_type": "code",
   "execution_count": 12,
   "id": "016553aa-9bea-41b6-8aca-4b5154e237e8",
   "metadata": {},
   "outputs": [],
   "source": [
    "target_ran = data.query('not used_surrogate')"
   ]
  },
  {
   "cell_type": "code",
   "execution_count": 13,
   "id": "5552f30d-8906-466f-9469-3c5745f1f208",
   "metadata": {},
   "outputs": [
    {
     "data": {
      "image/png": "[encoded data removed]",
      "text/plain": [
       "<Figure size 350x210 with 1 Axes>"
      ]
     },
     "metadata": {},
     "output_type": "display_data"
    }
   ],
   "source": [
    "fig, ax = plt.subplots(figsize=(3.5, 2.1))\n",
    "\n",
    "ax.scatter(target_ran.index, target_ran['last_error'], s=4, label='Max Error')\n",
    "ax.set_xlim(ax.get_xlim())\n",
    "ax.semilogy(ax.get_xlim(), [params['target_error']]*2, 'k--', lw=1, label='Target')\n",
    "ax.set_ylim(ax.get_ylim())\n",
    "\n",
    "ax.plot(data.index, data['maximum_force'], ':r', label='$F_{max}$')\n",
    "\n",
    "ax.set_xlabel('Step')\n",
    "ax.set_ylabel('Error')\n",
    "ax.legend(fontsize=8, ncols=3)\n",
    "\n",
    "fig.tight_layout()"
   ]
  },
  {
   "cell_type": "markdown",
   "id": "d20b5f75-7743-4476-afae-b4ea61fefaea",
   "metadata": {},
   "source": [
    "## Plot the Controller Performance\n",
    "The proxima controller updates a threshold ($T$) and a relationship between UQ signal and system error ($\\alpha$) each time the target is ran."
   ]
  },
  {
   "cell_type": "code",
   "execution_count": 9,
   "id": "43f50827-6ebe-4b80-b846-82fc9a01b26d",
   "metadata": {},
   "outputs": [
    {
     "data": {
      "image/png": "[encoded data removed]",
      "text/plain": [
       "<Figure size 350x260 with 2 Axes>"
      ]
     },
     "metadata": {},
     "output_type": "display_data"
    }
   ],
   "source": [
    "fig, axs = plt.subplots(2, 1, figsize=(3.5, 2.6), sharex=True)\n",
    "\n",
    "ax = axs[0]\n",
    "ax.scatter(target_ran.index, target_ran['proxima_threshold'], c='k', s=4, label='Threshold')\n",
    "ax.scatter(target_ran.index, target_ran['last_uncer'], c='r', s=4, label='UQ')\n",
    "ax.set_ylabel('$T$')\n",
    "ax.set_yscale('log')\n",
    "ax.legend(fontsize=6)\n",
    "\n",
    "ax = axs[1]\n",
    "ax.semilogy(target_ran.index, target_ran['proxima_alpha'], 'o', ms=2)\n",
    "ax.set_ylabel('$\\\\alpha$')\n",
    "\n",
    "ax.set_xlim(ax.get_xlim())\n",
    "ax.set_xlabel('Step')\n",
    "\n",
    "fig.tight_layout()"
   ]
  },
  {
   "cell_type": "markdown",
   "id": "370ca155-b4a3-4875-a3cb-792979ac47d2",
   "metadata": {},
   "source": [
    "Plot the relationship between UQ signal and observed error.\n",
    "\n",
    "There should be a positive correlation between them. The controller can work fine without a good correlation, however."
   ]
  },
  {
   "cell_type": "code",
   "execution_count": 9,
   "id": "5c80d80c-1055-4578-9720-5613d1792365",
   "metadata": {},
   "outputs": [],
   "source": [
    "with open(run_dir / 'proxima-state.pkl', 'rb') as fp:\n",
    "    state = pkl.load(fp)"
   ]
  },
  {
   "cell_type": "code",
   "execution_count": 10,
   "id": "631a2620-81fc-441e-bc1d-95d8dff031c6",
   "metadata": {},
   "outputs": [],
   "source": [
    "uq_signal, obs_error = zip(*state['error_history'])"
   ]
  },
  {
   "cell_type": "code",
   "execution_count": 11,
   "id": "f2634b82-12b7-41fd-a6e1-2c2a1c07962a",
   "metadata": {},
   "outputs": [
    {
     "data": {
      "text/plain": [
       "Text(0, 0.5, 'Actual Error')"
      ]
     },
     "execution_count": 11,
     "metadata": {},
     "output_type": "execute_result"
    },
    {
     "data": {
      "image/png": "[encoded data removed]",
      "text/plain": [
       "<Figure size 350x250 with 1 Axes>"
      ]
     },
     "metadata": {},
     "output_type": "display_data"
    }
   ],
   "source": [
    "fig, ax = plt.subplots(figsize=(3.5, 2.5))\n",
    "\n",
    "ax.scatter(uq_signal, obs_error)\n",
    "\n",
    "ax.set_xlabel('UQ Signal')\n",
    "ax.set_ylabel('Actual Error')"
   ]
  },
  {
   "cell_type": "markdown",
   "id": "3e0bd2da-416c-45ef-918b-989111ae258a",
   "metadata": {},
   "source": [
    "## Plot Model Performance\n",
    "See how good the model is compared to the available training data"
   ]
  },
  {
   "cell_type": "code",
   "execution_count": 12,
   "id": "4944af43-9a54-4fea-ab1e-e5a3cc3ec83c",
   "metadata": {},
   "outputs": [
    {
     "ename": "KeyError",
     "evalue": "'models'",
     "output_type": "error",
     "traceback": [
      "\u001b[0;31m---------------------------------------------------------------------------\u001b[0m",
      "\u001b[0;31mKeyError\u001b[0m                                  Traceback (most recent call last)",
      "Cell \u001b[0;32mIn[12], line 1\u001b[0m\n\u001b[0;32m----> 1\u001b[0m models \u001b[38;5;241m=\u001b[39m \u001b[43mstate\u001b[49m\u001b[43m[\u001b[49m\u001b[38;5;124;43m'\u001b[39;49m\u001b[38;5;124;43mmodels\u001b[39;49m\u001b[38;5;124;43m'\u001b[39;49m\u001b[43m]\u001b[49m\n\u001b[1;32m      2\u001b[0m train_logs \u001b[38;5;241m=\u001b[39m state[\u001b[38;5;124m'\u001b[39m\u001b[38;5;124mtrain_logs\u001b[39m\u001b[38;5;124m'\u001b[39m]\n",
      "\u001b[0;31mKeyError\u001b[0m: 'models'"
     ]
    }
   ],
   "source": [
    "models = state['models']\n",
    "train_logs = state['train_logs']"
   ]
  },
  {
   "cell_type": "code",
   "execution_count": null,
   "id": "02cf597a-2462-445b-9ea5-4676254add79",
   "metadata": {},
   "outputs": [],
   "source": [
    "atoms = read(run_dir / 'proxima.db', ':')"
   ]
  },
  {
   "cell_type": "markdown",
   "id": "b62ddf77-1bd3-4760-92d5-473f213a5d61",
   "metadata": {},
   "source": [
    "Run inference"
   ]
  },
  {
   "cell_type": "code",
   "execution_count": null,
   "id": "3e1c7395-3707-4872-a1b1-3248512b4fb0",
   "metadata": {},
   "outputs": [],
   "source": [
    "pred_e, pred_f, pred_s = TorchANI().evaluate(models[1], atoms)"
   ]
  },
  {
   "cell_type": "markdown",
   "id": "5df755d9-396b-446e-82f3-1c56a8324446",
   "metadata": {},
   "source": [
    "Convert energies to per atom above the minimum in meV/atom"
   ]
  },
  {
   "cell_type": "code",
   "execution_count": null,
   "id": "93c64242-c52e-445e-8421-1e819e2895f9",
   "metadata": {},
   "outputs": [],
   "source": [
    "pred_e_pera = np.divide(pred_e, [len(a) for a in atoms])\n",
    "true_e_pera = np.divide([a.get_potential_energy() for a in atoms], [len(a) for a in atoms])"
   ]
  },
  {
   "cell_type": "code",
   "execution_count": null,
   "id": "7211381c-41cb-4926-9880-19dd9c2d6464",
   "metadata": {},
   "outputs": [],
   "source": [
    "pred_e_pera -= true_e_pera.min()\n",
    "true_e_pera -= true_e_pera.min()"
   ]
  },
  {
   "cell_type": "code",
   "execution_count": null,
   "id": "75881a9c-3e5f-4e86-b7c1-fb785e0294a6",
   "metadata": {},
   "outputs": [],
   "source": [
    "for m in [pred_e_pera, true_e_pera]:\n",
    "    m *= 1000."
   ]
  },
  {
   "cell_type": "code",
   "execution_count": null,
   "id": "c2c655c1-8122-444f-867c-fd0f7bb36a45",
   "metadata": {},
   "outputs": [],
   "source": [
    "true_f = [a.get_forces() for a in atoms]"
   ]
  },
  {
   "cell_type": "markdown",
   "id": "a204e666-5a83-4a9f-9052-698bb210591f",
   "metadata": {},
   "source": [
    "Plot comparison"
   ]
  },
  {
   "cell_type": "code",
   "execution_count": null,
   "id": "3057661f-c4ea-42c2-a3d3-d871c18053f2",
   "metadata": {},
   "outputs": [],
   "source": [
    "fig, axs = plt.subplots(1, 3, figsize=(6.4, 2.3))\n",
    "\n",
    "ax = axs[0]\n",
    "ax.scatter(pred_e_pera, true_e_pera, s=2)\n",
    "lim = [\n",
    "    min(pred_e_pera.min(), true_e_pera.min()),\n",
    "    max(pred_e_pera.max(), true_e_pera.max())\n",
    "]\n",
    "ax.set_xlim(lim)\n",
    "ax.set_ylim(lim)\n",
    "ax.plot(ax.get_xlim(), ax.get_xlim(), 'k--', lw=1)\n",
    "\n",
    "r2_score = np.corrcoef(pred_e_pera, true_e_pera)[0, 1]\n",
    "ax.text(0.1, 0.8, f'$R^2$: {r2_score: .2f}', transform=ax.transAxes, fontsize=10)\n",
    "\n",
    "ax.set_title('Energy (meV/atom)', loc='left', fontsize=10)\n",
    "\n",
    "ax = axs[1]\n",
    "ax.scatter(pred_f[-1].flatten(), true_f[-1].flatten(), s=2)\n",
    "ax.set_title('Forces (eV/$\\\\AA$)', loc='left', fontsize=10)\n",
    "\n",
    "ax.set_xlim(ax.get_ylim())\n",
    "ax.set_ylim(ax.get_ylim())\n",
    "ax.plot(ax.get_xlim(), ax.get_xlim(), 'k--', lw=1)\n",
    "\n",
    "rmse = np.sqrt(np.power(pred_f[-1] - true_f[-1], 2).mean())\n",
    "ax.text(0.1, 0.9, f'RMSE: {rmse:.2f}', transform=ax.transAxes, fontsize=10)\n",
    "\n",
    "\n",
    "ax = axs[2]\n",
    "true_s = np.array([a.get_stress(False) for a in atoms])\n",
    "ax.scatter(pred_s.flatten() / units.GPa, true_s.flatten() / units.GPa, s=2)\n",
    "ax.set_title('Stress (GPa)', loc='left', fontsize=10)\n",
    "\n",
    "rmse = np.sqrt(np.power(pred_s - true_s, 2).mean()) / units.GPa\n",
    "ax.text(0.1, 0.9, f'RMSE: {rmse:.2f}', transform=ax.transAxes, fontsize=10)\n",
    "\n",
    "\n",
    "ax.set_xlim(ax.get_ylim())\n",
    "ax.set_ylim(ax.get_ylim())\n",
    "ax.plot(ax.get_xlim(), ax.get_xlim(), 'k--', lw=1)\n",
    "\n",
    "for ax in axs:\n",
    "    ax.set_xlabel('ML')\n",
    "    ax.set_ylabel('DFT')\n",
    "\n",
    "fig.tight_layout()"
   ]
  },
  {
   "cell_type": "markdown",
   "id": "11021830-1045-4383-b231-4d5b6c7c39b2",
   "metadata": {},
   "source": [
    "Plot the training results"
   ]
  },
  {
   "cell_type": "code",
   "execution_count": null,
   "id": "01204c79-f9d8-4332-bf6c-2bfff5fce0c7",
   "metadata": {},
   "outputs": [],
   "source": [
    "fig, axs = plt.subplots(3, 1, figsize=(3.5, 2.), sharex=True)\n",
    "\n",
    "log = train_logs[0]\n",
    "for ax, tag, letter in zip(axs, ['F', 'E', '\\\\sigma'], ['f', 'e', 's']):\n",
    "    ax.plot(log['iteration'], log[f'{letter}_rmse_valid'])\n",
    "    ax.set_ylabel(f'Loss, ${tag}$')\n",
    "    \n",
    "#axs[-1].set_ylabel('Loss')\n",
    "axs[-1].set_xlabel('Epoch')"
   ]
  },
  {
   "cell_type": "code",
   "execution_count": null,
   "id": "7771fe56-d693-466e-ab68-20539eb5245d",
   "metadata": {},
   "outputs": [],
   "source": []
  },
  {
   "cell_type": "code",
   "execution_count": null,
   "id": "9d6d7d4d-1f95-45f7-a677-e41e3012adb7",
   "metadata": {},
   "outputs": [],
   "source": []
  }
 ],
 "metadata": {
  "kernelspec": {
   "display_name": "Python 3 (ipykernel)",
   "language": "python",
   "name": "python3"
  },
  "language_info": {
   "codemirror_mode": {
    "name": "ipython",
    "version": 3
   },
   "file_extension": ".py",
   "mimetype": "text/x-python",
   "name": "python",
   "nbconvert_exporter": "python",
   "pygments_lexer": "ipython3",
   "version": "3.11.0"
  }
 },
 "nbformat": 4,
 "nbformat_minor": 5
}
