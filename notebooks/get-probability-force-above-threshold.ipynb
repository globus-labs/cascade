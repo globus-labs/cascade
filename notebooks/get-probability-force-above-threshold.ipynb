{
 "cells": [
  {
   "cell_type": "markdown",
   "id": "6f7dd9d7-3f75-4b49-8083-f8f76f403ace",
   "metadata": {},
   "source": [
    "# Estimating Covariance Matrix of Force Distribution\n",
    "We're trying to compute the probability that the uncertainty in any forces is above a certain threshold.\n",
    "What we have is the distribution of forces predicted for each atom in each frame from several different models.\n",
    "\n",
    "The first assumption is that the variance in forces between models is related to the expected error between the model and the process it is predicting.\n",
    "Variances between models beyond a certain threshold indicate a high chance for error\n",
    "\n",
    "The complicating element is that each component of each force is cross-correlated with the components of force. \n",
    "Some forces are strongly related, like those of atoms with the similar bonding environments,\n",
    "and others are not.\n",
    "We must address this cross-correlation by creating a multi-variate distribution of forces.\n",
    "\n",
    "Our target is to make a multi-variate normal distribution.\n",
    "For that, we need a covariance matrix between each component of force between each atom in each frame"
   ]
  },
  {
   "cell_type": "code",
   "execution_count": 1,
   "id": "37c0a82c-0e94-4c7e-98b4-5161b023ec4f",
   "metadata": {},
   "outputs": [],
   "source": [
    "from scipy.stats import multivariate_normal\n",
    "import numpy as np"
   ]
  },
  {
   "cell_type": "markdown",
   "id": "a2a137e7-9839-4e01-a2f5-f5a2d4cbfb53",
   "metadata": {},
   "source": [
    "Config"
   ]
  },
  {
   "cell_type": "code",
   "execution_count": 2,
   "id": "47f3df9f-9709-4f5a-a4c3-e5f0f7f79075",
   "metadata": {},
   "outputs": [],
   "source": [
    "num_frames = 7  # Number of frames in the trajectory\n",
    "num_models = 5  # Number of models in our ensemble\n",
    "num_atoms = 2  # Number of atoms in our simulation cell"
   ]
  },
  {
   "cell_type": "markdown",
   "id": "e2c31a09-1ebd-4bd6-af9d-4d7782864b9a",
   "metadata": {},
   "source": [
    "Let's start with an example random matrix"
   ]
  },
  {
   "cell_type": "code",
   "execution_count": 3,
   "id": "7e4d67dc-313d-4579-a3e8-62645146848f",
   "metadata": {},
   "outputs": [],
   "source": [
    "force_preds = np.random.normal(size=(num_models, num_frames, num_atoms, 3))"
   ]
  },
  {
   "cell_type": "markdown",
   "id": "25f3d120-dcc9-4006-aefa-3aafa7a7d078",
   "metadata": {},
   "source": [
    "Before we go further, let's reduce the dimensionality. We don't actually care if atoms are from the same frame or not, so let's collapse the matrix from \n",
    "(models, frames, atoms, 3) to (models, frames * atoms, 3)"
   ]
  },
  {
   "cell_type": "code",
   "execution_count": 4,
   "id": "5576e9ab-d7e6-49c5-b426-6fee891e5e93",
   "metadata": {},
   "outputs": [
    {
     "data": {
      "text/plain": [
       "(5, 14, 3)"
      ]
     },
     "execution_count": 4,
     "metadata": {},
     "output_type": "execute_result"
    }
   ],
   "source": [
    "force_preds = np.reshape(force_preds, (num_models, num_frames * num_atoms, 3))\n",
    "force_preds.shape"
   ]
  },
  {
   "cell_type": "markdown",
   "id": "ce83d980-fadc-4c82-9e7d-ba3acc6190d9",
   "metadata": {},
   "source": [
    "The next thing we need is a covariance between each of these. [Numpy's covariance function ](https://numpy.org/doc/stable/reference/generated/numpy.cov.html) only works with 2D matrices, where rows are different variables (here forces in specific directions) and columns are observations (different models)"
   ]
  },
  {
   "cell_type": "code",
   "execution_count": 5,
   "id": "b1312317-12ae-4cd0-a109-e75722735860",
   "metadata": {},
   "outputs": [
    {
     "data": {
      "text/plain": [
       "(5, 42)"
      ]
     },
     "execution_count": 5,
     "metadata": {},
     "output_type": "execute_result"
    }
   ],
   "source": [
    "force_preds_flat = np.reshape(force_preds, (num_models, num_frames * num_atoms * 3))\n",
    "force_preds_flat.shape"
   ]
  },
  {
   "cell_type": "code",
   "execution_count": 6,
   "id": "f731d1d9-241d-4cb0-bf54-99a5a85c2366",
   "metadata": {},
   "outputs": [
    {
     "data": {
      "text/plain": [
       "(42, 42)"
      ]
     },
     "execution_count": 6,
     "metadata": {},
     "output_type": "execute_result"
    }
   ],
   "source": [
    "force_cov = np.cov(force_preds_flat.T)\n",
    "force_cov.shape"
   ]
  },
  {
   "cell_type": "markdown",
   "id": "67d0c62a-d72c-482e-9910-31dfd6897a5c",
   "metadata": {},
   "source": [
    "> Note: This matrix is arranged where the indices go (frame_0_atom_0_force_x, frame_0_atom_0_force_y, ..., frame_0_atom_1_force_x, ..., frame_1_atom_0_force_x)\n",
    "\n",
    "Now that we have the covariance matrix, we can make the normal distribution"
   ]
  },
  {
   "cell_type": "code",
   "execution_count": 7,
   "id": "10a4625a-40a6-4199-80a2-5ed6c70e318b",
   "metadata": {},
   "outputs": [],
   "source": [
    "force_err_dist = multivariate_normal(cov=force_cov, allow_singular=True)"
   ]
  },
  {
   "cell_type": "markdown",
   "id": "e35f5519-9db7-475c-9973-57d1f83dd7c0",
   "metadata": {},
   "source": [
    "This distribution allows us to sample an expected variance for all components of force for all atoms, \n",
    "which represent (by our assumption that ensemeble variance is related to model error) samples from a distribution of expected errors between the model."
   ]
  },
  {
   "cell_type": "code",
   "execution_count": 8,
   "id": "72695d85-4b4c-4fe8-809c-cce8c6c13c27",
   "metadata": {},
   "outputs": [
    {
     "data": {
      "text/plain": [
       "(100, 42)"
      ]
     },
     "execution_count": 8,
     "metadata": {},
     "output_type": "execute_result"
    }
   ],
   "source": [
    "force_var_samples_flat = force_err_dist.rvs(100)\n",
    "force_var_samples_flat.shape"
   ]
  },
  {
   "cell_type": "markdown",
   "id": "ae5ce537-e69c-41ef-aa4b-2b763560c5cf",
   "metadata": {},
   "source": [
    "We can determine the magnitude of expected error for the force on each atom by restoring the (n_atoms, 3) structure from the original data"
   ]
  },
  {
   "cell_type": "code",
   "execution_count": 9,
   "id": "8482cdb0-3add-4cf2-bbbe-fc012dcaa94e",
   "metadata": {},
   "outputs": [
    {
     "data": {
      "text/plain": [
       "(100, 14, 3)"
      ]
     },
     "execution_count": 9,
     "metadata": {},
     "output_type": "execute_result"
    }
   ],
   "source": [
    "force_var_samples = np.reshape(force_var_samples_flat, (-1, num_atoms * num_frames, 3))\n",
    "force_var_samples.shape"
   ]
  },
  {
   "cell_type": "code",
   "execution_count": 10,
   "id": "af03bc4c-8241-4bf0-ada5-081c2b40cbe0",
   "metadata": {},
   "outputs": [
    {
     "data": {
      "text/plain": [
       "(100, 14)"
      ]
     },
     "execution_count": 10,
     "metadata": {},
     "output_type": "execute_result"
    }
   ],
   "source": [
    "force_var_samples_mag = np.linalg.norm(force_var_samples, axis=-1)\n",
    "force_var_samples_mag.shape"
   ]
  },
  {
   "cell_type": "markdown",
   "id": "48a90ced-6ef5-4af8-83de-82a208e12c9d",
   "metadata": {},
   "source": [
    "Then we can do tests"
   ]
  },
  {
   "cell_type": "code",
   "execution_count": 11,
   "id": "4b3daebd-08b7-4a80-ae03-230ba494bc0b",
   "metadata": {},
   "outputs": [
    {
     "name": "stdout",
     "output_type": "stream",
     "text": [
      "Probability that any atom is above the threshold: 0.8033333333333333\n"
     ]
    }
   ],
   "source": [
    "any_above_thr = (force_var_samples > 1).any(axis=1).mean()\n",
    "print(f'Probability that any atom is above the threshold: {any_above_thr}')"
   ]
  },
  {
   "cell_type": "code",
   "execution_count": null,
   "id": "366200ea-81f1-49ae-aafc-f4bf882deed1",
   "metadata": {},
   "outputs": [],
   "source": []
  }
 ],
 "metadata": {
  "kernelspec": {
   "display_name": "Python 3 (ipykernel)",
   "language": "python",
   "name": "python3"
  },
  "language_info": {
   "codemirror_mode": {
    "name": "ipython",
    "version": 3
   },
   "file_extension": ".py",
   "mimetype": "text/x-python",
   "name": "python",
   "nbconvert_exporter": "python",
   "pygments_lexer": "ipython3",
   "version": "3.11.0"
  }
 },
 "nbformat": 4,
 "nbformat_minor": 5
}
