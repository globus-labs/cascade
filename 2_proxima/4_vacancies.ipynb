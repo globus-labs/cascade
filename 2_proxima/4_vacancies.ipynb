{
 "cells": [
  {
   "cell_type": "markdown",
   "id": "1a586653-5013-4007-b728-a35060f60f2c",
   "metadata": {},
   "source": [
    "# Vacancy analysis\n",
    "\n",
    "We want to estimate the rate of vacancy hopping, to use this as a way to\n",
    "1. sanity check what is happening in the proxima \"no diffusion case\"\n",
    "2. double-check our MSD-based diffusivity calculations\n",
    "3. check that the vacancy hops follow the expected distribution, sanity checking our science in general"
   ]
  },
  {
   "cell_type": "code",
   "execution_count": 1,
   "id": "c4fdbb44-bdf6-4c1e-ab4f-990ef68d5a7c",
   "metadata": {},
   "outputs": [],
   "source": [
    "from pathlib import Path\n",
    "import json\n",
    "import matplotlib.pyplot as plt\n",
    "\n",
    "import numpy as np\n",
    "import pandas as pd\n",
    "from ase.io import read"
   ]
  },
  {
   "cell_type": "markdown",
   "id": "a70803c8-06ee-47f7-aff1-77bc36c7b2e9",
   "metadata": {},
   "source": [
    "## Reading the data\n",
    "\n",
    "we'll start with a full dft trajectory"
   ]
  },
  {
   "cell_type": "code",
   "execution_count": 2,
   "id": "0a157cff-bd86-4bda-a6b1-5878aaad74c7",
   "metadata": {},
   "outputs": [],
   "source": [
    "path = Path('runs/nvt-fixed-temp/si-vacancy-2x2x2-temp=1573.0-method=lda-blend=0-01bd9480/')"
   ]
  },
  {
   "cell_type": "code",
   "execution_count": 3,
   "id": "bc7e43b0-b43a-42d7-985f-9423e7e866c5",
   "metadata": {},
   "outputs": [
    {
     "data": {
      "text/plain": [
       "True"
      ]
     },
     "execution_count": 3,
     "metadata": {},
     "output_type": "execute_result"
    }
   ],
   "source": [
    "with open(path/'params.json') as f: \n",
    "    params = json.load(f)\n",
    "params['min_target_frac'] == 1 # shows us this is a DFT-only run"
   ]
  },
  {
   "cell_type": "code",
   "execution_count": 4,
   "id": "cc75d691-d517-4492-89f6-10c04c84f18a",
   "metadata": {},
   "outputs": [],
   "source": [
    "traj = read(path/'md.traj', index=':')"
   ]
  },
  {
   "cell_type": "code",
   "execution_count": 5,
   "id": "b69a8f9e-3869-45a8-ae5c-e1274453548e",
   "metadata": {},
   "outputs": [
    {
     "data": {
      "text/plain": [
       "40001"
      ]
     },
     "execution_count": 5,
     "metadata": {},
     "output_type": "execute_result"
    }
   ],
   "source": [
    "len(traj)"
   ]
  },
  {
   "cell_type": "code",
   "execution_count": 6,
   "id": "b92e8c37-9c7c-43a0-a35c-cb5d13e10cd6",
   "metadata": {},
   "outputs": [],
   "source": [
    "atoms = traj[0]"
   ]
  },
  {
   "cell_type": "markdown",
   "id": "33dda723-c3e4-4554-a3ea-d551d93c2060",
   "metadata": {},
   "source": [
    "## Testing the vacancy estimation"
   ]
  },
  {
   "cell_type": "markdown",
   "id": "ecb8a164-803d-4331-b53c-902e8134f4ff",
   "metadata": {},
   "source": [
    "First we get all of the minimum image distances"
   ]
  },
  {
   "cell_type": "code",
   "execution_count": 7,
   "id": "b087e59c-c025-4827-9676-b54bee548352",
   "metadata": {},
   "outputs": [],
   "source": [
    "D = atoms.get_all_distances(mic=True)"
   ]
  },
  {
   "cell_type": "code",
   "execution_count": 8,
   "id": "62d7743e-d3fe-4131-a37f-10175b207c42",
   "metadata": {},
   "outputs": [
    {
     "data": {
      "text/plain": [
       "Text(0, 0.5, 'count')"
      ]
     },
     "execution_count": 8,
     "metadata": {},
     "output_type": "execute_result"
    },
    {
     "data": {
      "image/png": "[encoded data removed]",
      "text/plain": [
       "<Figure size 640x480 with 1 Axes>"
      ]
     },
     "metadata": {},
     "output_type": "display_data"
    }
   ],
   "source": [
    "plt.hist(D.ravel());\n",
    "plt.plot(D.ravel(), [0.1]* len(D.ravel()), '|', color='k');\n",
    "plt.xlabel('$R_{ij}$ ($\\AA$)')\n",
    "plt.ylabel('count')"
   ]
  },
  {
   "cell_type": "markdown",
   "id": "70927a85-6f34-4fbf-9454-b5f4292d2a83",
   "metadata": {},
   "source": [
    "The first bin is the self distances (zero), the second bin is likely the covalently bonded Si atoms, lets see what happens if we take a cutoff just above that"
   ]
  },
  {
   "cell_type": "code",
   "execution_count": 9,
   "id": "02ef4779-fbc7-4a87-9786-a7ed973ed337",
   "metadata": {},
   "outputs": [],
   "source": [
    "r_cut = 3"
   ]
  },
  {
   "cell_type": "markdown",
   "id": "bd1c1c35-d0a4-4cfe-806a-b8e3a82c7998",
   "metadata": {},
   "source": [
    "And then find the number of neighbors"
   ]
  },
  {
   "cell_type": "code",
   "execution_count": 10,
   "id": "4f053867-2a8b-4cfb-990e-429fe1d04202",
   "metadata": {},
   "outputs": [
    {
     "data": {
      "text/plain": [
       "4    59\n",
       "3     4\n",
       "Name: count, dtype: int64"
      ]
     },
     "execution_count": 10,
     "metadata": {},
     "output_type": "execute_result"
    }
   ],
   "source": [
    "nn = (D < r_cut).sum(1) - 1 # subtract 1 for self distances\n",
    "pd.Series(nn).value_counts()"
   ]
  },
  {
   "cell_type": "markdown",
   "id": "f6ae8fc8-05a7-4daf-a37e-c7db4852a6fb",
   "metadata": {},
   "source": [
    "So 59 of the atoms have 4 neighbors and 4 of them (those near the vacancy) have 3 neighbors. This seems reasonable. "
   ]
  },
  {
   "cell_type": "markdown",
   "id": "97eba951-8e43-453c-9194-f062c8aea08e",
   "metadata": {},
   "source": [
    "Heres the n neighbors counts: "
   ]
  },
  {
   "cell_type": "code",
   "execution_count": 11,
   "id": "6ac8bc29-c851-4125-956c-84d11cc65235",
   "metadata": {},
   "outputs": [
    {
     "data": {
      "text/plain": [
       "array([3, 4, 4, 4, 4, 4, 4, 4, 4, 4, 4, 4, 4, 4, 4, 4, 4, 4, 4, 4, 4, 4,\n",
       "       4, 4, 4, 4, 3, 4, 4, 4, 4, 4, 4, 4, 4, 4, 4, 4, 4, 4, 4, 4, 4, 4,\n",
       "       3, 4, 4, 4, 4, 4, 4, 4, 4, 4, 3, 4, 4, 4, 4, 4, 4, 4, 4])"
      ]
     },
     "execution_count": 11,
     "metadata": {},
     "output_type": "execute_result"
    }
   ],
   "source": [
    "nn"
   ]
  },
  {
   "cell_type": "code",
   "execution_count": null,
   "id": "8f04c5ae-f834-4987-897f-3b7b6a0ec373",
   "metadata": {},
   "outputs": [],
   "source": []
  }
 ],
 "metadata": {
  "kernelspec": {
   "display_name": "Python 3 (ipykernel)",
   "language": "python",
   "name": "python3"
  },
  "language_info": {
   "codemirror_mode": {
    "name": "ipython",
    "version": 3
   },
   "file_extension": ".py",
   "mimetype": "text/x-python",
   "name": "python",
   "nbconvert_exporter": "python",
   "pygments_lexer": "ipython3",
   "version": "3.11.0"
  }
 },
 "nbformat": 4,
 "nbformat_minor": 5
}
