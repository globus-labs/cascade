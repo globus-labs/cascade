{
 "cells": [
  {
   "cell_type": "markdown",
   "id": "5c7f5817-e0e6-4a51-baa7-17c783b52dac",
   "metadata": {},
   "source": [
    "# Determine Whether an MD Trajectory Has Reached Equilibrium\n",
    "The starting structure for our molecules are very far from equilibrium. \n",
    "This notebook checks whether the volume and energy of the structure have equilibrated by reading the output"
   ]
  },
  {
   "cell_type": "code",
   "execution_count": null,
   "id": "4171b257-5e24-427f-9099-3686e6ebcdf4",
   "metadata": {},
   "outputs": [],
   "source": [
    "%matplotlib inline\n",
    "from matplotlib import pyplot as plt\n",
    "from pathlib import Path\n",
    "from ase.io import read\n",
    "from ase import units"
   ]
  },
  {
   "cell_type": "markdown",
   "id": "a4555c09-0fb9-48cb-bf2a-c70fa61c39a8",
   "metadata": {},
   "source": [
    "Configuration"
   ]
  },
  {
   "cell_type": "code",
   "execution_count": null,
   "id": "b6422782-45de-4c18-9281-93de2ea766c7",
   "metadata": {},
   "outputs": [],
   "source": [
    "traj_path = Path('md/packmol-CH4-in-H2O=32-seed=129-blyp-npt=298/md.traj')"
   ]
  },
  {
   "cell_type": "markdown",
   "id": "2bdbb121-a954-46b0-9102-3e5f80017b8b",
   "metadata": {},
   "source": [
    "## Read the Trajoectory\n",
    "Load in the data"
   ]
  },
  {
   "cell_type": "code",
   "execution_count": null,
   "id": "bdaaf8fb-1044-4e7e-ad99-fb4fc4cf8d88",
   "metadata": {},
   "outputs": [],
   "source": [
    "traj = read(str(traj_path), slice(None))\n",
    "print(f'Loaded {len(traj)} structures')"
   ]
  },
  {
   "cell_type": "markdown",
   "id": "d3d593c3-f039-4095-914e-6cea37498e82",
   "metadata": {},
   "source": [
    "## Plot the Volume and Energy\n",
    "See if they are anywhere close to equilibrating"
   ]
  },
  {
   "cell_type": "markdown",
   "id": "535f9a50-c7b4-466f-b6af-c8ef14df70b8",
   "metadata": {},
   "source": [
    "Compute the density"
   ]
  },
  {
   "cell_type": "code",
   "execution_count": null,
   "id": "a3dbbaea-325c-4b6e-8328-be09f1096873",
   "metadata": {},
   "outputs": [],
   "source": [
    "density = [a.get_masses().sum() / a.get_volume() * units.m ** 3 / units.kg / 1000 for a in traj]"
   ]
  },
  {
   "cell_type": "markdown",
   "id": "1f3c2c33-2fd4-40fc-9ee1-153d62373916",
   "metadata": {},
   "source": [
    "Plot the changes"
   ]
  },
  {
   "cell_type": "code",
   "execution_count": null,
   "id": "c5b49d46-e6a0-472e-9772-91ac7d991b96",
   "metadata": {},
   "outputs": [],
   "source": [
    "fig, axs = plt.subplots(3, 1, figsize=(3.5, 4.1), sharex=True)\n",
    "\n",
    "axs[0].plot(density)\n",
    "axs[0].set_ylabel('$\\\\rho$ (g/cc)')\n",
    "\n",
    "axs[1].plot([(a.get_potential_energy() - traj[-1].get_potential_energy()) / len(a) for a in traj])\n",
    "axs[1].set_ylabel('$U$ (eV/atom)')\n",
    "\n",
    "axs[2].plot([a.get_temperature() for a in traj])\n",
    "axs[2].set_ylabel('T (K)')\n",
    "\n",
    "axs[-1].set_xlabel('Timestep')"
   ]
  },
  {
   "cell_type": "code",
   "execution_count": null,
   "id": "32235942-72a4-49a3-b852-37cffd436aaa",
   "metadata": {},
   "outputs": [],
   "source": []
  }
 ],
 "metadata": {
  "kernelspec": {
   "display_name": "Python 3 (ipykernel)",
   "language": "python",
   "name": "python3"
  },
  "language_info": {
   "codemirror_mode": {
    "name": "ipython",
    "version": 3
   },
   "file_extension": ".py",
   "mimetype": "text/x-python",
   "name": "python",
   "nbconvert_exporter": "python",
   "pygments_lexer": "ipython3",
   "version": "3.11.0"
  }
 },
 "nbformat": 4,
 "nbformat_minor": 5
}
