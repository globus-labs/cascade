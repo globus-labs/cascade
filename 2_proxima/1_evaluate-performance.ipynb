{
 "cells": [
  {
   "cell_type": "markdown",
   "id": "22c6e2cb-87b9-4c3b-832f-e73005b389f0",
   "metadata": {},
   "source": [
    "# Evaluate Proxima Performance\n",
    "There are a few things we want to watch to see if Proxima is working as intended:\n",
    "1. Is the machine learning model getting used more often?\n",
    "2. Is the machine learning model getting better?"
   ]
  },
  {
   "cell_type": "code",
   "execution_count": 1,
   "id": "3aeb88f7-7ba2-4c6d-a87c-73e105e474cb",
   "metadata": {},
   "outputs": [],
   "source": [
    "%matplotlib inline\n",
    "from matplotlib import pyplot as plt\n",
    "from pathlib import Path\n",
    "import pandas as pd\n",
    "import json"
   ]
  },
  {
   "cell_type": "markdown",
   "id": "e9226f9f-3fbd-4ab5-a9bc-a4b397583a56",
   "metadata": {},
   "source": [
    "Configuration"
   ]
  },
  {
   "cell_type": "code",
   "execution_count": 2,
   "id": "bde5fcfd-36e0-4a9e-b620-acd68cbf260b",
   "metadata": {},
   "outputs": [],
   "source": [
    "run_dir: str = './runs/si-vacancy-2x2x2-blyp-temp=800.0-method=blyp-d54148b7/'"
   ]
  },
  {
   "cell_type": "code",
   "execution_count": 3,
   "id": "9f80d271-e981-4655-b299-1a16860abfcc",
   "metadata": {},
   "outputs": [],
   "source": [
    "run_dir = Path(run_dir)\n",
    "params = json.loads((run_dir / 'params.json').read_text())"
   ]
  },
  {
   "cell_type": "markdown",
   "id": "023b2984-5b00-4fd5-a8b1-f6abbac73de9",
   "metadata": {},
   "source": [
    "## Load in run data\n",
    "We are going to look at the log file produced by the run script, which is line-delimited JSON records"
   ]
  },
  {
   "cell_type": "code",
   "execution_count": 4,
   "id": "8449c8e6-894d-4b37-ae2a-c6ef9dcf4b23",
   "metadata": {},
   "outputs": [
    {
     "data": {
      "text/html": [
       "<div>\n",
       "<style scoped>\n",
       "    .dataframe tbody tr th:only-of-type {\n",
       "        vertical-align: middle;\n",
       "    }\n",
       "\n",
       "    .dataframe tbody tr th {\n",
       "        vertical-align: top;\n",
       "    }\n",
       "\n",
       "    .dataframe thead th {\n",
       "        text-align: right;\n",
       "    }\n",
       "</style>\n",
       "<table border=\"1\" class=\"dataframe\">\n",
       "  <thead>\n",
       "    <tr style=\"text-align: right;\">\n",
       "      <th></th>\n",
       "      <th>step_time</th>\n",
       "      <th>energy</th>\n",
       "      <th>maximum_force</th>\n",
       "      <th>stress</th>\n",
       "      <th>temperature</th>\n",
       "      <th>volume</th>\n",
       "      <th>used_surrogate</th>\n",
       "      <th>proxima_alpha</th>\n",
       "      <th>proxima_threshold</th>\n",
       "      <th>last_uncer</th>\n",
       "      <th>last_error</th>\n",
       "    </tr>\n",
       "  </thead>\n",
       "  <tbody>\n",
       "    <tr>\n",
       "      <th>5</th>\n",
       "      <td>54.647321</td>\n",
       "      <td>-6687.088334</td>\n",
       "      <td>1.130646</td>\n",
       "      <td>[-0.001391099826609, -0.000513442775499, -0.00...</td>\n",
       "      <td>585.106654</td>\n",
       "      <td>1323.325206</td>\n",
       "      <td>False</td>\n",
       "      <td>17.941083</td>\n",
       "      <td>0.0</td>\n",
       "      <td>0.042230</td>\n",
       "      <td>1.106796</td>\n",
       "    </tr>\n",
       "    <tr>\n",
       "      <th>6</th>\n",
       "      <td>54.618786</td>\n",
       "      <td>-6686.876616</td>\n",
       "      <td>1.337029</td>\n",
       "      <td>[-0.0017635049355050002, -0.000697222438393, -...</td>\n",
       "      <td>558.390523</td>\n",
       "      <td>1323.664675</td>\n",
       "      <td>False</td>\n",
       "      <td>22.168878</td>\n",
       "      <td>0.0</td>\n",
       "      <td>0.044519</td>\n",
       "      <td>1.308866</td>\n",
       "    </tr>\n",
       "    <tr>\n",
       "      <th>7</th>\n",
       "      <td>53.818875</td>\n",
       "      <td>-6686.639136</td>\n",
       "      <td>1.536311</td>\n",
       "      <td>[-0.002175426721098, -0.0009192779159860001, -...</td>\n",
       "      <td>528.533855</td>\n",
       "      <td>1324.018043</td>\n",
       "      <td>False</td>\n",
       "      <td>25.862943</td>\n",
       "      <td>0.0</td>\n",
       "      <td>0.046706</td>\n",
       "      <td>1.504121</td>\n",
       "    </tr>\n",
       "    <tr>\n",
       "      <th>8</th>\n",
       "      <td>66.265617</td>\n",
       "      <td>-6686.381634</td>\n",
       "      <td>1.726512</td>\n",
       "      <td>[-0.0026160756482300003, -0.001170145283157, -...</td>\n",
       "      <td>496.247887</td>\n",
       "      <td>1324.387924</td>\n",
       "      <td>False</td>\n",
       "      <td>25.651226</td>\n",
       "      <td>0.0</td>\n",
       "      <td>0.223154</td>\n",
       "      <td>1.581477</td>\n",
       "    </tr>\n",
       "    <tr>\n",
       "      <th>9</th>\n",
       "      <td>57.983395</td>\n",
       "      <td>-6686.110290</td>\n",
       "      <td>1.905514</td>\n",
       "      <td>[-0.003073981341508, -0.0014396146467390001, -...</td>\n",
       "      <td>462.295150</td>\n",
       "      <td>1324.776244</td>\n",
       "      <td>False</td>\n",
       "      <td>21.336966</td>\n",
       "      <td>0.0</td>\n",
       "      <td>0.243473</td>\n",
       "      <td>1.744348</td>\n",
       "    </tr>\n",
       "  </tbody>\n",
       "</table>\n",
       "</div>"
      ],
      "text/plain": [
       "   step_time       energy  maximum_force  \\\n",
       "5  54.647321 -6687.088334       1.130646   \n",
       "6  54.618786 -6686.876616       1.337029   \n",
       "7  53.818875 -6686.639136       1.536311   \n",
       "8  66.265617 -6686.381634       1.726512   \n",
       "9  57.983395 -6686.110290       1.905514   \n",
       "\n",
       "                                              stress  temperature  \\\n",
       "5  [-0.001391099826609, -0.000513442775499, -0.00...   585.106654   \n",
       "6  [-0.0017635049355050002, -0.000697222438393, -...   558.390523   \n",
       "7  [-0.002175426721098, -0.0009192779159860001, -...   528.533855   \n",
       "8  [-0.0026160756482300003, -0.001170145283157, -...   496.247887   \n",
       "9  [-0.003073981341508, -0.0014396146467390001, -...   462.295150   \n",
       "\n",
       "        volume  used_surrogate  proxima_alpha  proxima_threshold  last_uncer  \\\n",
       "5  1323.325206           False      17.941083                0.0    0.042230   \n",
       "6  1323.664675           False      22.168878                0.0    0.044519   \n",
       "7  1324.018043           False      25.862943                0.0    0.046706   \n",
       "8  1324.387924           False      25.651226                0.0    0.223154   \n",
       "9  1324.776244           False      21.336966                0.0    0.243473   \n",
       "\n",
       "   last_error  \n",
       "5    1.106796  \n",
       "6    1.308866  \n",
       "7    1.504121  \n",
       "8    1.581477  \n",
       "9    1.744348  "
      ]
     },
     "execution_count": 4,
     "metadata": {},
     "output_type": "execute_result"
    }
   ],
   "source": [
    "data = pd.read_json(run_dir / 'proxima-log.json', lines=True)\n",
    "data.tail()"
   ]
  },
  {
   "cell_type": "markdown",
   "id": "6d9527ce-cadc-4968-8748-18095eca3523",
   "metadata": {},
   "source": [
    "## Sanity Check: Plot Energy and Volume over Time\n",
    "The energy and volume should not change suddenly during the run"
   ]
  },
  {
   "cell_type": "code",
   "execution_count": 5,
   "id": "4ece1619-6c17-4081-934a-c33c9b831d79",
   "metadata": {},
   "outputs": [
    {
     "data": {
      "image/png": "[encoded data removed]",
      "text/plain": [
       "<Figure size 350x260 with 2 Axes>"
      ]
     },
     "metadata": {},
     "output_type": "display_data"
    }
   ],
   "source": [
    "fig, axs = plt.subplots(2, 1, figsize=(3.5, 2.6), sharex=True)\n",
    "\n",
    "ax = axs[0]\n",
    "ax.plot(data.index, data['energy'] - data['energy'].iloc[0], '-')\n",
    "ax.set_ylabel('$\\\\Delta E (eV)$')\n",
    "\n",
    "ax = axs[1]\n",
    "ax.plot(data.index, data['volume'], '-')\n",
    "ax.set_ylabel('$V (\\\\AA^3)$')\n",
    "\n",
    "ax.set_xlim(ax.get_xlim())\n",
    "ax.set_xlabel('Step')\n",
    "\n",
    "fig.tight_layout()"
   ]
  },
  {
   "cell_type": "markdown",
   "id": "10b3ad5b-590f-41a5-b629-73612ab2145a",
   "metadata": {},
   "source": [
    "## Plot the model error\n",
    "The `last_error` column captures the error of the surrogate model the last time the target function was used. So, it is only meaningful on timesteps where `used_surrogate` is false.\n",
    "\n",
    "We want to see the steps at which we use the model become less frequent"
   ]
  },
  {
   "cell_type": "code",
   "execution_count": 6,
   "id": "016553aa-9bea-41b6-8aca-4b5154e237e8",
   "metadata": {},
   "outputs": [],
   "source": [
    "target_ran = data.query('not used_surrogate')"
   ]
  },
  {
   "cell_type": "code",
   "execution_count": 7,
   "id": "5552f30d-8906-466f-9469-3c5745f1f208",
   "metadata": {},
   "outputs": [
    {
     "data": {
      "image/png": "[encoded data removed]",
      "text/plain": [
       "<Figure size 350x210 with 1 Axes>"
      ]
     },
     "metadata": {},
     "output_type": "display_data"
    }
   ],
   "source": [
    "fig, ax = plt.subplots(figsize=(3.5, 2.1))\n",
    "\n",
    "ax.scatter(target_ran.index, target_ran['last_error'], s=4)\n",
    "ax.set_xlim(ax.get_xlim())\n",
    "ax.plot(ax.get_xlim(), [params['target_error']]*2, 'k--', lw=1)\n",
    "\n",
    "ax.set_xlabel('Step')\n",
    "ax.set_ylabel('Error')\n",
    "\n",
    "fig.tight_layout()"
   ]
  },
  {
   "cell_type": "markdown",
   "id": "d20b5f75-7743-4476-afae-b4ea61fefaea",
   "metadata": {},
   "source": [
    "## Plot the Controller Performance\n",
    "The proxima controller updates a threshold ($T$) and a relationship between UQ signal and system error ($\\alpha$) each time the target is ran."
   ]
  },
  {
   "cell_type": "code",
   "execution_count": 8,
   "id": "43f50827-6ebe-4b80-b846-82fc9a01b26d",
   "metadata": {},
   "outputs": [
    {
     "data": {
      "image/png": "[encoded data removed]",
      "text/plain": [
       "<Figure size 350x260 with 2 Axes>"
      ]
     },
     "metadata": {},
     "output_type": "display_data"
    }
   ],
   "source": [
    "fig, axs = plt.subplots(2, 1, figsize=(3.5, 2.6), sharex=True)\n",
    "\n",
    "ax = axs[0]\n",
    "ax.plot(target_ran.index, target_ran['proxima_threshold'], 'k--', ms=4, label='Threshold')\n",
    "ax.plot(target_ran.index, target_ran['last_uncer'], 'r--', ms=4, label='UQ')\n",
    "ax.set_ylabel('$T$')\n",
    "ax.legend(fontsize=6)\n",
    "\n",
    "ax = axs[1]\n",
    "ax.plot(target_ran.index, target_ran['proxima_alpha'], '--o', ms=4)\n",
    "ax.set_ylabel('$\\\\alpha$')\n",
    "\n",
    "ax.set_xlim(ax.get_xlim())\n",
    "ax.set_xlabel('Step')\n",
    "\n",
    "fig.tight_layout()"
   ]
  },
  {
   "cell_type": "code",
   "execution_count": null,
   "id": "9f511714-bc73-4cf5-b122-4eeff30af5ed",
   "metadata": {},
   "outputs": [],
   "source": []
  }
 ],
 "metadata": {
  "kernelspec": {
   "display_name": "Python 3 (ipykernel)",
   "language": "python",
   "name": "python3"
  },
  "language_info": {
   "codemirror_mode": {
    "name": "ipython",
    "version": 3
   },
   "file_extension": ".py",
   "mimetype": "text/x-python",
   "name": "python",
   "nbconvert_exporter": "python",
   "pygments_lexer": "ipython3",
   "version": "3.11.0"
  }
 },
 "nbformat": 4,
 "nbformat_minor": 5
}
