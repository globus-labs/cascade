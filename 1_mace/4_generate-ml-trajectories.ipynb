{
 "cells": [
  {
   "cell_type": "markdown",
   "id": "5c7f5817-e0e6-4a51-baa7-17c783b52dac",
   "metadata": {},
   "source": [
    "# Run ML trajectories\n",
    "\n",
    "We want to run a trajectory with the mace potential and see if the uncertainty spikes when we go off course"
   ]
  },
  {
   "cell_type": "code",
   "execution_count": 32,
   "id": "4171b257-5e24-427f-9099-3686e6ebcdf4",
   "metadata": {},
   "outputs": [],
   "source": [
    "import numpy as np\n",
    "from scipy.stats import pearsonr\n",
    "from pathlib import Path\n",
    "import os\n",
    "from glob import glob\n",
    "from collections import defaultdict\n",
    "\n",
    "%matplotlib inline\n",
    "from matplotlib import pyplot as plt\n",
    "from pathlib import Path\n",
    "from ase.io import read\n",
    "from ase import units\n",
    "from ase.md.npt import NPT\n",
    "from tqdm.auto import tqdm\n",
    "\n",
    "from mace.calculators.foundations_models import mace_mp\n",
    "from mace.calculators import MACECalculator"
   ]
  },
  {
   "cell_type": "markdown",
   "id": "a4555c09-0fb9-48cb-bf2a-c70fa61c39a8",
   "metadata": {},
   "source": [
    "### Configuration"
   ]
  },
  {
   "cell_type": "code",
   "execution_count": 2,
   "id": "8a18c1f0-0760-4024-b91b-f22af8af7aa1",
   "metadata": {},
   "outputs": [],
   "source": [
    "infer_device: str = 'cuda:0'\n",
    "temperature = 298\n",
    "steps: int = 512"
   ]
  },
  {
   "cell_type": "markdown",
   "id": "5961a17b-97cf-4ffe-9dfc-eaeffbb36730",
   "metadata": {},
   "source": [
    "### get ensemble members from directory"
   ]
  },
  {
   "cell_type": "code",
   "execution_count": 3,
   "id": "10bd6bc4-3911-49dd-97ba-34dd966b919b",
   "metadata": {},
   "outputs": [],
   "source": [
    "model_files = os.listdir('ensemble/')\n",
    "model_files = [Path('ensemble')/f for f in model_files]"
   ]
  },
  {
   "cell_type": "markdown",
   "id": "e253786d-7287-4591-bbfa-9f50dc829047",
   "metadata": {},
   "source": [
    "MACECalculator can take multiple models in a list"
   ]
  },
  {
   "cell_type": "code",
   "execution_count": 4,
   "id": "78f19d5b-c6ff-4120-9b28-1d0a2299fc2a",
   "metadata": {},
   "outputs": [
    {
     "data": {
      "text/plain": [
       "[PosixPath('ensemble/model_2.pt'),\n",
       " PosixPath('ensemble/model_3.pt'),\n",
       " PosixPath('ensemble/model_0.pt'),\n",
       " PosixPath('ensemble/model_1.pt')]"
      ]
     },
     "execution_count": 4,
     "metadata": {},
     "output_type": "execute_result"
    }
   ],
   "source": [
    "model_files"
   ]
  },
  {
   "cell_type": "code",
   "execution_count": 5,
   "id": "58761416-9ccc-42b0-8a3c-62afb8e09426",
   "metadata": {},
   "outputs": [
    {
     "name": "stdout",
     "output_type": "stream",
     "text": [
      "Using Materials Project MACE for MACECalculator with /home/mike/.cache/mace/46jrkm3v\n",
      "Using float32 for MACECalculator, which is faster but less accurate. Recommended for MD. Use float64 for geometry optimization.\n",
      "Default dtype float32 does not match model dtype float64, converting models to float32.\n",
      "Running committee mace with 4 models\n",
      "No dtype selected, switching to float32 to match model dtype.\n"
     ]
    }
   ],
   "source": [
    "calculators = {\n",
    "    'mace_small_pretrained': mace_mp('small', device=infer_device),\n",
    "    'mace_small_finetuned': MACECalculator(model_paths=model_files, device=infer_device)\n",
    "}"
   ]
  },
  {
   "cell_type": "markdown",
   "id": "51348ca2-8581-423e-8042-45270aa9f858",
   "metadata": {},
   "source": [
    "## I wonder how this compares to the training trajectories? "
   ]
  },
  {
   "cell_type": "code",
   "execution_count": 6,
   "id": "f98e9ece-55cf-49a0-884c-9b4b2e391994",
   "metadata": {},
   "outputs": [
    {
     "data": {
      "text/plain": [
       "['../0_setup/md/packmol-CH4-in-H2O=32-seed=0-blyp-npt=298/md.traj',\n",
       " '../0_setup/md/packmol-CH4-in-H2O=32-seed=1-blyp-npt=298/md.traj',\n",
       " '../0_setup/md/packmol-CH4-in-H2O=32-seed=2-blyp-npt=298/md.traj',\n",
       " '../0_setup/md/packmol-CH4-in-H2O=32-seed=3-blyp-npt=298/md.traj']"
      ]
     },
     "execution_count": 6,
     "metadata": {},
     "output_type": "execute_result"
    }
   ],
   "source": [
    "reference_trajectories = list(sorted(glob('../0_setup/md/**/md.traj')))\n",
    "reference_trajectories"
   ]
  },
  {
   "cell_type": "markdown",
   "id": "d3cb2f1c-f094-444a-9554-7d964bf62152",
   "metadata": {},
   "source": [
    "First run ML on the initial (training) geometries"
   ]
  },
  {
   "cell_type": "code",
   "execution_count": 7,
   "id": "4a1faa31-7aee-40e6-ad00-0ed544d768ed",
   "metadata": {},
   "outputs": [],
   "source": [
    "initial_geometries = list(sorted(glob('../0_setup/md/**/initial_cfg.traj')))"
   ]
  },
  {
   "cell_type": "code",
   "execution_count": 8,
   "id": "a03e9af8-84be-458c-a9b4-967dcaf425be",
   "metadata": {},
   "outputs": [
    {
     "data": {
      "text/plain": [
       "['../0_setup/md/packmol-CH4-in-H2O=32-seed=0-blyp-npt=298/initial_cfg.traj',\n",
       " '../0_setup/md/packmol-CH4-in-H2O=32-seed=1-blyp-npt=298/initial_cfg.traj',\n",
       " '../0_setup/md/packmol-CH4-in-H2O=32-seed=2-blyp-npt=298/initial_cfg.traj',\n",
       " '../0_setup/md/packmol-CH4-in-H2O=32-seed=3-blyp-npt=298/initial_cfg.traj']"
      ]
     },
     "execution_count": 8,
     "metadata": {},
     "output_type": "execute_result"
    }
   ],
   "source": [
    "initial_geometries"
   ]
  },
  {
   "cell_type": "code",
   "execution_count": 26,
   "id": "bcb7011d-97ec-457b-a6e3-e97014aaab29",
   "metadata": {},
   "outputs": [
    {
     "data": {
      "text/plain": [
       "'packmol-CH4-in-H2O=32-seed=0-blyp-np'"
      ]
     },
     "execution_count": 26,
     "metadata": {},
     "output_type": "execute_result"
    }
   ],
   "source": [
    "Path(initial_geometry).parent.name[:-5]"
   ]
  },
  {
   "cell_type": "code",
   "execution_count": 27,
   "id": "d29349dc-9cb9-42d6-80c0-ba49b497784e",
   "metadata": {},
   "outputs": [
    {
     "name": "stderr",
     "output_type": "stream",
     "text": [
      "geometries:   0%|                                                       | 0/4 [00:00<?, ?it/s]WARNING: NPT: Setting the center-of-mass momentum to zero (was -2.04158 1.02556 -7.14181)\n"
     ]
    },
    {
     "name": "stdout",
     "output_type": "stream",
     "text": [
      "packmol-CH4-in-H2O=32-seed=0-blyp-np-npt=298-calc=mace_small_pretrained\n"
     ]
    },
    {
     "name": "stderr",
     "output_type": "stream",
     "text": [
      "WARNING: NPT: Setting the center-of-mass momentum to zero (was -2.04158 1.02556 -7.14181)\n"
     ]
    },
    {
     "name": "stdout",
     "output_type": "stream",
     "text": [
      "packmol-CH4-in-H2O=32-seed=0-blyp-np-npt=298-calc=mace_small_finetuned\n"
     ]
    },
    {
     "name": "stderr",
     "output_type": "stream",
     "text": [
      "geometries:  25%|███████████▌                                  | 1/4 [02:31<07:34, 151.65s/it]WARNING: NPT: Setting the center-of-mass momentum to zero (was 3.84199 -4.00375 -18.8752)\n"
     ]
    },
    {
     "name": "stdout",
     "output_type": "stream",
     "text": [
      "packmol-CH4-in-H2O=32-seed=1-blyp-np-npt=298-calc=mace_small_pretrained\n"
     ]
    },
    {
     "name": "stderr",
     "output_type": "stream",
     "text": [
      "WARNING: NPT: Setting the center-of-mass momentum to zero (was 3.84199 -4.00375 -18.8752)\n"
     ]
    },
    {
     "name": "stdout",
     "output_type": "stream",
     "text": [
      "packmol-CH4-in-H2O=32-seed=1-blyp-np-npt=298-calc=mace_small_finetuned\n"
     ]
    },
    {
     "name": "stderr",
     "output_type": "stream",
     "text": [
      "geometries:  50%|███████████████████████                       | 2/4 [04:39<04:34, 137.39s/it]WARNING: NPT: Setting the center-of-mass momentum to zero (was -3.92585 -5.68824 -1.79534)\n"
     ]
    },
    {
     "name": "stdout",
     "output_type": "stream",
     "text": [
      "packmol-CH4-in-H2O=32-seed=2-blyp-np-npt=298-calc=mace_small_pretrained\n"
     ]
    },
    {
     "name": "stderr",
     "output_type": "stream",
     "text": [
      "WARNING: NPT: Setting the center-of-mass momentum to zero (was -3.92585 -5.68824 -1.79534)\n"
     ]
    },
    {
     "name": "stdout",
     "output_type": "stream",
     "text": [
      "packmol-CH4-in-H2O=32-seed=2-blyp-np-npt=298-calc=mace_small_finetuned\n"
     ]
    },
    {
     "name": "stderr",
     "output_type": "stream",
     "text": [
      "geometries:  75%|██████████████████████████████████▌           | 3/4 [06:36<02:08, 128.44s/it]WARNING: NPT: Setting the center-of-mass momentum to zero (was 1.89656 -0.375394 3.77676)\n"
     ]
    },
    {
     "name": "stdout",
     "output_type": "stream",
     "text": [
      "packmol-CH4-in-H2O=32-seed=3-blyp-np-npt=298-calc=mace_small_pretrained\n"
     ]
    },
    {
     "name": "stderr",
     "output_type": "stream",
     "text": [
      "WARNING: NPT: Setting the center-of-mass momentum to zero (was 1.89656 -0.375394 3.77676)\n"
     ]
    },
    {
     "name": "stdout",
     "output_type": "stream",
     "text": [
      "packmol-CH4-in-H2O=32-seed=3-blyp-np-npt=298-calc=mace_small_finetuned\n"
     ]
    },
    {
     "name": "stderr",
     "output_type": "stream",
     "text": [
      "geometries: 100%|██████████████████████████████████████████████| 4/4 [08:33<00:00, 128.40s/it]\n"
     ]
    }
   ],
   "source": [
    "for initial_geometry in tqdm(initial_geometries, 'geometries', total=4): \n",
    "    for calc_name, calc in calculators.items():\n",
    "        name = f'{Path(initial_geometry).parent.name[:-5]}-npt={temperature}-calc={calc_name}'\n",
    "        print(name)\n",
    "        run_dir = Path('md') / name\n",
    "        run_dir.mkdir(exist_ok=True, parents=True)\n",
    "        traj_file = run_dir / 'md.traj'\n",
    "        if traj_file.is_file() and traj_file.stat().st_size > 0:\n",
    "            traj = read(str(traj_file), slice(None))\n",
    "            start = len(traj)\n",
    "            atoms = traj[-1]\n",
    "            print('Loaded last structure')\n",
    "        else:\n",
    "            atoms = read(initial_geometry)\n",
    "            start = 0\n",
    "        atoms.calc = calc\n",
    "        dyn = NPT(atoms,\n",
    "          timestep=0.5 * units.fs,\n",
    "          temperature_K=temperature,\n",
    "          ttime=100 * units.fs,\n",
    "          pfactor=0.01,\n",
    "          externalstress=0,\n",
    "          logfile=str(run_dir / 'md.log'),\n",
    "          trajectory=str(traj_file),\n",
    "          append_trajectory=False)\n",
    "        dyn.run(512 - start)"
   ]
  },
  {
   "cell_type": "markdown",
   "id": "f381548f-4f63-499e-b0d3-00345a4140c7",
   "metadata": {},
   "source": [
    "## Compute individual model trajectories"
   ]
  },
  {
   "cell_type": "code",
   "execution_count": 29,
   "id": "f57199e4-576e-4099-912d-75227908f309",
   "metadata": {},
   "outputs": [
    {
     "name": "stderr",
     "output_type": "stream",
     "text": [
      "geometries:   0%|                                                       | 0/4 [00:00<?, ?it/s]\n",
      "ensemble members:   0%|                                                 | 0/4 [00:00<?, ?it/s]\u001b[AWARNING: NPT: Setting the center-of-mass momentum to zero (was -2.04158 1.02556 -7.14181)\n"
     ]
    },
    {
     "name": "stdout",
     "output_type": "stream",
     "text": [
      "No dtype selected, switching to float32 to match model dtype.\n",
      "packmol-CH4-in-H2O=32-seed=0-blyp-np-npt=298-calc=mace_small_finetuned-ensemble_ix=0\n"
     ]
    },
    {
     "name": "stderr",
     "output_type": "stream",
     "text": [
      "\n",
      "ensemble members:  25%|██████████▎                              | 1/4 [00:25<01:15, 25.04s/it]\u001b[AWARNING: NPT: Setting the center-of-mass momentum to zero (was -2.04158 1.02556 -7.14181)\n"
     ]
    },
    {
     "name": "stdout",
     "output_type": "stream",
     "text": [
      "No dtype selected, switching to float32 to match model dtype.\n",
      "packmol-CH4-in-H2O=32-seed=0-blyp-np-npt=298-calc=mace_small_finetuned-ensemble_ix=1\n"
     ]
    },
    {
     "name": "stderr",
     "output_type": "stream",
     "text": [
      "\n",
      "ensemble members:  50%|████████████████████▌                    | 2/4 [00:50<00:50, 25.13s/it]\u001b[AWARNING: NPT: Setting the center-of-mass momentum to zero (was -2.04158 1.02556 -7.14181)\n"
     ]
    },
    {
     "name": "stdout",
     "output_type": "stream",
     "text": [
      "No dtype selected, switching to float32 to match model dtype.\n",
      "packmol-CH4-in-H2O=32-seed=0-blyp-np-npt=298-calc=mace_small_finetuned-ensemble_ix=2\n"
     ]
    },
    {
     "name": "stderr",
     "output_type": "stream",
     "text": [
      "\n",
      "ensemble members:  75%|██████████████████████████████▊          | 3/4 [01:15<00:25, 25.31s/it]\u001b[AWARNING: NPT: Setting the center-of-mass momentum to zero (was -2.04158 1.02556 -7.14181)\n"
     ]
    },
    {
     "name": "stdout",
     "output_type": "stream",
     "text": [
      "No dtype selected, switching to float32 to match model dtype.\n",
      "packmol-CH4-in-H2O=32-seed=0-blyp-np-npt=298-calc=mace_small_finetuned-ensemble_ix=3\n"
     ]
    },
    {
     "name": "stderr",
     "output_type": "stream",
     "text": [
      "\n",
      "ensemble members: 100%|█████████████████████████████████████████| 4/4 [01:41<00:00, 25.38s/it]\u001b[A\n",
      "geometries:  25%|███████████▌                                  | 1/4 [01:41<05:04, 101.51s/it]\n",
      "ensemble members:   0%|                                                 | 0/4 [00:00<?, ?it/s]\u001b[AWARNING: NPT: Setting the center-of-mass momentum to zero (was 3.84199 -4.00375 -18.8752)\n"
     ]
    },
    {
     "name": "stdout",
     "output_type": "stream",
     "text": [
      "No dtype selected, switching to float32 to match model dtype.\n",
      "packmol-CH4-in-H2O=32-seed=1-blyp-np-npt=298-calc=mace_small_finetuned-ensemble_ix=0\n"
     ]
    },
    {
     "name": "stderr",
     "output_type": "stream",
     "text": [
      "\n",
      "ensemble members:  25%|██████████▎                              | 1/4 [00:27<01:21, 27.23s/it]\u001b[AWARNING: NPT: Setting the center-of-mass momentum to zero (was 3.84199 -4.00375 -18.8752)\n"
     ]
    },
    {
     "name": "stdout",
     "output_type": "stream",
     "text": [
      "No dtype selected, switching to float32 to match model dtype.\n",
      "packmol-CH4-in-H2O=32-seed=1-blyp-np-npt=298-calc=mace_small_finetuned-ensemble_ix=1\n"
     ]
    },
    {
     "name": "stderr",
     "output_type": "stream",
     "text": [
      "\n",
      "ensemble members:  50%|████████████████████▌                    | 2/4 [00:54<00:54, 27.27s/it]\u001b[AWARNING: NPT: Setting the center-of-mass momentum to zero (was 3.84199 -4.00375 -18.8752)\n"
     ]
    },
    {
     "name": "stdout",
     "output_type": "stream",
     "text": [
      "No dtype selected, switching to float32 to match model dtype.\n",
      "packmol-CH4-in-H2O=32-seed=1-blyp-np-npt=298-calc=mace_small_finetuned-ensemble_ix=2\n"
     ]
    },
    {
     "name": "stderr",
     "output_type": "stream",
     "text": [
      "\n",
      "ensemble members:  75%|██████████████████████████████▊          | 3/4 [01:21<00:27, 27.33s/it]\u001b[AWARNING: NPT: Setting the center-of-mass momentum to zero (was 3.84199 -4.00375 -18.8752)\n"
     ]
    },
    {
     "name": "stdout",
     "output_type": "stream",
     "text": [
      "No dtype selected, switching to float32 to match model dtype.\n",
      "packmol-CH4-in-H2O=32-seed=1-blyp-np-npt=298-calc=mace_small_finetuned-ensemble_ix=3\n"
     ]
    },
    {
     "name": "stderr",
     "output_type": "stream",
     "text": [
      "\n",
      "ensemble members: 100%|█████████████████████████████████████████| 4/4 [01:49<00:00, 27.31s/it]\u001b[A\n",
      "geometries:  50%|███████████████████████                       | 2/4 [03:30<03:32, 106.06s/it]\n",
      "ensemble members:   0%|                                                 | 0/4 [00:00<?, ?it/s]\u001b[AWARNING: NPT: Setting the center-of-mass momentum to zero (was -3.92585 -5.68824 -1.79534)\n"
     ]
    },
    {
     "name": "stdout",
     "output_type": "stream",
     "text": [
      "No dtype selected, switching to float32 to match model dtype.\n",
      "packmol-CH4-in-H2O=32-seed=2-blyp-np-npt=298-calc=mace_small_finetuned-ensemble_ix=0\n"
     ]
    },
    {
     "name": "stderr",
     "output_type": "stream",
     "text": [
      "\n",
      "ensemble members:  25%|██████████▎                              | 1/4 [00:26<01:18, 26.08s/it]\u001b[AWARNING: NPT: Setting the center-of-mass momentum to zero (was -3.92585 -5.68824 -1.79534)\n"
     ]
    },
    {
     "name": "stdout",
     "output_type": "stream",
     "text": [
      "No dtype selected, switching to float32 to match model dtype.\n",
      "packmol-CH4-in-H2O=32-seed=2-blyp-np-npt=298-calc=mace_small_finetuned-ensemble_ix=1\n"
     ]
    },
    {
     "name": "stderr",
     "output_type": "stream",
     "text": [
      "\n",
      "ensemble members:  50%|████████████████████▌                    | 2/4 [00:52<00:52, 26.33s/it]\u001b[AWARNING: NPT: Setting the center-of-mass momentum to zero (was -3.92585 -5.68824 -1.79534)\n"
     ]
    },
    {
     "name": "stdout",
     "output_type": "stream",
     "text": [
      "No dtype selected, switching to float32 to match model dtype.\n",
      "packmol-CH4-in-H2O=32-seed=2-blyp-np-npt=298-calc=mace_small_finetuned-ensemble_ix=2\n"
     ]
    },
    {
     "name": "stderr",
     "output_type": "stream",
     "text": [
      "\n",
      "ensemble members:  75%|██████████████████████████████▊          | 3/4 [01:19<00:26, 26.42s/it]\u001b[AWARNING: NPT: Setting the center-of-mass momentum to zero (was -3.92585 -5.68824 -1.79534)\n"
     ]
    },
    {
     "name": "stdout",
     "output_type": "stream",
     "text": [
      "No dtype selected, switching to float32 to match model dtype.\n",
      "packmol-CH4-in-H2O=32-seed=2-blyp-np-npt=298-calc=mace_small_finetuned-ensemble_ix=3\n"
     ]
    },
    {
     "name": "stderr",
     "output_type": "stream",
     "text": [
      "\n",
      "ensemble members: 100%|█████████████████████████████████████████| 4/4 [01:45<00:00, 26.41s/it]\u001b[A\n",
      "geometries:  75%|██████████████████████████████████▌           | 3/4 [05:16<01:45, 105.87s/it]\n",
      "ensemble members:   0%|                                                 | 0/4 [00:00<?, ?it/s]\u001b[AWARNING: NPT: Setting the center-of-mass momentum to zero (was 1.89656 -0.375394 3.77676)\n"
     ]
    },
    {
     "name": "stdout",
     "output_type": "stream",
     "text": [
      "No dtype selected, switching to float32 to match model dtype.\n",
      "packmol-CH4-in-H2O=32-seed=3-blyp-np-npt=298-calc=mace_small_finetuned-ensemble_ix=0\n"
     ]
    },
    {
     "name": "stderr",
     "output_type": "stream",
     "text": [
      "\n",
      "ensemble members:  25%|██████████▎                              | 1/4 [00:25<01:17, 25.97s/it]\u001b[AWARNING: NPT: Setting the center-of-mass momentum to zero (was 1.89656 -0.375394 3.77676)\n"
     ]
    },
    {
     "name": "stdout",
     "output_type": "stream",
     "text": [
      "No dtype selected, switching to float32 to match model dtype.\n",
      "packmol-CH4-in-H2O=32-seed=3-blyp-np-npt=298-calc=mace_small_finetuned-ensemble_ix=1\n"
     ]
    },
    {
     "name": "stderr",
     "output_type": "stream",
     "text": [
      "\n",
      "ensemble members:  50%|████████████████████▌                    | 2/4 [00:51<00:51, 25.98s/it]\u001b[AWARNING: NPT: Setting the center-of-mass momentum to zero (was 1.89656 -0.375394 3.77676)\n"
     ]
    },
    {
     "name": "stdout",
     "output_type": "stream",
     "text": [
      "No dtype selected, switching to float32 to match model dtype.\n",
      "packmol-CH4-in-H2O=32-seed=3-blyp-np-npt=298-calc=mace_small_finetuned-ensemble_ix=2\n"
     ]
    },
    {
     "name": "stderr",
     "output_type": "stream",
     "text": [
      "\n",
      "ensemble members:  75%|██████████████████████████████▊          | 3/4 [01:17<00:25, 25.96s/it]\u001b[AWARNING: NPT: Setting the center-of-mass momentum to zero (was 1.89656 -0.375394 3.77676)\n"
     ]
    },
    {
     "name": "stdout",
     "output_type": "stream",
     "text": [
      "No dtype selected, switching to float32 to match model dtype.\n",
      "packmol-CH4-in-H2O=32-seed=3-blyp-np-npt=298-calc=mace_small_finetuned-ensemble_ix=3\n"
     ]
    },
    {
     "name": "stderr",
     "output_type": "stream",
     "text": [
      "\n",
      "ensemble members: 100%|█████████████████████████████████████████| 4/4 [01:43<00:00, 25.97s/it]\u001b[A\n",
      "geometries: 100%|██████████████████████████████████████████████| 4/4 [07:00<00:00, 105.07s/it]\n"
     ]
    }
   ],
   "source": [
    "for initial_geometry in tqdm(initial_geometries, 'geometries', total=4): \n",
    "    for model_ix in tqdm(range(4), 'ensemble members'):\n",
    "        calc = MACECalculator(f'ensemble/model_{model_ix}.pt', device='cuda:0')\n",
    "        name = f'{Path(initial_geometry).parent.name[:-5]}-npt={temperature}-calc=mace_small_finetuned-ensemble_ix={model_ix}'\n",
    "        print(name)\n",
    "        run_dir = Path('md') / name\n",
    "        run_dir.mkdir(exist_ok=True, parents=True)\n",
    "        traj_file = run_dir / 'md.traj'\n",
    "        if traj_file.is_file() and traj_file.stat().st_size > 0:\n",
    "            traj = read(str(traj_file), slice(None))\n",
    "            start = len(traj)\n",
    "            atoms = traj[-1]\n",
    "            print('Loaded last structure')\n",
    "        else:\n",
    "            atoms = read(initial_geometry)\n",
    "            start = 0\n",
    "        start = 0\n",
    "        atoms.calc = calc\n",
    "        dyn = NPT(atoms,\n",
    "          timestep=0.5 * units.fs,\n",
    "          temperature_K=temperature,\n",
    "          ttime=100 * units.fs,\n",
    "          pfactor=0.01,\n",
    "          externalstress=0,\n",
    "          logfile=str(run_dir / 'md.log'),\n",
    "          trajectory=str(traj_file),\n",
    "          append_trajectory=False)\n",
    "        dyn.run(512 - start)"
   ]
  }
 ],
 "metadata": {
  "kernelspec": {
   "display_name": "Python 3 (ipykernel)",
   "language": "python",
   "name": "python3"
  },
  "language_info": {
   "codemirror_mode": {
    "name": "ipython",
    "version": 3
   },
   "file_extension": ".py",
   "mimetype": "text/x-python",
   "name": "python",
   "nbconvert_exporter": "python",
   "pygments_lexer": "ipython3",
   "version": "3.11.0"
  }
 },
 "nbformat": 4,
 "nbformat_minor": 5
}
