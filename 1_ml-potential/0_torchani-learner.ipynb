{
 "cells": [
  {
   "cell_type": "markdown",
   "id": "fbe7239e-54bb-4bcd-a89d-01334c8a95ab",
   "metadata": {},
   "source": [
    "## Demonstrate fitting a torchani model"
   ]
  },
  {
   "cell_type": "code",
   "execution_count": 1,
   "id": "e87efa7c-bb8b-4fbc-848c-78e9400eda15",
   "metadata": {},
   "outputs": [
    {
     "name": "stderr",
     "output_type": "stream",
     "text": [
      "/home/mike/miniconda3/envs/cascade/lib/python3.11/site-packages/torchani/aev.py:16: UserWarning: cuaev not installed\n",
      "  warnings.warn(\"cuaev not installed\")\n"
     ]
    }
   ],
   "source": [
    "from glob import glob\n",
    "\n",
    "import torch\n",
    "import numpy as np\n",
    "import pandas as pd\n",
    "from ase.io import read\n",
    "import seaborn as sns\n",
    "import matplotlib.pyplot as plt\n",
    "\n",
    "# our methods for quickly making ani nets\n",
    "from cascade.learning.torchani import TorchANI, estimate_atomic_energies\n",
    "from cascade.learning.torchani.build import make_aev_computer, make_output_nets"
   ]
  },
  {
   "cell_type": "markdown",
   "id": "72545832-b3d1-4673-b3a1-465aa84dba4a",
   "metadata": {},
   "source": [
    "## Config"
   ]
  },
  {
   "cell_type": "code",
   "execution_count": 2,
   "id": "9df94fed-7cd4-4213-b623-63eda10cdbab",
   "metadata": {},
   "outputs": [
    {
     "data": {
      "text/plain": [
       "'cuda:0'"
      ]
     },
     "execution_count": 2,
     "metadata": {},
     "output_type": "execute_result"
    }
   ],
   "source": [
    "# use cuda if its available\n",
    "use_cuda = torch.cuda.is_available()\n",
    "device = 'cuda:0' if use_cuda else 'cpu'\n",
    "device"
   ]
  },
  {
   "cell_type": "markdown",
   "id": "2b747408-124f-4e11-9fec-473ec73ac932",
   "metadata": {},
   "source": [
    "## Read in Data"
   ]
  },
  {
   "cell_type": "markdown",
   "id": "0574112e-0987-44be-9cec-1065c7d3e8fd",
   "metadata": {},
   "source": [
    "We'll train based on the trajectories we've generated earlier"
   ]
  },
  {
   "cell_type": "code",
   "execution_count": 3,
   "id": "7ec80d48-3e6a-4177-bbc3-f34d9ff8dbbb",
   "metadata": {},
   "outputs": [
    {
     "data": {
      "text/plain": [
       "['../0_setup/md/packmol-CH4-in-H2O=32-seed=0-blyp-npt=298/md.traj',\n",
       " '../0_setup/md/packmol-CH4-in-H2O=32-seed=2-blyp-npt=298/md.traj',\n",
       " '../0_setup/md/packmol-CH4-in-H2O=32-seed=1-blyp-npt=298/md.traj',\n",
       " '../0_setup/md/packmol-CH4-in-H2O=32-seed=3-blyp-npt=298/md.traj']"
      ]
     },
     "execution_count": 3,
     "metadata": {},
     "output_type": "execute_result"
    }
   ],
   "source": [
    "trajectories = glob('../0_setup/md/**/md.traj')\n",
    "trajectories"
   ]
  },
  {
   "cell_type": "markdown",
   "id": "640e3d4f-02f0-4839-ae5a-ad83b16e9313",
   "metadata": {},
   "source": [
    "Since we have 4 trajectories, we'll train on the first two, validate on the third, and test on the last"
   ]
  },
  {
   "cell_type": "code",
   "execution_count": 4,
   "id": "8bdd6e75-9aaf-46ed-b7a0-a214152b4cb3",
   "metadata": {},
   "outputs": [],
   "source": [
    "train = []\n",
    "for traj in trajectories[:-2]: \n",
    "    train.extend(read(traj, index=':'))"
   ]
  },
  {
   "cell_type": "code",
   "execution_count": 5,
   "id": "49492b17-dea7-4e90-a91c-d6c625c850df",
   "metadata": {},
   "outputs": [],
   "source": [
    "valid = read(trajectories[2], index=':')\n",
    "test = read(trajectories[3], index=':')"
   ]
  },
  {
   "cell_type": "code",
   "execution_count": null,
   "id": "29a6d008-c3c7-40d2-86ac-168430a9204b",
   "metadata": {},
   "outputs": [],
   "source": []
  },
  {
   "cell_type": "markdown",
   "id": "0abfbff9-bd7e-41eb-b996-9fdf35036863",
   "metadata": {},
   "source": [
    "## Build the ANI net\n",
    "\n",
    "These methods contruct a network with sensible default hyperaarameters. "
   ]
  },
  {
   "cell_type": "code",
   "execution_count": 6,
   "id": "2a3f40a1-27a6-4731-9364-ed511b7b0966",
   "metadata": {},
   "outputs": [],
   "source": [
    "ref_energies = estimate_atomic_energies(train)\n",
    "species = list(ref_energies.keys())\n",
    "aev = make_aev_computer(species)\n",
    "nn = make_output_nets(species, aev)"
   ]
  },
  {
   "cell_type": "markdown",
   "id": "1a568a34-ae68-4a34-8920-968ffa732eec",
   "metadata": {},
   "source": [
    "And the below is a class that handles training and evaluation given the above data parameters.   \n",
    "The reason these methods are decoupled from the parameters is so we can easily pass the parameters around in a distributed computing setting. "
   ]
  },
  {
   "cell_type": "code",
   "execution_count": 7,
   "id": "ea869e4a-0331-48f8-b7d4-ad26d4c6fdac",
   "metadata": {},
   "outputs": [],
   "source": [
    "ani = TorchANI()"
   ]
  },
  {
   "cell_type": "code",
   "execution_count": 8,
   "id": "9ab9238c-ecc7-4e3e-97bd-00170fee7e9c",
   "metadata": {},
   "outputs": [
    {
     "name": "stdout",
     "output_type": "stream",
     "text": [
      "CPU times: user 3.2 s, sys: 340 ms, total: 3.55 s\n",
      "Wall time: 3.55 s\n"
     ]
    }
   ],
   "source": [
    "%%time\n",
    "orig_e, orig_f = ani.evaluate((aev, nn, ref_energies), \n",
    "                              train,\n",
    "                              #batch_size=,\n",
    "                              device=device)"
   ]
  },
  {
   "cell_type": "code",
   "execution_count": 9,
   "id": "863d7a98-1746-40ac-a0d6-04435f27d7ff",
   "metadata": {},
   "outputs": [
    {
     "name": "stdout",
     "output_type": "stream",
     "text": [
      "CPU times: user 5min 22s, sys: 686 ms, total: 5min 22s\n",
      "Wall time: 5min 23s\n"
     ]
    }
   ],
   "source": [
    "%%time\n",
    "model_msg, results = ani.train((aev, nn, ref_energies), \n",
    "                               train, \n",
    "                               valid, \n",
    "                               30,\n",
    "                               #learning_rate=0.0001,\n",
    "                               device=device)"
   ]
  },
  {
   "cell_type": "markdown",
   "id": "a9b4b798-a1cd-4067-9553-464416700e5d",
   "metadata": {},
   "source": [
    "The trainer returns a dataframe of performance for each epoch"
   ]
  },
  {
   "cell_type": "code",
   "execution_count": 10,
   "id": "2a4a83fa-1892-4ef9-9149-e128ea60a993",
   "metadata": {},
   "outputs": [
    {
     "data": {
      "text/html": [
       "<div>\n",
       "<style scoped>\n",
       "    .dataframe tbody tr th:only-of-type {\n",
       "        vertical-align: middle;\n",
       "    }\n",
       "\n",
       "    .dataframe tbody tr th {\n",
       "        vertical-align: top;\n",
       "    }\n",
       "\n",
       "    .dataframe thead th {\n",
       "        text-align: right;\n",
       "    }\n",
       "</style>\n",
       "<table border=\"1\" class=\"dataframe\">\n",
       "  <thead>\n",
       "    <tr style=\"text-align: right;\">\n",
       "      <th></th>\n",
       "      <th>iteration</th>\n",
       "      <th>e_rmse</th>\n",
       "      <th>e_mae</th>\n",
       "      <th>f_rmse</th>\n",
       "      <th>f_mae</th>\n",
       "      <th>split</th>\n",
       "    </tr>\n",
       "  </thead>\n",
       "  <tbody>\n",
       "    <tr>\n",
       "      <th>0</th>\n",
       "      <td>0</td>\n",
       "      <td>1.003936</td>\n",
       "      <td>1.003936</td>\n",
       "      <td>0.482978</td>\n",
       "      <td>0.482978</td>\n",
       "      <td>train</td>\n",
       "    </tr>\n",
       "    <tr>\n",
       "      <th>1</th>\n",
       "      <td>1</td>\n",
       "      <td>0.242016</td>\n",
       "      <td>0.242016</td>\n",
       "      <td>0.442315</td>\n",
       "      <td>0.442315</td>\n",
       "      <td>train</td>\n",
       "    </tr>\n",
       "    <tr>\n",
       "      <th>2</th>\n",
       "      <td>2</td>\n",
       "      <td>1.200089</td>\n",
       "      <td>1.200089</td>\n",
       "      <td>0.397986</td>\n",
       "      <td>0.397986</td>\n",
       "      <td>train</td>\n",
       "    </tr>\n",
       "    <tr>\n",
       "      <th>3</th>\n",
       "      <td>3</td>\n",
       "      <td>0.946980</td>\n",
       "      <td>0.946980</td>\n",
       "      <td>0.375883</td>\n",
       "      <td>0.375883</td>\n",
       "      <td>train</td>\n",
       "    </tr>\n",
       "    <tr>\n",
       "      <th>4</th>\n",
       "      <td>4</td>\n",
       "      <td>4.304349</td>\n",
       "      <td>4.304349</td>\n",
       "      <td>0.345489</td>\n",
       "      <td>0.345489</td>\n",
       "      <td>train</td>\n",
       "    </tr>\n",
       "  </tbody>\n",
       "</table>\n",
       "</div>"
      ],
      "text/plain": [
       "   iteration    e_rmse     e_mae    f_rmse     f_mae  split\n",
       "0          0  1.003936  1.003936  0.482978  0.482978  train\n",
       "1          1  0.242016  0.242016  0.442315  0.442315  train\n",
       "2          2  1.200089  1.200089  0.397986  0.397986  train\n",
       "3          3  0.946980  0.946980  0.375883  0.375883  train\n",
       "4          4  4.304349  4.304349  0.345489  0.345489  train"
      ]
     },
     "execution_count": 10,
     "metadata": {},
     "output_type": "execute_result"
    }
   ],
   "source": [
    "results.head()"
   ]
  },
  {
   "cell_type": "code",
   "execution_count": 11,
   "id": "7163f54f-7da2-46ba-bc15-f3aa1e529742",
   "metadata": {},
   "outputs": [
    {
     "data": {
      "text/plain": [
       "<matplotlib.legend.Legend at 0x7d8461994710>"
      ]
     },
     "execution_count": 11,
     "metadata": {},
     "output_type": "execute_result"
    },
    {
     "data": {
      "image/png": "[encoded data removed]",
      "text/plain": [
       "<Figure size 640x480 with 2 Axes>"
      ]
     },
     "metadata": {},
     "output_type": "display_data"
    }
   ],
   "source": [
    "fig, axs = plt.subplots(2)\n",
    "\n",
    "for split, marker, linestyle in zip(['train', 'val'], \n",
    "                                    ['x', 'o'], \n",
    "                                    ['solid', 'dashed']):\n",
    "    for i, quantity in enumerate(['e_mae', 'f_mae']):\n",
    "        _df = results.query(f'split == \"{split}\"')\n",
    "        axs[i].plot(_df['iteration'], \n",
    "                    _df[quantity], \n",
    "                    label=split, \n",
    "                    #marker=marker,\n",
    "                    linestyle=linestyle\n",
    "                   )\n",
    "\n",
    "axs[0].set_ylabel('Energy MAE (eV)')\n",
    "axs[0].legend()\n",
    "axs[1].set_ylabel('Force MAE (eV/$\\mathrm{\\AA})$')\n",
    "axs[1].legend()"
   ]
  },
  {
   "cell_type": "markdown",
   "id": "28a3318c-6552-4146-b0c4-c4ca11deb5eb",
   "metadata": {},
   "source": [
    "We see there is some generalization gap, moreso with the energy. I think some hyperparameters, including the learning rate, need tuning, but this is a good start. "
   ]
  },
  {
   "cell_type": "markdown",
   "id": "820113e3-cc21-4bf4-9310-d9e761af196e",
   "metadata": {},
   "source": [
    "## Evaluate on test trajectory\n",
    "We'll quickly get the test trajectory errors"
   ]
  },
  {
   "cell_type": "code",
   "execution_count": 12,
   "id": "cb2e7583-efa0-483f-8b35-6a91f933bd94",
   "metadata": {},
   "outputs": [],
   "source": [
    "energy_test_true = np.asarray([a.calc.results['energy'] for a in test])\n",
    "forces_test_true = np.asarray([a.calc.results['forces'] for a in test])"
   ]
  },
  {
   "cell_type": "code",
   "execution_count": 13,
   "id": "80c765d3-1291-4bf7-8867-6c33373bc7c6",
   "metadata": {},
   "outputs": [],
   "source": [
    "energy_test_pred, forces_test_pred = ani.evaluate(\n",
    "    (aev, nn, ref_energies), \n",
    "    test,\n",
    "    device=device)"
   ]
  },
  {
   "cell_type": "code",
   "execution_count": 14,
   "id": "60db51f5-ff8e-46ae-9902-79d0ac48e9db",
   "metadata": {},
   "outputs": [
    {
     "name": "stdout",
     "output_type": "stream",
     "text": [
      "Energy MAE: 1.51917 eV\n"
     ]
    }
   ],
   "source": [
    "print(f'Energy MAE: {np.abs((energy_test_pred-energy_test_true)).mean():0.5f} eV')"
   ]
  },
  {
   "cell_type": "code",
   "execution_count": 15,
   "id": "5efaba03-8f5a-448b-be5f-db0ec0326002",
   "metadata": {},
   "outputs": [
    {
     "name": "stdout",
     "output_type": "stream",
     "text": [
      "Force MAE: 0.18799 eV/Angstrom\n"
     ]
    }
   ],
   "source": [
    "print(f'Force MAE: {np.abs((forces_test_pred-forces_test_true)).mean():0.5f} eV/Angstrom')"
   ]
  },
  {
   "cell_type": "code",
   "execution_count": null,
   "id": "a61ddf5e-df90-4920-999b-a61b587f5dd9",
   "metadata": {},
   "outputs": [],
   "source": []
  }
 ],
 "metadata": {
  "kernelspec": {
   "display_name": "Python 3 (ipykernel)",
   "language": "python",
   "name": "python3"
  },
  "language_info": {
   "codemirror_mode": {
    "name": "ipython",
    "version": 3
   },
   "file_extension": ".py",
   "mimetype": "text/x-python",
   "name": "python",
   "nbconvert_exporter": "python",
   "pygments_lexer": "ipython3",
   "version": "3.11.0"
  }
 },
 "nbformat": 4,
 "nbformat_minor": 5
}
