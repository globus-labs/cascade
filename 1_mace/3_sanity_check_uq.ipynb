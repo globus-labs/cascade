{
 "cells": [
  {
   "cell_type": "markdown",
   "id": "5c7f5817-e0e6-4a51-baa7-17c783b52dac",
   "metadata": {},
   "source": [
    "# Run ML trajectories\n",
    "\n",
    "I want to see that the Mace potential uncertainties work as expected"
   ]
  },
  {
   "cell_type": "code",
   "execution_count": 1,
   "id": "4171b257-5e24-427f-9099-3686e6ebcdf4",
   "metadata": {},
   "outputs": [
    {
     "name": "stderr",
     "output_type": "stream",
     "text": [
      "/home/mike/miniconda3/envs/cascade/lib/python3.11/site-packages/tqdm/auto.py:21: TqdmWarning: IProgress not found. Please update jupyter and ipywidgets. See https://ipywidgets.readthedocs.io/en/stable/user_install.html\n",
      "  from .autonotebook import tqdm as notebook_tqdm\n"
     ]
    }
   ],
   "source": [
    "import numpy as np\n",
    "from pathlib import Path\n",
    "import os\n",
    "from glob import glob\n",
    "\n",
    "%matplotlib inline\n",
    "from matplotlib import pyplot as plt\n",
    "from pathlib import Path\n",
    "from ase.io import read\n",
    "from ase import units\n",
    "from ase.md.npt import NPT\n",
    "from tqdm.auto import tqdm\n",
    "\n",
    "from mace.calculators.foundations_models import mace_mp\n",
    "from mace.calculators import MACECalculator"
   ]
  },
  {
   "cell_type": "markdown",
   "id": "a4555c09-0fb9-48cb-bf2a-c70fa61c39a8",
   "metadata": {},
   "source": [
    "Configuration"
   ]
  },
  {
   "cell_type": "code",
   "execution_count": 2,
   "id": "c18974dd-a84a-4e11-b222-be8df72823fb",
   "metadata": {},
   "outputs": [
    {
     "name": "stdout",
     "output_type": "stream",
     "text": [
      "md.log\tmd.traj\n"
     ]
    }
   ],
   "source": [
    "!ls ../0_setup/md/packmol-CH4-in-H2O=32-seed=3-blyp-npt=298/"
   ]
  },
  {
   "cell_type": "code",
   "execution_count": 3,
   "id": "8a18c1f0-0760-4024-b91b-f22af8af7aa1",
   "metadata": {},
   "outputs": [],
   "source": [
    "infer_device: str = 'cpu'\n",
    "temperature = 298\n",
    "steps: int = 512\n",
    "initial_geometry = '../0_setup/final-geometries/packmol-CH4-in-H2O=32-seed=3-blyp.vasp'\n",
    "reference_trajectory = '../0_setup/md/packmol-CH4-in-H2O=32-seed=3-blyp-npt=298/md.traj'"
   ]
  },
  {
   "cell_type": "code",
   "execution_count": 4,
   "id": "4c2a74d7-d167-4a75-a057-fccd5257fa30",
   "metadata": {},
   "outputs": [],
   "source": [
    "_initial_geometry = read(initial_geometry)\n",
    "_reference_trajectory = read(reference_trajectory, index=':')"
   ]
  },
  {
   "cell_type": "code",
   "execution_count": 5,
   "id": "2027c61e-e2b2-4be3-bd94-27a966c16b62",
   "metadata": {},
   "outputs": [
    {
     "data": {
      "text/plain": [
       "0.0033003300330033004"
      ]
     },
     "execution_count": 5,
     "metadata": {},
     "output_type": "execute_result"
    }
   ],
   "source": [
    "np.isclose(\n",
    "    _reference_trajectory[0].get_positions(),\n",
    "    _initial_geometry.positions\n",
    ").mean()"
   ]
  },
  {
   "cell_type": "markdown",
   "id": "5961a17b-97cf-4ffe-9dfc-eaeffbb36730",
   "metadata": {},
   "source": [
    "### get ensemble members from directory"
   ]
  },
  {
   "cell_type": "code",
   "execution_count": 41,
   "id": "10bd6bc4-3911-49dd-97ba-34dd966b919b",
   "metadata": {},
   "outputs": [],
   "source": [
    "model_files = os.listdir('ensemble/')\n",
    "model_files = [Path('ensemble')/f for f in model_files]#[:2]"
   ]
  },
  {
   "cell_type": "markdown",
   "id": "e253786d-7287-4591-bbfa-9f50dc829047",
   "metadata": {},
   "source": [
    "MACECalculator can take multiple models in a list"
   ]
  },
  {
   "cell_type": "code",
   "execution_count": 42,
   "id": "d75474ac-332c-4cf1-b5dc-af240a88be12",
   "metadata": {},
   "outputs": [
    {
     "data": {
      "text/plain": [
       "[PosixPath('ensemble/model_2.pt'),\n",
       " PosixPath('ensemble/model_3.pt'),\n",
       " PosixPath('ensemble/model_0.pt'),\n",
       " PosixPath('ensemble/model_1.pt')]"
      ]
     },
     "execution_count": 42,
     "metadata": {},
     "output_type": "execute_result"
    }
   ],
   "source": [
    "model_files"
   ]
  },
  {
   "cell_type": "code",
   "execution_count": 43,
   "id": "78f19d5b-c6ff-4120-9b28-1d0a2299fc2a",
   "metadata": {},
   "outputs": [
    {
     "name": "stdout",
     "output_type": "stream",
     "text": [
      "Running committee mace with 4 models\n",
      "No dtype selected, switching to float32 to match model dtype.\n"
     ]
    }
   ],
   "source": [
    "calc = MACECalculator(model_paths=model_files, device='cpu')"
   ]
  },
  {
   "cell_type": "code",
   "execution_count": 44,
   "id": "7cb67ccd-1850-46d3-9f96-01c1b4d6c2be",
   "metadata": {},
   "outputs": [],
   "source": [
    "atoms = read(reference_trajectory, index='0')"
   ]
  },
  {
   "cell_type": "code",
   "execution_count": 45,
   "id": "dfb584b7-b126-4d09-bb7c-064d2c3fb303",
   "metadata": {},
   "outputs": [
    {
     "data": {
      "text/plain": [
       "Atoms(symbols='CH68O32', pbc=True, cell=[10.288817093428836, 10.288817093428836, 10.288817093428836], momenta=..., calculator=SinglePointCalculator(...))"
      ]
     },
     "execution_count": 45,
     "metadata": {},
     "output_type": "execute_result"
    }
   ],
   "source": [
    "atoms"
   ]
  },
  {
   "cell_type": "code",
   "execution_count": 46,
   "id": "a0bea669-1bb8-4824-a675-4a80fce210bb",
   "metadata": {},
   "outputs": [
    {
     "data": {
      "text/plain": [
       "(101, 3)"
      ]
     },
     "execution_count": 46,
     "metadata": {},
     "output_type": "execute_result"
    }
   ],
   "source": [
    "atoms.get_positions().shape"
   ]
  },
  {
   "cell_type": "code",
   "execution_count": 47,
   "id": "4f097efa-3848-4f09-812c-1dc8b1b00f5f",
   "metadata": {},
   "outputs": [],
   "source": [
    "calc.calculate(atoms)"
   ]
  },
  {
   "cell_type": "code",
   "execution_count": 48,
   "id": "2464ca17-e436-4012-bbf1-7f1f4ae4cc8a",
   "metadata": {},
   "outputs": [],
   "source": [
    "atoms.calc = calc"
   ]
  },
  {
   "cell_type": "markdown",
   "id": "3c4100df-0aa3-43bf-a1b1-97c5273141c3",
   "metadata": {},
   "source": [
    "## Does the mean over the ensemble match?"
   ]
  },
  {
   "cell_type": "code",
   "execution_count": 49,
   "id": "6dd7410e-b7ff-44c8-83c2-7e2e232606b0",
   "metadata": {},
   "outputs": [
    {
     "data": {
      "text/plain": [
       "-15218.29296875"
      ]
     },
     "execution_count": 49,
     "metadata": {},
     "output_type": "execute_result"
    }
   ],
   "source": [
    "atoms.get_potential_energy()"
   ]
  },
  {
   "cell_type": "code",
   "execution_count": 50,
   "id": "59fea96c-0e15-42f8-8e01-9eeb4823dff1",
   "metadata": {},
   "outputs": [
    {
     "data": {
      "text/plain": [
       "-15218.29296875"
      ]
     },
     "execution_count": 50,
     "metadata": {},
     "output_type": "execute_result"
    }
   ],
   "source": [
    "calc.get_potential_energy()"
   ]
  },
  {
   "cell_type": "code",
   "execution_count": 51,
   "id": "89a86bca-f02f-490e-91bd-3ed0aa209ad4",
   "metadata": {},
   "outputs": [
    {
     "data": {
      "text/plain": [
       "array([-15218.284, -15218.295, -15218.293, -15218.303], dtype=float32)"
      ]
     },
     "execution_count": 51,
     "metadata": {},
     "output_type": "execute_result"
    }
   ],
   "source": [
    "calc.get_potential_energies()"
   ]
  },
  {
   "cell_type": "code",
   "execution_count": 52,
   "id": "ef81f0bc-8158-4d19-86b8-53816007575d",
   "metadata": {},
   "outputs": [
    {
     "data": {
      "text/plain": [
       "-15218.293"
      ]
     },
     "execution_count": 52,
     "metadata": {},
     "output_type": "execute_result"
    }
   ],
   "source": [
    "calc.get_potential_energies().mean()"
   ]
  },
  {
   "cell_type": "code",
   "execution_count": 53,
   "id": "5c7cf18b-8c3b-4011-a249-7fa383540a3e",
   "metadata": {},
   "outputs": [
    {
     "data": {
      "text/plain": [
       "True"
      ]
     },
     "execution_count": 53,
     "metadata": {},
     "output_type": "execute_result"
    }
   ],
   "source": [
    "calc.get_potential_energies().mean() == calc.get_potential_energy()"
   ]
  },
  {
   "cell_type": "markdown",
   "id": "77d7a387-5768-4925-b929-c02f9069d484",
   "metadata": {},
   "source": [
    "## Yes"
   ]
  },
  {
   "cell_type": "markdown",
   "id": "6a9e6dee-0e1b-46f1-833b-72aa2895061e",
   "metadata": {},
   "source": [
    "## Do the variances match? "
   ]
  },
  {
   "cell_type": "code",
   "execution_count": 54,
   "id": "7a6a6b75-95b3-40a5-9d94-6e208edf1533",
   "metadata": {},
   "outputs": [
    {
     "data": {
      "text/plain": [
       "4.410743713378906e-05"
      ]
     },
     "execution_count": 54,
     "metadata": {},
     "output_type": "execute_result"
    }
   ],
   "source": [
    "atoms.calc.get_property('energy_var')"
   ]
  },
  {
   "cell_type": "code",
   "execution_count": 55,
   "id": "6612e661-2477-4c15-8745-a727d636e4b1",
   "metadata": {},
   "outputs": [
    {
     "data": {
      "text/plain": [
       "4.4107437e-05"
      ]
     },
     "execution_count": 55,
     "metadata": {},
     "output_type": "execute_result"
    }
   ],
   "source": [
    "calc.get_potential_energies().var(ddof=0)"
   ]
  },
  {
   "cell_type": "markdown",
   "id": "c311fcbe-e7f0-4bce-987c-e4a8bc8c09ae",
   "metadata": {},
   "source": [
    "## no"
   ]
  },
  {
   "cell_type": "code",
   "execution_count": 56,
   "id": "02967efb-608f-4d6f-b065-64c9abe3caa3",
   "metadata": {},
   "outputs": [
    {
     "data": {
      "text/plain": [
       "array([[ 4.71738309,  4.30004603,  4.48487714],\n",
       "       [ 4.66705817, 10.18067382,  0.23975715],\n",
       "       [ 9.96006038,  9.13071999,  6.28413929]])"
      ]
     },
     "execution_count": 56,
     "metadata": {},
     "output_type": "execute_result"
    }
   ],
   "source": [
    "atoms.positions[:3]"
   ]
  },
  {
   "cell_type": "code",
   "execution_count": 57,
   "id": "641667c3-881a-4619-815b-1be3034c5737",
   "metadata": {},
   "outputs": [
    {
     "data": {
      "text/plain": [
       "list"
      ]
     },
     "execution_count": 57,
     "metadata": {},
     "output_type": "execute_result"
    }
   ],
   "source": [
    "type(calc.models)"
   ]
  },
  {
   "cell_type": "code",
   "execution_count": 58,
   "id": "3bbd3fac-2fc7-4688-bbcd-7b924ba46e60",
   "metadata": {},
   "outputs": [
    {
     "data": {
      "text/plain": [
       "4"
      ]
     },
     "execution_count": 58,
     "metadata": {},
     "output_type": "execute_result"
    }
   ],
   "source": [
    "len(calc.models)"
   ]
  },
  {
   "cell_type": "code",
   "execution_count": 59,
   "id": "acdc90a0-c9ed-49c3-9f49-b44f21e04c04",
   "metadata": {},
   "outputs": [
    {
     "data": {
      "text/plain": [
       "(4, 101, 3)"
      ]
     },
     "execution_count": 59,
     "metadata": {},
     "output_type": "execute_result"
    }
   ],
   "source": [
    "calc.get_property('forces_comm').shape"
   ]
  },
  {
   "cell_type": "code",
   "execution_count": 65,
   "id": "2c8fe37d-1121-4006-8ee4-2d11dc302aa7",
   "metadata": {},
   "outputs": [
    {
     "data": {
      "text/plain": [
       "6.064118e-06"
      ]
     },
     "execution_count": 65,
     "metadata": {},
     "output_type": "execute_result"
    }
   ],
   "source": [
    "calc.get_property('forces_comm').var(0).max()"
   ]
  },
  {
   "cell_type": "code",
   "execution_count": null,
   "id": "ef43fcbb-415d-4c54-8703-fa4c0e480b50",
   "metadata": {},
   "outputs": [],
   "source": []
  }
 ],
 "metadata": {
  "kernelspec": {
   "display_name": "Python 3 (ipykernel)",
   "language": "python",
   "name": "python3"
  },
  "language_info": {
   "codemirror_mode": {
    "name": "ipython",
    "version": 3
   },
   "file_extension": ".py",
   "mimetype": "text/x-python",
   "name": "python",
   "nbconvert_exporter": "python",
   "pygments_lexer": "ipython3",
   "version": "3.11.0"
  }
 },
 "nbformat": 4,
 "nbformat_minor": 5
}
