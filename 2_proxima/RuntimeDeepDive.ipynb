{
 "cells": [
  {
   "cell_type": "code",
   "execution_count": null,
   "id": "9ca15f47-6429-4887-8392-22192d7250de",
   "metadata": {},
   "outputs": [],
   "source": []
  },
  {
   "cell_type": "code",
   "execution_count": 1,
   "id": "7044c918-090a-43e1-8780-4a02e3b9f515",
   "metadata": {},
   "outputs": [
    {
     "name": "stderr",
     "output_type": "stream",
     "text": [
      "/home/mike/miniconda3/envs/cascade/lib/python3.11/site-packages/torchani/aev.py:16: UserWarning: cuaev not installed\n",
      "  warnings.warn(\"cuaev not installed\")\n",
      "/home/mike/miniconda3/envs/cascade/lib/python3.11/site-packages/ignite/handlers/checkpoint.py:16: DeprecationWarning: `TorchScript` support for functional optimizers is deprecated and will be removed in a future PyTorch release. Consider using the `torch.compile` optimizer instead.\n",
      "  from torch.distributed.optim import ZeroRedundancyOptimizer\n"
     ]
    }
   ],
   "source": [
    "import os\n",
    "from glob import glob\n",
    "from datetime import datetime\n",
    "\n",
    "%matplotlib inline\n",
    "from matplotlib import pyplot as plt\n",
    "import seaborn as sns\n",
    "import matplotlib as mpl\n",
    "import matplotlib.patches as mpatches\n",
    "\n",
    "from cascade.learning.torchani import TorchANI\n",
    "from pathlib import Path\n",
    "from ase.io import read\n",
    "from ase import units\n",
    "import pickle as pkl\n",
    "import pandas as pd\n",
    "import numpy as np\n",
    "import json\n",
    "\n",
    "pd.set_option('display.max_rows', 500)\n",
    "pd.set_option('display.max_columns', 500)\n",
    "pd.set_option('display.width', 1000)"
   ]
  },
  {
   "cell_type": "code",
   "execution_count": 2,
   "id": "e5b51032-4747-40f6-a8a6-32d3fa765713",
   "metadata": {
    "scrolled": true
   },
   "outputs": [
    {
     "data": {
      "text/plain": [
       "['runs/800K-npt-single-train/si-vacancy-2x2x2-temp=800.0-method=lda-blend=0-00e6f7df',\n",
       " 'runs/800K-npt-single-train/si-vacancy-2x2x2-temp=800.0-method=lda-blend=0-05bd7fef',\n",
       " 'runs/800K-npt-single-train/si-vacancy-2x2x2-temp=800.0-method=lda-blend=0-0aff6fba',\n",
       " 'runs/800K-npt-single-train/si-vacancy-2x2x2-temp=800.0-method=lda-blend=0-105292bb',\n",
       " 'runs/800K-npt-single-train/si-vacancy-2x2x2-temp=800.0-method=lda-blend=0-1418cfda',\n",
       " 'runs/800K-npt-single-train/si-vacancy-2x2x2-temp=800.0-method=lda-blend=0-160f5dc6',\n",
       " 'runs/800K-npt-single-train/si-vacancy-2x2x2-temp=800.0-method=lda-blend=0-1ffe8b75',\n",
       " 'runs/800K-npt-single-train/si-vacancy-2x2x2-temp=800.0-method=lda-blend=0-24aacf2b',\n",
       " 'runs/800K-npt-single-train/si-vacancy-2x2x2-temp=800.0-method=lda-blend=0-2fc33503',\n",
       " 'runs/800K-npt-single-train/si-vacancy-2x2x2-temp=800.0-method=lda-blend=0-399f3417',\n",
       " 'runs/800K-npt-single-train/si-vacancy-2x2x2-temp=800.0-method=lda-blend=0-3c135b25',\n",
       " 'runs/800K-npt-single-train/si-vacancy-2x2x2-temp=800.0-method=lda-blend=0-41bda030',\n",
       " 'runs/800K-npt-single-train/si-vacancy-2x2x2-temp=800.0-method=lda-blend=0-4202e855',\n",
       " 'runs/800K-npt-single-train/si-vacancy-2x2x2-temp=800.0-method=lda-blend=0-43ad29a4',\n",
       " 'runs/800K-npt-single-train/si-vacancy-2x2x2-temp=800.0-method=lda-blend=0-4e1470ea',\n",
       " 'runs/800K-npt-single-train/si-vacancy-2x2x2-temp=800.0-method=lda-blend=0-5271547c',\n",
       " 'runs/800K-npt-single-train/si-vacancy-2x2x2-temp=800.0-method=lda-blend=0-576ac2ca',\n",
       " 'runs/800K-npt-single-train/si-vacancy-2x2x2-temp=800.0-method=lda-blend=0-68015472',\n",
       " 'runs/800K-npt-single-train/si-vacancy-2x2x2-temp=800.0-method=lda-blend=0-6a2330a6',\n",
       " 'runs/800K-npt-single-train/si-vacancy-2x2x2-temp=800.0-method=lda-blend=0-704a7aac',\n",
       " 'runs/800K-npt-single-train/si-vacancy-2x2x2-temp=800.0-method=lda-blend=0-741e74e4',\n",
       " 'runs/800K-npt-single-train/si-vacancy-2x2x2-temp=800.0-method=lda-blend=0-7c306fa4',\n",
       " 'runs/800K-npt-single-train/si-vacancy-2x2x2-temp=800.0-method=lda-blend=0-85ae0c38',\n",
       " 'runs/800K-npt-single-train/si-vacancy-2x2x2-temp=800.0-method=lda-blend=0-86fcda47',\n",
       " 'runs/800K-npt-single-train/si-vacancy-2x2x2-temp=800.0-method=lda-blend=0-8c47d5f6',\n",
       " 'runs/800K-npt-single-train/si-vacancy-2x2x2-temp=800.0-method=lda-blend=0-8d284b8b',\n",
       " 'runs/800K-npt-single-train/si-vacancy-2x2x2-temp=800.0-method=lda-blend=0-8ea1b743',\n",
       " 'runs/800K-npt-single-train/si-vacancy-2x2x2-temp=800.0-method=lda-blend=0-a5de4688',\n",
       " 'runs/800K-npt-single-train/si-vacancy-2x2x2-temp=800.0-method=lda-blend=0-a74eb1ba',\n",
       " 'runs/800K-npt-single-train/si-vacancy-2x2x2-temp=800.0-method=lda-blend=0-a87fe7ca',\n",
       " 'runs/800K-npt-single-train/si-vacancy-2x2x2-temp=800.0-method=lda-blend=0-aea7d1fc',\n",
       " 'runs/800K-npt-single-train/si-vacancy-2x2x2-temp=800.0-method=lda-blend=0-b0bcd4c2',\n",
       " 'runs/800K-npt-single-train/si-vacancy-2x2x2-temp=800.0-method=lda-blend=0-bec1053a',\n",
       " 'runs/800K-npt-single-train/si-vacancy-2x2x2-temp=800.0-method=lda-blend=0-d842a077',\n",
       " 'runs/800K-npt-single-train/si-vacancy-2x2x2-temp=800.0-method=lda-blend=0-df641e0d',\n",
       " 'runs/800K-npt-single-train/si-vacancy-2x2x2-temp=800.0-method=lda-blend=0-e4161130',\n",
       " 'runs/800K-npt-single-train/si-vacancy-2x2x2-temp=800.0-method=lda-blend=0-e8ec045c',\n",
       " 'runs/800K-npt-single-train/si-vacancy-2x2x2-temp=800.0-method=lda-blend=0-ec64d6a6',\n",
       " 'runs/800K-npt-single-train/si-vacancy-2x2x2-temp=800.0-method=lda-blend=0-f3b5ef7a',\n",
       " 'runs/800K-npt-single-train/si-vacancy-2x2x2-temp=800.0-method=lda-blend=0-f7c408bc',\n",
       " 'runs/800K-npt-single-train/si-vacancy-2x2x2-temp=800.0-method=lda-blend=0-fdf74584',\n",
       " 'runs/800K-npt-single-train/si-vacancy-2x2x2-temp=800.0-method=lda-blend=0-ffae3d1c',\n",
       " 'runs/800K-npt-single-train/si-vacancy-2x2x2-temp=800.0-method=lda-blend=10-0474190d',\n",
       " 'runs/800K-npt-single-train/si-vacancy-2x2x2-temp=800.0-method=lda-blend=10-06819c7d',\n",
       " 'runs/800K-npt-single-train/si-vacancy-2x2x2-temp=800.0-method=lda-blend=10-0a8231d9',\n",
       " 'runs/800K-npt-single-train/si-vacancy-2x2x2-temp=800.0-method=lda-blend=10-0ae9d559',\n",
       " 'runs/800K-npt-single-train/si-vacancy-2x2x2-temp=800.0-method=lda-blend=10-15ddd631',\n",
       " 'runs/800K-npt-single-train/si-vacancy-2x2x2-temp=800.0-method=lda-blend=10-194cd314',\n",
       " 'runs/800K-npt-single-train/si-vacancy-2x2x2-temp=800.0-method=lda-blend=10-1c126fcf',\n",
       " 'runs/800K-npt-single-train/si-vacancy-2x2x2-temp=800.0-method=lda-blend=10-1eb38402',\n",
       " 'runs/800K-npt-single-train/si-vacancy-2x2x2-temp=800.0-method=lda-blend=10-2c3cc071',\n",
       " 'runs/800K-npt-single-train/si-vacancy-2x2x2-temp=800.0-method=lda-blend=10-394f272e',\n",
       " 'runs/800K-npt-single-train/si-vacancy-2x2x2-temp=800.0-method=lda-blend=10-4121c393',\n",
       " 'runs/800K-npt-single-train/si-vacancy-2x2x2-temp=800.0-method=lda-blend=10-42e4fc56',\n",
       " 'runs/800K-npt-single-train/si-vacancy-2x2x2-temp=800.0-method=lda-blend=10-5103b1b4',\n",
       " 'runs/800K-npt-single-train/si-vacancy-2x2x2-temp=800.0-method=lda-blend=10-5218bab6',\n",
       " 'runs/800K-npt-single-train/si-vacancy-2x2x2-temp=800.0-method=lda-blend=10-58c32d14',\n",
       " 'runs/800K-npt-single-train/si-vacancy-2x2x2-temp=800.0-method=lda-blend=10-842df0f8',\n",
       " 'runs/800K-npt-single-train/si-vacancy-2x2x2-temp=800.0-method=lda-blend=10-886af225',\n",
       " 'runs/800K-npt-single-train/si-vacancy-2x2x2-temp=800.0-method=lda-blend=10-920fcbea',\n",
       " 'runs/800K-npt-single-train/si-vacancy-2x2x2-temp=800.0-method=lda-blend=10-978dd067',\n",
       " 'runs/800K-npt-single-train/si-vacancy-2x2x2-temp=800.0-method=lda-blend=10-97cff3ba',\n",
       " 'runs/800K-npt-single-train/si-vacancy-2x2x2-temp=800.0-method=lda-blend=10-9a21eaf5',\n",
       " 'runs/800K-npt-single-train/si-vacancy-2x2x2-temp=800.0-method=lda-blend=10-9b031a63',\n",
       " 'runs/800K-npt-single-train/si-vacancy-2x2x2-temp=800.0-method=lda-blend=10-9bd27cec',\n",
       " 'runs/800K-npt-single-train/si-vacancy-2x2x2-temp=800.0-method=lda-blend=10-ada08444',\n",
       " 'runs/800K-npt-single-train/si-vacancy-2x2x2-temp=800.0-method=lda-blend=10-b205a31d',\n",
       " 'runs/800K-npt-single-train/si-vacancy-2x2x2-temp=800.0-method=lda-blend=10-b51ee3f9',\n",
       " 'runs/800K-npt-single-train/si-vacancy-2x2x2-temp=800.0-method=lda-blend=10-bae87197',\n",
       " 'runs/800K-npt-single-train/si-vacancy-2x2x2-temp=800.0-method=lda-blend=10-c0686dc3',\n",
       " 'runs/800K-npt-single-train/si-vacancy-2x2x2-temp=800.0-method=lda-blend=10-cfe15dbd',\n",
       " 'runs/800K-npt-single-train/si-vacancy-2x2x2-temp=800.0-method=lda-blend=10-d173d31b',\n",
       " 'runs/800K-npt-single-train/si-vacancy-2x2x2-temp=800.0-method=lda-blend=10-e42250b5',\n",
       " 'runs/800K-npt-single-train/si-vacancy-2x2x2-temp=800.0-method=lda-blend=10-ea0e361c',\n",
       " 'runs/800K-npt-single-train/si-vacancy-2x2x2-temp=800.0-method=lda-blend=10-f5572179',\n",
       " 'runs/800K-npt-single-train/si-vacancy-2x2x2-temp=800.0-method=lda-blend=10-f5e2641c',\n",
       " 'runs/800K-npt-single-train/si-vacancy-2x2x2-temp=800.0-method=lda-blend=10-fbcb0b24',\n",
       " 'runs/800K-npt-single-train/si-vacancy-2x2x2-temp=800.0-method=lda-blend=10-ffe10d1f',\n",
       " 'runs/800K-npt-single-train/si-vacancy-2x2x2-temp=800.0-method=lda-blend=20-02638a3a',\n",
       " 'runs/800K-npt-single-train/si-vacancy-2x2x2-temp=800.0-method=lda-blend=20-19e496e9',\n",
       " 'runs/800K-npt-single-train/si-vacancy-2x2x2-temp=800.0-method=lda-blend=20-1b02f9bf',\n",
       " 'runs/800K-npt-single-train/si-vacancy-2x2x2-temp=800.0-method=lda-blend=20-1c8823dd',\n",
       " 'runs/800K-npt-single-train/si-vacancy-2x2x2-temp=800.0-method=lda-blend=20-1eec1d0c',\n",
       " 'runs/800K-npt-single-train/si-vacancy-2x2x2-temp=800.0-method=lda-blend=20-27b761b4',\n",
       " 'runs/800K-npt-single-train/si-vacancy-2x2x2-temp=800.0-method=lda-blend=20-2d3b2466',\n",
       " 'runs/800K-npt-single-train/si-vacancy-2x2x2-temp=800.0-method=lda-blend=20-3ab0d937',\n",
       " 'runs/800K-npt-single-train/si-vacancy-2x2x2-temp=800.0-method=lda-blend=20-3e2e99f7',\n",
       " 'runs/800K-npt-single-train/si-vacancy-2x2x2-temp=800.0-method=lda-blend=20-410c7293',\n",
       " 'runs/800K-npt-single-train/si-vacancy-2x2x2-temp=800.0-method=lda-blend=20-43293701',\n",
       " 'runs/800K-npt-single-train/si-vacancy-2x2x2-temp=800.0-method=lda-blend=20-480f3f83',\n",
       " 'runs/800K-npt-single-train/si-vacancy-2x2x2-temp=800.0-method=lda-blend=20-505dc0ee',\n",
       " 'runs/800K-npt-single-train/si-vacancy-2x2x2-temp=800.0-method=lda-blend=20-54c03254',\n",
       " 'runs/800K-npt-single-train/si-vacancy-2x2x2-temp=800.0-method=lda-blend=20-581af226',\n",
       " 'runs/800K-npt-single-train/si-vacancy-2x2x2-temp=800.0-method=lda-blend=20-5a69aa7e',\n",
       " 'runs/800K-npt-single-train/si-vacancy-2x2x2-temp=800.0-method=lda-blend=20-6b53c4f0',\n",
       " 'runs/800K-npt-single-train/si-vacancy-2x2x2-temp=800.0-method=lda-blend=20-6bd8440d',\n",
       " 'runs/800K-npt-single-train/si-vacancy-2x2x2-temp=800.0-method=lda-blend=20-729b9c6a',\n",
       " 'runs/800K-npt-single-train/si-vacancy-2x2x2-temp=800.0-method=lda-blend=20-74ab06f2',\n",
       " 'runs/800K-npt-single-train/si-vacancy-2x2x2-temp=800.0-method=lda-blend=20-7e942cad',\n",
       " 'runs/800K-npt-single-train/si-vacancy-2x2x2-temp=800.0-method=lda-blend=20-8ae14c5e',\n",
       " 'runs/800K-npt-single-train/si-vacancy-2x2x2-temp=800.0-method=lda-blend=20-8d3aa32a',\n",
       " 'runs/800K-npt-single-train/si-vacancy-2x2x2-temp=800.0-method=lda-blend=20-9066ba4f',\n",
       " 'runs/800K-npt-single-train/si-vacancy-2x2x2-temp=800.0-method=lda-blend=20-9fb6a2d7',\n",
       " 'runs/800K-npt-single-train/si-vacancy-2x2x2-temp=800.0-method=lda-blend=20-b4f49416',\n",
       " 'runs/800K-npt-single-train/si-vacancy-2x2x2-temp=800.0-method=lda-blend=20-d90b4754',\n",
       " 'runs/800K-npt-single-train/si-vacancy-2x2x2-temp=800.0-method=lda-blend=20-dd2c9b98',\n",
       " 'runs/800K-npt-single-train/si-vacancy-2x2x2-temp=800.0-method=lda-blend=20-dd7be245',\n",
       " 'runs/800K-npt-single-train/si-vacancy-2x2x2-temp=800.0-method=lda-blend=20-de3a275a',\n",
       " 'runs/800K-npt-single-train/si-vacancy-2x2x2-temp=800.0-method=lda-blend=20-e0a9558a',\n",
       " 'runs/800K-npt-single-train/si-vacancy-2x2x2-temp=800.0-method=lda-blend=20-ed7be914',\n",
       " 'runs/800K-npt-single-train/si-vacancy-2x2x2-temp=800.0-method=lda-blend=20-ef76acbf',\n",
       " 'runs/800K-npt-single-train/si-vacancy-2x2x2-temp=800.0-method=lda-blend=20-f05b5eda',\n",
       " 'runs/800K-npt-single-train/si-vacancy-2x2x2-temp=800.0-method=lda-blend=20-fd4e303c',\n",
       " 'runs/800K-npt-single-train/si-vacancy-2x2x2-temp=800.0-method=lda-blend=20-ff55457c']"
      ]
     },
     "execution_count": 2,
     "metadata": {},
     "output_type": "execute_result"
    }
   ],
   "source": [
    "run_dirs = sorted(glob('runs/800K-npt-single-train/si*temp=*00*blend*'))\n",
    "run_dirs"
   ]
  },
  {
   "cell_type": "code",
   "execution_count": 3,
   "id": "ee8c6718-d101-4fbc-b148-8ce20a6497a8",
   "metadata": {},
   "outputs": [],
   "source": [
    "run_dirs = [d for d in run_dirs if 'blend=20' not in d]"
   ]
  },
  {
   "cell_type": "code",
   "execution_count": 4,
   "id": "34b8fa74-915f-4061-a61c-0d2268d5280e",
   "metadata": {},
   "outputs": [
    {
     "data": {
      "text/plain": [
       "(78, 30)"
      ]
     },
     "execution_count": 4,
     "metadata": {},
     "output_type": "execute_result"
    }
   ],
   "source": [
    "params = []\n",
    "for d in run_dirs:\n",
    "    try:\n",
    "        params.append(json.loads((Path(d)/'params.json').read_text()))\n",
    "    except: \n",
    "        print(f'couldnt find {d}/params.json; skipping')\n",
    "        continue\n",
    "    params[-1]['dir'] = d\n",
    "params = pd.DataFrame(params)\n",
    "params.shape"
   ]
  },
  {
   "cell_type": "code",
   "execution_count": 5,
   "id": "8da1b768-9999-41fd-9752-98bce25efb8d",
   "metadata": {},
   "outputs": [],
   "source": [
    "params = params.query('min_target_frac == 0.1 or min_target_frac == 1')\n",
    "params = params.query('n_blending_steps == 0 or n_blending_steps == 10')\n",
    "params = params.query('target_error != 0.45')"
   ]
  },
  {
   "cell_type": "code",
   "execution_count": 6,
   "id": "7df7834b-9135-478e-8628-143137dcd040",
   "metadata": {},
   "outputs": [],
   "source": [
    "meth = []\n",
    "for i, row in params.iterrows():\n",
    "    if row['n_blending_steps'] == 0 and row['min_target_frac'] == 1:\n",
    "        meth.append('DFT (reference)')\n",
    "    elif row['n_blending_steps'] == 0: \n",
    "        meth.append('Proxima')\n",
    "    else: \n",
    "        meth.append('Proxima+blend')\n",
    "params['Method'] = pd.Categorical(meth, categories=['Proxima', 'Proxima+blend', 'DFT (reference)'])"
   ]
  },
  {
   "cell_type": "code",
   "execution_count": null,
   "id": "ee42fa0b-2930-4b89-b841-009829d89a8a",
   "metadata": {},
   "outputs": [],
   "source": []
  },
  {
   "cell_type": "code",
   "execution_count": 7,
   "id": "fb0c906f-c2da-44c2-9141-e220a2a34e6d",
   "metadata": {},
   "outputs": [
    {
     "data": {
      "text/html": [
       "<div>\n",
       "<style scoped>\n",
       "    .dataframe tbody tr th:only-of-type {\n",
       "        vertical-align: middle;\n",
       "    }\n",
       "\n",
       "    .dataframe tbody tr th {\n",
       "        vertical-align: top;\n",
       "    }\n",
       "\n",
       "    .dataframe thead th {\n",
       "        text-align: right;\n",
       "    }\n",
       "</style>\n",
       "<table border=\"1\" class=\"dataframe\">\n",
       "  <thead>\n",
       "    <tr style=\"text-align: right;\">\n",
       "      <th></th>\n",
       "      <th>seed</th>\n",
       "      <th>temperature</th>\n",
       "      <th>n_blending_steps</th>\n",
       "      <th>min_target_frac</th>\n",
       "      <th>target_error</th>\n",
       "      <th>stress_tau</th>\n",
       "      <th>steps</th>\n",
       "    </tr>\n",
       "  </thead>\n",
       "  <tbody>\n",
       "    <tr>\n",
       "      <th>count</th>\n",
       "      <td>18.000000</td>\n",
       "      <td>18.0</td>\n",
       "      <td>18.000000</td>\n",
       "      <td>18.000000</td>\n",
       "      <td>1.800000e+01</td>\n",
       "      <td>18.0</td>\n",
       "      <td>18.0</td>\n",
       "    </tr>\n",
       "    <tr>\n",
       "      <th>mean</th>\n",
       "      <td>2.500000</td>\n",
       "      <td>800.0</td>\n",
       "      <td>3.333333</td>\n",
       "      <td>0.400000</td>\n",
       "      <td>6.000000e-01</td>\n",
       "      <td>25.0</td>\n",
       "      <td>2048.0</td>\n",
       "    </tr>\n",
       "    <tr>\n",
       "      <th>std</th>\n",
       "      <td>1.757338</td>\n",
       "      <td>0.0</td>\n",
       "      <td>4.850713</td>\n",
       "      <td>0.436564</td>\n",
       "      <td>4.365641e-01</td>\n",
       "      <td>0.0</td>\n",
       "      <td>0.0</td>\n",
       "    </tr>\n",
       "    <tr>\n",
       "      <th>min</th>\n",
       "      <td>0.000000</td>\n",
       "      <td>800.0</td>\n",
       "      <td>0.000000</td>\n",
       "      <td>0.100000</td>\n",
       "      <td>1.000000e-12</td>\n",
       "      <td>25.0</td>\n",
       "      <td>2048.0</td>\n",
       "    </tr>\n",
       "    <tr>\n",
       "      <th>25%</th>\n",
       "      <td>1.000000</td>\n",
       "      <td>800.0</td>\n",
       "      <td>0.000000</td>\n",
       "      <td>0.100000</td>\n",
       "      <td>1.000000e-12</td>\n",
       "      <td>25.0</td>\n",
       "      <td>2048.0</td>\n",
       "    </tr>\n",
       "    <tr>\n",
       "      <th>50%</th>\n",
       "      <td>2.500000</td>\n",
       "      <td>800.0</td>\n",
       "      <td>0.000000</td>\n",
       "      <td>0.100000</td>\n",
       "      <td>9.000000e-01</td>\n",
       "      <td>25.0</td>\n",
       "      <td>2048.0</td>\n",
       "    </tr>\n",
       "    <tr>\n",
       "      <th>75%</th>\n",
       "      <td>4.000000</td>\n",
       "      <td>800.0</td>\n",
       "      <td>10.000000</td>\n",
       "      <td>1.000000</td>\n",
       "      <td>9.000000e-01</td>\n",
       "      <td>25.0</td>\n",
       "      <td>2048.0</td>\n",
       "    </tr>\n",
       "    <tr>\n",
       "      <th>max</th>\n",
       "      <td>5.000000</td>\n",
       "      <td>800.0</td>\n",
       "      <td>10.000000</td>\n",
       "      <td>1.000000</td>\n",
       "      <td>9.000000e-01</td>\n",
       "      <td>25.0</td>\n",
       "      <td>2048.0</td>\n",
       "    </tr>\n",
       "  </tbody>\n",
       "</table>\n",
       "</div>"
      ],
      "text/plain": [
       "            seed  temperature  n_blending_steps  min_target_frac  target_error  stress_tau   steps\n",
       "count  18.000000         18.0         18.000000        18.000000  1.800000e+01        18.0    18.0\n",
       "mean    2.500000        800.0          3.333333         0.400000  6.000000e-01        25.0  2048.0\n",
       "std     1.757338          0.0          4.850713         0.436564  4.365641e-01         0.0     0.0\n",
       "min     0.000000        800.0          0.000000         0.100000  1.000000e-12        25.0  2048.0\n",
       "25%     1.000000        800.0          0.000000         0.100000  1.000000e-12        25.0  2048.0\n",
       "50%     2.500000        800.0          0.000000         0.100000  9.000000e-01        25.0  2048.0\n",
       "75%     4.000000        800.0         10.000000         1.000000  9.000000e-01        25.0  2048.0\n",
       "max     5.000000        800.0         10.000000         1.000000  9.000000e-01        25.0  2048.0"
      ]
     },
     "execution_count": 7,
     "metadata": {},
     "output_type": "execute_result"
    }
   ],
   "source": [
    "param_vars = ['seed', 'temperature', 'n_blending_steps', 'min_target_frac', 'target_error', 'stress_tau', 'steps']\n",
    "_params = params[param_vars].sort_values(param_vars)\n",
    "_params.describe()"
   ]
  },
  {
   "cell_type": "code",
   "execution_count": 8,
   "id": "c533a637-2dcf-4f06-a3ff-2ef674b5bf2b",
   "metadata": {},
   "outputs": [
    {
     "data": {
      "text/html": [
       "<div>\n",
       "<style scoped>\n",
       "    .dataframe tbody tr th:only-of-type {\n",
       "        vertical-align: middle;\n",
       "    }\n",
       "\n",
       "    .dataframe tbody tr th {\n",
       "        vertical-align: top;\n",
       "    }\n",
       "\n",
       "    .dataframe thead th {\n",
       "        text-align: right;\n",
       "    }\n",
       "</style>\n",
       "<table border=\"1\" class=\"dataframe\">\n",
       "  <thead>\n",
       "    <tr style=\"text-align: right;\">\n",
       "      <th></th>\n",
       "      <th>seed</th>\n",
       "      <th>temperature</th>\n",
       "      <th>n_blending_steps</th>\n",
       "      <th>min_target_frac</th>\n",
       "      <th>target_error</th>\n",
       "      <th>stress_tau</th>\n",
       "      <th>steps</th>\n",
       "    </tr>\n",
       "  </thead>\n",
       "  <tbody>\n",
       "    <tr>\n",
       "      <th>15</th>\n",
       "      <td>0</td>\n",
       "      <td>800.0</td>\n",
       "      <td>0</td>\n",
       "      <td>0.1</td>\n",
       "      <td>9.000000e-01</td>\n",
       "      <td>25.0</td>\n",
       "      <td>2048</td>\n",
       "    </tr>\n",
       "    <tr>\n",
       "      <th>4</th>\n",
       "      <td>0</td>\n",
       "      <td>800.0</td>\n",
       "      <td>0</td>\n",
       "      <td>1.0</td>\n",
       "      <td>1.000000e-12</td>\n",
       "      <td>25.0</td>\n",
       "      <td>2048</td>\n",
       "    </tr>\n",
       "    <tr>\n",
       "      <th>77</th>\n",
       "      <td>0</td>\n",
       "      <td>800.0</td>\n",
       "      <td>10</td>\n",
       "      <td>0.1</td>\n",
       "      <td>9.000000e-01</td>\n",
       "      <td>25.0</td>\n",
       "      <td>2048</td>\n",
       "    </tr>\n",
       "    <tr>\n",
       "      <th>35</th>\n",
       "      <td>1</td>\n",
       "      <td>800.0</td>\n",
       "      <td>0</td>\n",
       "      <td>0.1</td>\n",
       "      <td>9.000000e-01</td>\n",
       "      <td>25.0</td>\n",
       "      <td>2048</td>\n",
       "    </tr>\n",
       "    <tr>\n",
       "      <th>14</th>\n",
       "      <td>1</td>\n",
       "      <td>800.0</td>\n",
       "      <td>0</td>\n",
       "      <td>1.0</td>\n",
       "      <td>1.000000e-12</td>\n",
       "      <td>25.0</td>\n",
       "      <td>2048</td>\n",
       "    </tr>\n",
       "    <tr>\n",
       "      <th>46</th>\n",
       "      <td>1</td>\n",
       "      <td>800.0</td>\n",
       "      <td>10</td>\n",
       "      <td>0.1</td>\n",
       "      <td>9.000000e-01</td>\n",
       "      <td>25.0</td>\n",
       "      <td>2048</td>\n",
       "    </tr>\n",
       "    <tr>\n",
       "      <th>3</th>\n",
       "      <td>2</td>\n",
       "      <td>800.0</td>\n",
       "      <td>0</td>\n",
       "      <td>0.1</td>\n",
       "      <td>9.000000e-01</td>\n",
       "      <td>25.0</td>\n",
       "      <td>2048</td>\n",
       "    </tr>\n",
       "    <tr>\n",
       "      <th>18</th>\n",
       "      <td>2</td>\n",
       "      <td>800.0</td>\n",
       "      <td>0</td>\n",
       "      <td>1.0</td>\n",
       "      <td>1.000000e-12</td>\n",
       "      <td>25.0</td>\n",
       "      <td>2048</td>\n",
       "    </tr>\n",
       "    <tr>\n",
       "      <th>44</th>\n",
       "      <td>2</td>\n",
       "      <td>800.0</td>\n",
       "      <td>10</td>\n",
       "      <td>0.1</td>\n",
       "      <td>9.000000e-01</td>\n",
       "      <td>25.0</td>\n",
       "      <td>2048</td>\n",
       "    </tr>\n",
       "    <tr>\n",
       "      <th>20</th>\n",
       "      <td>3</td>\n",
       "      <td>800.0</td>\n",
       "      <td>0</td>\n",
       "      <td>0.1</td>\n",
       "      <td>9.000000e-01</td>\n",
       "      <td>25.0</td>\n",
       "      <td>2048</td>\n",
       "    </tr>\n",
       "    <tr>\n",
       "      <th>10</th>\n",
       "      <td>3</td>\n",
       "      <td>800.0</td>\n",
       "      <td>0</td>\n",
       "      <td>1.0</td>\n",
       "      <td>1.000000e-12</td>\n",
       "      <td>25.0</td>\n",
       "      <td>2048</td>\n",
       "    </tr>\n",
       "    <tr>\n",
       "      <th>64</th>\n",
       "      <td>3</td>\n",
       "      <td>800.0</td>\n",
       "      <td>10</td>\n",
       "      <td>0.1</td>\n",
       "      <td>9.000000e-01</td>\n",
       "      <td>25.0</td>\n",
       "      <td>2048</td>\n",
       "    </tr>\n",
       "    <tr>\n",
       "      <th>2</th>\n",
       "      <td>4</td>\n",
       "      <td>800.0</td>\n",
       "      <td>0</td>\n",
       "      <td>0.1</td>\n",
       "      <td>9.000000e-01</td>\n",
       "      <td>25.0</td>\n",
       "      <td>2048</td>\n",
       "    </tr>\n",
       "    <tr>\n",
       "      <th>21</th>\n",
       "      <td>4</td>\n",
       "      <td>800.0</td>\n",
       "      <td>0</td>\n",
       "      <td>1.0</td>\n",
       "      <td>1.000000e-12</td>\n",
       "      <td>25.0</td>\n",
       "      <td>2048</td>\n",
       "    </tr>\n",
       "    <tr>\n",
       "      <th>43</th>\n",
       "      <td>4</td>\n",
       "      <td>800.0</td>\n",
       "      <td>10</td>\n",
       "      <td>0.1</td>\n",
       "      <td>9.000000e-01</td>\n",
       "      <td>25.0</td>\n",
       "      <td>2048</td>\n",
       "    </tr>\n",
       "    <tr>\n",
       "      <th>12</th>\n",
       "      <td>5</td>\n",
       "      <td>800.0</td>\n",
       "      <td>0</td>\n",
       "      <td>0.1</td>\n",
       "      <td>9.000000e-01</td>\n",
       "      <td>25.0</td>\n",
       "      <td>2048</td>\n",
       "    </tr>\n",
       "    <tr>\n",
       "      <th>34</th>\n",
       "      <td>5</td>\n",
       "      <td>800.0</td>\n",
       "      <td>0</td>\n",
       "      <td>1.0</td>\n",
       "      <td>1.000000e-12</td>\n",
       "      <td>25.0</td>\n",
       "      <td>2048</td>\n",
       "    </tr>\n",
       "    <tr>\n",
       "      <th>57</th>\n",
       "      <td>5</td>\n",
       "      <td>800.0</td>\n",
       "      <td>10</td>\n",
       "      <td>0.1</td>\n",
       "      <td>9.000000e-01</td>\n",
       "      <td>25.0</td>\n",
       "      <td>2048</td>\n",
       "    </tr>\n",
       "  </tbody>\n",
       "</table>\n",
       "</div>"
      ],
      "text/plain": [
       "    seed  temperature  n_blending_steps  min_target_frac  target_error  stress_tau  steps\n",
       "15     0        800.0                 0              0.1  9.000000e-01        25.0   2048\n",
       "4      0        800.0                 0              1.0  1.000000e-12        25.0   2048\n",
       "77     0        800.0                10              0.1  9.000000e-01        25.0   2048\n",
       "35     1        800.0                 0              0.1  9.000000e-01        25.0   2048\n",
       "14     1        800.0                 0              1.0  1.000000e-12        25.0   2048\n",
       "46     1        800.0                10              0.1  9.000000e-01        25.0   2048\n",
       "3      2        800.0                 0              0.1  9.000000e-01        25.0   2048\n",
       "18     2        800.0                 0              1.0  1.000000e-12        25.0   2048\n",
       "44     2        800.0                10              0.1  9.000000e-01        25.0   2048\n",
       "20     3        800.0                 0              0.1  9.000000e-01        25.0   2048\n",
       "10     3        800.0                 0              1.0  1.000000e-12        25.0   2048\n",
       "64     3        800.0                10              0.1  9.000000e-01        25.0   2048\n",
       "2      4        800.0                 0              0.1  9.000000e-01        25.0   2048\n",
       "21     4        800.0                 0              1.0  1.000000e-12        25.0   2048\n",
       "43     4        800.0                10              0.1  9.000000e-01        25.0   2048\n",
       "12     5        800.0                 0              0.1  9.000000e-01        25.0   2048\n",
       "34     5        800.0                 0              1.0  1.000000e-12        25.0   2048\n",
       "57     5        800.0                10              0.1  9.000000e-01        25.0   2048"
      ]
     },
     "execution_count": 8,
     "metadata": {},
     "output_type": "execute_result"
    }
   ],
   "source": [
    "_params"
   ]
  },
  {
   "cell_type": "code",
   "execution_count": 9,
   "id": "985d388b-ce01-41e1-b4b4-4982059117fe",
   "metadata": {},
   "outputs": [],
   "source": [
    "assert not _params.duplicated().any()"
   ]
  },
  {
   "cell_type": "code",
   "execution_count": null,
   "id": "f68acfe1-f8c3-4899-91b2-2682f5290eec",
   "metadata": {},
   "outputs": [],
   "source": []
  },
  {
   "cell_type": "markdown",
   "id": "99061712-779b-42de-a07f-e67ee2217917",
   "metadata": {},
   "source": [
    "## Read all of the trajectory data into one dataframe"
   ]
  },
  {
   "cell_type": "code",
   "execution_count": 10,
   "id": "fcaf14a6-f8f4-42c6-a13f-2e4fcba2f082",
   "metadata": {},
   "outputs": [],
   "source": [
    "data = []\n",
    "hashes = []\n",
    "for i, row in params.iterrows(): \n",
    "    # read in the results for each set of parameters\n",
    "    run = row['dir']\n",
    "    try:\n",
    "        _data = pd.read_json(Path(run)/'proxima-log.json', lines=True)\n",
    "    except: \n",
    "        print('couldnt read proxima log for', run)\n",
    "        hashes.append(None)\n",
    "        continue\n",
    "    # make sure to have timestep\n",
    "    _data.reset_index(names='timestep', inplace=True)\n",
    "\n",
    "    # keep the hash of the run\n",
    "    _hash = run.split('-')[-1]\n",
    "    hashes.append(_hash)\n",
    "    _data['hash'] = _hash \n",
    "    #traj = read(Path(run)/'md.traj', index=':')\n",
    "    #break    \n",
    "    # add the parameters to the experiment df for easy plotting, grouping, etc\n",
    "    for var in param_vars:\n",
    "        _data[var] = row[var]\n",
    "    data.append(_data)\n",
    "\n",
    "# track the hashes as well for param lookup\n",
    "params['hash'] = hashes\n",
    "data = pd.concat(data)"
   ]
  },
  {
   "cell_type": "markdown",
   "id": "49f41cd3-8ed6-4e30-a5bd-bdf36d931114",
   "metadata": {},
   "source": [
    "## add method "
   ]
  },
  {
   "cell_type": "code",
   "execution_count": 11,
   "id": "3570068a-7f95-4602-aa82-57aada9e2ca0",
   "metadata": {},
   "outputs": [],
   "source": [
    "meth = []\n",
    "for i, row in params.iterrows():\n",
    "    if row['n_blending_steps'] == 0 and row['min_target_frac'] == 1:\n",
    "        meth.append('DFT (reference)')\n",
    "    elif row['n_blending_steps'] == 0: \n",
    "        meth.append('Proxima')\n",
    "    else: \n",
    "        meth.append('Proxima+blend')\n",
    "params['Method'] = pd.Categorical(meth, categories=['Proxima', 'Proxima+blend', 'DFT (reference)'])"
   ]
  },
  {
   "cell_type": "code",
   "execution_count": 12,
   "id": "0ae10c08-7f69-4e66-a363-a474df61beb2",
   "metadata": {},
   "outputs": [],
   "source": [
    "data = pd.merge(data, params[['hash', 'Method']], on='hash', how='left')"
   ]
  },
  {
   "cell_type": "code",
   "execution_count": null,
   "id": "ed82a3ca-9a55-4576-9f30-5d49207c739e",
   "metadata": {},
   "outputs": [],
   "source": []
  },
  {
   "cell_type": "markdown",
   "id": "caaaa8f2-69ad-40d4-82d2-1482ced91841",
   "metadata": {
    "jp-MarkdownHeadingCollapsed": true
   },
   "source": [
    "## merge data and params"
   ]
  },
  {
   "cell_type": "code",
   "execution_count": 13,
   "id": "f4368d39-8c27-4fd1-a63e-397151d042ca",
   "metadata": {},
   "outputs": [
    {
     "data": {
      "text/html": [
       "<div>\n",
       "<style scoped>\n",
       "    .dataframe tbody tr th:only-of-type {\n",
       "        vertical-align: middle;\n",
       "    }\n",
       "\n",
       "    .dataframe tbody tr th {\n",
       "        vertical-align: top;\n",
       "    }\n",
       "\n",
       "    .dataframe thead th {\n",
       "        text-align: right;\n",
       "    }\n",
       "</style>\n",
       "<table border=\"1\" class=\"dataframe\">\n",
       "  <thead>\n",
       "    <tr style=\"text-align: right;\">\n",
       "      <th></th>\n",
       "      <th>timestep</th>\n",
       "      <th>step_time</th>\n",
       "      <th>energy</th>\n",
       "      <th>maximum_force</th>\n",
       "      <th>stress</th>\n",
       "      <th>temperature</th>\n",
       "      <th>volume</th>\n",
       "      <th>used_surrogate</th>\n",
       "      <th>proxima_alpha</th>\n",
       "      <th>proxima_threshold</th>\n",
       "      <th>proxima_blending_step</th>\n",
       "      <th>proxima_lambda_target</th>\n",
       "      <th>last_uncer</th>\n",
       "      <th>last_error</th>\n",
       "      <th>total_invocations</th>\n",
       "      <th>target_invocations</th>\n",
       "      <th>model_version</th>\n",
       "      <th>hash</th>\n",
       "      <th>seed</th>\n",
       "      <th>n_blending_steps</th>\n",
       "      <th>min_target_frac</th>\n",
       "      <th>target_error</th>\n",
       "      <th>stress_tau</th>\n",
       "      <th>steps</th>\n",
       "      <th>Method</th>\n",
       "    </tr>\n",
       "  </thead>\n",
       "  <tbody>\n",
       "    <tr>\n",
       "      <th>0</th>\n",
       "      <td>0</td>\n",
       "      <td>8.517287</td>\n",
       "      <td>-6683.999990</td>\n",
       "      <td>0.616292</td>\n",
       "      <td>[-0.034178451488095, -0.034089589941489, -0.03...</td>\n",
       "      <td>800.0</td>\n",
       "      <td>1280.824056</td>\n",
       "      <td>False</td>\n",
       "      <td>NaN</td>\n",
       "      <td>NaN</td>\n",
       "      <td>0</td>\n",
       "      <td>NaN</td>\n",
       "      <td>0.026653</td>\n",
       "      <td>0.621075</td>\n",
       "      <td>2</td>\n",
       "      <td>2</td>\n",
       "      <td>0</td>\n",
       "      <td>0aff6fba</td>\n",
       "      <td>4</td>\n",
       "      <td>0</td>\n",
       "      <td>0.1</td>\n",
       "      <td>0.9</td>\n",
       "      <td>25.0</td>\n",
       "      <td>2048</td>\n",
       "      <td>Proxima</td>\n",
       "    </tr>\n",
       "    <tr>\n",
       "      <th>1</th>\n",
       "      <td>1</td>\n",
       "      <td>5.156654</td>\n",
       "      <td>-6683.916856</td>\n",
       "      <td>0.856425</td>\n",
       "      <td>[-0.033986991206128005, -0.033826269874489, -0...</td>\n",
       "      <td>800.0</td>\n",
       "      <td>1281.570358</td>\n",
       "      <td>False</td>\n",
       "      <td>NaN</td>\n",
       "      <td>NaN</td>\n",
       "      <td>0</td>\n",
       "      <td>NaN</td>\n",
       "      <td>0.027269</td>\n",
       "      <td>0.859439</td>\n",
       "      <td>3</td>\n",
       "      <td>3</td>\n",
       "      <td>0</td>\n",
       "      <td>0aff6fba</td>\n",
       "      <td>4</td>\n",
       "      <td>0</td>\n",
       "      <td>0.1</td>\n",
       "      <td>0.9</td>\n",
       "      <td>25.0</td>\n",
       "      <td>2048</td>\n",
       "      <td>Proxima</td>\n",
       "    </tr>\n",
       "    <tr>\n",
       "      <th>2</th>\n",
       "      <td>2</td>\n",
       "      <td>4.565278</td>\n",
       "      <td>-6683.765573</td>\n",
       "      <td>1.090278</td>\n",
       "      <td>[-0.033848412566292, -0.033631905743538006, -0...</td>\n",
       "      <td>800.0</td>\n",
       "      <td>1282.319134</td>\n",
       "      <td>False</td>\n",
       "      <td>NaN</td>\n",
       "      <td>NaN</td>\n",
       "      <td>0</td>\n",
       "      <td>NaN</td>\n",
       "      <td>0.027785</td>\n",
       "      <td>1.091607</td>\n",
       "      <td>4</td>\n",
       "      <td>4</td>\n",
       "      <td>0</td>\n",
       "      <td>0aff6fba</td>\n",
       "      <td>4</td>\n",
       "      <td>0</td>\n",
       "      <td>0.1</td>\n",
       "      <td>0.9</td>\n",
       "      <td>25.0</td>\n",
       "      <td>2048</td>\n",
       "      <td>Proxima</td>\n",
       "    </tr>\n",
       "    <tr>\n",
       "      <th>3</th>\n",
       "      <td>3</td>\n",
       "      <td>4.979567</td>\n",
       "      <td>-6683.576759</td>\n",
       "      <td>1.314290</td>\n",
       "      <td>[-0.033358446995748005, -0.033104908683742, -0...</td>\n",
       "      <td>800.0</td>\n",
       "      <td>1283.801296</td>\n",
       "      <td>False</td>\n",
       "      <td>NaN</td>\n",
       "      <td>NaN</td>\n",
       "      <td>0</td>\n",
       "      <td>NaN</td>\n",
       "      <td>0.028210</td>\n",
       "      <td>1.314065</td>\n",
       "      <td>5</td>\n",
       "      <td>5</td>\n",
       "      <td>0</td>\n",
       "      <td>0aff6fba</td>\n",
       "      <td>4</td>\n",
       "      <td>0</td>\n",
       "      <td>0.1</td>\n",
       "      <td>0.9</td>\n",
       "      <td>25.0</td>\n",
       "      <td>2048</td>\n",
       "      <td>Proxima</td>\n",
       "    </tr>\n",
       "    <tr>\n",
       "      <th>4</th>\n",
       "      <td>4</td>\n",
       "      <td>5.023417</td>\n",
       "      <td>-6683.334164</td>\n",
       "      <td>1.527470</td>\n",
       "      <td>[-0.032904060174518, -0.03263028678802, -0.032...</td>\n",
       "      <td>800.0</td>\n",
       "      <td>1285.290604</td>\n",
       "      <td>False</td>\n",
       "      <td>NaN</td>\n",
       "      <td>NaN</td>\n",
       "      <td>0</td>\n",
       "      <td>NaN</td>\n",
       "      <td>0.028527</td>\n",
       "      <td>1.525833</td>\n",
       "      <td>6</td>\n",
       "      <td>6</td>\n",
       "      <td>0</td>\n",
       "      <td>0aff6fba</td>\n",
       "      <td>4</td>\n",
       "      <td>0</td>\n",
       "      <td>0.1</td>\n",
       "      <td>0.9</td>\n",
       "      <td>25.0</td>\n",
       "      <td>2048</td>\n",
       "      <td>Proxima</td>\n",
       "    </tr>\n",
       "    <tr>\n",
       "      <th>...</th>\n",
       "      <td>...</td>\n",
       "      <td>...</td>\n",
       "      <td>...</td>\n",
       "      <td>...</td>\n",
       "      <td>...</td>\n",
       "      <td>...</td>\n",
       "      <td>...</td>\n",
       "      <td>...</td>\n",
       "      <td>...</td>\n",
       "      <td>...</td>\n",
       "      <td>...</td>\n",
       "      <td>...</td>\n",
       "      <td>...</td>\n",
       "      <td>...</td>\n",
       "      <td>...</td>\n",
       "      <td>...</td>\n",
       "      <td>...</td>\n",
       "      <td>...</td>\n",
       "      <td>...</td>\n",
       "      <td>...</td>\n",
       "      <td>...</td>\n",
       "      <td>...</td>\n",
       "      <td>...</td>\n",
       "      <td>...</td>\n",
       "      <td>...</td>\n",
       "    </tr>\n",
       "    <tr>\n",
       "      <th>36859</th>\n",
       "      <td>2043</td>\n",
       "      <td>0.085000</td>\n",
       "      <td>-6680.638087</td>\n",
       "      <td>3.155559</td>\n",
       "      <td>[-0.00035896169720200005, -0.013680156320333, ...</td>\n",
       "      <td>800.0</td>\n",
       "      <td>1340.010219</td>\n",
       "      <td>True</td>\n",
       "      <td>21.050366</td>\n",
       "      <td>0.294774</td>\n",
       "      <td>10</td>\n",
       "      <td>0.0</td>\n",
       "      <td>0.045739</td>\n",
       "      <td>3.634163</td>\n",
       "      <td>3011</td>\n",
       "      <td>1415</td>\n",
       "      <td>1</td>\n",
       "      <td>ffe10d1f</td>\n",
       "      <td>0</td>\n",
       "      <td>10</td>\n",
       "      <td>0.1</td>\n",
       "      <td>0.9</td>\n",
       "      <td>25.0</td>\n",
       "      <td>2048</td>\n",
       "      <td>Proxima+blend</td>\n",
       "    </tr>\n",
       "    <tr>\n",
       "      <th>36860</th>\n",
       "      <td>2044</td>\n",
       "      <td>0.262504</td>\n",
       "      <td>-6680.645056</td>\n",
       "      <td>3.212494</td>\n",
       "      <td>[9.378482354804875e-05, -0.013247493654489, -0...</td>\n",
       "      <td>800.0</td>\n",
       "      <td>1341.089242</td>\n",
       "      <td>True</td>\n",
       "      <td>21.050366</td>\n",
       "      <td>0.294774</td>\n",
       "      <td>10</td>\n",
       "      <td>0.0</td>\n",
       "      <td>0.045739</td>\n",
       "      <td>3.634163</td>\n",
       "      <td>3013</td>\n",
       "      <td>1415</td>\n",
       "      <td>1</td>\n",
       "      <td>ffe10d1f</td>\n",
       "      <td>0</td>\n",
       "      <td>10</td>\n",
       "      <td>0.1</td>\n",
       "      <td>0.9</td>\n",
       "      <td>25.0</td>\n",
       "      <td>2048</td>\n",
       "      <td>Proxima+blend</td>\n",
       "    </tr>\n",
       "    <tr>\n",
       "      <th>36861</th>\n",
       "      <td>2045</td>\n",
       "      <td>0.272498</td>\n",
       "      <td>-6680.652195</td>\n",
       "      <td>3.230515</td>\n",
       "      <td>[0.0008289217948910001, -0.012591516599059, -0...</td>\n",
       "      <td>800.0</td>\n",
       "      <td>1342.821368</td>\n",
       "      <td>True</td>\n",
       "      <td>21.050366</td>\n",
       "      <td>0.294774</td>\n",
       "      <td>10</td>\n",
       "      <td>0.0</td>\n",
       "      <td>0.045739</td>\n",
       "      <td>3.634163</td>\n",
       "      <td>3015</td>\n",
       "      <td>1415</td>\n",
       "      <td>1</td>\n",
       "      <td>ffe10d1f</td>\n",
       "      <td>0</td>\n",
       "      <td>10</td>\n",
       "      <td>0.1</td>\n",
       "      <td>0.9</td>\n",
       "      <td>25.0</td>\n",
       "      <td>2048</td>\n",
       "      <td>Proxima+blend</td>\n",
       "    </tr>\n",
       "    <tr>\n",
       "      <th>36862</th>\n",
       "      <td>2046</td>\n",
       "      <td>0.084999</td>\n",
       "      <td>-6680.653661</td>\n",
       "      <td>3.212458</td>\n",
       "      <td>[0.001265179831534, -0.012153295800089002, -0....</td>\n",
       "      <td>800.0</td>\n",
       "      <td>1343.957491</td>\n",
       "      <td>True</td>\n",
       "      <td>21.050366</td>\n",
       "      <td>0.294774</td>\n",
       "      <td>10</td>\n",
       "      <td>0.0</td>\n",
       "      <td>0.045739</td>\n",
       "      <td>3.634163</td>\n",
       "      <td>3017</td>\n",
       "      <td>1415</td>\n",
       "      <td>1</td>\n",
       "      <td>ffe10d1f</td>\n",
       "      <td>0</td>\n",
       "      <td>10</td>\n",
       "      <td>0.1</td>\n",
       "      <td>0.9</td>\n",
       "      <td>25.0</td>\n",
       "      <td>2048</td>\n",
       "      <td>Proxima+blend</td>\n",
       "    </tr>\n",
       "    <tr>\n",
       "      <th>36863</th>\n",
       "      <td>2047</td>\n",
       "      <td>0.254617</td>\n",
       "      <td>-6680.650658</td>\n",
       "      <td>3.153612</td>\n",
       "      <td>[0.0020965815056110003, -0.011388512328267, -0...</td>\n",
       "      <td>800.0</td>\n",
       "      <td>1346.029770</td>\n",
       "      <td>True</td>\n",
       "      <td>21.050366</td>\n",
       "      <td>0.294774</td>\n",
       "      <td>10</td>\n",
       "      <td>0.0</td>\n",
       "      <td>0.045739</td>\n",
       "      <td>3.634163</td>\n",
       "      <td>3019</td>\n",
       "      <td>1415</td>\n",
       "      <td>1</td>\n",
       "      <td>ffe10d1f</td>\n",
       "      <td>0</td>\n",
       "      <td>10</td>\n",
       "      <td>0.1</td>\n",
       "      <td>0.9</td>\n",
       "      <td>25.0</td>\n",
       "      <td>2048</td>\n",
       "      <td>Proxima+blend</td>\n",
       "    </tr>\n",
       "  </tbody>\n",
       "</table>\n",
       "<p>36864 rows × 25 columns</p>\n",
       "</div>"
      ],
      "text/plain": [
       "       timestep  step_time       energy  maximum_force                                             stress  temperature       volume  used_surrogate  proxima_alpha  proxima_threshold  proxima_blending_step  proxima_lambda_target  last_uncer  last_error  total_invocations  target_invocations  model_version      hash  seed  n_blending_steps  min_target_frac  target_error  stress_tau  steps         Method\n",
       "0             0   8.517287 -6683.999990       0.616292  [-0.034178451488095, -0.034089589941489, -0.03...        800.0  1280.824056           False            NaN                NaN                      0                    NaN    0.026653    0.621075                  2                   2              0  0aff6fba     4                 0              0.1           0.9        25.0   2048        Proxima\n",
       "1             1   5.156654 -6683.916856       0.856425  [-0.033986991206128005, -0.033826269874489, -0...        800.0  1281.570358           False            NaN                NaN                      0                    NaN    0.027269    0.859439                  3                   3              0  0aff6fba     4                 0              0.1           0.9        25.0   2048        Proxima\n",
       "2             2   4.565278 -6683.765573       1.090278  [-0.033848412566292, -0.033631905743538006, -0...        800.0  1282.319134           False            NaN                NaN                      0                    NaN    0.027785    1.091607                  4                   4              0  0aff6fba     4                 0              0.1           0.9        25.0   2048        Proxima\n",
       "3             3   4.979567 -6683.576759       1.314290  [-0.033358446995748005, -0.033104908683742, -0...        800.0  1283.801296           False            NaN                NaN                      0                    NaN    0.028210    1.314065                  5                   5              0  0aff6fba     4                 0              0.1           0.9        25.0   2048        Proxima\n",
       "4             4   5.023417 -6683.334164       1.527470  [-0.032904060174518, -0.03263028678802, -0.032...        800.0  1285.290604           False            NaN                NaN                      0                    NaN    0.028527    1.525833                  6                   6              0  0aff6fba     4                 0              0.1           0.9        25.0   2048        Proxima\n",
       "...         ...        ...          ...            ...                                                ...          ...          ...             ...            ...                ...                    ...                    ...         ...         ...                ...                 ...            ...       ...   ...               ...              ...           ...         ...    ...            ...\n",
       "36859      2043   0.085000 -6680.638087       3.155559  [-0.00035896169720200005, -0.013680156320333, ...        800.0  1340.010219            True      21.050366           0.294774                     10                    0.0    0.045739    3.634163               3011                1415              1  ffe10d1f     0                10              0.1           0.9        25.0   2048  Proxima+blend\n",
       "36860      2044   0.262504 -6680.645056       3.212494  [9.378482354804875e-05, -0.013247493654489, -0...        800.0  1341.089242            True      21.050366           0.294774                     10                    0.0    0.045739    3.634163               3013                1415              1  ffe10d1f     0                10              0.1           0.9        25.0   2048  Proxima+blend\n",
       "36861      2045   0.272498 -6680.652195       3.230515  [0.0008289217948910001, -0.012591516599059, -0...        800.0  1342.821368            True      21.050366           0.294774                     10                    0.0    0.045739    3.634163               3015                1415              1  ffe10d1f     0                10              0.1           0.9        25.0   2048  Proxima+blend\n",
       "36862      2046   0.084999 -6680.653661       3.212458  [0.001265179831534, -0.012153295800089002, -0....        800.0  1343.957491            True      21.050366           0.294774                     10                    0.0    0.045739    3.634163               3017                1415              1  ffe10d1f     0                10              0.1           0.9        25.0   2048  Proxima+blend\n",
       "36863      2047   0.254617 -6680.650658       3.153612  [0.0020965815056110003, -0.011388512328267, -0...        800.0  1346.029770            True      21.050366           0.294774                     10                    0.0    0.045739    3.634163               3019                1415              1  ffe10d1f     0                10              0.1           0.9        25.0   2048  Proxima+blend\n",
       "\n",
       "[36864 rows x 25 columns]"
      ]
     },
     "execution_count": 13,
     "metadata": {},
     "output_type": "execute_result"
    }
   ],
   "source": [
    "data"
   ]
  },
  {
   "cell_type": "markdown",
   "id": "5b0591a2-8d9a-4d77-a534-1f2f1fe150a3",
   "metadata": {},
   "source": [
    "## update used surrogate"
   ]
  },
  {
   "cell_type": "code",
   "execution_count": 14,
   "id": "be0ac62e-e2df-42f0-86a7-da2eb94982f2",
   "metadata": {},
   "outputs": [
    {
     "data": {
      "text/plain": [
       "used_surrogate\n",
       "False    29349\n",
       "True      7515\n",
       "Name: count, dtype: int64"
      ]
     },
     "execution_count": 14,
     "metadata": {},
     "output_type": "execute_result"
    }
   ],
   "source": [
    "data['used_surrogate'].value_counts()"
   ]
  },
  {
   "cell_type": "code",
   "execution_count": 15,
   "id": "74c9c304-dd0a-4f72-af30-5c4cd60b802d",
   "metadata": {},
   "outputs": [
    {
     "data": {
      "text/plain": [
       "False"
      ]
     },
     "execution_count": 15,
     "metadata": {},
     "output_type": "execute_result"
    }
   ],
   "source": [
    "data['used_surrogate'].isna().any()"
   ]
  },
  {
   "cell_type": "code",
   "execution_count": 16,
   "id": "b748f822-3431-4ba8-9f51-85a0612773b9",
   "metadata": {},
   "outputs": [
    {
     "data": {
      "text/plain": [
       "proxima_blending_step\n",
       "0     31802\n",
       "10     4153\n",
       "9       460\n",
       "8       127\n",
       "4        81\n",
       "6        77\n",
       "2        70\n",
       "7        31\n",
       "5        28\n",
       "3        19\n",
       "1        16\n",
       "Name: count, dtype: int64"
      ]
     },
     "execution_count": 16,
     "metadata": {},
     "output_type": "execute_result"
    }
   ],
   "source": [
    "data['proxima_blending_step'].value_counts()"
   ]
  },
  {
   "cell_type": "code",
   "execution_count": 17,
   "id": "76a621a5-a349-4ec4-a058-f93f07b21fd1",
   "metadata": {},
   "outputs": [
    {
     "data": {
      "text/plain": [
       "False"
      ]
     },
     "execution_count": 17,
     "metadata": {},
     "output_type": "execute_result"
    }
   ],
   "source": [
    "data['proxima_blending_step'].isna().any()"
   ]
  },
  {
   "cell_type": "code",
   "execution_count": 18,
   "id": "b97bfa79-d557-415f-b0eb-dfc269fbd47b",
   "metadata": {},
   "outputs": [
    {
     "data": {
      "text/plain": [
       "False"
      ]
     },
     "execution_count": 18,
     "metadata": {},
     "output_type": "execute_result"
    }
   ],
   "source": [
    "data['n_blending_steps'].isna().any()"
   ]
  },
  {
   "cell_type": "code",
   "execution_count": 19,
   "id": "e9e93c67-4d4e-4f86-8c6d-f305f5834354",
   "metadata": {},
   "outputs": [
    {
     "data": {
      "text/plain": [
       "\u001b[0;31mCall signature:\u001b[0m  \u001b[0mnp\u001b[0m\u001b[0;34m.\u001b[0m\u001b[0mwhere\u001b[0m\u001b[0;34m(\u001b[0m\u001b[0;34m*\u001b[0m\u001b[0margs\u001b[0m\u001b[0;34m,\u001b[0m \u001b[0;34m**\u001b[0m\u001b[0mkwargs\u001b[0m\u001b[0;34m)\u001b[0m\u001b[0;34m\u001b[0m\u001b[0;34m\u001b[0m\u001b[0m\n",
       "\u001b[0;31mType:\u001b[0m            _ArrayFunctionDispatcher\n",
       "\u001b[0;31mString form:\u001b[0m     <built-in function where>\n",
       "\u001b[0;31mDocstring:\u001b[0m      \n",
       "where(condition, [x, y], /)\n",
       "\n",
       "Return elements chosen from `x` or `y` depending on `condition`.\n",
       "\n",
       ".. note::\n",
       "    When only `condition` is provided, this function is a shorthand for\n",
       "    ``np.asarray(condition).nonzero()``. Using `nonzero` directly should be\n",
       "    preferred, as it behaves correctly for subclasses. The rest of this\n",
       "    documentation covers only the case where all three arguments are\n",
       "    provided.\n",
       "\n",
       "Parameters\n",
       "----------\n",
       "condition : array_like, bool\n",
       "    Where True, yield `x`, otherwise yield `y`.\n",
       "x, y : array_like\n",
       "    Values from which to choose. `x`, `y` and `condition` need to be\n",
       "    broadcastable to some shape.\n",
       "\n",
       "Returns\n",
       "-------\n",
       "out : ndarray\n",
       "    An array with elements from `x` where `condition` is True, and elements\n",
       "    from `y` elsewhere.\n",
       "\n",
       "See Also\n",
       "--------\n",
       "choose\n",
       "nonzero : The function that is called when x and y are omitted\n",
       "\n",
       "Notes\n",
       "-----\n",
       "If all the arrays are 1-D, `where` is equivalent to::\n",
       "\n",
       "    [xv if c else yv\n",
       "     for c, xv, yv in zip(condition, x, y)]\n",
       "\n",
       "Examples\n",
       "--------\n",
       ">>> a = np.arange(10)\n",
       ">>> a\n",
       "array([0, 1, 2, 3, 4, 5, 6, 7, 8, 9])\n",
       ">>> np.where(a < 5, a, 10*a)\n",
       "array([ 0,  1,  2,  3,  4, 50, 60, 70, 80, 90])\n",
       "\n",
       "This can be used on multidimensional arrays too:\n",
       "\n",
       ">>> np.where([[True, False], [True, True]],\n",
       "...          [[1, 2], [3, 4]],\n",
       "...          [[9, 8], [7, 6]])\n",
       "array([[1, 8],\n",
       "       [3, 4]])\n",
       "\n",
       "The shapes of x, y, and the condition are broadcast together:\n",
       "\n",
       ">>> x, y = np.ogrid[:3, :4]\n",
       ">>> np.where(x < y, x, 10 + y)  # both x and 10+y are broadcast\n",
       "array([[10,  0,  0,  0],\n",
       "       [10, 11,  1,  1],\n",
       "       [10, 11, 12,  2]])\n",
       "\n",
       ">>> a = np.array([[0, 1, 2],\n",
       "...               [0, 2, 4],\n",
       "...               [0, 3, 6]])\n",
       ">>> np.where(a < 4, a, -1)  # -1 is broadcast\n",
       "array([[ 0,  1,  2],\n",
       "       [ 0,  2, -1],\n",
       "       [ 0,  3, -1]])\n",
       "\u001b[0;31mClass docstring:\u001b[0m\n",
       "Class to wrap functions with checks for __array_function__ overrides.\n",
       "\n",
       "All arguments are required, and can only be passed by position.\n",
       "\n",
       "Parameters\n",
       "----------\n",
       "dispatcher : function or None\n",
       "    The dispatcher function that returns a single sequence-like object\n",
       "    of all arguments relevant.  It must have the same signature (except\n",
       "    the default values) as the actual implementation.\n",
       "    If ``None``, this is a ``like=`` dispatcher and the\n",
       "    ``_ArrayFunctionDispatcher`` must be called with ``like`` as the\n",
       "    first (additional and positional) argument.\n",
       "implementation : function\n",
       "    Function that implements the operation on NumPy arrays without\n",
       "    overrides.  Arguments passed calling the ``_ArrayFunctionDispatcher``\n",
       "    will be forwarded to this (and the ``dispatcher``) as if using\n",
       "    ``*args, **kwargs``.\n",
       "\n",
       "Attributes\n",
       "----------\n",
       "_implementation : function\n",
       "    The original implementation passed in."
      ]
     },
     "metadata": {},
     "output_type": "display_data"
    }
   ],
   "source": [
    "?np.where"
   ]
  },
  {
   "cell_type": "code",
   "execution_count": 20,
   "id": "e40b41ab-60a3-41a6-9aa5-2c2d3e5f3b7a",
   "metadata": {},
   "outputs": [
    {
     "data": {
      "text/plain": [
       "array(['884fa037daca2f12f3c528117ba8a386033dfd71'], dtype=object)"
      ]
     },
     "execution_count": 20,
     "metadata": {},
     "output_type": "execute_result"
    }
   ],
   "source": [
    "params['my_commit'].unique()"
   ]
  },
  {
   "cell_type": "code",
   "execution_count": 21,
   "id": "5f79bbcc-ad3f-4ddf-a7d4-5c46a3ae897e",
   "metadata": {},
   "outputs": [],
   "source": [
    "data['full_surrogate'] = np.where(data['n_blending_steps'] == 0, data['used_surrogate'], (data['proxima_blending_step'] == data['n_blending_steps']) & data['used_surrogate'])"
   ]
  },
  {
   "cell_type": "code",
   "execution_count": 22,
   "id": "c7c39623-9215-4da9-a25f-1b554d57a2e7",
   "metadata": {},
   "outputs": [],
   "source": [
    "data['training_step'] = data['model_version'].diff() > 0"
   ]
  },
  {
   "cell_type": "code",
   "execution_count": 23,
   "id": "bb5efb00-add9-4002-8f7f-f2138391fa3f",
   "metadata": {},
   "outputs": [
    {
     "data": {
      "image/png": "[encoded data removed]",
      "text/plain": [
       "<Figure size 640x480 with 1 Axes>"
      ]
     },
     "metadata": {},
     "output_type": "display_data"
    }
   ],
   "source": [
    "sns.boxplot(\n",
    "    y='step_time',\n",
    "    hue='training_step',\n",
    "    data=data\n",
    ")\n",
    "plt.yscale('log')\n",
    "plt.show()"
   ]
  },
  {
   "cell_type": "code",
   "execution_count": 24,
   "id": "54adfee3-c79c-43b6-adae-493da401c3ac",
   "metadata": {},
   "outputs": [
    {
     "data": {
      "text/plain": [
       "Method\n",
       "Proxima            6.0\n",
       "Proxima+blend      6.0\n",
       "DFT (reference)    6.0\n",
       "Name: count, dtype: float64"
      ]
     },
     "execution_count": 24,
     "metadata": {},
     "output_type": "execute_result"
    }
   ],
   "source": [
    "data['Method'].value_counts() / 2048"
   ]
  },
  {
   "cell_type": "code",
   "execution_count": 25,
   "id": "0d82437b-d9d3-4ae8-97b6-e645c31fc1f9",
   "metadata": {},
   "outputs": [
    {
     "data": {
      "text/html": [
       "<div>\n",
       "<style scoped>\n",
       "    .dataframe tbody tr th:only-of-type {\n",
       "        vertical-align: middle;\n",
       "    }\n",
       "\n",
       "    .dataframe tbody tr th {\n",
       "        vertical-align: top;\n",
       "    }\n",
       "\n",
       "    .dataframe thead th {\n",
       "        text-align: right;\n",
       "    }\n",
       "</style>\n",
       "<table border=\"1\" class=\"dataframe\">\n",
       "  <thead>\n",
       "    <tr style=\"text-align: right;\">\n",
       "      <th></th>\n",
       "      <th>step_time</th>\n",
       "    </tr>\n",
       "    <tr>\n",
       "      <th>full_surrogate</th>\n",
       "      <th></th>\n",
       "    </tr>\n",
       "  </thead>\n",
       "  <tbody>\n",
       "    <tr>\n",
       "      <th>False</th>\n",
       "      <td>3.993548</td>\n",
       "    </tr>\n",
       "    <tr>\n",
       "      <th>True</th>\n",
       "      <td>1.049921</td>\n",
       "    </tr>\n",
       "  </tbody>\n",
       "</table>\n",
       "</div>"
      ],
      "text/plain": [
       "                step_time\n",
       "full_surrogate           \n",
       "False            3.993548\n",
       "True             1.049921"
      ]
     },
     "execution_count": 25,
     "metadata": {},
     "output_type": "execute_result"
    }
   ],
   "source": [
    "data.query('training_step == False').groupby('full_surrogate')[['step_time']].mean()"
   ]
  },
  {
   "cell_type": "code",
   "execution_count": 26,
   "id": "20dc1e0e-a1e2-46cd-b6f8-ead9b25a2a2c",
   "metadata": {},
   "outputs": [
    {
     "data": {
      "text/html": [
       "<div>\n",
       "<style scoped>\n",
       "    .dataframe tbody tr th:only-of-type {\n",
       "        vertical-align: middle;\n",
       "    }\n",
       "\n",
       "    .dataframe tbody tr th {\n",
       "        vertical-align: top;\n",
       "    }\n",
       "\n",
       "    .dataframe thead th {\n",
       "        text-align: right;\n",
       "    }\n",
       "</style>\n",
       "<table border=\"1\" class=\"dataframe\">\n",
       "  <thead>\n",
       "    <tr style=\"text-align: right;\">\n",
       "      <th></th>\n",
       "      <th>step_time</th>\n",
       "    </tr>\n",
       "    <tr>\n",
       "      <th>full_surrogate</th>\n",
       "      <th></th>\n",
       "    </tr>\n",
       "  </thead>\n",
       "  <tbody>\n",
       "    <tr>\n",
       "      <th>False</th>\n",
       "      <td>3.62637</td>\n",
       "    </tr>\n",
       "    <tr>\n",
       "      <th>True</th>\n",
       "      <td>0.21014</td>\n",
       "    </tr>\n",
       "  </tbody>\n",
       "</table>\n",
       "</div>"
      ],
      "text/plain": [
       "                step_time\n",
       "full_surrogate           \n",
       "False             3.62637\n",
       "True              0.21014"
      ]
     },
     "execution_count": 26,
     "metadata": {},
     "output_type": "execute_result"
    }
   ],
   "source": [
    "data.query('training_step == False').groupby('full_surrogate')[['step_time']].median()"
   ]
  },
  {
   "cell_type": "code",
   "execution_count": 27,
   "id": "0b66071b-8d16-4199-ae8c-dea1929544a5",
   "metadata": {},
   "outputs": [
    {
     "data": {
      "text/html": [
       "<div>\n",
       "<style scoped>\n",
       "    .dataframe tbody tr th:only-of-type {\n",
       "        vertical-align: middle;\n",
       "    }\n",
       "\n",
       "    .dataframe tbody tr th {\n",
       "        vertical-align: top;\n",
       "    }\n",
       "\n",
       "    .dataframe thead th {\n",
       "        text-align: right;\n",
       "    }\n",
       "</style>\n",
       "<table border=\"1\" class=\"dataframe\">\n",
       "  <thead>\n",
       "    <tr style=\"text-align: right;\">\n",
       "      <th></th>\n",
       "      <th>step_time</th>\n",
       "    </tr>\n",
       "    <tr>\n",
       "      <th>full_surrogate</th>\n",
       "      <th></th>\n",
       "    </tr>\n",
       "  </thead>\n",
       "  <tbody>\n",
       "    <tr>\n",
       "      <th>False</th>\n",
       "      <td>1.480686</td>\n",
       "    </tr>\n",
       "    <tr>\n",
       "      <th>True</th>\n",
       "      <td>2.251837</td>\n",
       "    </tr>\n",
       "  </tbody>\n",
       "</table>\n",
       "</div>"
      ],
      "text/plain": [
       "                step_time\n",
       "full_surrogate           \n",
       "False            1.480686\n",
       "True             2.251837"
      ]
     },
     "execution_count": 27,
     "metadata": {},
     "output_type": "execute_result"
    }
   ],
   "source": [
    "data.query('training_step == False').groupby('full_surrogate')[['step_time']].std()"
   ]
  },
  {
   "cell_type": "code",
   "execution_count": 28,
   "id": "00c3b780-6eda-44e8-a559-8e104297fdb7",
   "metadata": {},
   "outputs": [
    {
     "data": {
      "text/plain": [
       "step_time    1825.265144\n",
       "dtype: float64"
      ]
     },
     "execution_count": 28,
     "metadata": {},
     "output_type": "execute_result"
    }
   ],
   "source": [
    "data.query('training_step == True')[['step_time']].mean()"
   ]
  },
  {
   "cell_type": "code",
   "execution_count": 29,
   "id": "18a05ffc-4060-45ba-af6d-f9f190c0ff1e",
   "metadata": {},
   "outputs": [
    {
     "data": {
      "text/plain": [
       "step_time    30.421086\n",
       "dtype: float64"
      ]
     },
     "execution_count": 29,
     "metadata": {},
     "output_type": "execute_result"
    }
   ],
   "source": [
    "data.query('training_step == True')[['step_time']].mean() / 60"
   ]
  },
  {
   "cell_type": "code",
   "execution_count": 30,
   "id": "160cceaa-7c7e-418b-828d-8d840df404e4",
   "metadata": {},
   "outputs": [
    {
     "data": {
      "image/png": "[encoded data removed]",
      "text/plain": [
       "<Figure size 640x480 with 1 Axes>"
      ]
     },
     "metadata": {},
     "output_type": "display_data"
    }
   ],
   "source": [
    "ax = sns.histplot(\n",
    "    x='step_time',\n",
    "    hue='full_surrogate',\n",
    "    data=data.query('training_step == False'),\n",
    "    #log_scale=(True, False)\n",
    ")\n",
    "#plt.yscale('log') # (True, True) breaks the above\n",
    "plt.xlabel('Step time (s)')\n",
    "#ax.legend.set_title('Used Surrogate')\n",
    "plt.show()"
   ]
  },
  {
   "cell_type": "code",
   "execution_count": 31,
   "id": "9baeb312-b276-4233-bd6c-c50eb9061299",
   "metadata": {},
   "outputs": [
    {
     "data": {
      "image/png": "[encoded data removed]",
      "text/plain": [
       "<Figure size 640x480 with 1 Axes>"
      ]
     },
     "metadata": {},
     "output_type": "display_data"
    }
   ],
   "source": [
    "sns.histplot(\n",
    "    x='step_time',\n",
    "    hue='full_surrogate',\n",
    "    data=data.query('training_step == False'),\n",
    "    log_scale=(True, False)\n",
    ")\n",
    "plt.yscale('log') # (True, True) breaks the above\n",
    "plt.show()"
   ]
  },
  {
   "cell_type": "code",
   "execution_count": 32,
   "id": "0c6933ee-e2cd-4a68-baa4-2ad935cee581",
   "metadata": {},
   "outputs": [
    {
     "data": {
      "text/html": [
       "<div>\n",
       "<style scoped>\n",
       "    .dataframe tbody tr th:only-of-type {\n",
       "        vertical-align: middle;\n",
       "    }\n",
       "\n",
       "    .dataframe tbody tr th {\n",
       "        vertical-align: top;\n",
       "    }\n",
       "\n",
       "    .dataframe thead th {\n",
       "        text-align: right;\n",
       "    }\n",
       "</style>\n",
       "<table border=\"1\" class=\"dataframe\">\n",
       "  <thead>\n",
       "    <tr style=\"text-align: right;\">\n",
       "      <th></th>\n",
       "      <th>step_time</th>\n",
       "    </tr>\n",
       "    <tr>\n",
       "      <th>full_surrogate</th>\n",
       "      <th></th>\n",
       "    </tr>\n",
       "  </thead>\n",
       "  <tbody>\n",
       "    <tr>\n",
       "      <th>False</th>\n",
       "      <td>3.993548</td>\n",
       "    </tr>\n",
       "    <tr>\n",
       "      <th>True</th>\n",
       "      <td>1.049921</td>\n",
       "    </tr>\n",
       "  </tbody>\n",
       "</table>\n",
       "</div>"
      ],
      "text/plain": [
       "                step_time\n",
       "full_surrogate           \n",
       "False            3.993548\n",
       "True             1.049921"
      ]
     },
     "execution_count": 32,
     "metadata": {},
     "output_type": "execute_result"
    }
   ],
   "source": [
    "means = data.query('training_step == False').groupby('full_surrogate')[['step_time']].mean()\n",
    "means"
   ]
  },
  {
   "cell_type": "code",
   "execution_count": 33,
   "id": "498b0878-4d22-471b-b02c-7d7bb709d096",
   "metadata": {},
   "outputs": [
    {
     "data": {
      "text/html": [
       "<div>\n",
       "<style scoped>\n",
       "    .dataframe tbody tr th:only-of-type {\n",
       "        vertical-align: middle;\n",
       "    }\n",
       "\n",
       "    .dataframe tbody tr th {\n",
       "        vertical-align: top;\n",
       "    }\n",
       "\n",
       "    .dataframe thead th {\n",
       "        text-align: right;\n",
       "    }\n",
       "</style>\n",
       "<table border=\"1\" class=\"dataframe\">\n",
       "  <thead>\n",
       "    <tr style=\"text-align: right;\">\n",
       "      <th></th>\n",
       "      <th>step_time</th>\n",
       "    </tr>\n",
       "    <tr>\n",
       "      <th>full_surrogate</th>\n",
       "      <th></th>\n",
       "    </tr>\n",
       "  </thead>\n",
       "  <tbody>\n",
       "    <tr>\n",
       "      <th>False</th>\n",
       "      <td>3.803667</td>\n",
       "    </tr>\n",
       "    <tr>\n",
       "      <th>True</th>\n",
       "      <td>1.000000</td>\n",
       "    </tr>\n",
       "  </tbody>\n",
       "</table>\n",
       "</div>"
      ],
      "text/plain": [
       "                step_time\n",
       "full_surrogate           \n",
       "False            3.803667\n",
       "True             1.000000"
      ]
     },
     "execution_count": 33,
     "metadata": {},
     "output_type": "execute_result"
    }
   ],
   "source": [
    "means / means.iloc[1]"
   ]
  },
  {
   "cell_type": "code",
   "execution_count": null,
   "id": "abaef648-0d60-4267-a37d-66f23b110c94",
   "metadata": {},
   "outputs": [],
   "source": []
  },
  {
   "cell_type": "code",
   "execution_count": 34,
   "id": "3e4a9794-594e-4f8b-b181-843f8d00a5da",
   "metadata": {},
   "outputs": [
    {
     "data": {
      "text/plain": [
       "hash\n",
       "7c306fa4    2048\n",
       "6a2330a6    2048\n",
       "1418cfda    2048\n",
       "3c135b25    2048\n",
       "df641e0d    2048\n",
       "4e1470ea    2048\n",
       "0aff6fba    1757\n",
       "4202e855    1565\n",
       "842df0f8    1535\n",
       "e4161130    1533\n",
       "105292bb    1503\n",
       "741e74e4    1501\n",
       "15ddd631    1427\n",
       "0a8231d9    1340\n",
       "5271547c    1323\n",
       "06819c7d    1310\n",
       "9bd27cec    1278\n",
       "ffe10d1f    1245\n",
       "Name: count, dtype: int64"
      ]
     },
     "execution_count": 34,
     "metadata": {},
     "output_type": "execute_result"
    }
   ],
   "source": [
    "data.query('full_surrogate == False').hash.value_counts()"
   ]
  },
  {
   "cell_type": "code",
   "execution_count": 35,
   "id": "a9c1f340-466e-4adb-8564-85218f6d689d",
   "metadata": {},
   "outputs": [
    {
     "data": {
      "text/html": [
       "<div>\n",
       "<style scoped>\n",
       "    .dataframe tbody tr th:only-of-type {\n",
       "        vertical-align: middle;\n",
       "    }\n",
       "\n",
       "    .dataframe tbody tr th {\n",
       "        vertical-align: top;\n",
       "    }\n",
       "\n",
       "    .dataframe thead th {\n",
       "        text-align: right;\n",
       "    }\n",
       "</style>\n",
       "<table border=\"1\" class=\"dataframe\">\n",
       "  <thead>\n",
       "    <tr style=\"text-align: right;\">\n",
       "      <th></th>\n",
       "      <th>seed</th>\n",
       "      <th>temperature</th>\n",
       "      <th>n_blending_steps</th>\n",
       "      <th>min_target_frac</th>\n",
       "      <th>target_error</th>\n",
       "      <th>stress_tau</th>\n",
       "      <th>steps</th>\n",
       "      <th>hash</th>\n",
       "      <th>Method</th>\n",
       "    </tr>\n",
       "  </thead>\n",
       "  <tbody>\n",
       "    <tr>\n",
       "      <th>1132</th>\n",
       "      <td>4</td>\n",
       "      <td>800.0</td>\n",
       "      <td>0</td>\n",
       "      <td>0.1</td>\n",
       "      <td>0.9</td>\n",
       "      <td>25.0</td>\n",
       "      <td>2048</td>\n",
       "      <td>0aff6fba</td>\n",
       "      <td>Proxima</td>\n",
       "    </tr>\n",
       "    <tr>\n",
       "      <th>3194</th>\n",
       "      <td>2</td>\n",
       "      <td>800.0</td>\n",
       "      <td>0</td>\n",
       "      <td>0.1</td>\n",
       "      <td>0.9</td>\n",
       "      <td>25.0</td>\n",
       "      <td>2048</td>\n",
       "      <td>105292bb</td>\n",
       "      <td>Proxima</td>\n",
       "    </tr>\n",
       "    <tr>\n",
       "      <th>9263</th>\n",
       "      <td>5</td>\n",
       "      <td>800.0</td>\n",
       "      <td>0</td>\n",
       "      <td>0.1</td>\n",
       "      <td>0.9</td>\n",
       "      <td>25.0</td>\n",
       "      <td>2048</td>\n",
       "      <td>4202e855</td>\n",
       "      <td>Proxima</td>\n",
       "    </tr>\n",
       "    <tr>\n",
       "      <th>13359</th>\n",
       "      <td>0</td>\n",
       "      <td>800.0</td>\n",
       "      <td>0</td>\n",
       "      <td>0.1</td>\n",
       "      <td>0.9</td>\n",
       "      <td>25.0</td>\n",
       "      <td>2048</td>\n",
       "      <td>5271547c</td>\n",
       "      <td>Proxima</td>\n",
       "    </tr>\n",
       "    <tr>\n",
       "      <th>17634</th>\n",
       "      <td>3</td>\n",
       "      <td>800.0</td>\n",
       "      <td>0</td>\n",
       "      <td>0.1</td>\n",
       "      <td>0.9</td>\n",
       "      <td>25.0</td>\n",
       "      <td>2048</td>\n",
       "      <td>741e74e4</td>\n",
       "      <td>Proxima</td>\n",
       "    </tr>\n",
       "    <tr>\n",
       "      <th>23649</th>\n",
       "      <td>1</td>\n",
       "      <td>800.0</td>\n",
       "      <td>0</td>\n",
       "      <td>0.1</td>\n",
       "      <td>0.9</td>\n",
       "      <td>25.0</td>\n",
       "      <td>2048</td>\n",
       "      <td>e4161130</td>\n",
       "      <td>Proxima</td>\n",
       "    </tr>\n",
       "    <tr>\n",
       "      <th>25733</th>\n",
       "      <td>4</td>\n",
       "      <td>800.0</td>\n",
       "      <td>10</td>\n",
       "      <td>0.1</td>\n",
       "      <td>0.9</td>\n",
       "      <td>25.0</td>\n",
       "      <td>2048</td>\n",
       "      <td>06819c7d</td>\n",
       "      <td>Proxima+blend</td>\n",
       "    </tr>\n",
       "    <tr>\n",
       "      <th>27749</th>\n",
       "      <td>2</td>\n",
       "      <td>800.0</td>\n",
       "      <td>10</td>\n",
       "      <td>0.1</td>\n",
       "      <td>0.9</td>\n",
       "      <td>25.0</td>\n",
       "      <td>2048</td>\n",
       "      <td>0a8231d9</td>\n",
       "      <td>Proxima+blend</td>\n",
       "    </tr>\n",
       "    <tr>\n",
       "      <th>29772</th>\n",
       "      <td>1</td>\n",
       "      <td>800.0</td>\n",
       "      <td>10</td>\n",
       "      <td>0.1</td>\n",
       "      <td>0.9</td>\n",
       "      <td>25.0</td>\n",
       "      <td>2048</td>\n",
       "      <td>15ddd631</td>\n",
       "      <td>Proxima+blend</td>\n",
       "    </tr>\n",
       "    <tr>\n",
       "      <th>31791</th>\n",
       "      <td>5</td>\n",
       "      <td>800.0</td>\n",
       "      <td>10</td>\n",
       "      <td>0.1</td>\n",
       "      <td>0.9</td>\n",
       "      <td>25.0</td>\n",
       "      <td>2048</td>\n",
       "      <td>842df0f8</td>\n",
       "      <td>Proxima+blend</td>\n",
       "    </tr>\n",
       "    <tr>\n",
       "      <th>33914</th>\n",
       "      <td>3</td>\n",
       "      <td>800.0</td>\n",
       "      <td>10</td>\n",
       "      <td>0.1</td>\n",
       "      <td>0.9</td>\n",
       "      <td>25.0</td>\n",
       "      <td>2048</td>\n",
       "      <td>9bd27cec</td>\n",
       "      <td>Proxima+blend</td>\n",
       "    </tr>\n",
       "    <tr>\n",
       "      <th>35972</th>\n",
       "      <td>0</td>\n",
       "      <td>800.0</td>\n",
       "      <td>10</td>\n",
       "      <td>0.1</td>\n",
       "      <td>0.9</td>\n",
       "      <td>25.0</td>\n",
       "      <td>2048</td>\n",
       "      <td>ffe10d1f</td>\n",
       "      <td>Proxima+blend</td>\n",
       "    </tr>\n",
       "  </tbody>\n",
       "</table>\n",
       "</div>"
      ],
      "text/plain": [
       "       seed  temperature  n_blending_steps  min_target_frac  target_error  stress_tau  steps      hash         Method\n",
       "1132      4        800.0                 0              0.1           0.9        25.0   2048  0aff6fba        Proxima\n",
       "3194      2        800.0                 0              0.1           0.9        25.0   2048  105292bb        Proxima\n",
       "9263      5        800.0                 0              0.1           0.9        25.0   2048  4202e855        Proxima\n",
       "13359     0        800.0                 0              0.1           0.9        25.0   2048  5271547c        Proxima\n",
       "17634     3        800.0                 0              0.1           0.9        25.0   2048  741e74e4        Proxima\n",
       "23649     1        800.0                 0              0.1           0.9        25.0   2048  e4161130        Proxima\n",
       "25733     4        800.0                10              0.1           0.9        25.0   2048  06819c7d  Proxima+blend\n",
       "27749     2        800.0                10              0.1           0.9        25.0   2048  0a8231d9  Proxima+blend\n",
       "29772     1        800.0                10              0.1           0.9        25.0   2048  15ddd631  Proxima+blend\n",
       "31791     5        800.0                10              0.1           0.9        25.0   2048  842df0f8  Proxima+blend\n",
       "33914     3        800.0                10              0.1           0.9        25.0   2048  9bd27cec  Proxima+blend\n",
       "35972     0        800.0                10              0.1           0.9        25.0   2048  ffe10d1f  Proxima+blend"
      ]
     },
     "execution_count": 35,
     "metadata": {},
     "output_type": "execute_result"
    }
   ],
   "source": [
    "data.query('full_surrogate == False and step_time < .1')[param_vars + ['hash', 'Method']].drop_duplicates()"
   ]
  },
  {
   "cell_type": "code",
   "execution_count": 36,
   "id": "98566293-6c1c-4834-866e-4dbbd712d2d5",
   "metadata": {},
   "outputs": [
    {
     "data": {
      "image/png": "[encoded data removed]",
      "text/plain": [
       "<Figure size 500x500 with 1 Axes>"
      ]
     },
     "metadata": {},
     "output_type": "display_data"
    }
   ],
   "source": [
    "sns.displot(data.query('full_surrogate == False and step_time < 0.1')['timestep'])\n",
    "#plt.yscale('log')\n",
    "plt.show()"
   ]
  },
  {
   "cell_type": "code",
   "execution_count": 37,
   "id": "6a10c6ca-4d54-4f0d-8c14-42d08cfb6ab0",
   "metadata": {},
   "outputs": [
    {
     "data": {
      "text/plain": [
       "array([1])"
      ]
     },
     "execution_count": 37,
     "metadata": {},
     "output_type": "execute_result"
    }
   ],
   "source": [
    "data.query('full_surrogate == False and step_time < 1')['model_version'].unique()"
   ]
  },
  {
   "cell_type": "code",
   "execution_count": 38,
   "id": "4b4e91a9-10ab-486e-ae14-64f9bdc66eaa",
   "metadata": {},
   "outputs": [
    {
     "data": {
      "text/plain": [
       "hash\n",
       "9bd27cec    76\n",
       "ffe10d1f    71\n",
       "15ddd631    64\n",
       "e4161130    63\n",
       "5271547c    62\n",
       "0a8231d9    62\n",
       "105292bb    60\n",
       "06819c7d    55\n",
       "741e74e4    52\n",
       "4202e855    50\n",
       "842df0f8    50\n",
       "0aff6fba    37\n",
       "Name: count, dtype: int64"
      ]
     },
     "execution_count": 38,
     "metadata": {},
     "output_type": "execute_result"
    }
   ],
   "source": [
    "data.query('full_surrogate == False and step_time < 1').hash.value_counts()"
   ]
  },
  {
   "cell_type": "markdown",
   "id": "beead614-c7de-4f93-b239-dd9504efaf91",
   "metadata": {},
   "source": [
    "## drop questionable data\n",
    "We still need to sort out why the times to not make sense, but we can drop the few that are causing issues"
   ]
  },
  {
   "cell_type": "code",
   "execution_count": 39,
   "id": "3533be4d-b592-4ed2-8278-7aa5bfd70066",
   "metadata": {},
   "outputs": [],
   "source": [
    "_data = data.query('training_step == False')\n",
    "\n",
    "n = _data.shape[0]\n",
    "n_dft = _data.query('full_surrogate == False').shape[0]\n",
    "n_ml  = _data.query('full_surrogate == True').shape[0]\n",
    "\n",
    "dft_too_fast = (~_data['full_surrogate']) & (_data['step_time'] < 1)\n",
    "ml_too_slow =  (_data['full_surrogate'])  & (_data['step_time'] > 1)\n",
    "\n",
    "n_too_fast = dft_too_fast.sum()\n",
    "n_too_slow = ml_too_slow.sum()\n",
    "\n",
    "_data = _data[~(dft_too_fast | ml_too_slow)]"
   ]
  },
  {
   "cell_type": "code",
   "execution_count": 40,
   "id": "33d917b1-237f-4496-b4c2-01ca594adcb6",
   "metadata": {},
   "outputs": [
    {
     "data": {
      "text/plain": [
       "(36840, 29581, 7259)"
      ]
     },
     "execution_count": 40,
     "metadata": {},
     "output_type": "execute_result"
    }
   ],
   "source": [
    "n, n_dft, n_ml"
   ]
  },
  {
   "cell_type": "code",
   "execution_count": 41,
   "id": "55aec842-4d2f-4b07-9b03-788c3ead20d7",
   "metadata": {},
   "outputs": [
    {
     "data": {
      "text/plain": [
       "True"
      ]
     },
     "execution_count": 41,
     "metadata": {},
     "output_type": "execute_result"
    }
   ],
   "source": [
    "n_dft + n_ml == n"
   ]
  },
  {
   "cell_type": "code",
   "execution_count": 42,
   "id": "fdd3ec83-20fa-4226-8d53-aaa993006b39",
   "metadata": {},
   "outputs": [
    {
     "data": {
      "text/plain": [
       "(702, 2.37314492410669)"
      ]
     },
     "execution_count": 42,
     "metadata": {},
     "output_type": "execute_result"
    }
   ],
   "source": [
    "n_too_fast, (n_too_fast / n_dft) * 100"
   ]
  },
  {
   "cell_type": "code",
   "execution_count": 43,
   "id": "f5b7970c-9b61-4f3a-8eaf-dbfd925f3b48",
   "metadata": {},
   "outputs": [
    {
     "data": {
      "text/plain": [
       "(1035, 14.258162281305964)"
      ]
     },
     "execution_count": 43,
     "metadata": {},
     "output_type": "execute_result"
    }
   ],
   "source": [
    "n_too_slow, (n_too_slow / n_ml) * 100"
   ]
  },
  {
   "cell_type": "code",
   "execution_count": 44,
   "id": "7aba47d5-8fd7-4c0e-ae1c-9d55d650fe2b",
   "metadata": {},
   "outputs": [
    {
     "data": {
      "text/plain": [
       "0.04714983713355049"
      ]
     },
     "execution_count": 44,
     "metadata": {},
     "output_type": "execute_result"
    }
   ],
   "source": [
    "(n_too_fast + n_too_slow) / n"
   ]
  },
  {
   "cell_type": "code",
   "execution_count": 45,
   "id": "c4b636e1-2356-449e-b905-d2821d437369",
   "metadata": {},
   "outputs": [
    {
     "data": {
      "image/png": "[encoded data removed]",
      "text/plain": [
       "<Figure size 640x480 with 1 Axes>"
      ]
     },
     "metadata": {},
     "output_type": "display_data"
    }
   ],
   "source": [
    "sns.histplot(\n",
    "    x='step_time',\n",
    "    hue='full_surrogate',\n",
    "    data=_data,\n",
    "    log_scale=(True, False)\n",
    ")\n",
    "plt.yscale('log') # (True, True) breaks the above\n",
    "plt.show()"
   ]
  },
  {
   "cell_type": "code",
   "execution_count": 69,
   "id": "52921274-b064-44cc-86f3-17751df3feab",
   "metadata": {},
   "outputs": [
    {
     "data": {
      "text/plain": [
       "full_surrogate\n",
       "False    4.085725\n",
       "True     0.200870\n",
       "Name: step_time, dtype: float64"
      ]
     },
     "execution_count": 69,
     "metadata": {},
     "output_type": "execute_result"
    }
   ],
   "source": [
    "means = _data.groupby('full_surrogate')['step_time'].mean()\n",
    "means"
   ]
  },
  {
   "cell_type": "code",
   "execution_count": 72,
   "id": "61de1872-13ba-42f9-92fd-ec6bf9ff4b3b",
   "metadata": {},
   "outputs": [
    {
     "data": {
      "text/plain": [
       "full_surrogate\n",
       "False    20.340152\n",
       "True      1.000000\n",
       "Name: step_time, dtype: float64"
      ]
     },
     "execution_count": 72,
     "metadata": {},
     "output_type": "execute_result"
    }
   ],
   "source": [
    "means / means.iloc[1]"
   ]
  },
  {
   "cell_type": "code",
   "execution_count": 94,
   "id": "1ffc2de3-a074-42f2-a8bd-2d565b5af0d4",
   "metadata": {},
   "outputs": [],
   "source": [
    "def percentile(n):\n",
    "    def percentile_(x):\n",
    "        return x.quantile(n)\n",
    "    percentile_.__name__ = 'percentile_{:02.0f}'.format(n*100)\n",
    "    return percentile_"
   ]
  },
  {
   "cell_type": "code",
   "execution_count": 95,
   "id": "7f11dc8e-f716-493f-a2da-0ec0045ca78b",
   "metadata": {},
   "outputs": [
    {
     "data": {
      "text/html": [
       "<div>\n",
       "<style scoped>\n",
       "    .dataframe tbody tr th:only-of-type {\n",
       "        vertical-align: middle;\n",
       "    }\n",
       "\n",
       "    .dataframe tbody tr th {\n",
       "        vertical-align: top;\n",
       "    }\n",
       "\n",
       "    .dataframe thead tr th {\n",
       "        text-align: left;\n",
       "    }\n",
       "\n",
       "    .dataframe thead tr:last-of-type th {\n",
       "        text-align: right;\n",
       "    }\n",
       "</style>\n",
       "<table border=\"1\" class=\"dataframe\">\n",
       "  <thead>\n",
       "    <tr>\n",
       "      <th></th>\n",
       "      <th colspan=\"7\" halign=\"left\">step_time</th>\n",
       "    </tr>\n",
       "    <tr>\n",
       "      <th></th>\n",
       "      <th>mean</th>\n",
       "      <th>median</th>\n",
       "      <th>std</th>\n",
       "      <th>min</th>\n",
       "      <th>max</th>\n",
       "      <th>percentile_25</th>\n",
       "      <th>percentile_75</th>\n",
       "    </tr>\n",
       "    <tr>\n",
       "      <th>full_surrogate</th>\n",
       "      <th></th>\n",
       "      <th></th>\n",
       "      <th></th>\n",
       "      <th></th>\n",
       "      <th></th>\n",
       "      <th></th>\n",
       "      <th></th>\n",
       "    </tr>\n",
       "  </thead>\n",
       "  <tbody>\n",
       "    <tr>\n",
       "      <th>False</th>\n",
       "      <td>4.085725</td>\n",
       "      <td>3.650540</td>\n",
       "      <td>1.373778</td>\n",
       "      <td>2.140161</td>\n",
       "      <td>20.043883</td>\n",
       "      <td>3.267311</td>\n",
       "      <td>4.556687</td>\n",
       "    </tr>\n",
       "    <tr>\n",
       "      <th>True</th>\n",
       "      <td>0.200870</td>\n",
       "      <td>0.190296</td>\n",
       "      <td>0.125296</td>\n",
       "      <td>0.025997</td>\n",
       "      <td>0.985810</td>\n",
       "      <td>0.085001</td>\n",
       "      <td>0.305535</td>\n",
       "    </tr>\n",
       "  </tbody>\n",
       "</table>\n",
       "</div>"
      ],
      "text/plain": [
       "               step_time                                                                     \n",
       "                    mean    median       std       min        max percentile_25 percentile_75\n",
       "full_surrogate                                                                               \n",
       "False           4.085725  3.650540  1.373778  2.140161  20.043883      3.267311      4.556687\n",
       "True            0.200870  0.190296  0.125296  0.025997   0.985810      0.085001      0.305535"
      ]
     },
     "execution_count": 95,
     "metadata": {},
     "output_type": "execute_result"
    }
   ],
   "source": [
    "means = _data.groupby('full_surrogate').agg({\n",
    "    'step_time': ['mean', 'median', 'std', 'min', 'max', percentile(0.25), percentile(0.75)]\n",
    "})\n",
    "means"
   ]
  },
  {
   "cell_type": "code",
   "execution_count": null,
   "id": "de33de83-b31d-4ac9-b422-9b67b1bd0b7b",
   "metadata": {},
   "outputs": [],
   "source": []
  },
  {
   "cell_type": "markdown",
   "id": "5509a44b-b936-42bc-8b91-d30b71dc7b0a",
   "metadata": {},
   "source": [
    "## dft only runtimes"
   ]
  },
  {
   "cell_type": "code",
   "execution_count": 81,
   "id": "5dc44113-223e-4adf-8db4-d118bf998ab8",
   "metadata": {},
   "outputs": [
    {
     "data": {
      "text/plain": [
       "Index(['file', 'starting_strc', 'temperature', 'timestep', 'calculator', 'ensemble', 'temp_tau', 'stress_tau', 'steps', 'seed', 'bulk_modulus', 'model_type', 'initial_model', 'initial_data', 'ensemble_size', 'online_training', 'training_epochs', 'training_batch_size', 'training_max_size', 'training_recency_bias', 'training_device', 'target_error', 'error_history', 'retrain_freq', 'min_target_frac', 'n_blending_steps', 'cascade_commit', 'my_commit', 'start_time', 'dir', 'Method', 'hash'], dtype='object')"
      ]
     },
     "execution_count": 81,
     "metadata": {},
     "output_type": "execute_result"
    }
   ],
   "source": [
    "params.columns"
   ]
  },
  {
   "cell_type": "code",
   "execution_count": 82,
   "id": "ff8a22d0-7149-4941-9794-8b91dbb41a25",
   "metadata": {},
   "outputs": [
    {
     "data": {
      "text/plain": [
       "Index(['timestep', 'step_time', 'energy', 'maximum_force', 'stress', 'temperature', 'volume', 'used_surrogate', 'proxima_alpha', 'proxima_threshold', 'proxima_blending_step', 'proxima_lambda_target', 'last_uncer', 'last_error', 'total_invocations', 'target_invocations', 'model_version', 'hash', 'seed', 'n_blending_steps', 'min_target_frac', 'target_error', 'stress_tau', 'steps', 'Method', 'full_surrogate', 'training_step'], dtype='object')"
      ]
     },
     "execution_count": 82,
     "metadata": {},
     "output_type": "execute_result"
    }
   ],
   "source": [
    "data.columns"
   ]
  },
  {
   "cell_type": "code",
   "execution_count": null,
   "id": "ebb7a6e8-3e63-49de-8404-cf752800497e",
   "metadata": {},
   "outputs": [],
   "source": []
  },
  {
   "cell_type": "code",
   "execution_count": 86,
   "id": "71a9b708-4dea-4b9c-bebc-23c1ee9ae658",
   "metadata": {},
   "outputs": [
    {
     "data": {
      "text/plain": [
       "hash\n",
       "1418cfda    3.392728\n",
       "3c135b25    3.287104\n",
       "4e1470ea    3.505526\n",
       "6a2330a6    3.359071\n",
       "7c306fa4    3.405820\n",
       "df641e0d    3.506428\n",
       "Name: step_time, dtype: float64"
      ]
     },
     "execution_count": 86,
     "metadata": {},
     "output_type": "execute_result"
    }
   ],
   "source": [
    "data.query('Method == \"DFT (reference)\"').groupby('hash')['step_time'].sum() / (60*60)"
   ]
  },
  {
   "cell_type": "code",
   "execution_count": null,
   "id": "c613ee5f-f58d-40f4-9296-7265893cf2a2",
   "metadata": {},
   "outputs": [],
   "source": [
    "dft_only = a"
   ]
  }
 ],
 "metadata": {
  "kernelspec": {
   "display_name": "Python 3 (ipykernel)",
   "language": "python",
   "name": "python3"
  },
  "language_info": {
   "codemirror_mode": {
    "name": "ipython",
    "version": 3
   },
   "file_extension": ".py",
   "mimetype": "text/x-python",
   "name": "python",
   "nbconvert_exporter": "python",
   "pygments_lexer": "ipython3",
   "version": "3.11.0"
  }
 },
 "nbformat": 4,
 "nbformat_minor": 5
}
