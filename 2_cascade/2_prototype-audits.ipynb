{
 "cells": [
  {
   "cell_type": "code",
   "execution_count": 1,
   "id": "92036efc-fdd3-4e27-8c26-9c3d54abde00",
   "metadata": {},
   "outputs": [],
   "source": [
    "from typing import List\n",
    "from copy import deepcopy\n",
    "\n",
    "import ase\n",
    "from ase import Atoms\n",
    "from ase.calculators.lj import LennardJones\n",
    "from ase.io import Trajectory\n",
    "from ase.calculators.calculator import Calculator, all_changes\n",
    "\n",
    "import numpy as np\n",
    "import matplotlib.pyplot as plt"
   ]
  },
  {
   "cell_type": "code",
   "execution_count": 2,
   "id": "e31d78b1-a0aa-4a5e-92f7-b07588cd2758",
   "metadata": {},
   "outputs": [],
   "source": [
    "atoms = Atoms('N2')"
   ]
  },
  {
   "cell_type": "code",
   "execution_count": 3,
   "id": "2a424365-f19b-44c9-aba6-03d354576856",
   "metadata": {},
   "outputs": [
    {
     "data": {
      "text/plain": [
       "array([[0., 0., 0.],\n",
       "       [0., 0., 0.]])"
      ]
     },
     "execution_count": 3,
     "metadata": {},
     "output_type": "execute_result"
    }
   ],
   "source": [
    "atoms.positions"
   ]
  },
  {
   "cell_type": "code",
   "execution_count": 4,
   "id": "2a57232d-ac61-418d-8b06-19a67982af8e",
   "metadata": {},
   "outputs": [],
   "source": [
    "def sample_diatomic_distances(\n",
    "    atoms_str: str = 'N2', \n",
    "    dist_range: tuple = (1.1, 3), \n",
    "    n: int = 100) -> List[ase.Atoms]:     \n",
    "    \"\"\"Create a trajectory of a diatomic system with linearly sampled distances\n",
    "    atoms_str: ase specification of diatomic\n",
    "    dist_range: (angsroms) range of distances to sample\n",
    "    n: number of samples\n",
    "    \"\"\"\n",
    "    atoms = Atoms(atoms_str)\n",
    "    trajectory = []\n",
    "    x_vals = np.linspace(*dist_range, n)\n",
    "    for x in x_vals: \n",
    "        atoms = atoms.copy()\n",
    "        atoms.set_positions([[0,0,0], [x, 0, 0]])\n",
    "        trajectory.append(atoms)\n",
    "    return trajectory"
   ]
  },
  {
   "cell_type": "code",
   "execution_count": 5,
   "id": "9bee2920-a9b0-4748-9b69-20df42b36640",
   "metadata": {},
   "outputs": [],
   "source": [
    "def apply_calculator(\n",
    "    calc: ase.calculators.calculator.Calculator, \n",
    "    traj: List[ase.Atoms]) -> List[Atoms]:\n",
    "    \"\"\"Run a calculator on every atoms object in a list\"\"\"\n",
    "\n",
    "    traj = deepcopy(traj)\n",
    "    for atoms in traj: \n",
    "        atoms.calc = calc\n",
    "        atoms.get_forces()\n",
    "    return traj"
   ]
  },
  {
   "cell_type": "code",
   "execution_count": 6,
   "id": "80eaa2ca-b4f2-4f26-acdd-da612695d8fb",
   "metadata": {},
   "outputs": [],
   "source": [
    "lj1, lj2  = LennardJones(sigma=1, eps=1), LennardJones(sigma=1, epsilon=1.1)"
   ]
  },
  {
   "cell_type": "code",
   "execution_count": 7,
   "id": "954825a2-19f1-4aea-8d61-bfb4c82caf0f",
   "metadata": {},
   "outputs": [],
   "source": [
    "traj_base = sample_diatomic_distances()\n",
    "traj_lj1  = apply_calculator(lj1, traj_base)\n",
    "traj_lj2  = apply_calculator(lj2, traj_base)"
   ]
  },
  {
   "cell_type": "code",
   "execution_count": 8,
   "id": "1271e81b-91c9-453d-a746-b63da38f24ea",
   "metadata": {},
   "outputs": [
    {
     "data": {
      "text/plain": [
       "array([[-1.58809539,  0.        ,  0.        ],\n",
       "       [ 1.58809539,  0.        ,  0.        ]])"
      ]
     },
     "execution_count": 8,
     "metadata": {},
     "output_type": "execute_result"
    }
   ],
   "source": [
    "traj_lj1[0].get_forces()"
   ]
  },
  {
   "cell_type": "code",
   "execution_count": 9,
   "id": "e9fade29-1c3a-41f8-bdf4-3c941424dd88",
   "metadata": {},
   "outputs": [
    {
     "data": {
      "text/plain": [
       "-0.9778930076294439"
      ]
     },
     "execution_count": 9,
     "metadata": {},
     "output_type": "execute_result"
    }
   ],
   "source": [
    "traj_lj1[0].get_potential_energy()"
   ]
  },
  {
   "cell_type": "code",
   "execution_count": 10,
   "id": "94c2492f-0ea1-4e18-b39c-22e4c14e4e5c",
   "metadata": {},
   "outputs": [
    {
     "data": {
      "text/plain": [
       "{'energy': -0.9778930076294439,\n",
       " 'energies': array([-0.4889465, -0.4889465]),\n",
       " 'free_energy': -0.9778930076294439,\n",
       " 'forces': array([[-1.58809539,  0.        ,  0.        ],\n",
       "        [ 1.58809539,  0.        ,  0.        ]])}"
      ]
     },
     "execution_count": 10,
     "metadata": {},
     "output_type": "execute_result"
    }
   ],
   "source": [
    "traj_lj1[0].calc.results"
   ]
  },
  {
   "cell_type": "code",
   "execution_count": 11,
   "id": "f64656c6-232e-4c47-ab6c-c97823d349f6",
   "metadata": {},
   "outputs": [],
   "source": [
    "def extract_diatomic_quantities(traj): \n",
    "    x = np.zeros(len(traj))\n",
    "    energies = np.zeros(len(traj))\n",
    "    forces = np.zeros(len(traj))\n",
    "    for i, atoms in enumerate(traj):\n",
    "        x[i] = atoms.positions[1, 0]\n",
    "        energies[i] = atoms.get_potential_energy()\n",
    "        forces[i] = atoms.get_forces()[0,0]\n",
    "    return x, energies, forces"
   ]
  },
  {
   "cell_type": "code",
   "execution_count": 12,
   "id": "3c153e70-68cb-4600-b80b-c26b28c2c872",
   "metadata": {},
   "outputs": [],
   "source": [
    "x_l1, e_l1, f_l1 = extract_diatomic_quantities(traj_lj1)\n",
    "x_l2, e_l2, f_l2 = extract_diatomic_quantities(traj_lj2)"
   ]
  },
  {
   "cell_type": "code",
   "execution_count": 13,
   "id": "4bf31c38-93bf-4dc5-8d8b-bb5fac9960ab",
   "metadata": {},
   "outputs": [
    {
     "data": {
      "text/plain": [
       "[<matplotlib.lines.Line2D at 0x7018efce6b50>]"
      ]
     },
     "execution_count": 13,
     "metadata": {},
     "output_type": "execute_result"
    },
    {
     "data": {
      "image/png": "[encoded data removed]",
      "text/plain": [
       "<Figure size 640x480 with 1 Axes>"
      ]
     },
     "metadata": {},
     "output_type": "display_data"
    }
   ],
   "source": [
    "plt.plot(x_l1, f_l1)\n",
    "plt.plot(x_l2, f_l2)"
   ]
  },
  {
   "cell_type": "code",
   "execution_count": 14,
   "id": "d27b182e-6e12-4410-ab2a-6d50b38bfeb4",
   "metadata": {},
   "outputs": [
    {
     "data": {
      "text/plain": [
       "[<matplotlib.lines.Line2D at 0x7018efd367d0>]"
      ]
     },
     "execution_count": 14,
     "metadata": {},
     "output_type": "execute_result"
    },
    {
     "data": {
      "image/png": "[encoded data removed]",
      "text/plain": [
       "<Figure size 640x480 with 1 Axes>"
      ]
     },
     "metadata": {},
     "output_type": "display_data"
    }
   ],
   "source": [
    "plt.plot(x_l1, np.abs(f_l1 - f_l2))"
   ]
  },
  {
   "cell_type": "markdown",
   "id": "ee2c8396-4d56-4838-abe9-dba17d3fea2c",
   "metadata": {},
   "source": [
    "## Ensemble Class"
   ]
  },
  {
   "cell_type": "code",
   "execution_count": 77,
   "id": "75d30358-36ca-4ed4-92ac-d514f2339e7f",
   "metadata": {},
   "outputs": [],
   "source": [
    "class EnsembleCalculator(Calculator): \n",
    "    implemented_properties = ['energy', 'forces', 'forces_std']\n",
    "    \n",
    "    def __init__(self, \n",
    "                 calculators: List[Calculator], **kwargs):\n",
    "\n",
    "        Calculator.__init__(self, **kwargs)\n",
    "        self.calculators = calculators\n",
    "        self.num_calculators = len(calculators)\n",
    "\n",
    "    def calculate(self,\n",
    "                  atoms: ase.Atoms=None, \n",
    "                  properties=None, \n",
    "                  system_changes=all_changes):\n",
    "        super().calculate(atoms, system_changes=system_changes)\n",
    "        \n",
    "        # create arrays for energy and forces \n",
    "        results = {\n",
    "            'energy': np.zeros(self.num_calculators),\n",
    "            'forces': np.zeros((self.num_calculators, len(atoms), 3))\n",
    "        }\n",
    "\n",
    "        # compute and store energy and forces for each calculator\n",
    "        for i, calc in enumerate(self.calculators): \n",
    "            calc.calculate(atoms,properties=properties,system_changes=system_changes)\n",
    "            for k in results.keys(): \n",
    "                results[k][i] = calc.results[k]\n",
    "\n",
    "        # store the force std\n",
    "        results['forces_std'] = results['forces'].std(0)\n",
    "        atoms.info['forces_std'] = results['forces_std']\n",
    "\n",
    "        # average over the ensemble dimension\n",
    "        for k in 'energy', 'forces':\n",
    "            results[k] = results[k].mean(0)\n",
    "\n",
    "        self.results.update(results)"
   ]
  },
  {
   "cell_type": "code",
   "execution_count": 78,
   "id": "16a786a0-a9c4-4ec5-a54e-d3a9c9d31b63",
   "metadata": {},
   "outputs": [],
   "source": [
    "ens = EnsembleCalculator([lj1, lj2])"
   ]
  },
  {
   "cell_type": "code",
   "execution_count": 79,
   "id": "056e206e-c386-4de2-9014-6b5195de4e30",
   "metadata": {},
   "outputs": [],
   "source": [
    "traj_ens = apply_calculator(ens, traj_base)"
   ]
  },
  {
   "cell_type": "code",
   "execution_count": 80,
   "id": "e40f34db-528b-4726-9457-8afc21e907d2",
   "metadata": {},
   "outputs": [
    {
     "data": {
      "text/plain": [
       "{'energy': -8.673617379884035e-19,\n",
       " 'energies': array([-4.33680869e-19, -4.33680869e-19]),\n",
       " 'free_energy': -8.673617379884035e-19,\n",
       " 'forces': array([[ 0.01094383,  0.        ,  0.        ],\n",
       "        [-0.01094383,  0.        ,  0.        ]])}"
      ]
     },
     "execution_count": 80,
     "metadata": {},
     "output_type": "execute_result"
    }
   ],
   "source": [
    "traj_lj1[0].calc.results"
   ]
  },
  {
   "cell_type": "code",
   "execution_count": 81,
   "id": "d8b99006-afe6-4e4c-bf15-d0c5662efc6a",
   "metadata": {},
   "outputs": [
    {
     "data": {
      "text/plain": [
       "{'energy': -8.673617379884035e-19,\n",
       " 'energies': array([-4.33680869e-19, -4.33680869e-19]),\n",
       " 'free_energy': -8.673617379884035e-19,\n",
       " 'forces': array([[ 0.01203821,  0.        ,  0.        ],\n",
       "        [-0.01203821,  0.        ,  0.        ]])}"
      ]
     },
     "execution_count": 81,
     "metadata": {},
     "output_type": "execute_result"
    }
   ],
   "source": [
    "traj_lj2[0].calc.results"
   ]
  },
  {
   "cell_type": "code",
   "execution_count": 82,
   "id": "2e5d3b86-d1e2-487f-8ca2-de3a0d51a5e8",
   "metadata": {},
   "outputs": [
    {
     "data": {
      "text/plain": [
       "{'energy': -8.673617379884035e-19,\n",
       " 'forces': array([[ 0.01149102,  0.        ,  0.        ],\n",
       "        [-0.01149102,  0.        ,  0.        ]]),\n",
       " 'forces_std': array([[0.00054719, 0.        , 0.        ],\n",
       "        [0.00054719, 0.        , 0.        ]])}"
      ]
     },
     "execution_count": 82,
     "metadata": {},
     "output_type": "execute_result"
    }
   ],
   "source": [
    "traj_ens[10].calc.results"
   ]
  },
  {
   "cell_type": "code",
   "execution_count": 83,
   "id": "a4697d43-e8f2-4cee-9883-28280310593c",
   "metadata": {},
   "outputs": [],
   "source": [
    "traj_uq = [atoms.calc.results['forces_std'][0,0] for atoms in traj_ens]"
   ]
  },
  {
   "cell_type": "code",
   "execution_count": 84,
   "id": "bfc55d06-5441-429d-8071-598b71cd1791",
   "metadata": {
    "scrolled": true
   },
   "outputs": [
    {
     "data": {
      "text/plain": [
       "[0.011491021580946895,\n",
       " 0.011491021580946895,\n",
       " 0.011491021580946895,\n",
       " 0.011491021580946895,\n",
       " 0.011491021580946895,\n",
       " 0.011491021580946895,\n",
       " 0.011491021580946895,\n",
       " 0.011491021580946895,\n",
       " 0.011491021580946895,\n",
       " 0.011491021580946895,\n",
       " 0.011491021580946895,\n",
       " 0.011491021580946895,\n",
       " 0.011491021580946895,\n",
       " 0.011491021580946895,\n",
       " 0.011491021580946895,\n",
       " 0.011491021580946895,\n",
       " 0.011491021580946895,\n",
       " 0.011491021580946895,\n",
       " 0.011491021580946895,\n",
       " 0.011491021580946895,\n",
       " 0.011491021580946895,\n",
       " 0.011491021580946895,\n",
       " 0.011491021580946895,\n",
       " 0.011491021580946895,\n",
       " 0.011491021580946895,\n",
       " 0.011491021580946895,\n",
       " 0.011491021580946895,\n",
       " 0.011491021580946895,\n",
       " 0.011491021580946895,\n",
       " 0.011491021580946895,\n",
       " 0.011491021580946895,\n",
       " 0.011491021580946895,\n",
       " 0.011491021580946895,\n",
       " 0.011491021580946895,\n",
       " 0.011491021580946895,\n",
       " 0.011491021580946895,\n",
       " 0.011491021580946895,\n",
       " 0.011491021580946895,\n",
       " 0.011491021580946895,\n",
       " 0.011491021580946895,\n",
       " 0.011491021580946895,\n",
       " 0.011491021580946895,\n",
       " 0.011491021580946895,\n",
       " 0.011491021580946895,\n",
       " 0.011491021580946895,\n",
       " 0.011491021580946895,\n",
       " 0.011491021580946895,\n",
       " 0.011491021580946895,\n",
       " 0.011491021580946895,\n",
       " 0.011491021580946895,\n",
       " 0.011491021580946895,\n",
       " 0.011491021580946895,\n",
       " 0.011491021580946895,\n",
       " 0.011491021580946895,\n",
       " 0.011491021580946895,\n",
       " 0.011491021580946895,\n",
       " 0.011491021580946895,\n",
       " 0.011491021580946895,\n",
       " 0.011491021580946895,\n",
       " 0.011491021580946895,\n",
       " 0.011491021580946895,\n",
       " 0.011491021580946895,\n",
       " 0.011491021580946895,\n",
       " 0.011491021580946895,\n",
       " 0.011491021580946895,\n",
       " 0.011491021580946895,\n",
       " 0.011491021580946895,\n",
       " 0.011491021580946895,\n",
       " 0.011491021580946895,\n",
       " 0.011491021580946895,\n",
       " 0.011491021580946895,\n",
       " 0.011491021580946895,\n",
       " 0.011491021580946895,\n",
       " 0.011491021580946895,\n",
       " 0.011491021580946895,\n",
       " 0.011491021580946895,\n",
       " 0.011491021580946895,\n",
       " 0.011491021580946895,\n",
       " 0.011491021580946895,\n",
       " 0.011491021580946895,\n",
       " 0.011491021580946895,\n",
       " 0.011491021580946895,\n",
       " 0.011491021580946895,\n",
       " 0.011491021580946895,\n",
       " 0.011491021580946895,\n",
       " 0.011491021580946895,\n",
       " 0.011491021580946895,\n",
       " 0.011491021580946895,\n",
       " 0.011491021580946895,\n",
       " 0.011491021580946895,\n",
       " 0.011491021580946895,\n",
       " 0.011491021580946895,\n",
       " 0.011491021580946895,\n",
       " 0.011491021580946895,\n",
       " 0.011491021580946895,\n",
       " 0.011491021580946895,\n",
       " 0.011491021580946895,\n",
       " 0.011491021580946895,\n",
       " 0.011491021580946895,\n",
       " 0.011491021580946895]"
      ]
     },
     "execution_count": 84,
     "metadata": {},
     "output_type": "execute_result"
    }
   ],
   "source": [
    "[atoms.calc.results['forces'][0,0] for atoms in traj_ens]"
   ]
  },
  {
   "cell_type": "code",
   "execution_count": 85,
   "id": "7b18ded2-560a-404a-b250-0c32e112a9ea",
   "metadata": {
    "scrolled": true
   },
   "outputs": [
    {
     "data": {
      "text/plain": [
       "[0.000547191503854615,\n",
       " 0.000547191503854615,\n",
       " 0.000547191503854615,\n",
       " 0.000547191503854615,\n",
       " 0.000547191503854615,\n",
       " 0.000547191503854615,\n",
       " 0.000547191503854615,\n",
       " 0.000547191503854615,\n",
       " 0.000547191503854615,\n",
       " 0.000547191503854615,\n",
       " 0.000547191503854615,\n",
       " 0.000547191503854615,\n",
       " 0.000547191503854615,\n",
       " 0.000547191503854615,\n",
       " 0.000547191503854615,\n",
       " 0.000547191503854615,\n",
       " 0.000547191503854615,\n",
       " 0.000547191503854615,\n",
       " 0.000547191503854615,\n",
       " 0.000547191503854615,\n",
       " 0.000547191503854615,\n",
       " 0.000547191503854615,\n",
       " 0.000547191503854615,\n",
       " 0.000547191503854615,\n",
       " 0.000547191503854615,\n",
       " 0.000547191503854615,\n",
       " 0.000547191503854615,\n",
       " 0.000547191503854615,\n",
       " 0.000547191503854615,\n",
       " 0.000547191503854615,\n",
       " 0.000547191503854615,\n",
       " 0.000547191503854615,\n",
       " 0.000547191503854615,\n",
       " 0.000547191503854615,\n",
       " 0.000547191503854615,\n",
       " 0.000547191503854615,\n",
       " 0.000547191503854615,\n",
       " 0.000547191503854615,\n",
       " 0.000547191503854615,\n",
       " 0.000547191503854615,\n",
       " 0.000547191503854615,\n",
       " 0.000547191503854615,\n",
       " 0.000547191503854615,\n",
       " 0.000547191503854615,\n",
       " 0.000547191503854615,\n",
       " 0.000547191503854615,\n",
       " 0.000547191503854615,\n",
       " 0.000547191503854615,\n",
       " 0.000547191503854615,\n",
       " 0.000547191503854615,\n",
       " 0.000547191503854615,\n",
       " 0.000547191503854615,\n",
       " 0.000547191503854615,\n",
       " 0.000547191503854615,\n",
       " 0.000547191503854615,\n",
       " 0.000547191503854615,\n",
       " 0.000547191503854615,\n",
       " 0.000547191503854615,\n",
       " 0.000547191503854615,\n",
       " 0.000547191503854615,\n",
       " 0.000547191503854615,\n",
       " 0.000547191503854615,\n",
       " 0.000547191503854615,\n",
       " 0.000547191503854615,\n",
       " 0.000547191503854615,\n",
       " 0.000547191503854615,\n",
       " 0.000547191503854615,\n",
       " 0.000547191503854615,\n",
       " 0.000547191503854615,\n",
       " 0.000547191503854615,\n",
       " 0.000547191503854615,\n",
       " 0.000547191503854615,\n",
       " 0.000547191503854615,\n",
       " 0.000547191503854615,\n",
       " 0.000547191503854615,\n",
       " 0.000547191503854615,\n",
       " 0.000547191503854615,\n",
       " 0.000547191503854615,\n",
       " 0.000547191503854615,\n",
       " 0.000547191503854615,\n",
       " 0.000547191503854615,\n",
       " 0.000547191503854615,\n",
       " 0.000547191503854615,\n",
       " 0.000547191503854615,\n",
       " 0.000547191503854615,\n",
       " 0.000547191503854615,\n",
       " 0.000547191503854615,\n",
       " 0.000547191503854615,\n",
       " 0.000547191503854615,\n",
       " 0.000547191503854615,\n",
       " 0.000547191503854615,\n",
       " 0.000547191503854615,\n",
       " 0.000547191503854615,\n",
       " 0.000547191503854615,\n",
       " 0.000547191503854615,\n",
       " 0.000547191503854615,\n",
       " 0.000547191503854615,\n",
       " 0.000547191503854615,\n",
       " 0.000547191503854615,\n",
       " 0.000547191503854615]"
      ]
     },
     "execution_count": 85,
     "metadata": {},
     "output_type": "execute_result"
    }
   ],
   "source": [
    "traj_uq"
   ]
  },
  {
   "cell_type": "code",
   "execution_count": null,
   "id": "fbb69a5d-fa54-41bd-8e51-bfe13dc81f1f",
   "metadata": {},
   "outputs": [],
   "source": []
  },
  {
   "cell_type": "code",
   "execution_count": 54,
   "id": "5d16a826-69f7-4850-ba33-3a581d845022",
   "metadata": {},
   "outputs": [],
   "source": [
    "from ase.io import Trajectory, read"
   ]
  },
  {
   "cell_type": "code",
   "execution_count": 55,
   "id": "ee187345-1122-4eaa-b1b0-b84b64949f23",
   "metadata": {},
   "outputs": [],
   "source": [
    "trajw = Trajectory('test.traj', mode='w')"
   ]
  },
  {
   "cell_type": "code",
   "execution_count": 65,
   "id": "b440c64b-a41d-4e23-a7b6-29fbdd9811bc",
   "metadata": {},
   "outputs": [],
   "source": [
    "trajw.write(traj_ens[0])"
   ]
  },
  {
   "cell_type": "code",
   "execution_count": 66,
   "id": "99057f0e-5b33-4c89-84f8-79b2ee20d983",
   "metadata": {},
   "outputs": [],
   "source": [
    "test = read('test.traj')"
   ]
  },
  {
   "cell_type": "code",
   "execution_count": 68,
   "id": "6736eb96-218e-4834-b29e-c32a76e68a88",
   "metadata": {},
   "outputs": [
    {
     "data": {
      "text/plain": [
       "array([[0.07940477, 0.        , 0.        ],\n",
       "       [0.07940477, 0.        , 0.        ]])"
      ]
     },
     "execution_count": 68,
     "metadata": {},
     "output_type": "execute_result"
    }
   ],
   "source": [
    "test.info['forces_std']"
   ]
  },
  {
   "cell_type": "code",
   "execution_count": null,
   "id": "c3c4d680-4509-4567-8fcf-a47f03f27fb5",
   "metadata": {},
   "outputs": [],
   "source": []
  }
 ],
 "metadata": {
  "kernelspec": {
   "display_name": "Python 3 (ipykernel)",
   "language": "python",
   "name": "python3"
  },
  "language_info": {
   "codemirror_mode": {
    "name": "ipython",
    "version": 3
   },
   "file_extension": ".py",
   "mimetype": "text/x-python",
   "name": "python",
   "nbconvert_exporter": "python",
   "pygments_lexer": "ipython3",
   "version": "3.11.0"
  }
 },
 "nbformat": 4,
 "nbformat_minor": 5
}
