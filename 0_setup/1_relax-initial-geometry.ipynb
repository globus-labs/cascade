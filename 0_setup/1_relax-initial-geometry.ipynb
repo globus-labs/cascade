{
 "cells": [
  {
   "cell_type": "markdown",
   "id": "c42c6fd6-3f29-4b66-a8c2-e08a0bb6137a",
   "metadata": {},
   "source": [
    "# Relax the Initial Geometries\n",
    "Produce a relaxed structure based on one of the initial geometries"
   ]
  },
  {
   "cell_type": "code",
   "execution_count": 1,
   "id": "65f3daf9-4891-4a6e-ae89-c4f39b6d135c",
   "metadata": {},
   "outputs": [],
   "source": [
    "from cascade.calculator import make_calculator\n",
    "from ase.filters import UnitCellFilter\n",
    "from ase.io.trajectory import Trajectory\n",
    "from ase.optimize import LBFGS\n",
    "from ase.db import connect\n",
    "from ase.io import read\n",
    "from ase import units\n",
    "from pathlib import Path\n",
    "import shutil"
   ]
  },
  {
   "cell_type": "markdown",
   "id": "4a46b00a-57c2-454e-be98-a0efa6fc2e74",
   "metadata": {},
   "source": [
    "Configuration"
   ]
  },
  {
   "cell_type": "code",
   "execution_count": 2,
   "id": "31c08e26-77fc-4d9f-b228-0c3d203612b5",
   "metadata": {},
   "outputs": [],
   "source": [
    "method: str = 'blyp'\n",
    "initial_geometry = 'initial-geometries/packmol-CH4-in-H2O=32-seed=129.vasp'"
   ]
  },
  {
   "cell_type": "markdown",
   "id": "bf7e5e6a-56e1-434f-b43b-f69a5cffdece",
   "metadata": {},
   "source": [
    "Derived"
   ]
  },
  {
   "cell_type": "code",
   "execution_count": 3,
   "id": "8287cf9f-772a-4e68-8fd3-cc8d6849d629",
   "metadata": {},
   "outputs": [],
   "source": [
    "name = f'{Path(initial_geometry).name[:-5]}-{method}'\n",
    "run_dir = Path('relax') / name"
   ]
  },
  {
   "cell_type": "code",
   "execution_count": 4,
   "id": "2784e644-a43b-4327-8799-0b4b4b1b4c14",
   "metadata": {},
   "outputs": [],
   "source": [
    "run_dir.mkdir(exist_ok=True, parents=True)"
   ]
  },
  {
   "cell_type": "markdown",
   "id": "2140dc4d-0b70-45dc-a361-43f93d2442ec",
   "metadata": {},
   "source": [
    "## Perform the Relaxation\n",
    "Either from the initial geometry or the latest relaxation step from the trajectory"
   ]
  },
  {
   "cell_type": "code",
   "execution_count": 5,
   "id": "254aa382-059e-4ca6-88c3-6c3ea4142507",
   "metadata": {},
   "outputs": [
    {
     "name": "stdout",
     "output_type": "stream",
     "text": [
      "Loaded last structure\n"
     ]
    }
   ],
   "source": [
    "relax_traj = run_dir / 'relax.traj'\n",
    "if relax_traj.is_file() and relax_traj.stat().st_size > 75:\n",
    "    atoms = read(str(relax_traj), index=-1)\n",
    "    print('Loaded last structure')\n",
    "else:\n",
    "    atoms = read(initial_geometry)"
   ]
  },
  {
   "cell_type": "code",
   "execution_count": 6,
   "id": "2309b22c-3178-4377-94e2-3214b4eb970d",
   "metadata": {},
   "outputs": [
    {
     "data": {
      "text/plain": [
       "Cell([10.57422552191684, 10.57422552191684, 10.57422552191684])"
      ]
     },
     "execution_count": 6,
     "metadata": {},
     "output_type": "execute_result"
    }
   ],
   "source": [
    "atoms.cell"
   ]
  },
  {
   "cell_type": "code",
   "execution_count": 7,
   "id": "9a384f79-dd7b-4c41-825a-abe10631bdc6",
   "metadata": {},
   "outputs": [
    {
     "data": {
      "text/plain": [
       "Atoms(symbols='CH68O32', pbc=True, cell=[10.57422552191684, 10.57422552191684, 10.57422552191684], calculator=SinglePointCalculator(...))"
      ]
     },
     "execution_count": 7,
     "metadata": {},
     "output_type": "execute_result"
    }
   ],
   "source": [
    "atoms"
   ]
  },
  {
   "cell_type": "markdown",
   "id": "817adebf-87f3-4dc6-9d9b-2a59f5b1abcd",
   "metadata": {},
   "source": [
    "Set the calculator"
   ]
  },
  {
   "cell_type": "code",
   "execution_count": 8,
   "id": "63371f18-f6a1-4ec3-9918-45384d3daeee",
   "metadata": {},
   "outputs": [],
   "source": [
    "if Path('cp2k-run').exists():\n",
    "    Path('cp2k-run/cp2k.out').write_text('')\n",
    "atoms.calc = make_calculator(method, directory='cp2k-run')"
   ]
  },
  {
   "cell_type": "markdown",
   "id": "152f73ac-8d76-440b-9bde-a7f68246eb97",
   "metadata": {},
   "source": [
    "Relax it"
   ]
  },
  {
   "cell_type": "code",
   "execution_count": 9,
   "id": "6889fe4d-e90e-4ac7-9c23-8e80f1ebebd2",
   "metadata": {},
   "outputs": [],
   "source": [
    "init_vol = atoms.get_volume()\n",
    "ecf = UnitCellFilter(atoms, hydrostatic_strain=True)\n",
    "with Trajectory(str(relax_traj), mode='a') as traj:\n",
    "    dyn = LBFGS(ecf, \n",
    "                logfile=str(run_dir / 'relax.log'),\n",
    "                trajectory=traj)\n",
    "    dyn.run(fmax=0.1)\n",
    "final_vol = atoms.get_volume()"
   ]
  },
  {
   "cell_type": "markdown",
   "id": "d89ab9b4-b5a6-4cd6-a5b2-f774a8dedb5b",
   "metadata": {},
   "source": [
    "Save the geometry"
   ]
  },
  {
   "cell_type": "code",
   "execution_count": 11,
   "id": "c1bc42d9-eff5-4ac0-b473-716d80ef79d7",
   "metadata": {},
   "outputs": [],
   "source": [
    "Path('final-geometries').mkdir(exist_ok=True)\n",
    "atoms.write(f'final-geometries/{name}.vasp')"
   ]
  },
  {
   "cell_type": "code",
   "execution_count": null,
   "id": "576d4f7d-abed-4a77-bc32-25b9165a038d",
   "metadata": {},
   "outputs": [],
   "source": []
  }
 ],
 "metadata": {
  "kernelspec": {
   "display_name": "Python 3 (ipykernel)",
   "language": "python",
   "name": "python3"
  },
  "language_info": {
   "codemirror_mode": {
    "name": "ipython",
    "version": 3
   },
   "file_extension": ".py",
   "mimetype": "text/x-python",
   "name": "python",
   "nbconvert_exporter": "python",
   "pygments_lexer": "ipython3",
   "version": "3.11.0"
  }
 },
 "nbformat": 4,
 "nbformat_minor": 5
}
