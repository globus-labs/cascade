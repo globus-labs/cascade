{
 "cells": [
  {
   "cell_type": "markdown",
   "id": "c42c6fd6-3f29-4b66-a8c2-e08a0bb6137a",
   "metadata": {},
   "source": [
    "# Run NPT MD \n",
    "Run a structure to see if it equilibrates"
   ]
  },
  {
   "cell_type": "code",
   "execution_count": 1,
   "id": "65f3daf9-4891-4a6e-ae89-c4f39b6d135c",
   "metadata": {},
   "outputs": [],
   "source": [
    "from cascade.calculator import make_calculator\n",
    "from ase.md.velocitydistribution import MaxwellBoltzmannDistribution\n",
    "from ase.md.npt import NPT\n",
    "from ase.io import read\n",
    "from ase import units\n",
    "from pathlib import Path\n",
    "import shutil"
   ]
  },
  {
   "cell_type": "markdown",
   "id": "4a46b00a-57c2-454e-be98-a0efa6fc2e74",
   "metadata": {},
   "source": [
    "Configuration"
   ]
  },
  {
   "cell_type": "code",
   "execution_count": 2,
   "id": "31c08e26-77fc-4d9f-b228-0c3d203612b5",
   "metadata": {},
   "outputs": [],
   "source": [
    "method: str = 'blyp'\n",
    "temperature = 298\n",
    "initial_geometry = 'final-geometries/packmol-CH4-in-H2O=32-seed=129-blyp.vasp'\n",
    "steps: int = 512"
   ]
  },
  {
   "cell_type": "markdown",
   "id": "bf7e5e6a-56e1-434f-b43b-f69a5cffdece",
   "metadata": {},
   "source": [
    "Derived"
   ]
  },
  {
   "cell_type": "code",
   "execution_count": 3,
   "id": "8287cf9f-772a-4e68-8fd3-cc8d6849d629",
   "metadata": {},
   "outputs": [],
   "source": [
    "name = f'{Path(initial_geometry).name[:-5]}-npt={temperature}'\n",
    "run_dir = Path('md') / name"
   ]
  },
  {
   "cell_type": "code",
   "execution_count": 4,
   "id": "2784e644-a43b-4327-8799-0b4b4b1b4c14",
   "metadata": {},
   "outputs": [],
   "source": [
    "run_dir.mkdir(exist_ok=True, parents=True)"
   ]
  },
  {
   "cell_type": "markdown",
   "id": "2140dc4d-0b70-45dc-a361-43f93d2442ec",
   "metadata": {},
   "source": [
    "## Perform the Dynamics\n",
    "Run a set number of MD steps"
   ]
  },
  {
   "cell_type": "code",
   "execution_count": 5,
   "id": "254aa382-059e-4ca6-88c3-6c3ea4142507",
   "metadata": {},
   "outputs": [
    {
     "name": "stdout",
     "output_type": "stream",
     "text": [
      "Loaded last structure\n"
     ]
    }
   ],
   "source": [
    "traj_file = run_dir / 'md.traj'\n",
    "if traj_file.is_file() and traj_file.stat().st_size > 0:\n",
    "    traj = read(str(traj_file), slice(None))\n",
    "    start = len(traj)\n",
    "    atoms = traj[-1]\n",
    "    print('Loaded last structure')\n",
    "else:\n",
    "    atoms = read(initial_geometry)\n",
    "    start = 0\n",
    "    MaxwellBoltzmannDistribution(atoms, temperature_K=temperature * 2)"
   ]
  },
  {
   "cell_type": "markdown",
   "id": "152f73ac-8d76-440b-9bde-a7f68246eb97",
   "metadata": {},
   "source": [
    "Relax it"
   ]
  },
  {
   "cell_type": "code",
   "execution_count": 6,
   "id": "9c56d841-fca3-4184-9a2d-00a4dfeac846",
   "metadata": {},
   "outputs": [],
   "source": [
    "atoms.calc = make_calculator(method, directory='cp2k-run')"
   ]
  },
  {
   "cell_type": "code",
   "execution_count": null,
   "id": "6889fe4d-e90e-4ac7-9c23-8e80f1ebebd2",
   "metadata": {},
   "outputs": [
    {
     "name": "stderr",
     "output_type": "stream",
     "text": [
      "WARNING: NPT: Setting the center-of-mass momentum to zero (was 0.349655 0.258838 -0.117261)\n"
     ]
    }
   ],
   "source": [
    "dyn = NPT(atoms,\n",
    "          timestep=0.5 * units.fs,\n",
    "          temperature_K=temperature,\n",
    "          ttime=100 * units.fs,\n",
    "          pfactor=0.01,\n",
    "          externalstress=0,\n",
    "          logfile=str(run_dir / 'md.log'),\n",
    "          trajectory=str(traj_file),\n",
    "          append_trajectory=True)\n",
    "dyn.run(512 - start)"
   ]
  },
  {
   "cell_type": "code",
   "execution_count": null,
   "id": "e9fcd24d-4da9-4b73-9802-b27df9e20069",
   "metadata": {},
   "outputs": [],
   "source": []
  },
  {
   "cell_type": "code",
   "execution_count": null,
   "id": "51830ba5-8dc6-44db-8ce8-94d5ccbf89f3",
   "metadata": {},
   "outputs": [],
   "source": []
  }
 ],
 "metadata": {
  "kernelspec": {
   "display_name": "Python 3 (ipykernel)",
   "language": "python",
   "name": "python3"
  },
  "language_info": {
   "codemirror_mode": {
    "name": "ipython",
    "version": 3
   },
   "file_extension": ".py",
   "mimetype": "text/x-python",
   "name": "python",
   "nbconvert_exporter": "python",
   "pygments_lexer": "ipython3",
   "version": "3.11.0"
  }
 },
 "nbformat": 4,
 "nbformat_minor": 5
}
