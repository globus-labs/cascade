{
 "cells": [
  {
   "cell_type": "markdown",
   "id": "b439c802-154f-4d9c-88c9-1bc0cfdbf31d",
   "metadata": {},
   "source": [
    "# Demonstrate On-the-Fly Learning with Controlled Error with Proxima\n",
    "The [Proxima paper from Zamora et al.](https://dl.acm.org/doi/10.1145/3447818.3460370) combines on-the-fly learning of a surrogate model and a control system for ensuring the model is only used where appropriate. \n",
    "We demonstrate how to use our implementation of Proxima within this notebook."
   ]
  },
  {
   "cell_type": "code",
   "execution_count": 1,
   "id": "14b530b1-bd5d-47c6-a278-c66c6dc8034b",
   "metadata": {},
   "outputs": [
    {
     "name": "stderr",
     "output_type": "stream",
     "text": [
      "/home/lward/miniconda3/envs/cascade/lib/python3.11/site-packages/torchani/aev.py:16: UserWarning: cuaev not installed\n",
      "  warnings.warn(\"cuaev not installed\")\n"
     ]
    }
   ],
   "source": [
    "%matplotlib inline\n",
    "from matplotlib import pyplot as plt\n",
    "from cascade.calculator import make_calculator\n",
    "from cascade.proxima import SerialLearningCalculator\n",
    "from cascade.learning.torchani.build import make_aev_computer, make_output_nets\n",
    "from cascade.learning.torchani import TorchANI\n",
    "from ase.md.velocitydistribution import MaxwellBoltzmannDistribution\n",
    "from ase.md.nptberendsen import NPTBerendsen\n",
    "from ase.io.trajectory import Trajectory\n",
    "from ase.io import read, iread\n",
    "from ase.db import connect\n",
    "from ase import units\n",
    "from pathlib import Path\n",
    "from tqdm import tqdm\n",
    "import pickle as pkl\n",
    "import pandas as pd\n",
    "import json"
   ]
  },
  {
   "cell_type": "markdown",
   "id": "222d58a5-0934-4f43-94dd-38b556c09ab9",
   "metadata": {},
   "source": [
    "Configuration"
   ]
  },
  {
   "cell_type": "code",
   "execution_count": 2,
   "id": "de254f90-e116-4bde-9b4a-56f32dee4734",
   "metadata": {},
   "outputs": [],
   "source": [
    "initial_data: str = 'init-run/si-perfect-2x2x2.vasp/md.traj'\n",
    "starting_strc: str = 'structures/si-vacancy-2x2x2.vasp'\n",
    "model_ensemble_size: int = 2\n",
    "target_fmax: float = 0.1"
   ]
  },
  {
   "cell_type": "markdown",
   "id": "3f695d1c-41fe-46f1-9666-d59727d5800c",
   "metadata": {},
   "source": [
    "Determine a run directory"
   ]
  },
  {
   "cell_type": "code",
   "execution_count": 3,
   "id": "f9e47144-0388-473d-88ca-7578a3a13c77",
   "metadata": {},
   "outputs": [],
   "source": [
    "starting_strc = Path(starting_strc)\n",
    "run_name = f'{Path(starting_strc).name[:-5]}_fmax={target_fmax}'\n",
    "run_dir = Path('proxima-run') / run_name\n",
    "run_dir.mkdir(exist_ok=True, parents=True)"
   ]
  },
  {
   "cell_type": "code",
   "execution_count": 4,
   "id": "db258848-0018-4ef9-95b8-6f63ed0b2bb6",
   "metadata": {},
   "outputs": [],
   "source": [
    "db_path = run_dir / 'proxima.db'"
   ]
  },
  {
   "cell_type": "markdown",
   "id": "589524fd-4b58-48ea-9b2c-3b4f25038472",
   "metadata": {},
   "source": [
    "## Load the Initial Structure and Calculator.\n",
    "Use either the last structure from the previous run or the starting structure.\n",
    "\n",
    "Then create a calculator set to run CP2K with the correct settings."
   ]
  },
  {
   "cell_type": "code",
   "execution_count": 5,
   "id": "eb8740f3-62ba-4db6-b4e2-6a070af9e60b",
   "metadata": {},
   "outputs": [],
   "source": [
    "traj_path = run_dir / 'md.traj'"
   ]
  },
  {
   "cell_type": "code",
   "execution_count": 6,
   "id": "0b4d2b07-5672-42ec-98be-9e311bbf0144",
   "metadata": {},
   "outputs": [],
   "source": [
    "if traj_path.exists():\n",
    "    atoms = read(traj_path, -1)\n",
    "else:\n",
    "    atoms = read(starting_strc)\n",
    "    MaxwellBoltzmannDistribution(atoms, temperature_K=300)"
   ]
  },
  {
   "cell_type": "markdown",
   "id": "8255301f-9738-40f6-8584-a8f198f2832a",
   "metadata": {},
   "source": [
    "Make a calculator using a utility built into Cascade"
   ]
  },
  {
   "cell_type": "code",
   "execution_count": 7,
   "id": "d0708f5e-2917-41a3-9fd6-bb26ecdebce5",
   "metadata": {},
   "outputs": [],
   "source": [
    "target_calc = make_calculator('blyp')"
   ]
  },
  {
   "cell_type": "markdown",
   "id": "fcf40585-a467-4ed2-bae4-2efe0f6a94da",
   "metadata": {},
   "source": [
    "Computing the forces should take about a minute"
   ]
  },
  {
   "cell_type": "code",
   "execution_count": 8,
   "id": "68bc392e-d2d0-4004-a1f8-2ced41845011",
   "metadata": {},
   "outputs": [
    {
     "name": "stdout",
     "output_type": "stream",
     "text": [
      "CPU times: user 5.77 ms, sys: 0 ns, total: 5.77 ms\n",
      "Wall time: 24 s\n"
     ]
    }
   ],
   "source": [
    "%%time\n",
    "target_calc.get_forces(atoms);"
   ]
  },
  {
   "cell_type": "markdown",
   "id": "896cd407-5eec-4fc4-aaf6-ab7b78daae86",
   "metadata": {},
   "source": [
    "## Select the Interatomic Potential\n",
    "The interatomic potential is what we will be training as a fast surrogate for the DFT calculation.\n",
    "\n",
    "Cascade splits the definition of the potential into two parts. The first is a class with defines how to use the model, and we're going to use [TorchANI](https://github.com/aiqm/torchani)."
   ]
  },
  {
   "cell_type": "code",
   "execution_count": 9,
   "id": "88638b39-f0a7-4e17-b11d-52918dfc8b59",
   "metadata": {},
   "outputs": [],
   "source": [
    "learner = TorchANI()"
   ]
  },
  {
   "cell_type": "markdown",
   "id": "9d8509ef-2ac3-4d3a-b720-98ea1f273393",
   "metadata": {},
   "source": [
    "The second part is a list of models to be trained. The TorchANI model learner expects the model to be defined as:\n",
    "\n",
    "1. A atomic environment computer (converts an atomic structure into a representation useful to nueral networks)\n",
    "2. A network to compute energies, forces, and stresses using the computed environment\n",
    "3. A set of reference energies for each type of molecule (TorchANI will solve this, but we must seed with an initial value)"
   ]
  },
  {
   "cell_type": "code",
   "execution_count": 10,
   "id": "21229734-c06f-4e5f-aa2a-fefecdd7fd15",
   "metadata": {},
   "outputs": [],
   "source": [
    "species = list(set(atoms.symbols))  # The elements our model must model"
   ]
  },
  {
   "cell_type": "code",
   "execution_count": 11,
   "id": "eae782e3-d12d-4dd7-a41b-d3350423bed1",
   "metadata": {},
   "outputs": [],
   "source": [
    "aev_computer = make_aev_computer(species)"
   ]
  },
  {
   "cell_type": "code",
   "execution_count": 12,
   "id": "8b2d4e36-ac94-4b88-bbf9-3596eb1057d2",
   "metadata": {},
   "outputs": [],
   "source": [
    "models = [\n",
    "    (aev_computer, make_output_nets(species, aev_computer), dict((s, 0.) for s in species))\n",
    "    for i in range(model_ensemble_size)\n",
    "]"
   ]
  },
  {
   "cell_type": "markdown",
   "id": "529a7073-43da-4197-bf94-662f56100200",
   "metadata": {},
   "source": [
    "## Select the Training Set\n",
    "We ran a short trajectory in the previous notebook and we'll use it as training data for this run.\n",
    "\n",
    "Skip if the DB path is already there"
   ]
  },
  {
   "cell_type": "code",
   "execution_count": 13,
   "id": "1676284f-45ca-4e25-a83c-a42833f7a6df",
   "metadata": {},
   "outputs": [],
   "source": [
    "if not db_path.exists():\n",
    "    with connect(db_path) as db:\n",
    "        for frame in iread(initial_data):\n",
    "            db.write(frame)"
   ]
  },
  {
   "cell_type": "markdown",
   "id": "d4458b95-5987-4c09-addb-02e5cc0c4621",
   "metadata": {},
   "source": [
    "## Create the Online Trainer\n",
    "The `SerialLearningCalculator` manages training the surrogate model and figuring out how to best use it.\n",
    "It acts as a normal ASE calculator, so we'll use it later in place of the CP2K calculator created above.\n",
    "\n",
    "Make one by defining:"
   ]
  },
  {
   "cell_type": "code",
   "execution_count": 14,
   "id": "acf3784d-6849-43e2-81a5-7cd36b875717",
   "metadata": {},
   "outputs": [],
   "source": [
    "learning_calc = SerialLearningCalculator(\n",
    "    target_calc=target_calc,  # The target level of accuracy, as a calculator to use for generating training data\n",
    "    learner=learner,  # A tool defining how to train the models\n",
    "    models=models,  # Starting points for the models being trained\n",
    "    train_kwargs={'num_epochs': 128, 'batch_size': 64, 'reset_weights': True, 'device': 'cuda'},  # Configuration for the training routines\n",
    "    train_freq=64,  # After how many new points to retrain the surrogate\n",
    "    target_ferr=0.3,  # The target level of error, defined as the maximum error between the surrogate and target in eV/atom\n",
    "    history_length=32,  # How many past evaluations of the target calculator to use when determining whether if the surrogate is accurate enough\n",
    "    db_path=db_path,  # A database file in which to persist training data\n",
    ")"
   ]
  },
  {
   "cell_type": "markdown",
   "id": "5d2ae043-f7ef-4500-a0fb-55f3b46afba0",
   "metadata": {},
   "source": [
    "If we're starting from an old run, we can load the state of the learner from disk (we'll describe what that is below)"
   ]
  },
  {
   "cell_type": "code",
   "execution_count": 15,
   "id": "d9d25f56-2c57-420c-b852-3ae383f0194a",
   "metadata": {},
   "outputs": [],
   "source": [
    "state_path = run_dir / 'proxima-state.pkl'\n",
    "if state_path.exists():\n",
    "    with state_path.open('rb') as fp:\n",
    "        learning_calc.set_state(pkl.load(fp))"
   ]
  },
  {
   "cell_type": "markdown",
   "id": "c564c874-0f01-4fbc-a0ca-b35c041c9a05",
   "metadata": {},
   "source": [
    "As above, you can use it just like another calculator. The first call will take a few minutes because the calculator is training the surrogate models and running the target calculator"
   ]
  },
  {
   "cell_type": "code",
   "execution_count": 16,
   "id": "f3175fea-daa3-4025-b767-c54bd1723619",
   "metadata": {},
   "outputs": [
    {
     "name": "stdout",
     "output_type": "stream",
     "text": [
      "CPU times: user 11min 27s, sys: 1.27 s, total: 11min 29s\n",
      "Wall time: 11min 52s\n"
     ]
    }
   ],
   "source": [
    "%%time\n",
    "learning_calc.get_forces(atoms);"
   ]
  },
  {
   "cell_type": "markdown",
   "id": "f94b1a63-2414-48d7-a289-a2eaf13b1a6f",
   "metadata": {},
   "source": [
    "The `used_surrogate` attribute is a diagnostic which tells you where the resultant energy came from"
   ]
  },
  {
   "cell_type": "code",
   "execution_count": 17,
   "id": "d3a1112a-fe78-49ca-9f90-a08ba1307719",
   "metadata": {},
   "outputs": [
    {
     "data": {
      "text/plain": [
       "False"
      ]
     },
     "execution_count": 17,
     "metadata": {},
     "output_type": "execute_result"
    }
   ],
   "source": [
    "learning_calc.used_surrogate"
   ]
  },
  {
   "cell_type": "markdown",
   "id": "b25572f6-79c4-4522-bbff-08c7a88376ef",
   "metadata": {},
   "source": [
    "The learning calculator exposes a few other fields it uses while operating that are be useful to understanding how it works.\n",
    "\n",
    "For example, the most recent uncertainty metric (defined as the largest variance in force across all models) and the observed error of the model are stored in `error_history`.\n",
    "The first error is going to be rather large"
   ]
  },
  {
   "cell_type": "code",
   "execution_count": 18,
   "id": "504ebc91-7ae7-4f9b-b3d6-9ed996194c3f",
   "metadata": {},
   "outputs": [
    {
     "data": {
      "text/plain": [
       "deque([(0.030899279, 0.505205261344483)], maxlen=32)"
      ]
     },
     "execution_count": 18,
     "metadata": {},
     "output_type": "execute_result"
    }
   ],
   "source": [
    "learning_calc.error_history"
   ]
  },
  {
   "cell_type": "markdown",
   "id": "b083f20c-e9f7-461a-9b72-4c6b606d7e05",
   "metadata": {},
   "source": [
    "The threshold for the uncertainty metric is available as `threshold` but not yet set because there is not enough examples of using the surrogate available"
   ]
  },
  {
   "cell_type": "code",
   "execution_count": 19,
   "id": "5f48e101-166f-4146-8214-7bc17dc9b709",
   "metadata": {},
   "outputs": [],
   "source": [
    "learning_calc.threshold"
   ]
  },
  {
   "cell_type": "markdown",
   "id": "6a8360d3-a756-4e6c-b1dd-b1aa5433ef90",
   "metadata": {},
   "source": [
    "There is also a set of training data stored on disk as `proxima.db`."
   ]
  },
  {
   "cell_type": "code",
   "execution_count": 20,
   "id": "742f3380-6e73-4108-9e8a-293087e1f068",
   "metadata": {},
   "outputs": [
    {
     "data": {
      "text/plain": [
       "Atoms(symbols='Si64', pbc=True, cell=[10.86, 10.86, 10.86], momenta=..., calculator=SinglePointCalculator(...))"
      ]
     },
     "execution_count": 20,
     "metadata": {},
     "output_type": "execute_result"
    }
   ],
   "source": [
    "read(db_path, 0)"
   ]
  },
  {
   "cell_type": "markdown",
   "id": "ea6a900f-dad6-410a-877e-ff32355148c7",
   "metadata": {},
   "source": [
    "## Running Dynamics and Learning On-the-Fly\n",
    "We can now use the learning calculator as if it were any other way of computing atomic energies.\n",
    "\n",
    "As an example, let's run NPT dynamics at 300K and zero pressure."
   ]
  },
  {
   "cell_type": "code",
   "execution_count": 21,
   "id": "e3738267-00bc-45cf-a123-d8d802177677",
   "metadata": {},
   "outputs": [],
   "source": [
    "atoms.calc = learning_calc"
   ]
  },
  {
   "cell_type": "code",
   "execution_count": 22,
   "id": "01e6c869-ca83-4549-8ffe-b7a922690fc5",
   "metadata": {},
   "outputs": [],
   "source": [
    "npt = NPTBerendsen(atoms, \n",
    "                   timestep=0.3 * units.fs,\n",
    "                   temperature_K=300,\n",
    "                   taut=10. * units.fs,  # Small because the structure starts out very unrelaxed\n",
    "                   logfile=run_dir / 'md.log',\n",
    "                   pressure_au=0,\n",
    "                   compressibility_au=4.57e-5 / units.bar)"
   ]
  },
  {
   "cell_type": "markdown",
   "id": "5381c291-0853-423c-be09-9ceea6bf7eb9",
   "metadata": {},
   "source": [
    "Run timesteps enough timesteps that the model will start training and, if lucky get used."
   ]
  },
  {
   "cell_type": "code",
   "execution_count": null,
   "id": "1c158360-0efb-4766-9da7-f79dada9d5b0",
   "metadata": {
    "scrolled": true
   },
   "outputs": [
    {
     "name": "stderr",
     "output_type": "stream",
     "text": [
      " 16%|██████████████████████████████████████▋                                                                                                                                                                                                      | 167/1024 [2:48:43<10:22:35, 43.59s/it]"
     ]
    }
   ],
   "source": [
    "with Trajectory(traj_path, mode='a', atoms=atoms) as traj:\n",
    "    npt.attach(traj.write, interval=1)\n",
    "    for step in tqdm(range(1024)):\n",
    "        # Step forward with the NPT\n",
    "        npt.step()\n",
    "    \n",
    "        # Save a log of what the learner is doing\n",
    "        with open(run_dir / 'proxima-log.json', 'a') as fp:\n",
    "            last_uncer, last_error = learning_calc.error_history[-1]\n",
    "            print(json.dumps({\n",
    "                'step': step,\n",
    "                'energy': float(atoms.get_potential_energy()),\n",
    "                'temperature': atoms.get_temperature(),\n",
    "                'volume': atoms.get_volume(),\n",
    "                'used_surrogate': bool(learning_calc.used_surrogate),\n",
    "                'proxima_alpha': learning_calc.alpha,\n",
    "                'proxima_threshold': learning_calc.threshold,\n",
    "                'last_uncer': float(last_uncer),\n",
    "                'last_error': float(last_error),\n",
    "            }), file=fp)\n",
    "    \n",
    "        # Save proxima's state\n",
    "        with open(state_path, 'wb') as fp:\n",
    "            pkl.dump(learning_calc.get_state(), fp)"
   ]
  }
 ],
 "metadata": {
  "kernelspec": {
   "display_name": "Python 3 (ipykernel)",
   "language": "python",
   "name": "python3"
  },
  "language_info": {
   "codemirror_mode": {
    "name": "ipython",
    "version": 3
   },
   "file_extension": ".py",
   "mimetype": "text/x-python",
   "name": "python",
   "nbconvert_exporter": "python",
   "pygments_lexer": "ipython3",
   "version": "3.11.0"
  }
 },
 "nbformat": 4,
 "nbformat_minor": 5
}
