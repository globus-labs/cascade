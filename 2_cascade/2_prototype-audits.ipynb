{
 "cells": [
  {
   "cell_type": "code",
   "execution_count": 1,
   "id": "92036efc-fdd3-4e27-8c26-9c3d54abde00",
   "metadata": {},
   "outputs": [],
   "source": [
    "from typing import List\n",
    "from copy import deepcopy\n",
    "import pandas as pd\n",
    "\n",
    "import ase\n",
    "from ase import Atoms\n",
    "from ase.calculators.lj import LennardJones\n",
    "from ase.io import Trajectory\n",
    "from ase.calculators.calculator import Calculator, all_changes\n",
    "\n",
    "import numpy as np\n",
    "import matplotlib.pyplot as plt\n",
    "\n",
    "from cascade.utils import write_to_string, read_from_string\n",
    "\n",
    "%load_ext autoreload\n",
    "%autoreload 2"
   ]
  },
  {
   "cell_type": "code",
   "execution_count": 2,
   "id": "e31d78b1-a0aa-4a5e-92f7-b07588cd2758",
   "metadata": {},
   "outputs": [],
   "source": [
    "atoms = Atoms('N2')"
   ]
  },
  {
   "cell_type": "code",
   "execution_count": 3,
   "id": "2a424365-f19b-44c9-aba6-03d354576856",
   "metadata": {},
   "outputs": [
    {
     "data": {
      "text/plain": [
       "array([[0., 0., 0.],\n",
       "       [0., 0., 0.]])"
      ]
     },
     "execution_count": 3,
     "metadata": {},
     "output_type": "execute_result"
    }
   ],
   "source": [
    "atoms.positions"
   ]
  },
  {
   "cell_type": "code",
   "execution_count": 4,
   "id": "2a57232d-ac61-418d-8b06-19a67982af8e",
   "metadata": {},
   "outputs": [],
   "source": [
    "def sample_diatomic_distances(\n",
    "    atoms_str: str = 'N2', \n",
    "    dist_range: tuple = (1.1, 3), \n",
    "    n: int = 100) -> List[ase.Atoms]:     \n",
    "    \"\"\"Create a trajectory of a diatomic system with linearly sampled distances\n",
    "    atoms_str: ase specification of diatomic\n",
    "    dist_range: (angsroms) range of distances to sample\n",
    "    n: number of samples\n",
    "    \"\"\"\n",
    "    atoms = Atoms(atoms_str)\n",
    "    trajectory = []\n",
    "    x_vals = np.linspace(*dist_range, n)\n",
    "    for x in x_vals: \n",
    "        atoms = atoms.copy()\n",
    "        atoms.set_positions([[0,0,0], [x, 0, 0]])\n",
    "        trajectory.append(atoms)\n",
    "    return trajectory"
   ]
  },
  {
   "cell_type": "code",
   "execution_count": 5,
   "id": "9bee2920-a9b0-4748-9b69-20df42b36640",
   "metadata": {},
   "outputs": [],
   "source": [
    "def apply_calculator(\n",
    "    calc: ase.calculators.calculator.Calculator, \n",
    "    traj: List[ase.Atoms]) -> List[Atoms]:\n",
    "    \"\"\"Run a calculator on every atoms object in a list\"\"\"\n",
    "\n",
    "    traj = deepcopy(traj)\n",
    "    for atoms in traj: \n",
    "        atoms.calc = calc\n",
    "        atoms.get_forces()\n",
    "    return traj"
   ]
  },
  {
   "cell_type": "code",
   "execution_count": 6,
   "id": "6dc17088-b3b0-41a2-919f-bb79d365d860",
   "metadata": {},
   "outputs": [],
   "source": [
    "def apply_calculator(\n",
    "    calc: ase.calculators.calculator.Calculator, \n",
    "    traj: List[ase.Atoms]) -> pd.DataFrame:\n",
    "    \"\"\"Run a calculator on every atoms object in a list\"\"\"\n",
    "\n",
    "    traj = deepcopy(traj)\n",
    "    results = []\n",
    "    for atoms in traj: \n",
    "        # todo: save the calculator on the atoms\n",
    "        #       serialize/deserialize to cache singlepointcalculator\n",
    "        calc.calculate(atoms)\n",
    "        this_result = calc.results.copy()\n",
    "        this_result['atoms'] = atoms.copy()\n",
    "        this_result['position'] = atoms.positions[1,0]\n",
    "        this_result['force'] = this_result[forces][0,0]\n",
    "        results.append(this_result)\n",
    "    return pd.DataFrame(results)"
   ]
  },
  {
   "cell_type": "code",
   "execution_count": 7,
   "id": "80eaa2ca-b4f2-4f26-acdd-da612695d8fb",
   "metadata": {},
   "outputs": [],
   "source": [
    "lj1, lj2  = LennardJones(sigma=1, eps=1), LennardJones(sigma=1, epsilon=1.1)"
   ]
  },
  {
   "cell_type": "code",
   "execution_count": 8,
   "id": "954825a2-19f1-4aea-8d61-bfb4c82caf0f",
   "metadata": {},
   "outputs": [
    {
     "ename": "NameError",
     "evalue": "name 'forces' is not defined",
     "output_type": "error",
     "traceback": [
      "\u001b[0;31m---------------------------------------------------------------------------\u001b[0m",
      "\u001b[0;31mNameError\u001b[0m                                 Traceback (most recent call last)",
      "Cell \u001b[0;32mIn[8], line 2\u001b[0m\n\u001b[1;32m      1\u001b[0m traj_base \u001b[38;5;241m=\u001b[39m sample_diatomic_distances()\n\u001b[0;32m----> 2\u001b[0m traj_lj1  \u001b[38;5;241m=\u001b[39m \u001b[43mapply_calculator\u001b[49m\u001b[43m(\u001b[49m\u001b[43mlj1\u001b[49m\u001b[43m,\u001b[49m\u001b[43m \u001b[49m\u001b[43mtraj_base\u001b[49m\u001b[43m)\u001b[49m\n\u001b[1;32m      3\u001b[0m traj_lj2  \u001b[38;5;241m=\u001b[39m apply_calculator(lj2, traj_base)\n",
      "Cell \u001b[0;32mIn[6], line 15\u001b[0m, in \u001b[0;36mapply_calculator\u001b[0;34m(calc, traj)\u001b[0m\n\u001b[1;32m     13\u001b[0m     this_result[\u001b[38;5;124m'\u001b[39m\u001b[38;5;124matoms\u001b[39m\u001b[38;5;124m'\u001b[39m] \u001b[38;5;241m=\u001b[39m atoms\u001b[38;5;241m.\u001b[39mcopy()\n\u001b[1;32m     14\u001b[0m     this_result[\u001b[38;5;124m'\u001b[39m\u001b[38;5;124mposition\u001b[39m\u001b[38;5;124m'\u001b[39m] \u001b[38;5;241m=\u001b[39m atoms\u001b[38;5;241m.\u001b[39mpositions[\u001b[38;5;241m1\u001b[39m,\u001b[38;5;241m0\u001b[39m]\n\u001b[0;32m---> 15\u001b[0m     this_result[\u001b[38;5;124m'\u001b[39m\u001b[38;5;124mforce\u001b[39m\u001b[38;5;124m'\u001b[39m] \u001b[38;5;241m=\u001b[39m this_result[\u001b[43mforces\u001b[49m][\u001b[38;5;241m0\u001b[39m,\u001b[38;5;241m0\u001b[39m]\n\u001b[1;32m     16\u001b[0m     results\u001b[38;5;241m.\u001b[39mappend(this_result)\n\u001b[1;32m     17\u001b[0m \u001b[38;5;28;01mreturn\u001b[39;00m pd\u001b[38;5;241m.\u001b[39mDataFrame(results)\n",
      "\u001b[0;31mNameError\u001b[0m: name 'forces' is not defined"
     ]
    }
   ],
   "source": [
    "traj_base = sample_diatomic_distances()\n",
    "traj_lj1  = apply_calculator(lj1, traj_base)\n",
    "traj_lj2  = apply_calculator(lj2, traj_base)"
   ]
  },
  {
   "cell_type": "code",
   "execution_count": null,
   "id": "4bf31c38-93bf-4dc5-8d8b-bb5fac9960ab",
   "metadata": {},
   "outputs": [],
   "source": [
    "plt.plot(traj_lj1['position'], traj_lj1['force'], label='$\\epsilon=1$')\n",
    "plt.plot(traj_lj2['position'], traj_lj2['force'], label='$\\epsilon=1.1$')\n",
    "plt.xlabel('$R_\\mathrm{{N-N}}$ ($\\mathrm{\\AA}$)')\n",
    "plt.ylabel('$F_{LJ}$ (eV/$\\mathrm{\\AA}$)')\n",
    "plt.legend()\n",
    "plt.title('Lennard Jones Forces acting on N-N for varying $\\epsilon$');"
   ]
  },
  {
   "cell_type": "code",
   "execution_count": null,
   "id": "d27b182e-6e12-4410-ab2a-6d50b38bfeb4",
   "metadata": {},
   "outputs": [],
   "source": [
    "plt.plot(traj_lj1['position'], (traj_lj1['force'] - traj_lj2['force']).abs(), label='$\\epsilon=1$')\n",
    "plt.title('Absolute force difference given $R_\\mathrm{{N-N}}$ across LJ potentials')\n",
    "plt.ylabel('$|F^{\\epsilon=1}_{LJ} - F^{\\epsilon=1.1}_{LJ}|$ (eV/$\\mathrm{\\AA}$)')\n",
    "plt.xlabel('$R_\\mathrm{{N-N}}$ ($\\mathrm{\\AA}$)')"
   ]
  },
  {
   "cell_type": "markdown",
   "id": "ee2c8396-4d56-4838-abe9-dba17d3fea2c",
   "metadata": {},
   "source": [
    "## Ensemble Class"
   ]
  },
  {
   "cell_type": "code",
   "execution_count": null,
   "id": "88969215-b6ac-4fba-8e99-13c134a60e38",
   "metadata": {},
   "outputs": [],
   "source": [
    "from ase.calculators import EnsembleCalculator"
   ]
  },
  {
   "cell_type": "code",
   "execution_count": 243,
   "id": "16a786a0-a9c4-4ec5-a54e-d3a9c9d31b63",
   "metadata": {},
   "outputs": [],
   "source": [
    "ens = EnsembleCalculator([lj1, lj2])"
   ]
  },
  {
   "cell_type": "code",
   "execution_count": 244,
   "id": "056e206e-c386-4de2-9014-6b5195de4e30",
   "metadata": {},
   "outputs": [],
   "source": [
    "traj_ens = apply_calculator(ens, traj_base)"
   ]
  },
  {
   "cell_type": "code",
   "execution_count": 245,
   "id": "10828811-cd4f-4fdf-9f15-34aba9fc8800",
   "metadata": {},
   "outputs": [
    {
     "data": {
      "text/html": [
       "<div>\n",
       "<style scoped>\n",
       "    .dataframe tbody tr th:only-of-type {\n",
       "        vertical-align: middle;\n",
       "    }\n",
       "\n",
       "    .dataframe tbody tr th {\n",
       "        vertical-align: top;\n",
       "    }\n",
       "\n",
       "    .dataframe thead th {\n",
       "        text-align: right;\n",
       "    }\n",
       "</style>\n",
       "<table border=\"1\" class=\"dataframe\">\n",
       "  <thead>\n",
       "    <tr style=\"text-align: right;\">\n",
       "      <th></th>\n",
       "      <th>energy</th>\n",
       "      <th>forces</th>\n",
       "      <th>forces_std</th>\n",
       "      <th>atoms</th>\n",
       "      <th>position</th>\n",
       "      <th>force</th>\n",
       "    </tr>\n",
       "  </thead>\n",
       "  <tbody>\n",
       "    <tr>\n",
       "      <th>0</th>\n",
       "      <td>-1.026788e+00</td>\n",
       "      <td>[[-1.667500159315259, 0.0, 0.0], [1.6675001593...</td>\n",
       "      <td>[[0.07940476949120279, 0.0, 0.0], [0.079404769...</td>\n",
       "      <td>(Atom('N', [0.0, 0.0, 0.0], index=0), Atom('N'...</td>\n",
       "      <td>1.100000</td>\n",
       "      <td>-1.667500</td>\n",
       "    </tr>\n",
       "    <tr>\n",
       "      <th>1</th>\n",
       "      <td>-1.043919e+00</td>\n",
       "      <td>[[-0.20232675077248158, 0.0, 0.0], [0.20232675...</td>\n",
       "      <td>[[0.009634607179641985, 0.0, 0.0], [0.00963460...</td>\n",
       "      <td>(Atom('N', [0.0, 0.0, 0.0], index=0), Atom('N'...</td>\n",
       "      <td>1.119192</td>\n",
       "      <td>-0.202327</td>\n",
       "    </tr>\n",
       "    <tr>\n",
       "      <th>2</th>\n",
       "      <td>-1.037351e+00</td>\n",
       "      <td>[[0.8242651062531009, 0.0, 0.0], [-0.824265106...</td>\n",
       "      <td>[[0.03925071934538582, 0.0, 0.0], [0.039250719...</td>\n",
       "      <td>(Atom('N', [0.0, 0.0, 0.0], index=0), Atom('N'...</td>\n",
       "      <td>1.138384</td>\n",
       "      <td>0.824265</td>\n",
       "    </tr>\n",
       "    <tr>\n",
       "      <th>3</th>\n",
       "      <td>-1.014347e+00</td>\n",
       "      <td>[[1.5268258298786312, 0.0, 0.0], [-1.526825829...</td>\n",
       "      <td>[[0.07270599189898241, 0.0, 0.0], [0.072705991...</td>\n",
       "      <td>(Atom('N', [0.0, 0.0, 0.0], index=0), Atom('N'...</td>\n",
       "      <td>1.157576</td>\n",
       "      <td>1.526826</td>\n",
       "    </tr>\n",
       "    <tr>\n",
       "      <th>4</th>\n",
       "      <td>-9.802686e-01</td>\n",
       "      <td>[[1.9906089572711556, 0.0, 0.0], [-1.990608957...</td>\n",
       "      <td>[[0.09479090272719803, 0.0, 0.0], [0.094790902...</td>\n",
       "      <td>(Atom('N', [0.0, 0.0, 0.0], index=0), Atom('N'...</td>\n",
       "      <td>1.176768</td>\n",
       "      <td>1.990609</td>\n",
       "    </tr>\n",
       "    <tr>\n",
       "      <th>...</th>\n",
       "      <td>...</td>\n",
       "      <td>...</td>\n",
       "      <td>...</td>\n",
       "      <td>...</td>\n",
       "      <td>...</td>\n",
       "      <td>...</td>\n",
       "    </tr>\n",
       "    <tr>\n",
       "      <th>95</th>\n",
       "      <td>-9.666399e-04</td>\n",
       "      <td>[[0.01377092128040235, 0.0, 0.0], [-0.01377092...</td>\n",
       "      <td>[[0.0006557581562096366, 0.0, 0.0], [0.0006557...</td>\n",
       "      <td>(Atom('N', [0.0, 0.0, 0.0], index=0), Atom('N'...</td>\n",
       "      <td>2.923232</td>\n",
       "      <td>0.013771</td>\n",
       "    </tr>\n",
       "    <tr>\n",
       "      <th>96</th>\n",
       "      <td>-7.083018e-04</td>\n",
       "      <td>[[0.01315597545001709, 0.0, 0.0], [-0.01315597...</td>\n",
       "      <td>[[0.0006264750214293865, 0.0, 0.0], [0.0006264...</td>\n",
       "      <td>(Atom('N', [0.0, 0.0, 0.0], index=0), Atom('N'...</td>\n",
       "      <td>2.942424</td>\n",
       "      <td>0.013156</td>\n",
       "    </tr>\n",
       "    <tr>\n",
       "      <th>97</th>\n",
       "      <td>-4.614639e-04</td>\n",
       "      <td>[[0.012572164149470573, 0.0, 0.0], [-0.0125721...</td>\n",
       "      <td>[[0.0005986744833081249, 0.0, 0.0], [0.0005986...</td>\n",
       "      <td>(Atom('N', [0.0, 0.0, 0.0], index=0), Atom('N'...</td>\n",
       "      <td>2.961616</td>\n",
       "      <td>0.012572</td>\n",
       "    </tr>\n",
       "    <tr>\n",
       "      <th>98</th>\n",
       "      <td>-2.255459e-04</td>\n",
       "      <td>[[0.01201772916742203, 0.0, 0.0], [-0.01201772...</td>\n",
       "      <td>[[0.0005722728174962863, 0.0, 0.0], [0.0005722...</td>\n",
       "      <td>(Atom('N', [0.0, 0.0, 0.0], index=0), Atom('N'...</td>\n",
       "      <td>2.980808</td>\n",
       "      <td>0.012018</td>\n",
       "    </tr>\n",
       "    <tr>\n",
       "      <th>99</th>\n",
       "      <td>-8.673617e-19</td>\n",
       "      <td>[[0.011491021580946895, 0.0, 0.0], [-0.0114910...</td>\n",
       "      <td>[[0.000547191503854615, 0.0, 0.0], [0.00054719...</td>\n",
       "      <td>(Atom('N', [0.0, 0.0, 0.0], index=0), Atom('N'...</td>\n",
       "      <td>3.000000</td>\n",
       "      <td>0.011491</td>\n",
       "    </tr>\n",
       "  </tbody>\n",
       "</table>\n",
       "<p>100 rows × 6 columns</p>\n",
       "</div>"
      ],
      "text/plain": [
       "          energy                                             forces  \\\n",
       "0  -1.026788e+00  [[-1.667500159315259, 0.0, 0.0], [1.6675001593...   \n",
       "1  -1.043919e+00  [[-0.20232675077248158, 0.0, 0.0], [0.20232675...   \n",
       "2  -1.037351e+00  [[0.8242651062531009, 0.0, 0.0], [-0.824265106...   \n",
       "3  -1.014347e+00  [[1.5268258298786312, 0.0, 0.0], [-1.526825829...   \n",
       "4  -9.802686e-01  [[1.9906089572711556, 0.0, 0.0], [-1.990608957...   \n",
       "..           ...                                                ...   \n",
       "95 -9.666399e-04  [[0.01377092128040235, 0.0, 0.0], [-0.01377092...   \n",
       "96 -7.083018e-04  [[0.01315597545001709, 0.0, 0.0], [-0.01315597...   \n",
       "97 -4.614639e-04  [[0.012572164149470573, 0.0, 0.0], [-0.0125721...   \n",
       "98 -2.255459e-04  [[0.01201772916742203, 0.0, 0.0], [-0.01201772...   \n",
       "99 -8.673617e-19  [[0.011491021580946895, 0.0, 0.0], [-0.0114910...   \n",
       "\n",
       "                                           forces_std  \\\n",
       "0   [[0.07940476949120279, 0.0, 0.0], [0.079404769...   \n",
       "1   [[0.009634607179641985, 0.0, 0.0], [0.00963460...   \n",
       "2   [[0.03925071934538582, 0.0, 0.0], [0.039250719...   \n",
       "3   [[0.07270599189898241, 0.0, 0.0], [0.072705991...   \n",
       "4   [[0.09479090272719803, 0.0, 0.0], [0.094790902...   \n",
       "..                                                ...   \n",
       "95  [[0.0006557581562096366, 0.0, 0.0], [0.0006557...   \n",
       "96  [[0.0006264750214293865, 0.0, 0.0], [0.0006264...   \n",
       "97  [[0.0005986744833081249, 0.0, 0.0], [0.0005986...   \n",
       "98  [[0.0005722728174962863, 0.0, 0.0], [0.0005722...   \n",
       "99  [[0.000547191503854615, 0.0, 0.0], [0.00054719...   \n",
       "\n",
       "                                                atoms  position     force  \n",
       "0   (Atom('N', [0.0, 0.0, 0.0], index=0), Atom('N'...  1.100000 -1.667500  \n",
       "1   (Atom('N', [0.0, 0.0, 0.0], index=0), Atom('N'...  1.119192 -0.202327  \n",
       "2   (Atom('N', [0.0, 0.0, 0.0], index=0), Atom('N'...  1.138384  0.824265  \n",
       "3   (Atom('N', [0.0, 0.0, 0.0], index=0), Atom('N'...  1.157576  1.526826  \n",
       "4   (Atom('N', [0.0, 0.0, 0.0], index=0), Atom('N'...  1.176768  1.990609  \n",
       "..                                                ...       ...       ...  \n",
       "95  (Atom('N', [0.0, 0.0, 0.0], index=0), Atom('N'...  2.923232  0.013771  \n",
       "96  (Atom('N', [0.0, 0.0, 0.0], index=0), Atom('N'...  2.942424  0.013156  \n",
       "97  (Atom('N', [0.0, 0.0, 0.0], index=0), Atom('N'...  2.961616  0.012572  \n",
       "98  (Atom('N', [0.0, 0.0, 0.0], index=0), Atom('N'...  2.980808  0.012018  \n",
       "99  (Atom('N', [0.0, 0.0, 0.0], index=0), Atom('N'...  3.000000  0.011491  \n",
       "\n",
       "[100 rows x 6 columns]"
      ]
     },
     "execution_count": 245,
     "metadata": {},
     "output_type": "execute_result"
    }
   ],
   "source": [
    "traj_ens"
   ]
  },
  {
   "cell_type": "code",
   "execution_count": 246,
   "id": "920520f2-2456-4785-af5b-0a34e8691626",
   "metadata": {},
   "outputs": [],
   "source": [
    "traj_ens['UQ'] = traj_ens['atoms'].map(lambda a: a.info['forces_std'][0,0])"
   ]
  },
  {
   "cell_type": "code",
   "execution_count": 254,
   "id": "a625ef22-5bf7-485b-8285-6b4c8c2cf636",
   "metadata": {},
   "outputs": [
    {
     "data": {
      "text/plain": [
       "<matplotlib.legend.Legend at 0x7018d60df350>"
      ]
     },
     "execution_count": 254,
     "metadata": {},
     "output_type": "execute_result"
    },
    {
     "data": {
      "image/png": "[encoded data removed]",
      "text/plain": [
       "<Figure size 640x480 with 1 Axes>"
      ]
     },
     "metadata": {},
     "output_type": "display_data"
    }
   ],
   "source": [
    "plt.plot(traj_lj1['position'], (traj_lj1['force'] - traj_lj2['force']).abs(), label='$|F^{\\epsilon=1}_{LJ} - F^{\\epsilon=1.1}_{LJ}|$')\n",
    "plt.plot(traj_ens['position'], traj_ens['UQ'], label='std($F_\\mathrm{ens}$)[0,0]')\n",
    "plt.ylabel('$F eV/$\\mathrm{\\AA}$)')\n",
    "plt.xlabel('$R_\\mathrm{{N-N}}$ ($\\mathrm{\\AA}$)')\n",
    "plt.legend()"
   ]
  },
  {
   "cell_type": "code",
   "execution_count": 261,
   "id": "098610f1-63fa-4c22-ac34-4b1469b94a9e",
   "metadata": {},
   "outputs": [],
   "source": [
    "traj_ens['atoms'][0].calc"
   ]
  },
  {
   "cell_type": "markdown",
   "id": "fdf7f966-23bd-4aea-94be-b5d12faa1a77",
   "metadata": {},
   "source": [
    "## TODO import the auditors and try them out"
   ]
  },
  {
   "cell_type": "code",
   "execution_count": null,
   "id": "d6d0d2d7-78e1-400c-8654-320666fab21a",
   "metadata": {},
   "outputs": [],
   "source": []
  },
  {
   "cell_type": "code",
   "execution_count": null,
   "id": "410a405f-8e2b-45e1-8a0b-1db6d2317202",
   "metadata": {},
   "outputs": [],
   "source": []
  }
 ],
 "metadata": {
  "kernelspec": {
   "display_name": "Python 3 (ipykernel)",
   "language": "python",
   "name": "python3"
  },
  "language_info": {
   "codemirror_mode": {
    "name": "ipython",
    "version": 3
   },
   "file_extension": ".py",
   "mimetype": "text/x-python",
   "name": "python",
   "nbconvert_exporter": "python",
   "pygments_lexer": "ipython3",
   "version": "3.11.0"
  }
 },
 "nbformat": 4,
 "nbformat_minor": 5
}
