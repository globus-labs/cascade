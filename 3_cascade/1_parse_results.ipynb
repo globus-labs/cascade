{
 "cells": [
  {
   "cell_type": "code",
   "execution_count": 1,
   "id": "249dea3d-ab93-410f-bae7-6578463858ba",
   "metadata": {},
   "outputs": [],
   "source": [
    "from ase.db import connect\n",
    "import numpy as np\n",
    "from sigfig import round"
   ]
  },
  {
   "cell_type": "markdown",
   "id": "fd6dba74-6750-4fba-9f09-880d1afaa002",
   "metadata": {},
   "source": [
    "### read traj"
   ]
  },
  {
   "cell_type": "code",
   "execution_count": 2,
   "id": "5baebae8-b52d-4c1f-b0bc-2a5cb60edc94",
   "metadata": {},
   "outputs": [],
   "source": [
    "db_path = './runs/run-test/database.db'"
   ]
  },
  {
   "cell_type": "code",
   "execution_count": 3,
   "id": "f35bfb1f-9deb-441e-82ab-3f59d049268f",
   "metadata": {},
   "outputs": [],
   "source": [
    "db = connect(db_path)"
   ]
  },
  {
   "cell_type": "code",
   "execution_count": 4,
   "id": "2813f767-b24b-43cd-b010-22ae46483b54",
   "metadata": {},
   "outputs": [],
   "source": [
    "rows = db.select('')\n",
    "traj = []\n",
    "chunk_im1 = 0\n",
    "for row in rows:\n",
    "    chunk_i = row['chunk']\n",
    "    # skip the first frame in each chunk\n",
    "    # if chunk_i > chunk_im1:\n",
    "    #     chunk_im1 = chunk_i\n",
    "    #     continue\n",
    "    atoms = row.toatoms()\n",
    "    traj.append(atoms)"
   ]
  },
  {
   "cell_type": "code",
   "execution_count": 5,
   "id": "d54a1922-327f-4319-b357-b62e16a87325",
   "metadata": {},
   "outputs": [
    {
     "data": {
      "text/plain": [
       "33"
      ]
     },
     "execution_count": 5,
     "metadata": {},
     "output_type": "execute_result"
    }
   ],
   "source": [
    "len(traj)"
   ]
  },
  {
   "cell_type": "markdown",
   "id": "c0859fae-9c66-427c-9d17-c02d1afc3717",
   "metadata": {},
   "source": [
    "### Make sure positions are evolving as expected"
   ]
  },
  {
   "cell_type": "code",
   "execution_count": 6,
   "id": "3655b4dc-663a-4438-97de-8883374bde47",
   "metadata": {},
   "outputs": [
    {
     "name": "stdout",
     "output_type": "stream",
     "text": [
      "frame 0: 0.0\n",
      "frame 1: 4.578e-10\n",
      "frame 2: 1.834e-09\n",
      "frame 3: 4.128e-09\n",
      "frame 4: 7.341e-09\n",
      "frame 5: 1.086e-08\n",
      "frame 6: 1.421e-08\n",
      "frame 7: 1.746e-08\n",
      "frame 8: 2.06e-08\n",
      "frame 9: 2.366e-08\n",
      "frame 10: 2.657e-08\n",
      "frame 11: 0.0\n",
      "frame 12: 4.578e-10\n",
      "frame 13: 1.834e-09\n",
      "frame 14: 4.128e-09\n",
      "frame 15: 7.341e-09\n",
      "frame 16: 1.086e-08\n",
      "frame 17: 1.421e-08\n",
      "frame 18: 1.746e-08\n",
      "frame 19: 2.06e-08\n",
      "frame 20: 2.366e-08\n",
      "frame 21: 2.657e-08\n",
      "frame 22: 0.0\n",
      "frame 23: 4.578e-10\n",
      "frame 24: 1.834e-09\n",
      "frame 25: 4.128e-09\n",
      "frame 26: 7.341e-09\n",
      "frame 27: 1.086e-08\n",
      "frame 28: 1.421e-08\n",
      "frame 29: 1.746e-08\n",
      "frame 30: 2.06e-08\n",
      "frame 31: 2.366e-08\n",
      "frame 32: 2.657e-08\n"
     ]
    },
    {
     "name": "stderr",
     "output_type": "stream",
     "text": [
      "/tmp/ipykernel_357745/899890726.py:6: UserWarning: 4 significant figures requested from number with only 1 significant figures\n",
      "  dr = round(dr, sigfigs=4)\n"
     ]
    }
   ],
   "source": [
    "r0 = traj[0].get_positions()\n",
    "\n",
    "for i, atoms in enumerate(traj):\n",
    "    r = atoms.get_positions()\n",
    "    dr = np.mean(np.abs(r - r0))\n",
    "    dr = round(dr, sigfigs=4)\n",
    "    print(f'frame {i}: {dr}')"
   ]
  },
  {
   "cell_type": "code",
   "execution_count": null,
   "id": "d50a38b6-b0df-43ab-948b-aa0a90e69e68",
   "metadata": {},
   "outputs": [],
   "source": []
  }
 ],
 "metadata": {
  "kernelspec": {
   "display_name": "Python 3 (ipykernel)",
   "language": "python",
   "name": "python3"
  },
  "language_info": {
   "codemirror_mode": {
    "name": "ipython",
    "version": 3
   },
   "file_extension": ".py",
   "mimetype": "text/x-python",
   "name": "python",
   "nbconvert_exporter": "python",
   "pygments_lexer": "ipython3",
   "version": "3.11.0"
  }
 },
 "nbformat": 4,
 "nbformat_minor": 5
}
