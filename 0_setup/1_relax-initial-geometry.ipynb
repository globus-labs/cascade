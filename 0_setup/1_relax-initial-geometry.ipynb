{
 "cells": [
  {
   "cell_type": "markdown",
   "id": "c42c6fd6-3f29-4b66-a8c2-e08a0bb6137a",
   "metadata": {},
   "source": [
    "# Relax the Initial Geometries\n",
    "Produce a relaxed structure based on one of the initial geometries"
   ]
  },
  {
   "cell_type": "code",
   "execution_count": 1,
   "id": "65f3daf9-4891-4a6e-ae89-c4f39b6d135c",
   "metadata": {},
   "outputs": [],
   "source": [
    "from cascade.calculator import make_calculator\n",
    "from cascade.config import cp2k_cuda_path\n",
    "from ase.filters import UnitCellFilter\n",
    "from ase.io.trajectory import Trajectory\n",
    "from ase.optimize import LBFGS\n",
    "from ase.db import connect\n",
    "from ase.io import read\n",
    "from ase import units\n",
    "from pathlib import Path\n",
    "import shutil\n",
    "\n",
    "%load_ext autoreload\n",
    "%autoreload 2"
   ]
  },
  {
   "cell_type": "markdown",
   "id": "4a46b00a-57c2-454e-be98-a0efa6fc2e74",
   "metadata": {},
   "source": [
    "Configuration"
   ]
  },
  {
   "cell_type": "code",
   "execution_count": 2,
   "id": "31c08e26-77fc-4d9f-b228-0c3d203612b5",
   "metadata": {},
   "outputs": [],
   "source": [
    "method: str = 'blyp'\n",
    "initial_geometry = 'initial-geometries/packmol-CH4-in-H2O=32-seed=0.vasp'"
   ]
  },
  {
   "cell_type": "markdown",
   "id": "bf7e5e6a-56e1-434f-b43b-f69a5cffdece",
   "metadata": {},
   "source": [
    "Derived"
   ]
  },
  {
   "cell_type": "code",
   "execution_count": 3,
   "id": "8287cf9f-772a-4e68-8fd3-cc8d6849d629",
   "metadata": {},
   "outputs": [],
   "source": [
    "name = f'{Path(initial_geometry).name[:-5]}-{method}'\n",
    "run_dir = Path('relax') / name"
   ]
  },
  {
   "cell_type": "code",
   "execution_count": 4,
   "id": "2784e644-a43b-4327-8799-0b4b4b1b4c14",
   "metadata": {},
   "outputs": [],
   "source": [
    "run_dir.mkdir(exist_ok=True, parents=True)"
   ]
  },
  {
   "cell_type": "markdown",
   "id": "2140dc4d-0b70-45dc-a361-43f93d2442ec",
   "metadata": {},
   "source": [
    "## Perform the Relaxation\n",
    "Either from the initial geometry or the latest relaxation step from the trajectory"
   ]
  },
  {
   "cell_type": "code",
   "execution_count": 5,
   "id": "254aa382-059e-4ca6-88c3-6c3ea4142507",
   "metadata": {},
   "outputs": [
    {
     "name": "stdout",
     "output_type": "stream",
     "text": [
      "Loaded last structure\n"
     ]
    }
   ],
   "source": [
    "relax_traj = run_dir / 'relax.traj'\n",
    "if relax_traj.is_file() and relax_traj.stat().st_size > 75:\n",
    "    atoms = read(str(relax_traj), index=-1)\n",
    "    print('Loaded last structure')\n",
    "else:\n",
    "    atoms = read(initial_geometry)"
   ]
  },
  {
   "cell_type": "code",
   "execution_count": 6,
   "id": "2309b22c-3178-4377-94e2-3214b4eb970d",
   "metadata": {},
   "outputs": [
    {
     "data": {
      "text/plain": [
       "Cell([10.195141461172017, 10.195141461172017, 10.195141461172017])"
      ]
     },
     "execution_count": 6,
     "metadata": {},
     "output_type": "execute_result"
    }
   ],
   "source": [
    "atoms.cell"
   ]
  },
  {
   "cell_type": "code",
   "execution_count": 7,
   "id": "9a384f79-dd7b-4c41-825a-abe10631bdc6",
   "metadata": {},
   "outputs": [
    {
     "data": {
      "text/plain": [
       "Atoms(symbols='CH68O32', pbc=True, cell=[10.195141461172017, 10.195141461172017, 10.195141461172017], calculator=SinglePointCalculator(...))"
      ]
     },
     "execution_count": 7,
     "metadata": {},
     "output_type": "execute_result"
    }
   ],
   "source": [
    "atoms"
   ]
  },
  {
   "cell_type": "markdown",
   "id": "817adebf-87f3-4dc6-9d9b-2a59f5b1abcd",
   "metadata": {},
   "source": [
    "Set the calculator"
   ]
  },
  {
   "cell_type": "code",
   "execution_count": 25,
   "id": "63371f18-f6a1-4ec3-9918-45384d3daeee",
   "metadata": {},
   "outputs": [
    {
     "name": "stdout",
     "output_type": "stream",
     "text": [
      "cp2k_shell\n",
      "Received: * READY\n",
      "Sending: VERSION\n",
      "Received: CP2K Shell Version: 4.0\n"
     ]
    },
    {
     "ename": "KeyboardInterrupt",
     "evalue": "",
     "output_type": "error",
     "traceback": [
      "\u001b[0;31m---------------------------------------------------------------------------\u001b[0m",
      "\u001b[0;31mKeyboardInterrupt\u001b[0m                         Traceback (most recent call last)",
      "File \u001b[0;32m<timed exec>:3\u001b[0m\n",
      "File \u001b[0;32m~/repos/cascade/cascade/calculator.py:67\u001b[0m, in \u001b[0;36mmake_calculator\u001b[0;34m(method, multiplicity, command, directory, set_pos_file, timeout, debug)\u001b[0m\n\u001b[1;32m     65\u001b[0m \u001b[38;5;28;01mif\u001b[39;00m command \u001b[38;5;129;01mis\u001b[39;00m \u001b[38;5;129;01mnot\u001b[39;00m \u001b[38;5;28;01mNone\u001b[39;00m:\n\u001b[1;32m     66\u001b[0m     cp2k_opts[\u001b[38;5;124m'\u001b[39m\u001b[38;5;124mcommand\u001b[39m\u001b[38;5;124m'\u001b[39m] \u001b[38;5;241m=\u001b[39m command\n\u001b[0;32m---> 67\u001b[0m \u001b[38;5;28;01mreturn\u001b[39;00m \u001b[43mCP2K\u001b[49m\u001b[43m(\u001b[49m\u001b[43mdirectory\u001b[49m\u001b[38;5;241;43m=\u001b[39;49m\u001b[43mdirectory\u001b[49m\u001b[43m,\u001b[49m\n\u001b[1;32m     68\u001b[0m \u001b[43m            \u001b[49m\u001b[43mstress_tensor\u001b[49m\u001b[38;5;241;43m=\u001b[39;49m\u001b[38;5;28;43;01mTrue\u001b[39;49;00m\u001b[43m,\u001b[49m\n\u001b[1;32m     69\u001b[0m \u001b[43m            \u001b[49m\u001b[43mmax_scf\u001b[49m\u001b[38;5;241;43m=\u001b[39;49m\u001b[43mmax_scf\u001b[49m\u001b[43m,\u001b[49m\n\u001b[1;32m     70\u001b[0m \u001b[43m            \u001b[49m\u001b[43mcutoff\u001b[49m\u001b[38;5;241;43m=\u001b[39;49m\u001b[43mcutoff\u001b[49m\u001b[43m,\u001b[49m\n\u001b[1;32m     71\u001b[0m \u001b[43m            \u001b[49m\u001b[43mpotential_file\u001b[49m\u001b[38;5;241;43m=\u001b[39;49m\u001b[38;5;28;43;01mNone\u001b[39;49;00m\u001b[43m,\u001b[49m\n\u001b[1;32m     72\u001b[0m \u001b[43m            \u001b[49m\u001b[43mset_pos_file\u001b[49m\u001b[38;5;241;43m=\u001b[39;49m\u001b[43mset_pos_file\u001b[49m\u001b[43m,\u001b[49m\n\u001b[1;32m     73\u001b[0m \u001b[43m            \u001b[49m\u001b[43mtimeout\u001b[49m\u001b[38;5;241;43m=\u001b[39;49m\u001b[43mtimeout\u001b[49m\u001b[43m,\u001b[49m\n\u001b[1;32m     74\u001b[0m \u001b[43m            \u001b[49m\u001b[43mdebug\u001b[49m\u001b[38;5;241;43m=\u001b[39;49m\u001b[43mdebug\u001b[49m\u001b[43m,\u001b[49m\n\u001b[1;32m     75\u001b[0m \u001b[43m            \u001b[49m\u001b[38;5;241;43m*\u001b[39;49m\u001b[38;5;241;43m*\u001b[39;49m\u001b[43mcp2k_opts\u001b[49m\u001b[43m)\u001b[49m\n",
      "File \u001b[0;32m~/repos/ase/ase/calculators/cp2k.py:228\u001b[0m, in \u001b[0;36mCP2K.__init__\u001b[0;34m(self, restart, ignore_bad_restart_file, label, atoms, command, debug, **kwargs)\u001b[0m\n\u001b[1;32m    224\u001b[0m     \u001b[38;5;28mself\u001b[39m\u001b[38;5;241m.\u001b[39mread(restart)\n\u001b[1;32m    226\u001b[0m \u001b[38;5;66;03m#import pdb; pdb.set_trace()\u001b[39;00m\n\u001b[1;32m    227\u001b[0m \u001b[38;5;66;03m# Start the shell by default, which is how SocketIOCalculator\u001b[39;00m\n\u001b[0;32m--> 228\u001b[0m \u001b[38;5;28mself\u001b[39m\u001b[38;5;241m.\u001b[39m_shell \u001b[38;5;241m=\u001b[39m \u001b[43mCp2kShell\u001b[49m\u001b[43m(\u001b[49m\u001b[38;5;28;43mself\u001b[39;49m\u001b[38;5;241;43m.\u001b[39;49m\u001b[43mcommand\u001b[49m\u001b[43m,\u001b[49m\u001b[43m \u001b[49m\n\u001b[1;32m    229\u001b[0m \u001b[43m                        \u001b[49m\u001b[38;5;28;43mself\u001b[39;49m\u001b[38;5;241;43m.\u001b[39;49m\u001b[43m_debug\u001b[49m\u001b[43m,\u001b[49m\u001b[43m \u001b[49m\n\u001b[1;32m    230\u001b[0m \u001b[43m                        \u001b[49m\u001b[43mtimeout\u001b[49m\u001b[38;5;241;43m=\u001b[39;49m\u001b[38;5;28;43mself\u001b[39;49m\u001b[38;5;241;43m.\u001b[39;49m\u001b[43mparameters\u001b[49m\u001b[43m[\u001b[49m\u001b[38;5;124;43m'\u001b[39;49m\u001b[38;5;124;43mtimeout\u001b[39;49m\u001b[38;5;124;43m'\u001b[39;49m\u001b[43m]\u001b[49m\u001b[43m)\u001b[49m\n",
      "File \u001b[0;32m~/repos/ase/ase/calculators/cp2k.py:557\u001b[0m, in \u001b[0;36mCp2kShell.__init__\u001b[0;34m(self, command, debug, timeout)\u001b[0m\n\u001b[1;32m    554\u001b[0m \u001b[38;5;28mself\u001b[39m\u001b[38;5;241m.\u001b[39mversion \u001b[38;5;241m=\u001b[39m \u001b[38;5;28mfloat\u001b[39m(shell_version)\n\u001b[1;32m    555\u001b[0m \u001b[38;5;28;01massert\u001b[39;00m \u001b[38;5;28mself\u001b[39m\u001b[38;5;241m.\u001b[39mversion \u001b[38;5;241m>\u001b[39m\u001b[38;5;241m=\u001b[39m \u001b[38;5;241m1.0\u001b[39m\n\u001b[0;32m--> 557\u001b[0m \u001b[38;5;28;43mself\u001b[39;49m\u001b[38;5;241;43m.\u001b[39;49m\u001b[43mexpect\u001b[49m\u001b[43m(\u001b[49m\u001b[38;5;124;43m'\u001b[39;49m\u001b[38;5;124;43m* READY\u001b[39;49m\u001b[38;5;124;43m'\u001b[39;49m\u001b[43m)\u001b[49m\n\u001b[1;32m    559\u001b[0m \u001b[38;5;66;03m# enable harsh mode, stops on any error\u001b[39;00m\n\u001b[1;32m    560\u001b[0m \u001b[38;5;28mself\u001b[39m\u001b[38;5;241m.\u001b[39msend(\u001b[38;5;124m'\u001b[39m\u001b[38;5;124mHARSH\u001b[39m\u001b[38;5;124m'\u001b[39m)\n",
      "File \u001b[0;32m~/repos/ase/ase/calculators/cp2k.py:611\u001b[0m, in \u001b[0;36mCp2kShell.expect\u001b[0;34m(self, line)\u001b[0m\n\u001b[1;32m    609\u001b[0m \u001b[38;5;28;01mdef\u001b[39;00m \u001b[38;5;21mexpect\u001b[39m(\u001b[38;5;28mself\u001b[39m, line):\n\u001b[1;32m    610\u001b[0m \u001b[38;5;250m    \u001b[39m\u001b[38;5;124;03m\"\"\"Receive a line and asserts that it matches the expected one\"\"\"\u001b[39;00m\n\u001b[0;32m--> 611\u001b[0m     received \u001b[38;5;241m=\u001b[39m \u001b[38;5;28;43mself\u001b[39;49m\u001b[38;5;241;43m.\u001b[39;49m\u001b[43mrecv\u001b[49m\u001b[43m(\u001b[49m\u001b[43m)\u001b[49m\n\u001b[1;32m    612\u001b[0m     \u001b[38;5;28;01massert\u001b[39;00m received \u001b[38;5;241m==\u001b[39m line\n",
      "File \u001b[0;32m~/repos/ase/ase/calculators/cp2k.py:599\u001b[0m, in \u001b[0;36mCp2kShell.recv\u001b[0;34m(self)\u001b[0m\n\u001b[1;32m    597\u001b[0m     line \u001b[38;5;241m=\u001b[39m \u001b[38;5;28mself\u001b[39m\u001b[38;5;241m.\u001b[39m_child\u001b[38;5;241m.\u001b[39mstdout\u001b[38;5;241m.\u001b[39mreadline()\u001b[38;5;241m.\u001b[39mstrip()\n\u001b[1;32m    598\u001b[0m \u001b[38;5;28;01melse\u001b[39;00m:\n\u001b[0;32m--> 599\u001b[0m     select_result \u001b[38;5;241m=\u001b[39m select([\u001b[38;5;28mself\u001b[39m\u001b[38;5;241m.\u001b[39m_child\u001b[38;5;241m.\u001b[39mstdout], [], [], \u001b[38;5;28mself\u001b[39m\u001b[38;5;241m.\u001b[39mtimeout)\n\u001b[1;32m    600\u001b[0m     \u001b[38;5;28;01mif\u001b[39;00m select_result \u001b[38;5;241m==\u001b[39m ([], [], []): \n\u001b[1;32m    601\u001b[0m         \u001b[38;5;28;01mraise\u001b[39;00m \u001b[38;5;167;01mTimeoutError\u001b[39;00m(\u001b[38;5;124m'\u001b[39m\u001b[38;5;124mcp2k took too long to respond\u001b[39m\u001b[38;5;124m'\u001b[39m)\n",
      "\u001b[0;31mKeyboardInterrupt\u001b[0m: "
     ]
    }
   ],
   "source": [
    "%%time \n",
    "if Path('cp2k-run').exists():\n",
    "    Path('cp2k-run/cp2k.out').write_text('')\n",
    "atoms.calc = make_calculator(method, \n",
    "                             directory='cp2k-run',\n",
    "                             set_pos_file=False,\n",
    "                             timeout=100,\n",
    "                             debug=True\n",
    "                             #command=cp2k_cuda_path,\n",
    "                            )"
   ]
  },
  {
   "cell_type": "code",
   "execution_count": null,
   "id": "52104bf2-e4f3-418d-917e-a6c329806a61",
   "metadata": {},
   "outputs": [],
   "source": []
  },
  {
   "cell_type": "markdown",
   "id": "152f73ac-8d76-440b-9bde-a7f68246eb97",
   "metadata": {},
   "source": [
    "Relax it"
   ]
  },
  {
   "cell_type": "code",
   "execution_count": null,
   "id": "6889fe4d-e90e-4ac7-9c23-8e80f1ebebd2",
   "metadata": {},
   "outputs": [],
   "source": [
    "%%time\n",
    "init_vol = atoms.get_volume()\n",
    "ecf = UnitCellFilter(atoms, hydrostatic_strain=True)\n",
    "with Trajectory(str(relax_traj), mode='a') as traj:\n",
    "    dyn = LBFGS(ecf, \n",
    "                logfile=str(run_dir / 'relax.log'),\n",
    "                trajectory=traj)\n",
    "    dyn.run(fmax=0.1)\n",
    "final_vol = atoms.get_volume()"
   ]
  },
  {
   "cell_type": "markdown",
   "id": "d89ab9b4-b5a6-4cd6-a5b2-f774a8dedb5b",
   "metadata": {},
   "source": [
    "Save the geometry"
   ]
  },
  {
   "cell_type": "code",
   "execution_count": null,
   "id": "c1bc42d9-eff5-4ac0-b473-716d80ef79d7",
   "metadata": {},
   "outputs": [],
   "source": [
    "Path('final-geometries').mkdir(exist_ok=True)\n",
    "atoms.write(f'final-geometries/{name}.vasp')"
   ]
  },
  {
   "cell_type": "code",
   "execution_count": null,
   "id": "576d4f7d-abed-4a77-bc32-25b9165a038d",
   "metadata": {},
   "outputs": [],
   "source": []
  }
 ],
 "metadata": {
  "kernelspec": {
   "display_name": "Python 3 (ipykernel)",
   "language": "python",
   "name": "python3"
  },
  "language_info": {
   "codemirror_mode": {
    "name": "ipython",
    "version": 3
   },
   "file_extension": ".py",
   "mimetype": "text/x-python",
   "name": "python",
   "nbconvert_exporter": "python",
   "pygments_lexer": "ipython3",
   "version": "3.11.0"
  }
 },
 "nbformat": 4,
 "nbformat_minor": 5
}
