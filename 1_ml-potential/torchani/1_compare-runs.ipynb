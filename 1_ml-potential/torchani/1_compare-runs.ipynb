{
 "cells": [
  {
   "cell_type": "markdown",
   "id": "48a2a468-d755-4ab7-aadc-d5aa2850f13b",
   "metadata": {},
   "source": [
    "# Compare Runs\n",
    "Compare different configurations for models"
   ]
  },
  {
   "cell_type": "code",
   "execution_count": 1,
   "id": "e921a470-f9da-42b5-b1b7-ac91e98b0f42",
   "metadata": {},
   "outputs": [],
   "source": [
    "%matplotlib inline\n",
    "from matplotlib import pyplot as plt\n",
    "from datetime import datetime\n",
    "from pathlib import Path\n",
    "from ase import units\n",
    "import pandas as pd\n",
    "import numpy as np\n",
    "import json"
   ]
  },
  {
   "cell_type": "markdown",
   "id": "e9600085-64c6-4801-aada-e96ba27c6ae1",
   "metadata": {},
   "source": [
    "Configuration"
   ]
  },
  {
   "cell_type": "code",
   "execution_count": 2,
   "id": "af3c03b9-f11c-46b8-8ea5-ebf6317f4f9c",
   "metadata": {},
   "outputs": [],
   "source": [
    "data_hash = '4380cfde'"
   ]
  },
  {
   "cell_type": "markdown",
   "id": "ccbd7313-fa04-4bc1-9209-f279fc2d65e6",
   "metadata": {},
   "source": [
    "## Pull Runs from MLFlow\n",
    "ML flow uses local storage in the `mlruns` directory"
   ]
  },
  {
   "cell_type": "code",
   "execution_count": 3,
   "id": "7e546253-7512-40e7-9b1d-6f81f60320ad",
   "metadata": {},
   "outputs": [],
   "source": [
    "def gather_run_summaries() -> list[dict]:\n",
    "    \"\"\"Get all runs for a certain experiment\n",
    "    \n",
    "    Pulls the metrics, parameters, tags, and the artifact URI (so we can download data later).\n",
    "    \n",
    "    Returns:\n",
    "        List of dictionaries describing each run\n",
    "    \"\"\"\n",
    "    \n",
    "    output = []\n",
    "    for path in Path('runs').rglob('performance.json'):\n",
    "        path = path.parent\n",
    "\n",
    "        # Load the input parameters\n",
    "        date, run_hash = path.name.rsplit(\"-\", 1)\n",
    "        record = {\n",
    "            'path': path,\n",
    "            'hash': run_hash,\n",
    "            'date': datetime.fromisoformat(date)\n",
    "        }\n",
    "        with open(path / 'params.json') as fp:\n",
    "            for key, val in json.load(fp).items():\n",
    "                record[f'param.{key}'] = val\n",
    "\n",
    "        # Load in performance\n",
    "        with open(path / 'performance.json') as fp:\n",
    "            for key, val in json.load(fp).items():\n",
    "                record[f'metric.{key}'] = val\n",
    "        \n",
    "        output.append(record)\n",
    "        \n",
    "    return output"
   ]
  },
  {
   "cell_type": "code",
   "execution_count": 4,
   "id": "22e79f27-feaa-41ab-99c1-3e5a8982acd1",
   "metadata": {},
   "outputs": [
    {
     "data": {
      "text/html": [
       "<div>\n",
       "<style scoped>\n",
       "    .dataframe tbody tr th:only-of-type {\n",
       "        vertical-align: middle;\n",
       "    }\n",
       "\n",
       "    .dataframe tbody tr th {\n",
       "        vertical-align: top;\n",
       "    }\n",
       "\n",
       "    .dataframe thead th {\n",
       "        text-align: right;\n",
       "    }\n",
       "</style>\n",
       "<table border=\"1\" class=\"dataframe\">\n",
       "  <thead>\n",
       "    <tr style=\"text-align: right;\">\n",
       "      <th></th>\n",
       "      <th>path</th>\n",
       "      <th>hash</th>\n",
       "      <th>date</th>\n",
       "      <th>param.train_files</th>\n",
       "      <th>param.test_files</th>\n",
       "      <th>param.val_frac</th>\n",
       "      <th>param.num_epochs</th>\n",
       "      <th>param.batch_size</th>\n",
       "      <th>param.learning_rate</th>\n",
       "      <th>param.loss_weights</th>\n",
       "      <th>...</th>\n",
       "      <th>param.test_size</th>\n",
       "      <th>param.cuda_version</th>\n",
       "      <th>param.device_name</th>\n",
       "      <th>param.host</th>\n",
       "      <th>metric.train_time</th>\n",
       "      <th>metric.eval_time</th>\n",
       "      <th>metric.energy_mae</th>\n",
       "      <th>metric.force_mean_error</th>\n",
       "      <th>metric.force_max_error</th>\n",
       "      <th>metric.stress_mae</th>\n",
       "    </tr>\n",
       "  </thead>\n",
       "  <tbody>\n",
       "    <tr>\n",
       "      <th>0</th>\n",
       "      <td>runs/2024-07-26T10:36:04.320217-2ad49c23</td>\n",
       "      <td>2ad49c23</td>\n",
       "      <td>2024-07-26 10:36:04.320217</td>\n",
       "      <td>[../../../aimd-with-actinides/0_setup/md/packm...</td>\n",
       "      <td>[../../../aimd-with-actinides/0_setup/md/packm...</td>\n",
       "      <td>0.1</td>\n",
       "      <td>32</td>\n",
       "      <td>8</td>\n",
       "      <td>0.0001</td>\n",
       "      <td>[1, 10, 100]</td>\n",
       "      <td>...</td>\n",
       "      <td>2048</td>\n",
       "      <td>12.1</td>\n",
       "      <td>NVIDIA GeForce RTX 3070 Ti</td>\n",
       "      <td>bettik-linux</td>\n",
       "      <td>105.714411</td>\n",
       "      <td>0.005660</td>\n",
       "      <td>0.003519</td>\n",
       "      <td>0.178834</td>\n",
       "      <td>2.465392</td>\n",
       "      <td>0.000426</td>\n",
       "    </tr>\n",
       "    <tr>\n",
       "      <th>1</th>\n",
       "      <td>runs/2024-07-26T11:51:11.036161-2066ebc3</td>\n",
       "      <td>2066ebc3</td>\n",
       "      <td>2024-07-26 11:51:11.036161</td>\n",
       "      <td>[../../../aimd-with-actinides/0_setup/md/packm...</td>\n",
       "      <td>[../../../aimd-with-actinides/0_setup/md/packm...</td>\n",
       "      <td>0.1</td>\n",
       "      <td>32</td>\n",
       "      <td>8</td>\n",
       "      <td>0.0001</td>\n",
       "      <td>[1, 10, 100]</td>\n",
       "      <td>...</td>\n",
       "      <td>2048</td>\n",
       "      <td>12.1</td>\n",
       "      <td>NVIDIA GeForce RTX 3070 Ti</td>\n",
       "      <td>bettik-linux</td>\n",
       "      <td>106.683144</td>\n",
       "      <td>0.006047</td>\n",
       "      <td>0.009610</td>\n",
       "      <td>0.195417</td>\n",
       "      <td>2.512392</td>\n",
       "      <td>0.000802</td>\n",
       "    </tr>\n",
       "    <tr>\n",
       "      <th>4</th>\n",
       "      <td>runs/2024-07-26T12:49:45.223900-09589277</td>\n",
       "      <td>09589277</td>\n",
       "      <td>2024-07-26 12:49:45.223900</td>\n",
       "      <td>[../../../aimd-with-actinides/0_setup/md/packm...</td>\n",
       "      <td>[../../../aimd-with-actinides/0_setup/md/packm...</td>\n",
       "      <td>0.1</td>\n",
       "      <td>32</td>\n",
       "      <td>8</td>\n",
       "      <td>0.0001</td>\n",
       "      <td>[1, 10, 100]</td>\n",
       "      <td>...</td>\n",
       "      <td>2048</td>\n",
       "      <td>12.1</td>\n",
       "      <td>NVIDIA GeForce RTX 3070 Ti</td>\n",
       "      <td>bettik-linux</td>\n",
       "      <td>114.158978</td>\n",
       "      <td>0.006974</td>\n",
       "      <td>0.024344</td>\n",
       "      <td>0.175003</td>\n",
       "      <td>2.539566</td>\n",
       "      <td>0.001652</td>\n",
       "    </tr>\n",
       "    <tr>\n",
       "      <th>3</th>\n",
       "      <td>runs/2024-07-26T13:55:45.483095-c338c5d4</td>\n",
       "      <td>c338c5d4</td>\n",
       "      <td>2024-07-26 13:55:45.483095</td>\n",
       "      <td>[../../../aimd-with-actinides/0_setup/md/packm...</td>\n",
       "      <td>[../../../aimd-with-actinides/0_setup/md/packm...</td>\n",
       "      <td>0.1</td>\n",
       "      <td>2</td>\n",
       "      <td>8</td>\n",
       "      <td>0.0001</td>\n",
       "      <td>[1, 10, 100]</td>\n",
       "      <td>...</td>\n",
       "      <td>2048</td>\n",
       "      <td>12.1</td>\n",
       "      <td>NVIDIA GeForce RTX 3070 Ti</td>\n",
       "      <td>bettik-linux</td>\n",
       "      <td>124.218006</td>\n",
       "      <td>0.006178</td>\n",
       "      <td>0.004438</td>\n",
       "      <td>0.300883</td>\n",
       "      <td>2.530510</td>\n",
       "      <td>0.001066</td>\n",
       "    </tr>\n",
       "    <tr>\n",
       "      <th>2</th>\n",
       "      <td>runs/20240726T140122-cfc18061</td>\n",
       "      <td>cfc18061</td>\n",
       "      <td>2024-07-26 14:01:22.000000</td>\n",
       "      <td>[../../../aimd-with-actinides/0_setup/md/packm...</td>\n",
       "      <td>[../../../aimd-with-actinides/0_setup/md/packm...</td>\n",
       "      <td>0.1</td>\n",
       "      <td>64</td>\n",
       "      <td>8</td>\n",
       "      <td>0.0001</td>\n",
       "      <td>[1, 10, 100]</td>\n",
       "      <td>...</td>\n",
       "      <td>2048</td>\n",
       "      <td>12.1</td>\n",
       "      <td>NVIDIA GeForce RTX 3070 Ti</td>\n",
       "      <td>bettik-linux</td>\n",
       "      <td>112.833494</td>\n",
       "      <td>0.006059</td>\n",
       "      <td>0.003718</td>\n",
       "      <td>0.164992</td>\n",
       "      <td>2.521154</td>\n",
       "      <td>0.000544</td>\n",
       "    </tr>\n",
       "  </tbody>\n",
       "</table>\n",
       "<p>5 rows × 36 columns</p>\n",
       "</div>"
      ],
      "text/plain": [
       "                                       path      hash  \\\n",
       "0  runs/2024-07-26T10:36:04.320217-2ad49c23  2ad49c23   \n",
       "1  runs/2024-07-26T11:51:11.036161-2066ebc3  2066ebc3   \n",
       "4  runs/2024-07-26T12:49:45.223900-09589277  09589277   \n",
       "3  runs/2024-07-26T13:55:45.483095-c338c5d4  c338c5d4   \n",
       "2             runs/20240726T140122-cfc18061  cfc18061   \n",
       "\n",
       "                        date  \\\n",
       "0 2024-07-26 10:36:04.320217   \n",
       "1 2024-07-26 11:51:11.036161   \n",
       "4 2024-07-26 12:49:45.223900   \n",
       "3 2024-07-26 13:55:45.483095   \n",
       "2 2024-07-26 14:01:22.000000   \n",
       "\n",
       "                                   param.train_files  \\\n",
       "0  [../../../aimd-with-actinides/0_setup/md/packm...   \n",
       "1  [../../../aimd-with-actinides/0_setup/md/packm...   \n",
       "4  [../../../aimd-with-actinides/0_setup/md/packm...   \n",
       "3  [../../../aimd-with-actinides/0_setup/md/packm...   \n",
       "2  [../../../aimd-with-actinides/0_setup/md/packm...   \n",
       "\n",
       "                                    param.test_files  param.val_frac  \\\n",
       "0  [../../../aimd-with-actinides/0_setup/md/packm...             0.1   \n",
       "1  [../../../aimd-with-actinides/0_setup/md/packm...             0.1   \n",
       "4  [../../../aimd-with-actinides/0_setup/md/packm...             0.1   \n",
       "3  [../../../aimd-with-actinides/0_setup/md/packm...             0.1   \n",
       "2  [../../../aimd-with-actinides/0_setup/md/packm...             0.1   \n",
       "\n",
       "   param.num_epochs  param.batch_size  param.learning_rate param.loss_weights  \\\n",
       "0                32                 8               0.0001       [1, 10, 100]   \n",
       "1                32                 8               0.0001       [1, 10, 100]   \n",
       "4                32                 8               0.0001       [1, 10, 100]   \n",
       "3                 2                 8               0.0001       [1, 10, 100]   \n",
       "2                64                 8               0.0001       [1, 10, 100]   \n",
       "\n",
       "   ...  param.test_size  param.cuda_version           param.device_name  \\\n",
       "0  ...             2048                12.1  NVIDIA GeForce RTX 3070 Ti   \n",
       "1  ...             2048                12.1  NVIDIA GeForce RTX 3070 Ti   \n",
       "4  ...             2048                12.1  NVIDIA GeForce RTX 3070 Ti   \n",
       "3  ...             2048                12.1  NVIDIA GeForce RTX 3070 Ti   \n",
       "2  ...             2048                12.1  NVIDIA GeForce RTX 3070 Ti   \n",
       "\n",
       "     param.host  metric.train_time  metric.eval_time  metric.energy_mae  \\\n",
       "0  bettik-linux         105.714411          0.005660           0.003519   \n",
       "1  bettik-linux         106.683144          0.006047           0.009610   \n",
       "4  bettik-linux         114.158978          0.006974           0.024344   \n",
       "3  bettik-linux         124.218006          0.006178           0.004438   \n",
       "2  bettik-linux         112.833494          0.006059           0.003718   \n",
       "\n",
       "   metric.force_mean_error  metric.force_max_error  metric.stress_mae  \n",
       "0                 0.178834                2.465392           0.000426  \n",
       "1                 0.195417                2.512392           0.000802  \n",
       "4                 0.175003                2.539566           0.001652  \n",
       "3                 0.300883                2.530510           0.001066  \n",
       "2                 0.164992                2.521154           0.000544  \n",
       "\n",
       "[5 rows x 36 columns]"
      ]
     },
     "execution_count": 4,
     "metadata": {},
     "output_type": "execute_result"
    }
   ],
   "source": [
    "summary = pd.DataFrame(gather_run_summaries()).sort_values('date')\n",
    "summary.tail()"
   ]
  },
  {
   "cell_type": "markdown",
   "id": "e88f0484-d581-42a1-a2c9-f8cce4cd6267",
   "metadata": {},
   "source": [
    "## Evaluate Best Model\n",
    "See how the model's error wrt frame appears and learning curve during training"
   ]
  },
  {
   "cell_type": "code",
   "execution_count": 5,
   "id": "eec03612-06e6-4178-ab0e-9b4ae4e0d879",
   "metadata": {},
   "outputs": [],
   "source": [
    "top_runs = summary[summary['param.test_hash'] == data_hash]\n",
    "best_run = top_runs.sort_values('metric.force_mean_error', ascending=True).iloc[0]"
   ]
  },
  {
   "cell_type": "markdown",
   "id": "61f1c100-9640-4cd3-92d1-e688a117c06f",
   "metadata": {},
   "source": [
    "Pull out the parameters"
   ]
  },
  {
   "cell_type": "code",
   "execution_count": 6,
   "id": "e6380bf3-34b3-463c-9a53-b5affac3eaef",
   "metadata": {},
   "outputs": [
    {
     "data": {
      "text/plain": [
       "{'train_files': ['../../../aimd-with-actinides/0_setup/md/packmol-uo2_nitrate-waters=64-seed=2-blyp-npt=298/md.traj',\n",
       "  '../../../aimd-with-actinides/0_setup/md/packmol-uo2_nitrate-waters=64-seed=3-blyp-npt=298/md.traj',\n",
       "  '../../../aimd-with-actinides/0_setup/md/packmol-uo2_nitrate-waters=64-seed=4-blyp-npt=298/md.traj'],\n",
       " 'test_files': ['../../../aimd-with-actinides/0_setup/md/packmol-uo2_nitrate-waters=64-seed=1-blyp-npt=298/md.traj'],\n",
       " 'val_frac': 0.1,\n",
       " 'num_epochs': 64,\n",
       " 'batch_size': 8,\n",
       " 'learning_rate': 0.0001,\n",
       " 'loss_weights': [1, 10, 100],\n",
       " 'scale_energies': True,\n",
       " 'hidden_layers': 2,\n",
       " 'hidden_units': 128,\n",
       " 'hidden_decay': 0.8,\n",
       " 'radial_cutoff': 5.2,\n",
       " 'angular_cutoff': 3.5,\n",
       " 'radial_eta': 16,\n",
       " 'angular_eta': 8,\n",
       " 'angular_zeta': 8,\n",
       " 'num_radial_terms': 16,\n",
       " 'num_angular_dist_terms': 4,\n",
       " 'num_angular_angl_terms': 8,\n",
       " 'train_hash': 'ce67dc79',\n",
       " 'train_size': 5532,\n",
       " 'valid_size': 612,\n",
       " 'test_hash': '4380cfde',\n",
       " 'test_size': 2048,\n",
       " 'cuda_version': '12.1',\n",
       " 'device_name': 'NVIDIA GeForce RTX 3070 Ti',\n",
       " 'host': 'bettik-linux'}"
      ]
     },
     "execution_count": 6,
     "metadata": {},
     "output_type": "execute_result"
    }
   ],
   "source": [
    "params = dict((k[6:], v) for k, v in best_run.to_dict().items() if k.startswith('param.'))\n",
    "params"
   ]
  },
  {
   "cell_type": "markdown",
   "id": "f155b19a-7228-449c-ada7-eb3720dfc66f",
   "metadata": {},
   "source": [
    "Plot the error as a function of timestep"
   ]
  },
  {
   "cell_type": "code",
   "execution_count": 7,
   "id": "bd2e57f2-a243-46df-97bd-e14ba6701139",
   "metadata": {},
   "outputs": [],
   "source": [
    "preds = np.load(best_run['path'] / 'test_pred.npz')"
   ]
  },
  {
   "cell_type": "code",
   "execution_count": 8,
   "id": "ec2dfe2c-4408-4ceb-84e4-9f3afb7d7575",
   "metadata": {},
   "outputs": [],
   "source": [
    "true = np.load(best_run['path'] / 'test_true.npz')"
   ]
  },
  {
   "cell_type": "markdown",
   "id": "f73d2926-2523-4af8-91be-bac845ca0333",
   "metadata": {},
   "source": [
    "Predicted vs actual"
   ]
  },
  {
   "cell_type": "code",
   "execution_count": 9,
   "id": "76877e7a-0380-431d-b15f-935fc494fca8",
   "metadata": {},
   "outputs": [],
   "source": [
    "pred_e_pera = preds['energy'] / preds['count']\n",
    "true_e_pera = true['energy'] / true['count']\n",
    "for pera in [pred_e_pera, true_e_pera]:\n",
    "    pera -= true_e_pera.min()\n",
    "    pera *= 1000"
   ]
  },
  {
   "cell_type": "code",
   "execution_count": 10,
   "id": "7526179a-6e34-466c-a754-5ddd011a9b3a",
   "metadata": {},
   "outputs": [
    {
     "data": {
      "image/png": "[encoded data removed]",
      "text/plain": [
       "<Figure size 640x230 with 3 Axes>"
      ]
     },
     "metadata": {},
     "output_type": "display_data"
    }
   ],
   "source": [
    "fig, axs = plt.subplots(1, 3, figsize=(6.4, 2.3))\n",
    "\n",
    "ax = axs[0]\n",
    "ax.scatter(pred_e_pera, true_e_pera, s=2)\n",
    "lim = [\n",
    "    min(pred_e_pera.min(), true_e_pera.min()),\n",
    "    max(pred_e_pera.max(), true_e_pera.max())\n",
    "]\n",
    "ax.set_xlim(lim)\n",
    "ax.set_ylim(lim)\n",
    "ax.plot(ax.get_xlim(), ax.get_xlim(), 'k--', lw=1)\n",
    "\n",
    "r2_score = np.corrcoef(pred_e_pera, true_e_pera)[0, 1]\n",
    "ax.text(0.1, 0.8, f'$R^2$: {r2_score: .2f}', transform=ax.transAxes, fontsize=10)\n",
    "\n",
    "ax.set_title('Energy (meV/atom)', loc='left', fontsize=10)\n",
    "\n",
    "ax = axs[1]\n",
    "ax.scatter(preds['forces'].flatten(), true['forces'].flatten(), s=2)\n",
    "ax.set_title('Forces (eV/$\\\\AA$)', loc='left', fontsize=10)\n",
    "\n",
    "ax.set_xlim(ax.get_ylim())\n",
    "ax.set_ylim(ax.get_ylim())\n",
    "ax.plot(ax.get_xlim(), ax.get_xlim(), 'k--', lw=1)\n",
    "\n",
    "rmse = np.sqrt(np.power(preds['forces'].flatten() - true['forces'].flatten(), 2).mean())\n",
    "ax.text(0.1, 0.9, f'RMSE: {rmse:.2f}', transform=ax.transAxes, fontsize=10)\n",
    "\n",
    "\n",
    "ax = axs[2]\n",
    "ax.scatter(preds['stress'] / units.GPa, true['stress'] / units.GPa, s=2)\n",
    "ax.set_title('Stress (GPa)', loc='left', fontsize=10)\n",
    "\n",
    "rmse = np.sqrt(np.power(preds['stress'] - true['stress'], 2).mean()) / units.GPa\n",
    "ax.text(0.1, 0.9, f'RMSE: {rmse:.2f}', transform=ax.transAxes, fontsize=10)\n",
    "\n",
    "ax.set_xlim(ax.get_ylim())\n",
    "ax.set_ylim(ax.get_ylim())\n",
    "ax.plot(ax.get_xlim(), ax.get_xlim(), 'k--', lw=1)\n",
    "\n",
    "for ax in axs:\n",
    "    ax.set_xlabel('ML')\n",
    "    ax.set_ylabel('DFT')\n",
    "\n",
    "fig.tight_layout()"
   ]
  },
  {
   "cell_type": "markdown",
   "id": "cd593879-596d-4ca1-ba50-c5018a297869",
   "metadata": {},
   "source": [
    "Plot the training curve"
   ]
  },
  {
   "cell_type": "code",
   "execution_count": 11,
   "id": "31efba27-e8a4-4eb9-b11a-e4967e00707f",
   "metadata": {},
   "outputs": [],
   "source": [
    "train_log = pd.read_csv(best_run['path'] / \"log.csv\")"
   ]
  },
  {
   "cell_type": "code",
   "execution_count": 12,
   "id": "aec4c52b-0faa-4ab2-bf3e-f531a505ea0f",
   "metadata": {},
   "outputs": [
    {
     "data": {
      "text/plain": [
       "Text(0.5, 0, 'Epoch')"
      ]
     },
     "execution_count": 12,
     "metadata": {},
     "output_type": "execute_result"
    },
    {
     "data": {
      "image/png": "[encoded data removed]",
      "text/plain": [
       "<Figure size 350x200 with 3 Axes>"
      ]
     },
     "metadata": {},
     "output_type": "display_data"
    }
   ],
   "source": [
    "fig, axs = plt.subplots(3, 1, figsize=(3.5, 2.))\n",
    "\n",
    "for a, c, color in zip(axs, ['s_rmse_valid', 'f_rmse_valid', 'e_rmse_valid'], ['red', 'blue', 'gray']):\n",
    "    a.plot(train_log[c], color=color)\n",
    "    a.set_ylabel(c.split(\"_\")[0])\n",
    "    a.set_label('Loss')\n",
    "\n",
    "axs[-1].set_xlabel('Epoch')"
   ]
  }
 ],
 "metadata": {
  "kernelspec": {
   "display_name": "Python 3 (ipykernel)",
   "language": "python",
   "name": "python3"
  },
  "language_info": {
   "codemirror_mode": {
    "name": "ipython",
    "version": 3
   },
   "file_extension": ".py",
   "mimetype": "text/x-python",
   "name": "python",
   "nbconvert_exporter": "python",
   "pygments_lexer": "ipython3",
   "version": "3.11.0"
  }
 },
 "nbformat": 4,
 "nbformat_minor": 5
}
