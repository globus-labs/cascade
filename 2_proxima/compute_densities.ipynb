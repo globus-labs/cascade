{
 "cells": [
  {
   "cell_type": "code",
   "execution_count": 1,
   "id": "37bbc6c6-1bc2-42ee-ba3f-0e8a46aa6fd9",
   "metadata": {},
   "outputs": [],
   "source": [
    "import numpy as np"
   ]
  },
  {
   "cell_type": "code",
   "execution_count": 2,
   "id": "91b028bf-90b2-4786-a232-5c9e4a19ff3d",
   "metadata": {},
   "outputs": [],
   "source": [
    "V = np.array([1357.13, 1358.58, 1361.83]) # DFT, proxima, p+blend # Cubic Angstroms"
   ]
  },
  {
   "cell_type": "code",
   "execution_count": 3,
   "id": "41ebf3a6-0270-44d2-b3a5-16dd5417b60a",
   "metadata": {},
   "outputs": [],
   "source": [
    "ang_3_to_cm_3 = 1e-24\n",
    "Si_mm = 28.0855 # g / mol\n",
    "N_av = 6.02e23 # n / mol\n",
    "rho = 63 / V # n / ang_3"
   ]
  },
  {
   "cell_type": "code",
   "execution_count": 4,
   "id": "0906a8c8-67dd-4f68-876e-66132d99b762",
   "metadata": {},
   "outputs": [
    {
     "data": {
      "text/plain": [
       "array([2.16573227, 2.1634208 , 2.15825781])"
      ]
     },
     "execution_count": 4,
     "metadata": {},
     "output_type": "execute_result"
    }
   ],
   "source": [
    "rho_g_cc = rho * Si_mm / N_av / ang_3_to_cm_3\n",
    "rho_g_cc"
   ]
  },
  {
   "cell_type": "code",
   "execution_count": 5,
   "id": "e3f4d0c7-79c7-4d0b-8aea-d42ecff3e2ca",
   "metadata": {},
   "outputs": [
    {
     "data": {
      "text/plain": [
       "array([0.    , 0.1067, 0.3451])"
      ]
     },
     "execution_count": 5,
     "metadata": {},
     "output_type": "execute_result"
    }
   ],
   "source": [
    "pct_error = np.abs(rho_g_cc - rho_g_cc[0]) / rho_g_cc[0] * 100\n",
    "pct_error.round(4)"
   ]
  },
  {
   "cell_type": "markdown",
   "id": "b11e1064-1041-4aeb-a63d-1466a0622a51",
   "metadata": {},
   "source": [
    "notably these are both off by a few orders of magnitude, should be around 2. We can just say its finite size effects\n",
    "\n",
    "\n",
    "https://matweb.com/search/DataSheet.aspx?MatGUID=7d1b56e9e0c54ac5bb9cd433a0991e27&ckck=1 "
   ]
  },
  {
   "cell_type": "code",
   "execution_count": null,
   "id": "6810f124-38c3-487c-8957-4b23f00e8c84",
   "metadata": {},
   "outputs": [],
   "source": []
  }
 ],
 "metadata": {
  "kernelspec": {
   "display_name": "Python 3 (ipykernel)",
   "language": "python",
   "name": "python3"
  },
  "language_info": {
   "codemirror_mode": {
    "name": "ipython",
    "version": 3
   },
   "file_extension": ".py",
   "mimetype": "text/x-python",
   "name": "python",
   "nbconvert_exporter": "python",
   "pygments_lexer": "ipython3",
   "version": "3.11.0"
  }
 },
 "nbformat": 4,
 "nbformat_minor": 5
}
