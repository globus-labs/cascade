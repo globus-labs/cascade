{
 "cells": [
  {
   "cell_type": "markdown",
   "id": "1a586653-5013-4007-b728-a35060f60f2c",
   "metadata": {},
   "source": [
    "# Vacancy analysis\n",
    "\n",
    "We want to estimate the rate of vacancy hopping, to use this as a way to\n",
    "1. sanity check what is happening in the proxima \"no diffusion case\"\n",
    "2. double-check our MSD-based diffusivity calculations\n",
    "3. check that the vacancy hops follow the expected distribution, sanity checking our science in general"
   ]
  },
  {
   "cell_type": "code",
   "execution_count": 1,
   "id": "c4fdbb44-bdf6-4c1e-ab4f-990ef68d5a7c",
   "metadata": {},
   "outputs": [],
   "source": [
    "from pathlib import Path\n",
    "import json\n",
    "import matplotlib.pyplot as plt\n",
    "import seaborn as sns\n",
    "\n",
    "import numpy as np\n",
    "import pandas as pd\n",
    "from tqdm import tqdm\n",
    "import ase\n",
    "from ase.io import read"
   ]
  },
  {
   "cell_type": "code",
   "execution_count": 2,
   "id": "3b2bd75c-9c02-4b02-a8bf-eda1ce217127",
   "metadata": {},
   "outputs": [],
   "source": [
    "pd.set_option('display.max_columns', 500)\n",
    "pd.set_option('display.max_rows', 100)\n",
    "pd.set_option('display.width', 1000)"
   ]
  },
  {
   "cell_type": "markdown",
   "id": "a70803c8-06ee-47f7-aff1-77bc36c7b2e9",
   "metadata": {},
   "source": [
    "## Reading the data\n",
    "\n",
    "we'll start with a full dft trajectory"
   ]
  },
  {
   "cell_type": "code",
   "execution_count": 3,
   "id": "0a157cff-bd86-4bda-a6b1-5878aaad74c7",
   "metadata": {},
   "outputs": [],
   "source": [
    "path = Path('runs/nvt-fixed-temp/si-vacancy-2x2x2-temp=1573.0-method=lda-blend=0-01bd9480/')"
   ]
  },
  {
   "cell_type": "code",
   "execution_count": 4,
   "id": "bc7e43b0-b43a-42d7-985f-9423e7e866c5",
   "metadata": {},
   "outputs": [
    {
     "data": {
      "text/plain": [
       "True"
      ]
     },
     "execution_count": 4,
     "metadata": {},
     "output_type": "execute_result"
    }
   ],
   "source": [
    "with open(path/'params.json') as f: \n",
    "    params = json.load(f)\n",
    "params['min_target_frac'] == 1 # shows us this is a DFT-only run"
   ]
  },
  {
   "cell_type": "code",
   "execution_count": 5,
   "id": "a0e86020-3aa4-4082-9b14-ae0e650a3139",
   "metadata": {},
   "outputs": [
    {
     "data": {
      "text/plain": [
       "{'file': None,\n",
       " 'starting_strc': '../0_setup/initial-geometries/si-vacancy-2x2x2.vasp',\n",
       " 'temperature': 1573.0,\n",
       " 'timestep': 1,\n",
       " 'calculator': 'lda',\n",
       " 'ensemble': 'nvt',\n",
       " 'temp_tau': 25,\n",
       " 'stress_tau': 25.0,\n",
       " 'steps': 40000,\n",
       " 'seed': 8,\n",
       " 'bulk_modulus': 98.0,\n",
       " 'initial_volume': 1376.0,\n",
       " 'model_type': 'ani',\n",
       " 'initial_model': None,\n",
       " 'initial_data': [],\n",
       " 'ensemble_size': 2,\n",
       " 'online_training': True,\n",
       " 'training_epochs': 16,\n",
       " 'training_batch_size': 32,\n",
       " 'training_max_size': 512,\n",
       " 'training_recency_bias': 1.0,\n",
       " 'training_device': 'cpu',\n",
       " 'target_error': 0.9,\n",
       " 'error_history': 8,\n",
       " 'retrain_freq': 40010,\n",
       " 'min_target_frac': 1.0,\n",
       " 'n_blending_steps': 0,\n",
       " 'cascade_commit': '5fda70cf55730fb117bf65924cfd5fae9fd3b0ed',\n",
       " 'my_commit': '5fda70cf55730fb117bf65924cfd5fae9fd3b0ed',\n",
       " 'start_time': '2024-10-04T13:59:03.031129'}"
      ]
     },
     "execution_count": 5,
     "metadata": {},
     "output_type": "execute_result"
    }
   ],
   "source": [
    "params"
   ]
  },
  {
   "cell_type": "code",
   "execution_count": null,
   "id": "36e9db2e-d32f-4375-baea-de0434da9a40",
   "metadata": {},
   "outputs": [],
   "source": []
  },
  {
   "cell_type": "code",
   "execution_count": null,
   "id": "9fc0f243-8374-4565-9252-e9f4a2723fe5",
   "metadata": {},
   "outputs": [],
   "source": []
  },
  {
   "cell_type": "code",
   "execution_count": 6,
   "id": "cc75d691-d517-4492-89f6-10c04c84f18a",
   "metadata": {},
   "outputs": [],
   "source": [
    "traj = read(path/'md.traj', index=':')"
   ]
  },
  {
   "cell_type": "code",
   "execution_count": 7,
   "id": "b69a8f9e-3869-45a8-ae5c-e1274453548e",
   "metadata": {},
   "outputs": [
    {
     "data": {
      "text/plain": [
       "40001"
      ]
     },
     "execution_count": 7,
     "metadata": {},
     "output_type": "execute_result"
    }
   ],
   "source": [
    "len(traj)"
   ]
  },
  {
   "cell_type": "code",
   "execution_count": 8,
   "id": "b92e8c37-9c7c-43a0-a35c-cb5d13e10cd6",
   "metadata": {},
   "outputs": [],
   "source": [
    "atoms = traj[0]"
   ]
  },
  {
   "cell_type": "markdown",
   "id": "33dda723-c3e4-4554-a3ea-d551d93c2060",
   "metadata": {},
   "source": [
    "## Testing the vacancy estimation"
   ]
  },
  {
   "cell_type": "markdown",
   "id": "ecb8a164-803d-4331-b53c-902e8134f4ff",
   "metadata": {},
   "source": [
    "First we get all of the minimum image distances"
   ]
  },
  {
   "cell_type": "code",
   "execution_count": 9,
   "id": "b087e59c-c025-4827-9676-b54bee548352",
   "metadata": {},
   "outputs": [],
   "source": [
    "D = atoms.get_all_distances(mic=True)"
   ]
  },
  {
   "cell_type": "code",
   "execution_count": 10,
   "id": "62d7743e-d3fe-4131-a37f-10175b207c42",
   "metadata": {},
   "outputs": [
    {
     "data": {
      "text/plain": [
       "Text(0, 0.5, 'count')"
      ]
     },
     "execution_count": 10,
     "metadata": {},
     "output_type": "execute_result"
    },
    {
     "data": {
      "image/png": "[encoded data removed]",
      "text/plain": [
       "<Figure size 640x480 with 1 Axes>"
      ]
     },
     "metadata": {},
     "output_type": "display_data"
    }
   ],
   "source": [
    "plt.hist(D.ravel());\n",
    "plt.plot(D.ravel(), [0.1]* len(D.ravel()), '|', color='k');\n",
    "plt.xlabel('$R_{ij}$ ($\\AA$)')\n",
    "plt.ylabel('count')"
   ]
  },
  {
   "cell_type": "markdown",
   "id": "70927a85-6f34-4fbf-9454-b5f4292d2a83",
   "metadata": {},
   "source": [
    "The first bin is the self distances (zero), the second bin is likely the covalently bonded Si atoms, lets see what happens if we take a cutoff just above that"
   ]
  },
  {
   "cell_type": "code",
   "execution_count": 11,
   "id": "02ef4779-fbc7-4a87-9786-a7ed973ed337",
   "metadata": {},
   "outputs": [],
   "source": [
    "r_cut = 3"
   ]
  },
  {
   "cell_type": "markdown",
   "id": "bd1c1c35-d0a4-4cfe-806a-b8e3a82c7998",
   "metadata": {},
   "source": [
    "And then find the number of neighbors"
   ]
  },
  {
   "cell_type": "code",
   "execution_count": 12,
   "id": "4f053867-2a8b-4cfb-990e-429fe1d04202",
   "metadata": {},
   "outputs": [
    {
     "data": {
      "text/plain": [
       "4    59\n",
       "3     4\n",
       "Name: count, dtype: int64"
      ]
     },
     "execution_count": 12,
     "metadata": {},
     "output_type": "execute_result"
    }
   ],
   "source": [
    "nn = (D < r_cut).sum(1) - 1 # subtract 1 for self distances\n",
    "pd.Series(nn).value_counts()"
   ]
  },
  {
   "cell_type": "markdown",
   "id": "f6ae8fc8-05a7-4daf-a37e-c7db4852a6fb",
   "metadata": {},
   "source": [
    "So 59 of the atoms have 4 neighbors and 4 of them (those near the vacancy) have 3 neighbors. This seems reasonable. "
   ]
  },
  {
   "cell_type": "markdown",
   "id": "59977752-abf4-4968-ba20-13579079cdfe",
   "metadata": {},
   "source": [
    "## Finding vacancy hopping"
   ]
  },
  {
   "cell_type": "markdown",
   "id": "4f3e579c-11dd-444d-a0fc-5a70169197c8",
   "metadata": {},
   "source": [
    "First lets bundle the code from above"
   ]
  },
  {
   "cell_type": "code",
   "execution_count": 13,
   "id": "92a23119-ca55-4eda-a51b-1d82bc315c3f",
   "metadata": {},
   "outputs": [],
   "source": [
    "def get_n_neighbors(atoms: ase.Atoms, r_cut: float = 3) -> np.ndarray[int]:\n",
    "    D = atoms.get_all_distances(mic=True)\n",
    "    nn = (D < r_cut).sum(1) - 1 # subtract 1 for self distances\n",
    "    return nn"
   ]
  },
  {
   "cell_type": "code",
   "execution_count": 14,
   "id": "0816f712-8810-4992-9cca-8cdf79dce937",
   "metadata": {},
   "outputs": [
    {
     "data": {
      "text/plain": [
       "array([3, 4, 4, 4, 4, 4, 4, 4, 4, 4, 4, 4, 4, 4, 4, 4, 4, 4, 4, 4, 4, 4,\n",
       "       4, 4, 4, 4, 3, 4, 4, 4, 4, 4, 4, 4, 4, 4, 4, 4, 4, 4, 4, 4, 4, 4,\n",
       "       3, 4, 4, 4, 4, 4, 4, 4, 4, 4, 3, 4, 4, 4, 4, 4, 4, 4, 4])"
      ]
     },
     "execution_count": 14,
     "metadata": {},
     "output_type": "execute_result"
    }
   ],
   "source": [
    "get_n_neighbors(atoms)"
   ]
  },
  {
   "cell_type": "markdown",
   "id": "e1191699-8cb9-4171-a0c7-4d7f732f3c12",
   "metadata": {},
   "source": [
    "And loop it over the trajectory, detecting: \n",
    "\n",
    "1. when the # neighbors is 'wrong' during a vacancy hop or similar\n",
    "2. when the distirbution of # neighbors over atoms changes"
   ]
  },
  {
   "cell_type": "code",
   "execution_count": 15,
   "id": "de3103b5-7796-48dd-8632-e68b81c271cf",
   "metadata": {},
   "outputs": [
    {
     "data": {
      "text/plain": [
       "4    59\n",
       "3     4\n",
       "Name: count, dtype: int64"
      ]
     },
     "execution_count": 15,
     "metadata": {},
     "output_type": "execute_result"
    }
   ],
   "source": [
    "correct_counts = pd.Series(nn).value_counts()\n",
    "correct_counts"
   ]
  },
  {
   "cell_type": "code",
   "execution_count": 16,
   "id": "6dfcc4d0-c862-41c8-8c72-7e146d5e6896",
   "metadata": {
    "scrolled": true
   },
   "outputs": [
    {
     "name": "stdout",
     "output_type": "stream",
     "text": [
      "CPU times: user 21min 10s, sys: 40min 9s, total: 1h 1min 20s\n",
      "Wall time: 3min 15s\n"
     ]
    }
   ],
   "source": [
    "%%time\n",
    "atoms = traj[0]\n",
    "nn = get_n_neighbors(atoms)\n",
    "\n",
    "\n",
    "# track whether a timestep has a 'wrong' or new configuration of neighbors\n",
    "steps_wrong = np.zeros(len(traj))\n",
    "steps_new = np.zeros(len(traj))\n",
    "nn_all = [nn]\n",
    "\n",
    "for t, atoms in enumerate(traj[1:]):\n",
    "    print(f'{t}/{len(traj)}', end='\\r')\n",
    "    nn_new = get_n_neighbors(atoms)\n",
    "    counts = pd.Series(nn_new).value_counts()\n",
    "\n",
    "    # check whether we have the correct neighbor count distribution\n",
    "    # handling the case where series comparison is invalid\n",
    "    try: \n",
    "        is_correct = (counts == correct_counts).all()\n",
    "    except: \n",
    "        is_correct = False\n",
    "    \n",
    "\n",
    "    # if we do have the correct neighbor count distribution\n",
    "    # check if the atoms with these counts have changed\n",
    "    if is_correct: \n",
    "        is_new = not (nn == nn_new).all()\n",
    "        if is_new: \n",
    "            # count this as a new state\n",
    "            steps_new[t] = 1\n",
    "            # update the reference n_neighbor distribution\n",
    "            nn = nn_new\n",
    "    else: \n",
    "        steps_wrong[t] = 1"
   ]
  },
  {
   "cell_type": "code",
   "execution_count": 17,
   "id": "6263b7b6-6998-4482-80b5-361015723dc1",
   "metadata": {},
   "outputs": [
    {
     "data": {
      "text/plain": [
       "120.0"
      ]
     },
     "execution_count": 17,
     "metadata": {},
     "output_type": "execute_result"
    }
   ],
   "source": [
    "steps_new.sum()"
   ]
  },
  {
   "cell_type": "code",
   "execution_count": 18,
   "id": "ef1d9637-d581-4995-802f-1d65f7f5a4fe",
   "metadata": {},
   "outputs": [
    {
     "data": {
      "text/plain": [
       "15270.0"
      ]
     },
     "execution_count": 18,
     "metadata": {},
     "output_type": "execute_result"
    }
   ],
   "source": [
    "steps_wrong.sum()"
   ]
  },
  {
   "cell_type": "code",
   "execution_count": 19,
   "id": "d931be95-b4bd-4508-8d5b-cf07b40af8e5",
   "metadata": {},
   "outputs": [],
   "source": [
    "start = 5000\n",
    "stop  = 8_000"
   ]
  },
  {
   "cell_type": "code",
   "execution_count": 20,
   "id": "d2a65387-5d9f-4af5-be54-8e59a12d158a",
   "metadata": {},
   "outputs": [],
   "source": [
    "t = np.arange(len(traj))"
   ]
  },
  {
   "cell_type": "code",
   "execution_count": 21,
   "id": "d9f02c1c-3c75-4737-87d3-37686c2c4f06",
   "metadata": {},
   "outputs": [
    {
     "data": {
      "text/plain": [
       "<matplotlib.legend.Legend at 0x784fa8ab5890>"
      ]
     },
     "execution_count": 21,
     "metadata": {},
     "output_type": "execute_result"
    },
    {
     "data": {
      "image/png": "[encoded data removed]",
      "text/plain": [
       "<Figure size 640x480 with 1 Axes>"
      ]
     },
     "metadata": {},
     "output_type": "display_data"
    }
   ],
   "source": [
    "plt.plot(\n",
    "    t[start:stop],\n",
    "    steps_new[start:stop], \n",
    "    linestyle='dotted', \n",
    "    label='hop')\n",
    "plt.plot(t[start:stop], \n",
    "         steps_wrong[start:stop], \n",
    "         alpha=0.5, label='wrong nn')\n",
    "plt.xlabel('timestep')\n",
    "plt.legend()"
   ]
  },
  {
   "cell_type": "markdown",
   "id": "42d63f01-481b-440c-a2c8-4780900bf14f",
   "metadata": {},
   "source": [
    "## Find the length of time between the hops"
   ]
  },
  {
   "cell_type": "code",
   "execution_count": 22,
   "id": "eeabae6c-fee8-4ae5-99f2-19c4d68019b6",
   "metadata": {},
   "outputs": [
    {
     "data": {
      "text/plain": [
       "array([  133,   308,  2398,  2476,  3776,  3829,  4585,  4760,  5051,\n",
       "        5167,  5568,  5652,  6017,  6077,  6137,  6177,  6719,  6755,\n",
       "        7780,  7922,  8089,  8141,  8257,  8386,  8517,  8533,  9346,\n",
       "        9393, 10187, 10243, 11818, 11868, 12557, 12601, 13786, 13809,\n",
       "       13946, 13956, 14025, 14091, 14311, 14361, 14440, 14499, 15622,\n",
       "       15658, 16941, 17051, 17246, 17288, 18476, 18529, 19985, 20036,\n",
       "       20749, 21622, 21651, 21817, 21901, 23275, 23316, 23397, 23445,\n",
       "       23524, 23746, 23767, 25177, 25189, 25262, 25332, 25483, 25546,\n",
       "       25903, 25995, 26204, 26237, 27314, 27406, 28246, 28291, 28419,\n",
       "       28542, 29302, 29373, 29412, 29606, 29643, 30443, 30532, 32205,\n",
       "       32267, 32319, 32416, 32473, 32594, 32655, 32737, 32845, 33080,\n",
       "       33089, 33255, 33301, 33487, 33521, 33541, 33717, 33730, 34958,\n",
       "       35043, 35760, 35852, 36665, 36703, 36808, 36944, 38116, 38121,\n",
       "       38175, 38655, 38738])"
      ]
     },
     "execution_count": 22,
     "metadata": {},
     "output_type": "execute_result"
    }
   ],
   "source": [
    "hop_indices = np.where(steps_new == 1)[0]\n",
    "hop_indices"
   ]
  },
  {
   "cell_type": "code",
   "execution_count": 23,
   "id": "daa5ffa4-8078-40d6-8213-8ad5f5601ccd",
   "metadata": {},
   "outputs": [
    {
     "data": {
      "text/plain": [
       "array([ 175, 2090,   78, 1300,   53,  756,  175,  291,  116,  401,   84,\n",
       "        365,   60,   60,   40,  542,   36, 1025,  142,  167,   52,  116,\n",
       "        129,  131,   16,  813,   47,  794,   56, 1575,   50,  689,   44,\n",
       "       1185,   23,  137,   10,   69,   66,  220,   50,   79,   59, 1123,\n",
       "         36, 1283,  110,  195,   42, 1188,   53, 1456,   51,  713,  873,\n",
       "         29,  166,   84, 1374,   41,   81,   48,   79,  222,   21, 1410,\n",
       "         12,   73,   70,  151,   63,  357,   92,  209,   33, 1077,   92,\n",
       "        840,   45,  128,  123,  760,   71,   39,  194,   37,  800,   89,\n",
       "       1673,   62,   52,   97,   57,  121,   61,   82,  108,  235,    9,\n",
       "        166,   46,  186,   34,   20,  176,   13, 1228,   85,  717,   92,\n",
       "        813,   38,  105,  136, 1172,    5,   54,  480,   83])"
      ]
     },
     "execution_count": 23,
     "metadata": {},
     "output_type": "execute_result"
    }
   ],
   "source": [
    "durations = np.diff(hop_indices)\n",
    "durations"
   ]
  },
  {
   "cell_type": "code",
   "execution_count": 24,
   "id": "ea1b81f0-6475-4e09-bbc3-11b0548bcc34",
   "metadata": {},
   "outputs": [
    {
     "data": {
      "text/plain": [
       "133"
      ]
     },
     "execution_count": 24,
     "metadata": {},
     "output_type": "execute_result"
    }
   ],
   "source": [
    "hop_indices[0]"
   ]
  },
  {
   "cell_type": "code",
   "execution_count": 25,
   "id": "9bdbd7ad-16bc-4d4f-b7b8-48049d3d48a9",
   "metadata": {},
   "outputs": [
    {
     "data": {
      "text/plain": [
       "array([ 133,  175, 2090,   78, 1300,   53,  756,  175,  291,  116,  401,\n",
       "         84,  365,   60,   60,   40,  542,   36, 1025,  142,  167,   52,\n",
       "        116,  129,  131,   16,  813,   47,  794,   56, 1575,   50,  689,\n",
       "         44, 1185,   23,  137,   10,   69,   66,  220,   50,   79,   59,\n",
       "       1123,   36, 1283,  110,  195,   42, 1188,   53, 1456,   51,  713,\n",
       "        873,   29,  166,   84, 1374,   41,   81,   48,   79,  222,   21,\n",
       "       1410,   12,   73,   70,  151,   63,  357,   92,  209,   33, 1077,\n",
       "         92,  840,   45,  128,  123,  760,   71,   39,  194,   37,  800,\n",
       "         89, 1673,   62,   52,   97,   57,  121,   61,   82,  108,  235,\n",
       "          9,  166,   46,  186,   34,   20,  176,   13, 1228,   85,  717,\n",
       "         92,  813,   38,  105,  136, 1172,    5,   54,  480,   83])"
      ]
     },
     "execution_count": 25,
     "metadata": {},
     "output_type": "execute_result"
    }
   ],
   "source": [
    "np.insert(durations, 0, hop_indices[0])"
   ]
  },
  {
   "cell_type": "code",
   "execution_count": 26,
   "id": "d918e6c6-7556-432c-b2c7-2416e88474d9",
   "metadata": {},
   "outputs": [
    {
     "data": {
      "image/png": "[encoded data removed]",
      "text/plain": [
       "<Figure size 500x500 with 1 Axes>"
      ]
     },
     "metadata": {},
     "output_type": "display_data"
    }
   ],
   "source": [
    "sns.displot(durations, rug=True)\n",
    "plt.xlabel('time between hops (fs)');"
   ]
  },
  {
   "cell_type": "markdown",
   "id": "a81bcbad-733c-4a2e-a36e-9b2ae4c21769",
   "metadata": {},
   "source": [
    "That looks pretty good!"
   ]
  },
  {
   "cell_type": "markdown",
   "id": "e51f2c63-0ad7-4e24-817f-34f003adef93",
   "metadata": {},
   "source": [
    "## comparing to no blending proxima:"
   ]
  },
  {
   "cell_type": "code",
   "execution_count": 27,
   "id": "a947cc7b-5461-40d2-8f14-a488478a54b1",
   "metadata": {},
   "outputs": [
    {
     "name": "stdout",
     "output_type": "stream",
     "text": [
      "{\n",
      "  \"file\": null,\n",
      "  \"starting_strc\": \"../0_setup/initial-geometries/si-vacancy-2x2x2.vasp\",\n",
      "  \"temperature\": 1573.0,\n",
      "  \"timestep\": 1,\n",
      "  \"calculator\": \"lda\",\n",
      "  \"ensemble\": \"nvt\",\n",
      "  \"temp_tau\": 25,\n",
      "  \"stress_tau\": 25.0,\n",
      "  \"steps\": 40000,\n",
      "  \"seed\": 9,\n",
      "  \"bulk_modulus\": 98.0,\n",
      "  \"initial_volume\": 1376.0,\n",
      "  \"model_type\": \"ani\",\n",
      "  \"initial_model\": null,\n",
      "  \"initial_data\": [],\n",
      "  \"ensemble_size\": 2,\n",
      "  \"online_training\": true,\n",
      "  \"training_epochs\": 16,\n",
      "  \"training_batch_size\": 32,\n",
      "  \"training_max_size\": 512,\n",
      "  \"training_recency_bias\": 1.0,\n",
      "  \"training_device\": \"cpu\",\n",
      "  \"target_error\": 0.9,\n",
      "  \"error_history\": 8,\n",
      "  \"retrain_freq\": 512,\n",
      "  \"min_target_frac\": 0.1,\n",
      "  \"n_blending_steps\": 0,\n",
      "  \"cascade_commit\": \"5fda70cf55730fb117bf65924cfd5fae9fd3b0ed\",\n",
      "  \"my_commit\": \"5fda70cf55730fb117bf65924cfd5fae9fd3b0ed\",\n",
      "  \"start_time\": \"2024-10-04T14:28:50.486769\"\n",
      "}"
     ]
    }
   ],
   "source": [
    "cat runs/nvt-fixed-temp/si-vacancy-2x2x2-temp=1573.0-method=lda-blend=0-526f7ee4/params.json"
   ]
  },
  {
   "cell_type": "code",
   "execution_count": 28,
   "id": "011c8f33-a6d8-4c71-ac6a-bd99da5ed074",
   "metadata": {},
   "outputs": [],
   "source": [
    "hops = np.load('runs/nvt-fixed-temp/si-vacancy-2x2x2-temp=1573.0-method=lda-blend=0-526f7ee4/hops.npz')"
   ]
  },
  {
   "cell_type": "code",
   "execution_count": 29,
   "id": "033fd514-c381-46ba-9740-9ee18f0ce08c",
   "metadata": {},
   "outputs": [
    {
     "data": {
      "text/plain": [
       "(212,)"
      ]
     },
     "execution_count": 29,
     "metadata": {},
     "output_type": "execute_result"
    }
   ],
   "source": [
    "hops['hop_indices'].shape"
   ]
  },
  {
   "cell_type": "code",
   "execution_count": null,
   "id": "bf8013d8-574e-4bc7-8764-f7a89a980d7d",
   "metadata": {},
   "outputs": [],
   "source": []
  },
  {
   "cell_type": "code",
   "execution_count": 30,
   "id": "ae50161f-9947-4d42-bcf8-4215141654da",
   "metadata": {},
   "outputs": [
    {
     "data": {
      "image/png": "[encoded data removed]",
      "text/plain": [
       "<Figure size 500x500 with 1 Axes>"
      ]
     },
     "metadata": {},
     "output_type": "display_data"
    }
   ],
   "source": [
    "sns.displot(hops['durations'], rug=True)\n",
    "plt.xlabel('time between hops (fs)');"
   ]
  },
  {
   "cell_type": "markdown",
   "id": "db81f78e-d135-45f8-a551-3f43a2023db6",
   "metadata": {},
   "source": [
    "## Looking at results of the script applied to all of our runs"
   ]
  },
  {
   "cell_type": "code",
   "execution_count": 31,
   "id": "4dfd26d7-f20e-4274-949b-10a9e936cc96",
   "metadata": {},
   "outputs": [],
   "source": [
    "from glob import glob"
   ]
  },
  {
   "cell_type": "code",
   "execution_count": 32,
   "id": "455f7a23-c8f9-4fd5-9104-b5407adb57dc",
   "metadata": {},
   "outputs": [],
   "source": [
    "run_dirs = glob('runs/nvt-fixed-temp/si-*')"
   ]
  },
  {
   "cell_type": "code",
   "execution_count": null,
   "id": "82331fad-d811-4416-a26a-d030dc2e6bb0",
   "metadata": {},
   "outputs": [],
   "source": []
  },
  {
   "cell_type": "code",
   "execution_count": 33,
   "id": "3c4f12a7-e1c3-43db-8562-257148ef026c",
   "metadata": {},
   "outputs": [
    {
     "data": {
      "text/plain": [
       "array([[3, 4, 4, ..., 4, 4, 4],\n",
       "       [3, 4, 4, ..., 4, 4, 4],\n",
       "       [3, 4, 4, ..., 4, 4, 4],\n",
       "       ...,\n",
       "       [4, 4, 4, ..., 4, 4, 4],\n",
       "       [3, 4, 4, ..., 4, 4, 4],\n",
       "       [4, 3, 4, ..., 4, 4, 4]])"
      ]
     },
     "execution_count": 33,
     "metadata": {},
     "output_type": "execute_result"
    }
   ],
   "source": [
    "hops['nn_all']"
   ]
  },
  {
   "cell_type": "code",
   "execution_count": 34,
   "id": "e3030160-5690-40da-bf5b-b8812b59d73c",
   "metadata": {},
   "outputs": [
    {
     "data": {
      "text/plain": [
       "(213, 63)"
      ]
     },
     "execution_count": 34,
     "metadata": {},
     "output_type": "execute_result"
    }
   ],
   "source": [
    "hops['nn_all'].shape"
   ]
  },
  {
   "cell_type": "code",
   "execution_count": 35,
   "id": "7eda48df-9744-4fc2-afc4-f04f8801c2a6",
   "metadata": {},
   "outputs": [],
   "source": [
    "df = []\n",
    "\n",
    "for d in run_dirs:\n",
    "    \n",
    "    d = Path(d)\n",
    "    with open(d/'params.json') as f: \n",
    "        params = json.load(f)\n",
    "\n",
    "    hops = np.load(d/'hops.npz')\n",
    "    durations = hops['durations']\n",
    "    hash_ = str(d)[-8:]\n",
    "    nunique = np.unique(hops['nn_all'], axis=0).shape[0]\n",
    "\n",
    "    keep_keys = ['min_target_frac', 'n_blending_steps']\n",
    "    df.append([params[k] for k in keep_keys] + [durations, hash_, params['target_error'], nunique])\n",
    "df = pd.DataFrame.from_records(df, columns=keep_keys+['durations', 'hash', 'target_error', 'nunique'])"
   ]
  },
  {
   "cell_type": "markdown",
   "id": "a31d1570-2bd2-4bb6-bbe0-66af3c9be249",
   "metadata": {},
   "source": [
    "## drop the high target one!"
   ]
  },
  {
   "cell_type": "code",
   "execution_count": 79,
   "id": "2d52f6a5-5c1b-4d6a-97bd-c9e857e4b78b",
   "metadata": {},
   "outputs": [],
   "source": [
    "df = df.query('target_error < 10')"
   ]
  },
  {
   "cell_type": "code",
   "execution_count": 80,
   "id": "90ed828c-2574-4585-9196-ecffa95da0e5",
   "metadata": {
    "scrolled": true
   },
   "outputs": [
    {
     "data": {
      "text/plain": [
       "0     [4, 7, 11, 14, 15, 17, 18, 19, 19, 20, 21, 21,...\n",
       "1     [6, 8, 12, 17, 18, 19, 19, 22, 23, 23, 26, 29,...\n",
       "2     [9, 9, 11, 13, 15, 18, 18, 21, 23, 25, 27, 28,...\n",
       "3     [7, 10, 16, 18, 19, 20, 20, 22, 25, 28, 34, 36...\n",
       "4     [7, 8, 8, 12, 12, 14, 15, 15, 18, 21, 22, 22, ...\n",
       "5     [9, 10, 13, 20, 22, 25, 26, 27, 28, 30, 30, 32...\n",
       "6     [6, 8, 9, 11, 12, 12, 13, 14, 15, 15, 16, 16, ...\n",
       "7     [2, 4, 8, 8, 9, 9, 9, 9, 10, 10, 10, 11, 11, 1...\n",
       "8     [12, 20, 27, 31, 31, 32, 33, 33, 36, 37, 37, 3...\n",
       "9     [1, 2, 4, 5, 6, 6, 6, 7, 8, 9, 10, 11, 11, 11,...\n",
       "10    [5, 8, 12, 13, 15, 17, 18, 21, 22, 23, 25, 27,...\n",
       "11    [5, 6, 6, 9, 9, 10, 11, 11, 11, 12, 12, 13, 13...\n",
       "12    [5, 6, 6, 8, 8, 10, 10, 11, 13, 14, 15, 17, 17...\n",
       "13    [13, 14, 17, 17, 18, 19, 19, 20, 21, 21, 21, 2...\n",
       "14    [8, 9, 10, 13, 13, 16, 17, 17, 19, 19, 24, 24,...\n",
       "15    [6, 8, 9, 15, 16, 18, 18, 19, 21, 22, 24, 24, ...\n",
       "16    [5, 7, 7, 11, 13, 15, 15, 19, 19, 20, 21, 21, ...\n",
       "17    [5, 5, 7, 7, 8, 8, 10, 10, 11, 12, 12, 13, 14,...\n",
       "19    [6, 7, 12, 12, 13, 16, 18, 23, 25, 26, 31, 31,...\n",
       "20    [2, 8, 9, 12, 17, 19, 20, 20, 21, 22, 29, 29, ...\n",
       "21    [12, 12, 14, 14, 14, 15, 15, 16, 16, 16, 17, 1...\n",
       "22    [5, 9, 10, 12, 13, 16, 20, 21, 23, 29, 33, 34,...\n",
       "23    [5, 5, 10, 10, 13, 13, 13, 16, 16, 17, 22, 22,...\n",
       "24    [11, 15, 15, 17, 19, 21, 21, 21, 24, 25, 25, 2...\n",
       "25    [6, 8, 13, 14, 14, 15, 16, 17, 17, 18, 19, 20,...\n",
       "26    [11, 14, 14, 15, 18, 19, 20, 21, 21, 21, 21, 2...\n",
       "27    [8, 8, 12, 13, 15, 16, 19, 22, 23, 24, 24, 26,...\n",
       "28    [6, 7, 8, 8, 9, 9, 12, 12, 13, 13, 14, 14, 15,...\n",
       "29    [5, 7, 9, 9, 10, 11, 12, 12, 13, 13, 13, 13, 1...\n",
       "30    [4, 7, 8, 8, 8, 9, 9, 10, 10, 10, 11, 11, 11, ...\n",
       "Name: durations, dtype: object"
      ]
     },
     "execution_count": 80,
     "metadata": {},
     "output_type": "execute_result"
    }
   ],
   "source": [
    "df['durations'].map(lambda l:list(sorted(l)))"
   ]
  },
  {
   "cell_type": "code",
   "execution_count": 81,
   "id": "4b2c1c13-7528-456a-b843-dd4db33a7c99",
   "metadata": {},
   "outputs": [
    {
     "data": {
      "text/plain": [
       "0     117\n",
       "1     103\n",
       "2      90\n",
       "3      94\n",
       "4     117\n",
       "5     103\n",
       "6     188\n",
       "7     213\n",
       "8      92\n",
       "9     211\n",
       "10     97\n",
       "11    193\n",
       "12    145\n",
       "13     96\n",
       "14    129\n",
       "15    119\n",
       "16     94\n",
       "17    238\n",
       "19    108\n",
       "20     70\n",
       "21    197\n",
       "22    119\n",
       "23    103\n",
       "24    117\n",
       "25    139\n",
       "26    100\n",
       "27    106\n",
       "28    182\n",
       "29    192\n",
       "30    221\n",
       "Name: durations, dtype: int64"
      ]
     },
     "execution_count": 81,
     "metadata": {},
     "output_type": "execute_result"
    }
   ],
   "source": [
    "df['durations'].map(lambda l:len(l))"
   ]
  },
  {
   "cell_type": "code",
   "execution_count": 82,
   "id": "c66c1983-d9c7-47e7-92b6-508d31e8ebcb",
   "metadata": {},
   "outputs": [
    {
     "data": {
      "text/plain": [
       "0     38814\n",
       "1     38834\n",
       "2     37789\n",
       "3     38222\n",
       "4     39770\n",
       "5     36692\n",
       "6     39319\n",
       "7     39466\n",
       "8     39651\n",
       "9     39553\n",
       "10    38383\n",
       "11    38943\n",
       "12    39817\n",
       "13    36975\n",
       "14    39534\n",
       "15    39419\n",
       "16    38002\n",
       "17    38907\n",
       "19    39623\n",
       "20    39607\n",
       "21    39428\n",
       "22    38605\n",
       "23    35115\n",
       "24    39072\n",
       "25    39214\n",
       "26    38796\n",
       "27    39129\n",
       "28    38984\n",
       "29    39480\n",
       "30    37520\n",
       "Name: durations, dtype: int64"
      ]
     },
     "execution_count": 82,
     "metadata": {},
     "output_type": "execute_result"
    }
   ],
   "source": [
    "df['durations'].map(sum)"
   ]
  },
  {
   "cell_type": "code",
   "execution_count": 83,
   "id": "dc10c104-f54b-41e3-89df-5ab9b34907b6",
   "metadata": {},
   "outputs": [
    {
     "data": {
      "text/plain": [
       "38605"
      ]
     },
     "execution_count": 83,
     "metadata": {},
     "output_type": "execute_result"
    }
   ],
   "source": [
    "df['durations'][22].sum()"
   ]
  },
  {
   "cell_type": "code",
   "execution_count": 84,
   "id": "d9dfaca5-d027-4c25-afbb-afd5654c4524",
   "metadata": {},
   "outputs": [
    {
     "data": {
      "image/png": "[encoded data removed]",
      "text/plain": [
       "<Figure size 1000x400 with 15 Axes>"
      ]
     },
     "metadata": {},
     "output_type": "display_data"
    },
    {
     "data": {
      "image/png": "[encoded data removed]",
      "text/plain": [
       "<Figure size 1000x400 with 15 Axes>"
      ]
     },
     "metadata": {},
     "output_type": "display_data"
    },
    {
     "data": {
      "image/png": "[encoded data removed]",
      "text/plain": [
       "<Figure size 1000x400 with 15 Axes>"
      ]
     },
     "metadata": {},
     "output_type": "display_data"
    }
   ],
   "source": [
    "for (frac, n_blend), g in df.groupby(['min_target_frac', 'n_blending_steps']): \n",
    "    fig, axs = plt.subplots(3, 5, figsize=(10,4))\n",
    "    for i, (_, row) in enumerate(g.iterrows()):\n",
    "        ax = axs.ravel()[i]\n",
    "        sns.histplot(row['durations'], ax=ax)\n",
    "        ax.set_title(row['hash'])\n",
    "        ax.set_xlim(0, 8000)\n",
    "    if frac == 1: \n",
    "        title = 'DFT-only'\n",
    "    elif n_blend == 0: \n",
    "        title = 'Proxima'\n",
    "    else:\n",
    "        title = 'Proxima + blend'\n",
    "    plt.suptitle(title)\n",
    "    plt.tight_layout()\n",
    "    plt.show()"
   ]
  },
  {
   "cell_type": "markdown",
   "id": "0b1aa5d6-4c90-4127-bf74-1efe1d07d341",
   "metadata": {},
   "source": [
    "Actually, lets just combine them  "
   ]
  },
  {
   "cell_type": "code",
   "execution_count": 85,
   "id": "af6a9965-d863-47c2-b45c-72ec3727d484",
   "metadata": {},
   "outputs": [
    {
     "data": {
      "text/plain": [
       "min_target_frac                                                   1.0\n",
       "n_blending_steps                                                    0\n",
       "durations           [38, 169, 72, 279, 18, 45, 215, 57, 387, 47, 4...\n",
       "hash                                                         6456c0b8\n",
       "target_error                                                      0.9\n",
       "nunique                                                            69\n",
       "Name: 25, dtype: object"
      ]
     },
     "execution_count": 85,
     "metadata": {},
     "output_type": "execute_result"
    }
   ],
   "source": [
    "row"
   ]
  },
  {
   "cell_type": "code",
   "execution_count": 86,
   "id": "10b73983-ff47-4e95-aeac-58a557b0acb2",
   "metadata": {},
   "outputs": [],
   "source": [
    "new_df = []\n",
    "for (frac, n_blend, t), g in df.groupby(['min_target_frac', 'n_blending_steps', 'target_error']): \n",
    "    durations = []\n",
    "    nunique = []\n",
    "    for i, (_, row) in enumerate(g.iterrows()):\n",
    "        durations.extend(row['durations'])\n",
    "        nunique.append(row['nunique'])\n",
    "        \n",
    "    if frac == 1: \n",
    "        title = 'DFT-only'\n",
    "    elif n_blend == 0: \n",
    "        title = 'Proxima'\n",
    "    elif t == 0.9:\n",
    "        title = 'Proxima + blend'\n",
    "    else: \n",
    "        title='Proxima + blend (high target)'\n",
    "    new_df.append([title, durations, nunique])\n",
    "new_df = pd.DataFrame(new_df, columns=['condition', 'duration', 'nunique'])"
   ]
  },
  {
   "cell_type": "code",
   "execution_count": 87,
   "id": "7f9f4b1a-6bb0-4da6-81eb-6b16ad88b535",
   "metadata": {},
   "outputs": [
    {
     "data": {
      "text/plain": [
       "(30, 6)"
      ]
     },
     "execution_count": 87,
     "metadata": {},
     "output_type": "execute_result"
    }
   ],
   "source": [
    "df.shape"
   ]
  },
  {
   "cell_type": "code",
   "execution_count": 88,
   "id": "f158391c-88aa-4be7-8209-0c7cee29260a",
   "metadata": {},
   "outputs": [
    {
     "data": {
      "text/html": [
       "<div>\n",
       "<style scoped>\n",
       "    .dataframe tbody tr th:only-of-type {\n",
       "        vertical-align: middle;\n",
       "    }\n",
       "\n",
       "    .dataframe tbody tr th {\n",
       "        vertical-align: top;\n",
       "    }\n",
       "\n",
       "    .dataframe thead th {\n",
       "        text-align: right;\n",
       "    }\n",
       "</style>\n",
       "<table border=\"1\" class=\"dataframe\">\n",
       "  <thead>\n",
       "    <tr style=\"text-align: right;\">\n",
       "      <th></th>\n",
       "      <th>condition</th>\n",
       "      <th>duration</th>\n",
       "      <th>nunique</th>\n",
       "    </tr>\n",
       "  </thead>\n",
       "  <tbody>\n",
       "    <tr>\n",
       "      <th>0</th>\n",
       "      <td>Proxima</td>\n",
       "      <td>[34, 1053, 35, 365, 53, 525, 34, 505, 29, 96, ...</td>\n",
       "      <td>[107, 110, 122, 97, 76, 123, 101, 102, 100, 116]</td>\n",
       "    </tr>\n",
       "    <tr>\n",
       "      <th>1</th>\n",
       "      <td>Proxima + blend</td>\n",
       "      <td>[86, 329, 125, 3934, 40, 907, 32, 387, 8, 19, ...</td>\n",
       "      <td>[51, 35, 65, 74, 64, 52, 53, 57, 44, 61]</td>\n",
       "    </tr>\n",
       "    <tr>\n",
       "      <th>2</th>\n",
       "      <td>DFT-only</td>\n",
       "      <td>[19, 842, 120, 21, 96, 34, 363, 77, 54, 37, 84...</td>\n",
       "      <td>[62, 39, 44, 41, 37, 37, 42, 37, 54, 69]</td>\n",
       "    </tr>\n",
       "  </tbody>\n",
       "</table>\n",
       "</div>"
      ],
      "text/plain": [
       "         condition                                           duration                                           nunique\n",
       "0          Proxima  [34, 1053, 35, 365, 53, 525, 34, 505, 29, 96, ...  [107, 110, 122, 97, 76, 123, 101, 102, 100, 116]\n",
       "1  Proxima + blend  [86, 329, 125, 3934, 40, 907, 32, 387, 8, 19, ...          [51, 35, 65, 74, 64, 52, 53, 57, 44, 61]\n",
       "2         DFT-only  [19, 842, 120, 21, 96, 34, 363, 77, 54, 37, 84...          [62, 39, 44, 41, 37, 37, 42, 37, 54, 69]"
      ]
     },
     "execution_count": 88,
     "metadata": {},
     "output_type": "execute_result"
    }
   ],
   "source": [
    "new_df"
   ]
  },
  {
   "cell_type": "code",
   "execution_count": 89,
   "id": "f8897fc5-2cb1-45cd-a2c7-49c53903199a",
   "metadata": {},
   "outputs": [
    {
     "data": {
      "text/plain": [
       "(3, 3)"
      ]
     },
     "execution_count": 89,
     "metadata": {},
     "output_type": "execute_result"
    }
   ],
   "source": [
    "new_df.shape"
   ]
  },
  {
   "cell_type": "code",
   "execution_count": 90,
   "id": "a14b7780-0421-402c-90a6-bd12a2f5e865",
   "metadata": {},
   "outputs": [],
   "source": [
    "df_long = new_df.explode('duration')"
   ]
  },
  {
   "cell_type": "code",
   "execution_count": 91,
   "id": "9ad4ba82-5377-40ec-9d77-06653c287b29",
   "metadata": {},
   "outputs": [
    {
     "data": {
      "text/html": [
       "<div>\n",
       "<style scoped>\n",
       "    .dataframe tbody tr th:only-of-type {\n",
       "        vertical-align: middle;\n",
       "    }\n",
       "\n",
       "    .dataframe tbody tr th {\n",
       "        vertical-align: top;\n",
       "    }\n",
       "\n",
       "    .dataframe thead th {\n",
       "        text-align: right;\n",
       "    }\n",
       "</style>\n",
       "<table border=\"1\" class=\"dataframe\">\n",
       "  <thead>\n",
       "    <tr style=\"text-align: right;\">\n",
       "      <th></th>\n",
       "      <th>condition</th>\n",
       "      <th>duration</th>\n",
       "      <th>nunique</th>\n",
       "    </tr>\n",
       "  </thead>\n",
       "  <tbody>\n",
       "    <tr>\n",
       "      <th>0</th>\n",
       "      <td>Proxima</td>\n",
       "      <td>34</td>\n",
       "      <td>[107, 110, 122, 97, 76, 123, 101, 102, 100, 116]</td>\n",
       "    </tr>\n",
       "    <tr>\n",
       "      <th>0</th>\n",
       "      <td>Proxima</td>\n",
       "      <td>1053</td>\n",
       "      <td>[107, 110, 122, 97, 76, 123, 101, 102, 100, 116]</td>\n",
       "    </tr>\n",
       "    <tr>\n",
       "      <th>0</th>\n",
       "      <td>Proxima</td>\n",
       "      <td>35</td>\n",
       "      <td>[107, 110, 122, 97, 76, 123, 101, 102, 100, 116]</td>\n",
       "    </tr>\n",
       "    <tr>\n",
       "      <th>0</th>\n",
       "      <td>Proxima</td>\n",
       "      <td>365</td>\n",
       "      <td>[107, 110, 122, 97, 76, 123, 101, 102, 100, 116]</td>\n",
       "    </tr>\n",
       "    <tr>\n",
       "      <th>0</th>\n",
       "      <td>Proxima</td>\n",
       "      <td>53</td>\n",
       "      <td>[107, 110, 122, 97, 76, 123, 101, 102, 100, 116]</td>\n",
       "    </tr>\n",
       "    <tr>\n",
       "      <th>...</th>\n",
       "      <td>...</td>\n",
       "      <td>...</td>\n",
       "      <td>...</td>\n",
       "    </tr>\n",
       "    <tr>\n",
       "      <th>2</th>\n",
       "      <td>DFT-only</td>\n",
       "      <td>44</td>\n",
       "      <td>[62, 39, 44, 41, 37, 37, 42, 37, 54, 69]</td>\n",
       "    </tr>\n",
       "    <tr>\n",
       "      <th>2</th>\n",
       "      <td>DFT-only</td>\n",
       "      <td>769</td>\n",
       "      <td>[62, 39, 44, 41, 37, 37, 42, 37, 54, 69]</td>\n",
       "    </tr>\n",
       "    <tr>\n",
       "      <th>2</th>\n",
       "      <td>DFT-only</td>\n",
       "      <td>40</td>\n",
       "      <td>[62, 39, 44, 41, 37, 37, 42, 37, 54, 69]</td>\n",
       "    </tr>\n",
       "    <tr>\n",
       "      <th>2</th>\n",
       "      <td>DFT-only</td>\n",
       "      <td>381</td>\n",
       "      <td>[62, 39, 44, 41, 37, 37, 42, 37, 54, 69]</td>\n",
       "    </tr>\n",
       "    <tr>\n",
       "      <th>2</th>\n",
       "      <td>DFT-only</td>\n",
       "      <td>60</td>\n",
       "      <td>[62, 39, 44, 41, 37, 37, 42, 37, 54, 69]</td>\n",
       "    </tr>\n",
       "  </tbody>\n",
       "</table>\n",
       "<p>4093 rows × 3 columns</p>\n",
       "</div>"
      ],
      "text/plain": [
       "   condition duration                                           nunique\n",
       "0    Proxima       34  [107, 110, 122, 97, 76, 123, 101, 102, 100, 116]\n",
       "0    Proxima     1053  [107, 110, 122, 97, 76, 123, 101, 102, 100, 116]\n",
       "0    Proxima       35  [107, 110, 122, 97, 76, 123, 101, 102, 100, 116]\n",
       "0    Proxima      365  [107, 110, 122, 97, 76, 123, 101, 102, 100, 116]\n",
       "0    Proxima       53  [107, 110, 122, 97, 76, 123, 101, 102, 100, 116]\n",
       "..       ...      ...                                               ...\n",
       "2   DFT-only       44          [62, 39, 44, 41, 37, 37, 42, 37, 54, 69]\n",
       "2   DFT-only      769          [62, 39, 44, 41, 37, 37, 42, 37, 54, 69]\n",
       "2   DFT-only       40          [62, 39, 44, 41, 37, 37, 42, 37, 54, 69]\n",
       "2   DFT-only      381          [62, 39, 44, 41, 37, 37, 42, 37, 54, 69]\n",
       "2   DFT-only       60          [62, 39, 44, 41, 37, 37, 42, 37, 54, 69]\n",
       "\n",
       "[4093 rows x 3 columns]"
      ]
     },
     "execution_count": 91,
     "metadata": {},
     "output_type": "execute_result"
    }
   ],
   "source": [
    "df_long"
   ]
  },
  {
   "cell_type": "code",
   "execution_count": 92,
   "id": "11a4293b-cc66-4b27-bf36-6d16d641e6e3",
   "metadata": {},
   "outputs": [
    {
     "data": {
      "text/plain": [
       "<Axes: xlabel='condition', ylabel='duration'>"
      ]
     },
     "execution_count": 92,
     "metadata": {},
     "output_type": "execute_result"
    },
    {
     "data": {
      "image/png": "[encoded data removed]",
      "text/plain": [
       "<Figure size 640x480 with 1 Axes>"
      ]
     },
     "metadata": {},
     "output_type": "display_data"
    }
   ],
   "source": [
    "sns.violinplot(x='condition', \n",
    "            y='duration',\n",
    "            hue='condition',\n",
    "            log_scale=True,\n",
    "            data=df_long)#.sample(frac=0.5))\n",
    "#plt.yscale('log')"
   ]
  },
  {
   "cell_type": "code",
   "execution_count": 93,
   "id": "e250ce3d-ab0f-42cf-9c60-0aff45dd53a1",
   "metadata": {},
   "outputs": [
    {
     "data": {
      "text/plain": [
       "<seaborn.axisgrid.FacetGrid at 0x784f845775d0>"
      ]
     },
     "execution_count": 93,
     "metadata": {},
     "output_type": "execute_result"
    },
    {
     "data": {
      "image/png": "[encoded data removed]",
      "text/plain": [
       "<Figure size 1665.5x500 with 3 Axes>"
      ]
     },
     "metadata": {},
     "output_type": "display_data"
    }
   ],
   "source": [
    "sns.displot(x='duration',\n",
    "            col='condition',\n",
    "            hue='condition',\n",
    "            log_scale=(True, False),\n",
    "            #rug=True,\n",
    "            data=df_long)#.sample(frac=0.5))\n"
   ]
  },
  {
   "cell_type": "code",
   "execution_count": 99,
   "id": "fa260d53-c40d-4f15-821a-acf8264da84d",
   "metadata": {},
   "outputs": [
    {
     "data": {
      "image/png": "[encoded data removed]",
      "text/plain": [
       "<Figure size 465.5x300 with 1 Axes>"
      ]
     },
     "metadata": {},
     "output_type": "display_data"
    }
   ],
   "source": [
    "sns.displot(x='duration',\n",
    "            #col='condition',\n",
    "            hue='condition',\n",
    "            log_scale=(False, False),\n",
    "            #stat='percent',\n",
    "            kind='kde',\n",
    "            common_norm=False,\n",
    "            #rug=True,\n",
    "            height=3,\n",
    "            aspect=1,\n",
    "            data=df_long)\n",
    "plt.xlabel('Time between hops (fs)')\n",
    "plt.savefig('durations.png', bbox_inches='tight', dpi=500)\n",
    "plt.show()"
   ]
  },
  {
   "cell_type": "code",
   "execution_count": 95,
   "id": "d83588f4-013b-4b7e-af3e-30406ba0e545",
   "metadata": {},
   "outputs": [
    {
     "data": {
      "text/html": [
       "<div>\n",
       "<style scoped>\n",
       "    .dataframe tbody tr th:only-of-type {\n",
       "        vertical-align: middle;\n",
       "    }\n",
       "\n",
       "    .dataframe tbody tr th {\n",
       "        vertical-align: top;\n",
       "    }\n",
       "\n",
       "    .dataframe thead th {\n",
       "        text-align: right;\n",
       "    }\n",
       "</style>\n",
       "<table border=\"1\" class=\"dataframe\">\n",
       "  <thead>\n",
       "    <tr style=\"text-align: right;\">\n",
       "      <th></th>\n",
       "      <th>condition</th>\n",
       "      <th>duration</th>\n",
       "      <th>nunique</th>\n",
       "    </tr>\n",
       "  </thead>\n",
       "  <tbody>\n",
       "    <tr>\n",
       "      <th>0</th>\n",
       "      <td>Proxima</td>\n",
       "      <td>34</td>\n",
       "      <td>[107, 110, 122, 97, 76, 123, 101, 102, 100, 116]</td>\n",
       "    </tr>\n",
       "    <tr>\n",
       "      <th>0</th>\n",
       "      <td>Proxima</td>\n",
       "      <td>1053</td>\n",
       "      <td>[107, 110, 122, 97, 76, 123, 101, 102, 100, 116]</td>\n",
       "    </tr>\n",
       "    <tr>\n",
       "      <th>0</th>\n",
       "      <td>Proxima</td>\n",
       "      <td>35</td>\n",
       "      <td>[107, 110, 122, 97, 76, 123, 101, 102, 100, 116]</td>\n",
       "    </tr>\n",
       "    <tr>\n",
       "      <th>0</th>\n",
       "      <td>Proxima</td>\n",
       "      <td>365</td>\n",
       "      <td>[107, 110, 122, 97, 76, 123, 101, 102, 100, 116]</td>\n",
       "    </tr>\n",
       "    <tr>\n",
       "      <th>0</th>\n",
       "      <td>Proxima</td>\n",
       "      <td>53</td>\n",
       "      <td>[107, 110, 122, 97, 76, 123, 101, 102, 100, 116]</td>\n",
       "    </tr>\n",
       "    <tr>\n",
       "      <th>...</th>\n",
       "      <td>...</td>\n",
       "      <td>...</td>\n",
       "      <td>...</td>\n",
       "    </tr>\n",
       "    <tr>\n",
       "      <th>2</th>\n",
       "      <td>DFT-only</td>\n",
       "      <td>44</td>\n",
       "      <td>[62, 39, 44, 41, 37, 37, 42, 37, 54, 69]</td>\n",
       "    </tr>\n",
       "    <tr>\n",
       "      <th>2</th>\n",
       "      <td>DFT-only</td>\n",
       "      <td>769</td>\n",
       "      <td>[62, 39, 44, 41, 37, 37, 42, 37, 54, 69]</td>\n",
       "    </tr>\n",
       "    <tr>\n",
       "      <th>2</th>\n",
       "      <td>DFT-only</td>\n",
       "      <td>40</td>\n",
       "      <td>[62, 39, 44, 41, 37, 37, 42, 37, 54, 69]</td>\n",
       "    </tr>\n",
       "    <tr>\n",
       "      <th>2</th>\n",
       "      <td>DFT-only</td>\n",
       "      <td>381</td>\n",
       "      <td>[62, 39, 44, 41, 37, 37, 42, 37, 54, 69]</td>\n",
       "    </tr>\n",
       "    <tr>\n",
       "      <th>2</th>\n",
       "      <td>DFT-only</td>\n",
       "      <td>60</td>\n",
       "      <td>[62, 39, 44, 41, 37, 37, 42, 37, 54, 69]</td>\n",
       "    </tr>\n",
       "  </tbody>\n",
       "</table>\n",
       "<p>4093 rows × 3 columns</p>\n",
       "</div>"
      ],
      "text/plain": [
       "   condition duration                                           nunique\n",
       "0    Proxima       34  [107, 110, 122, 97, 76, 123, 101, 102, 100, 116]\n",
       "0    Proxima     1053  [107, 110, 122, 97, 76, 123, 101, 102, 100, 116]\n",
       "0    Proxima       35  [107, 110, 122, 97, 76, 123, 101, 102, 100, 116]\n",
       "0    Proxima      365  [107, 110, 122, 97, 76, 123, 101, 102, 100, 116]\n",
       "0    Proxima       53  [107, 110, 122, 97, 76, 123, 101, 102, 100, 116]\n",
       "..       ...      ...                                               ...\n",
       "2   DFT-only       44          [62, 39, 44, 41, 37, 37, 42, 37, 54, 69]\n",
       "2   DFT-only      769          [62, 39, 44, 41, 37, 37, 42, 37, 54, 69]\n",
       "2   DFT-only       40          [62, 39, 44, 41, 37, 37, 42, 37, 54, 69]\n",
       "2   DFT-only      381          [62, 39, 44, 41, 37, 37, 42, 37, 54, 69]\n",
       "2   DFT-only       60          [62, 39, 44, 41, 37, 37, 42, 37, 54, 69]\n",
       "\n",
       "[4093 rows x 3 columns]"
      ]
     },
     "execution_count": 95,
     "metadata": {},
     "output_type": "execute_result"
    }
   ],
   "source": [
    "df_long"
   ]
  },
  {
   "cell_type": "code",
   "execution_count": 96,
   "id": "3fe3eb73-64d4-4070-a111-4df424020ec8",
   "metadata": {},
   "outputs": [],
   "source": [
    "df_long['rate'] = 1/df_long['duration']"
   ]
  },
  {
   "cell_type": "code",
   "execution_count": 97,
   "id": "9cba95f8-27a7-463f-b655-5679d4950d79",
   "metadata": {},
   "outputs": [
    {
     "data": {
      "text/plain": [
       "<seaborn.axisgrid.FacetGrid at 0x784f84319890>"
      ]
     },
     "execution_count": 97,
     "metadata": {},
     "output_type": "execute_result"
    },
    {
     "data": {
      "image/png": "[encoded data removed]",
      "text/plain": [
       "<Figure size 665.5x500 with 1 Axes>"
      ]
     },
     "metadata": {},
     "output_type": "display_data"
    }
   ],
   "source": [
    "sns.displot(x='rate', \n",
    "            hue='condition',\n",
    "            log_scale=(True, False),\n",
    "            data=df_long)"
   ]
  },
  {
   "cell_type": "code",
   "execution_count": 98,
   "id": "81900171-e599-4867-b9f1-37b193bdabb9",
   "metadata": {},
   "outputs": [
    {
     "data": {
      "text/html": [
       "<div>\n",
       "<style scoped>\n",
       "    .dataframe tbody tr th:only-of-type {\n",
       "        vertical-align: middle;\n",
       "    }\n",
       "\n",
       "    .dataframe tbody tr th {\n",
       "        vertical-align: top;\n",
       "    }\n",
       "\n",
       "    .dataframe thead th {\n",
       "        text-align: right;\n",
       "    }\n",
       "</style>\n",
       "<table border=\"1\" class=\"dataframe\">\n",
       "  <thead>\n",
       "    <tr style=\"text-align: right;\">\n",
       "      <th></th>\n",
       "      <th>condition</th>\n",
       "      <th>duration</th>\n",
       "      <th>nunique</th>\n",
       "      <th>rate</th>\n",
       "    </tr>\n",
       "  </thead>\n",
       "  <tbody>\n",
       "    <tr>\n",
       "      <th>0</th>\n",
       "      <td>Proxima</td>\n",
       "      <td>34</td>\n",
       "      <td>[107, 110, 122, 97, 76, 123, 101, 102, 100, 116]</td>\n",
       "      <td>0.029412</td>\n",
       "    </tr>\n",
       "    <tr>\n",
       "      <th>0</th>\n",
       "      <td>Proxima</td>\n",
       "      <td>1053</td>\n",
       "      <td>[107, 110, 122, 97, 76, 123, 101, 102, 100, 116]</td>\n",
       "      <td>0.00095</td>\n",
       "    </tr>\n",
       "    <tr>\n",
       "      <th>0</th>\n",
       "      <td>Proxima</td>\n",
       "      <td>35</td>\n",
       "      <td>[107, 110, 122, 97, 76, 123, 101, 102, 100, 116]</td>\n",
       "      <td>0.028571</td>\n",
       "    </tr>\n",
       "    <tr>\n",
       "      <th>0</th>\n",
       "      <td>Proxima</td>\n",
       "      <td>365</td>\n",
       "      <td>[107, 110, 122, 97, 76, 123, 101, 102, 100, 116]</td>\n",
       "      <td>0.00274</td>\n",
       "    </tr>\n",
       "    <tr>\n",
       "      <th>0</th>\n",
       "      <td>Proxima</td>\n",
       "      <td>53</td>\n",
       "      <td>[107, 110, 122, 97, 76, 123, 101, 102, 100, 116]</td>\n",
       "      <td>0.018868</td>\n",
       "    </tr>\n",
       "    <tr>\n",
       "      <th>...</th>\n",
       "      <td>...</td>\n",
       "      <td>...</td>\n",
       "      <td>...</td>\n",
       "      <td>...</td>\n",
       "    </tr>\n",
       "    <tr>\n",
       "      <th>2</th>\n",
       "      <td>DFT-only</td>\n",
       "      <td>44</td>\n",
       "      <td>[62, 39, 44, 41, 37, 37, 42, 37, 54, 69]</td>\n",
       "      <td>0.022727</td>\n",
       "    </tr>\n",
       "    <tr>\n",
       "      <th>2</th>\n",
       "      <td>DFT-only</td>\n",
       "      <td>769</td>\n",
       "      <td>[62, 39, 44, 41, 37, 37, 42, 37, 54, 69]</td>\n",
       "      <td>0.0013</td>\n",
       "    </tr>\n",
       "    <tr>\n",
       "      <th>2</th>\n",
       "      <td>DFT-only</td>\n",
       "      <td>40</td>\n",
       "      <td>[62, 39, 44, 41, 37, 37, 42, 37, 54, 69]</td>\n",
       "      <td>0.025</td>\n",
       "    </tr>\n",
       "    <tr>\n",
       "      <th>2</th>\n",
       "      <td>DFT-only</td>\n",
       "      <td>381</td>\n",
       "      <td>[62, 39, 44, 41, 37, 37, 42, 37, 54, 69]</td>\n",
       "      <td>0.002625</td>\n",
       "    </tr>\n",
       "    <tr>\n",
       "      <th>2</th>\n",
       "      <td>DFT-only</td>\n",
       "      <td>60</td>\n",
       "      <td>[62, 39, 44, 41, 37, 37, 42, 37, 54, 69]</td>\n",
       "      <td>0.016667</td>\n",
       "    </tr>\n",
       "  </tbody>\n",
       "</table>\n",
       "<p>4093 rows × 4 columns</p>\n",
       "</div>"
      ],
      "text/plain": [
       "   condition duration                                           nunique      rate\n",
       "0    Proxima       34  [107, 110, 122, 97, 76, 123, 101, 102, 100, 116]  0.029412\n",
       "0    Proxima     1053  [107, 110, 122, 97, 76, 123, 101, 102, 100, 116]   0.00095\n",
       "0    Proxima       35  [107, 110, 122, 97, 76, 123, 101, 102, 100, 116]  0.028571\n",
       "0    Proxima      365  [107, 110, 122, 97, 76, 123, 101, 102, 100, 116]   0.00274\n",
       "0    Proxima       53  [107, 110, 122, 97, 76, 123, 101, 102, 100, 116]  0.018868\n",
       "..       ...      ...                                               ...       ...\n",
       "2   DFT-only       44          [62, 39, 44, 41, 37, 37, 42, 37, 54, 69]  0.022727\n",
       "2   DFT-only      769          [62, 39, 44, 41, 37, 37, 42, 37, 54, 69]    0.0013\n",
       "2   DFT-only       40          [62, 39, 44, 41, 37, 37, 42, 37, 54, 69]     0.025\n",
       "2   DFT-only      381          [62, 39, 44, 41, 37, 37, 42, 37, 54, 69]  0.002625\n",
       "2   DFT-only       60          [62, 39, 44, 41, 37, 37, 42, 37, 54, 69]  0.016667\n",
       "\n",
       "[4093 rows x 4 columns]"
      ]
     },
     "execution_count": 98,
     "metadata": {},
     "output_type": "execute_result"
    }
   ],
   "source": [
    "df_long"
   ]
  },
  {
   "cell_type": "markdown",
   "id": "22c2f91f-6918-46b7-bbe9-096651bc268c",
   "metadata": {},
   "source": [
    "## Make the table"
   ]
  },
  {
   "cell_type": "code",
   "execution_count": 55,
   "id": "100cff32-a156-4f33-b832-9bba7a4e6bc6",
   "metadata": {},
   "outputs": [
    {
     "data": {
      "text/plain": [
       "condition\n",
       "DFT-only                         372.740097\n",
       "Proxima                          197.685354\n",
       "Proxima + blend                  357.569573\n",
       "Proxima + blend (high target)    793.562500\n",
       "Name: duration, dtype: float64"
      ]
     },
     "execution_count": 55,
     "metadata": {},
     "output_type": "execute_result"
    }
   ],
   "source": [
    "means = df_long.groupby('condition')['duration'].mean().astype(float)#.reset_index()\n",
    "means"
   ]
  },
  {
   "cell_type": "code",
   "execution_count": 56,
   "id": "9c7fb6ad-e462-41a0-b65c-6ec41fe3cfba",
   "metadata": {},
   "outputs": [
    {
     "data": {
      "text/plain": [
       "condition\n",
       "DFT-only                         0.002683\n",
       "Proxima                          0.005059\n",
       "Proxima + blend                  0.002797\n",
       "Proxima + blend (high target)    0.001260\n",
       "Name: duration, dtype: float64"
      ]
     },
     "execution_count": 56,
     "metadata": {},
     "output_type": "execute_result"
    }
   ],
   "source": [
    "rates = 1/means\n",
    "rates"
   ]
  },
  {
   "cell_type": "code",
   "execution_count": 57,
   "id": "a3acb8dc-79f7-40a8-8b80-eb7a0212ef5f",
   "metadata": {},
   "outputs": [
    {
     "data": {
      "text/plain": [
       "condition\n",
       "DFT-only                          11.586064\n",
       "Proxima                            4.442648\n",
       "Proxima + blend                   10.890584\n",
       "Proxima + blend (high target)    198.390625\n",
       "Name: duration, dtype: float64"
      ]
     },
     "execution_count": 57,
     "metadata": {},
     "output_type": "execute_result"
    }
   ],
   "source": [
    "se_means = means / np.sqrt(df_long.query('condition != \"Proxima (bad params)\"').groupby('condition')['duration'].size())\n",
    "se_means "
   ]
  },
  {
   "cell_type": "code",
   "execution_count": 58,
   "id": "a467ea6d-d15b-4a98-96ee-d602908f8435",
   "metadata": {},
   "outputs": [],
   "source": [
    "se_rates = rates * (se_means / means) # check with logan that I did this UQ propagation correctly"
   ]
  },
  {
   "cell_type": "code",
   "execution_count": 59,
   "id": "6fd0d31c-6598-4efb-8f86-f35afb3f4396",
   "metadata": {},
   "outputs": [
    {
     "data": {
      "text/html": [
       "<div>\n",
       "<style scoped>\n",
       "    .dataframe tbody tr th:only-of-type {\n",
       "        vertical-align: middle;\n",
       "    }\n",
       "\n",
       "    .dataframe tbody tr th {\n",
       "        vertical-align: top;\n",
       "    }\n",
       "\n",
       "    .dataframe thead th {\n",
       "        text-align: right;\n",
       "    }\n",
       "</style>\n",
       "<table border=\"1\" class=\"dataframe\">\n",
       "  <thead>\n",
       "    <tr style=\"text-align: right;\">\n",
       "      <th></th>\n",
       "      <th>rate</th>\n",
       "      <th>se</th>\n",
       "    </tr>\n",
       "    <tr>\n",
       "      <th>condition</th>\n",
       "      <th></th>\n",
       "      <th></th>\n",
       "    </tr>\n",
       "  </thead>\n",
       "  <tbody>\n",
       "    <tr>\n",
       "      <th>DFT-only</th>\n",
       "      <td>2.682835</td>\n",
       "      <td>0.083392</td>\n",
       "    </tr>\n",
       "    <tr>\n",
       "      <th>Proxima</th>\n",
       "      <td>5.058544</td>\n",
       "      <td>0.113682</td>\n",
       "    </tr>\n",
       "    <tr>\n",
       "      <th>Proxima + blend</th>\n",
       "      <td>2.796659</td>\n",
       "      <td>0.085179</td>\n",
       "    </tr>\n",
       "    <tr>\n",
       "      <th>Proxima + blend (high target)</th>\n",
       "      <td>1.260140</td>\n",
       "      <td>0.315035</td>\n",
       "    </tr>\n",
       "  </tbody>\n",
       "</table>\n",
       "</div>"
      ],
      "text/plain": [
       "                                   rate        se\n",
       "condition                                        \n",
       "DFT-only                       2.682835  0.083392\n",
       "Proxima                        5.058544  0.113682\n",
       "Proxima + blend                2.796659  0.085179\n",
       "Proxima + blend (high target)  1.260140  0.315035"
      ]
     },
     "execution_count": 59,
     "metadata": {},
     "output_type": "execute_result"
    }
   ],
   "source": [
    "table = pd.DataFrame({'rate': rates, 'se': se_rates})\n",
    "table *= 1000 # Convert to THz (1/ps) (we had 1/fs = PHz)\n",
    "table"
   ]
  },
  {
   "cell_type": "code",
   "execution_count": 60,
   "id": "4938964f-3271-4ceb-a117-49008ae1669f",
   "metadata": {},
   "outputs": [
    {
     "name": "stdout",
     "output_type": "stream",
     "text": [
      "\\begin{tabular}{lrr}\n",
      "\\toprule\n",
      " & rate & se \\\\\n",
      "condition &  &  \\\\\n",
      "\\midrule\n",
      "DFT-only & 2.682835 & 0.083392 \\\\\n",
      "Proxima & 5.058544 & 0.113682 \\\\\n",
      "Proxima + blend & 2.796659 & 0.085179 \\\\\n",
      "Proxima + blend (high target) & 1.260140 & 0.315035 \\\\\n",
      "\\bottomrule\n",
      "\\end{tabular}\n",
      "\n"
     ]
    }
   ],
   "source": [
    "print(table.to_latex())"
   ]
  },
  {
   "cell_type": "code",
   "execution_count": 61,
   "id": "925b3f12-535d-485a-99db-c152fcda38c8",
   "metadata": {},
   "outputs": [],
   "source": [
    "import statsmodels.api as sm\n",
    "import statsmodels.formula.api as smf"
   ]
  },
  {
   "cell_type": "code",
   "execution_count": 62,
   "id": "c4f2d7fb-f354-4a14-a536-81ace70c85f8",
   "metadata": {},
   "outputs": [
    {
     "data": {
      "text/html": [
       "<div>\n",
       "<style scoped>\n",
       "    .dataframe tbody tr th:only-of-type {\n",
       "        vertical-align: middle;\n",
       "    }\n",
       "\n",
       "    .dataframe tbody tr th {\n",
       "        vertical-align: top;\n",
       "    }\n",
       "\n",
       "    .dataframe thead th {\n",
       "        text-align: right;\n",
       "    }\n",
       "</style>\n",
       "<table border=\"1\" class=\"dataframe\">\n",
       "  <thead>\n",
       "    <tr style=\"text-align: right;\">\n",
       "      <th></th>\n",
       "      <th>condition</th>\n",
       "      <th>duration</th>\n",
       "      <th>nunique</th>\n",
       "      <th>rate</th>\n",
       "    </tr>\n",
       "  </thead>\n",
       "  <tbody>\n",
       "    <tr>\n",
       "      <th>0</th>\n",
       "      <td>Proxima</td>\n",
       "      <td>34</td>\n",
       "      <td>[107, 110, 122, 97, 76, 123, 101, 102, 100, 116]</td>\n",
       "      <td>0.029412</td>\n",
       "    </tr>\n",
       "    <tr>\n",
       "      <th>0</th>\n",
       "      <td>Proxima</td>\n",
       "      <td>1053</td>\n",
       "      <td>[107, 110, 122, 97, 76, 123, 101, 102, 100, 116]</td>\n",
       "      <td>0.00095</td>\n",
       "    </tr>\n",
       "    <tr>\n",
       "      <th>0</th>\n",
       "      <td>Proxima</td>\n",
       "      <td>35</td>\n",
       "      <td>[107, 110, 122, 97, 76, 123, 101, 102, 100, 116]</td>\n",
       "      <td>0.028571</td>\n",
       "    </tr>\n",
       "    <tr>\n",
       "      <th>0</th>\n",
       "      <td>Proxima</td>\n",
       "      <td>365</td>\n",
       "      <td>[107, 110, 122, 97, 76, 123, 101, 102, 100, 116]</td>\n",
       "      <td>0.00274</td>\n",
       "    </tr>\n",
       "    <tr>\n",
       "      <th>0</th>\n",
       "      <td>Proxima</td>\n",
       "      <td>53</td>\n",
       "      <td>[107, 110, 122, 97, 76, 123, 101, 102, 100, 116]</td>\n",
       "      <td>0.018868</td>\n",
       "    </tr>\n",
       "    <tr>\n",
       "      <th>...</th>\n",
       "      <td>...</td>\n",
       "      <td>...</td>\n",
       "      <td>...</td>\n",
       "      <td>...</td>\n",
       "    </tr>\n",
       "    <tr>\n",
       "      <th>3</th>\n",
       "      <td>DFT-only</td>\n",
       "      <td>44</td>\n",
       "      <td>[62, 39, 44, 41, 37, 37, 42, 37, 54, 69]</td>\n",
       "      <td>0.022727</td>\n",
       "    </tr>\n",
       "    <tr>\n",
       "      <th>3</th>\n",
       "      <td>DFT-only</td>\n",
       "      <td>769</td>\n",
       "      <td>[62, 39, 44, 41, 37, 37, 42, 37, 54, 69]</td>\n",
       "      <td>0.0013</td>\n",
       "    </tr>\n",
       "    <tr>\n",
       "      <th>3</th>\n",
       "      <td>DFT-only</td>\n",
       "      <td>40</td>\n",
       "      <td>[62, 39, 44, 41, 37, 37, 42, 37, 54, 69]</td>\n",
       "      <td>0.025</td>\n",
       "    </tr>\n",
       "    <tr>\n",
       "      <th>3</th>\n",
       "      <td>DFT-only</td>\n",
       "      <td>381</td>\n",
       "      <td>[62, 39, 44, 41, 37, 37, 42, 37, 54, 69]</td>\n",
       "      <td>0.002625</td>\n",
       "    </tr>\n",
       "    <tr>\n",
       "      <th>3</th>\n",
       "      <td>DFT-only</td>\n",
       "      <td>60</td>\n",
       "      <td>[62, 39, 44, 41, 37, 37, 42, 37, 54, 69]</td>\n",
       "      <td>0.016667</td>\n",
       "    </tr>\n",
       "  </tbody>\n",
       "</table>\n",
       "<p>4109 rows × 4 columns</p>\n",
       "</div>"
      ],
      "text/plain": [
       "   condition duration                                           nunique      rate\n",
       "0    Proxima       34  [107, 110, 122, 97, 76, 123, 101, 102, 100, 116]  0.029412\n",
       "0    Proxima     1053  [107, 110, 122, 97, 76, 123, 101, 102, 100, 116]   0.00095\n",
       "0    Proxima       35  [107, 110, 122, 97, 76, 123, 101, 102, 100, 116]  0.028571\n",
       "0    Proxima      365  [107, 110, 122, 97, 76, 123, 101, 102, 100, 116]   0.00274\n",
       "0    Proxima       53  [107, 110, 122, 97, 76, 123, 101, 102, 100, 116]  0.018868\n",
       "..       ...      ...                                               ...       ...\n",
       "3   DFT-only       44          [62, 39, 44, 41, 37, 37, 42, 37, 54, 69]  0.022727\n",
       "3   DFT-only      769          [62, 39, 44, 41, 37, 37, 42, 37, 54, 69]    0.0013\n",
       "3   DFT-only       40          [62, 39, 44, 41, 37, 37, 42, 37, 54, 69]     0.025\n",
       "3   DFT-only      381          [62, 39, 44, 41, 37, 37, 42, 37, 54, 69]  0.002625\n",
       "3   DFT-only       60          [62, 39, 44, 41, 37, 37, 42, 37, 54, 69]  0.016667\n",
       "\n",
       "[4109 rows x 4 columns]"
      ]
     },
     "execution_count": 62,
     "metadata": {},
     "output_type": "execute_result"
    }
   ],
   "source": [
    "df_long"
   ]
  },
  {
   "cell_type": "code",
   "execution_count": 63,
   "id": "8668ef81-0a8c-4364-b062-1d90b7267b0f",
   "metadata": {},
   "outputs": [],
   "source": [
    "df_long['duration'] = df_long['duration'].astype(int)"
   ]
  },
  {
   "cell_type": "code",
   "execution_count": 64,
   "id": "3bfb6ff1-168d-4cf1-b7d8-ae6bbb179592",
   "metadata": {},
   "outputs": [],
   "source": [
    "df_long['condition'] = pd.Categorical(df_long['condition'])"
   ]
  },
  {
   "cell_type": "code",
   "execution_count": 65,
   "id": "5c54946c-3bad-4775-98a0-5367c51ed15b",
   "metadata": {},
   "outputs": [],
   "source": [
    "formula = 'duration ~ C(condition)'"
   ]
  },
  {
   "cell_type": "code",
   "execution_count": 66,
   "id": "3d4772b3-cf2d-454e-bf47-c57e7c64036a",
   "metadata": {},
   "outputs": [
    {
     "name": "stdout",
     "output_type": "stream",
     "text": [
      "                 Generalized Linear Model Regression Results                  \n",
      "==============================================================================\n",
      "Dep. Variable:               duration   No. Observations:                 4109\n",
      "Model:                            GLM   Df Residuals:                     4105\n",
      "Model Family:                 Poisson   Df Model:                            3\n",
      "Link Function:                    Log   Scale:                          1.0000\n",
      "Method:                          IRLS   Log-Likelihood:            -1.0336e+06\n",
      "Date:                Thu, 01 May 2025   Deviance:                   2.0406e+06\n",
      "Time:                        17:56:31   Pearson chi2:                 3.33e+06\n",
      "No. Iterations:                     6   Pseudo R-squ. (CS):              1.000\n",
      "Covariance Type:            nonrobust                                         \n",
      "=================================================================================================================\n",
      "                                                    coef    std err          z      P>|z|      [0.025      0.975]\n",
      "-----------------------------------------------------------------------------------------------------------------\n",
      "Intercept                                         5.9209      0.002   3677.559      0.000       5.918       5.924\n",
      "C(condition)[T.Proxima]                          -0.6342      0.002   -279.547      0.000      -0.639      -0.630\n",
      "C(condition)[T.Proxima + blend]                  -0.0416      0.002    -18.245      0.000      -0.046      -0.037\n",
      "C(condition)[T.Proxima + blend (high target)]     0.7557      0.009     83.780      0.000       0.738       0.773\n",
      "=================================================================================================================\n"
     ]
    }
   ],
   "source": [
    "mod1 = smf.glm(formula=formula, data=df_long, family=sm.families.Poisson()).fit()\n",
    "print(mod1.summary())"
   ]
  },
  {
   "cell_type": "code",
   "execution_count": null,
   "id": "54f19f36-121e-4673-97f1-dd397e3d3c22",
   "metadata": {},
   "outputs": [],
   "source": []
  },
  {
   "cell_type": "code",
   "execution_count": 67,
   "id": "2830afc3-7c85-4c39-95ad-8a8fd572a776",
   "metadata": {
    "scrolled": true
   },
   "outputs": [
    {
     "data": {
      "text/plain": [
       "<seaborn.axisgrid.FacetGrid at 0x784f9c6f2ad0>"
      ]
     },
     "execution_count": 67,
     "metadata": {},
     "output_type": "execute_result"
    },
    {
     "data": {
      "image/png": "[encoded data removed]",
      "text/plain": [
       "<Figure size 757.875x500 with 1 Axes>"
      ]
     },
     "metadata": {},
     "output_type": "display_data"
    }
   ],
   "source": [
    "sns.displot(x='duration',\n",
    "            #col='condition',\n",
    "            hue='condition',\n",
    "            log_scale=(False, False),\n",
    "            #rug=True,\n",
    "            common_norm=False,\n",
    "            kind='kde',\n",
    "            data=df_long.query('condition != \"Proxima (bad params)\"'))\n"
   ]
  },
  {
   "cell_type": "code",
   "execution_count": 68,
   "id": "aa10c1f0-bf17-4bd2-825d-9705098be957",
   "metadata": {},
   "outputs": [
    {
     "data": {
      "text/plain": [
       "<Axes: xlabel='duration'>"
      ]
     },
     "execution_count": 68,
     "metadata": {},
     "output_type": "execute_result"
    },
    {
     "data": {
      "image/png": "[encoded data removed]",
      "text/plain": [
       "<Figure size 640x480 with 1 Axes>"
      ]
     },
     "metadata": {},
     "output_type": "display_data"
    }
   ],
   "source": [
    "sns.boxplot(x='duration',\n",
    "            #col='condition',\n",
    "            hue='condition',\n",
    "            log_scale=(False, False),\n",
    "            #rug=True,\n",
    "            #common_norm=False,\n",
    "            #kind='kde',\n",
    "            data=df_long.query('condition != \"Proxima (bad params)\"'))\n"
   ]
  },
  {
   "cell_type": "code",
   "execution_count": 69,
   "id": "a802f53c-a30a-4a05-a64c-38dbb4ca8fc2",
   "metadata": {
    "scrolled": true
   },
   "outputs": [
    {
     "data": {
      "text/html": [
       "<div>\n",
       "<style scoped>\n",
       "    .dataframe tbody tr th:only-of-type {\n",
       "        vertical-align: middle;\n",
       "    }\n",
       "\n",
       "    .dataframe tbody tr th {\n",
       "        vertical-align: top;\n",
       "    }\n",
       "\n",
       "    .dataframe thead th {\n",
       "        text-align: right;\n",
       "    }\n",
       "</style>\n",
       "<table border=\"1\" class=\"dataframe\">\n",
       "  <thead>\n",
       "    <tr style=\"text-align: right;\">\n",
       "      <th></th>\n",
       "      <th>condition</th>\n",
       "      <th>duration</th>\n",
       "      <th>nunique</th>\n",
       "      <th>rate</th>\n",
       "    </tr>\n",
       "  </thead>\n",
       "  <tbody>\n",
       "    <tr>\n",
       "      <th>0</th>\n",
       "      <td>Proxima</td>\n",
       "      <td>34</td>\n",
       "      <td>[107, 110, 122, 97, 76, 123, 101, 102, 100, 116]</td>\n",
       "      <td>0.029412</td>\n",
       "    </tr>\n",
       "    <tr>\n",
       "      <th>0</th>\n",
       "      <td>Proxima</td>\n",
       "      <td>1053</td>\n",
       "      <td>[107, 110, 122, 97, 76, 123, 101, 102, 100, 116]</td>\n",
       "      <td>0.00095</td>\n",
       "    </tr>\n",
       "    <tr>\n",
       "      <th>0</th>\n",
       "      <td>Proxima</td>\n",
       "      <td>35</td>\n",
       "      <td>[107, 110, 122, 97, 76, 123, 101, 102, 100, 116]</td>\n",
       "      <td>0.028571</td>\n",
       "    </tr>\n",
       "    <tr>\n",
       "      <th>0</th>\n",
       "      <td>Proxima</td>\n",
       "      <td>365</td>\n",
       "      <td>[107, 110, 122, 97, 76, 123, 101, 102, 100, 116]</td>\n",
       "      <td>0.00274</td>\n",
       "    </tr>\n",
       "    <tr>\n",
       "      <th>0</th>\n",
       "      <td>Proxima</td>\n",
       "      <td>53</td>\n",
       "      <td>[107, 110, 122, 97, 76, 123, 101, 102, 100, 116]</td>\n",
       "      <td>0.018868</td>\n",
       "    </tr>\n",
       "    <tr>\n",
       "      <th>...</th>\n",
       "      <td>...</td>\n",
       "      <td>...</td>\n",
       "      <td>...</td>\n",
       "      <td>...</td>\n",
       "    </tr>\n",
       "    <tr>\n",
       "      <th>3</th>\n",
       "      <td>DFT-only</td>\n",
       "      <td>44</td>\n",
       "      <td>[62, 39, 44, 41, 37, 37, 42, 37, 54, 69]</td>\n",
       "      <td>0.022727</td>\n",
       "    </tr>\n",
       "    <tr>\n",
       "      <th>3</th>\n",
       "      <td>DFT-only</td>\n",
       "      <td>769</td>\n",
       "      <td>[62, 39, 44, 41, 37, 37, 42, 37, 54, 69]</td>\n",
       "      <td>0.0013</td>\n",
       "    </tr>\n",
       "    <tr>\n",
       "      <th>3</th>\n",
       "      <td>DFT-only</td>\n",
       "      <td>40</td>\n",
       "      <td>[62, 39, 44, 41, 37, 37, 42, 37, 54, 69]</td>\n",
       "      <td>0.025</td>\n",
       "    </tr>\n",
       "    <tr>\n",
       "      <th>3</th>\n",
       "      <td>DFT-only</td>\n",
       "      <td>381</td>\n",
       "      <td>[62, 39, 44, 41, 37, 37, 42, 37, 54, 69]</td>\n",
       "      <td>0.002625</td>\n",
       "    </tr>\n",
       "    <tr>\n",
       "      <th>3</th>\n",
       "      <td>DFT-only</td>\n",
       "      <td>60</td>\n",
       "      <td>[62, 39, 44, 41, 37, 37, 42, 37, 54, 69]</td>\n",
       "      <td>0.016667</td>\n",
       "    </tr>\n",
       "  </tbody>\n",
       "</table>\n",
       "<p>4109 rows × 4 columns</p>\n",
       "</div>"
      ],
      "text/plain": [
       "   condition  duration                                           nunique      rate\n",
       "0    Proxima        34  [107, 110, 122, 97, 76, 123, 101, 102, 100, 116]  0.029412\n",
       "0    Proxima      1053  [107, 110, 122, 97, 76, 123, 101, 102, 100, 116]   0.00095\n",
       "0    Proxima        35  [107, 110, 122, 97, 76, 123, 101, 102, 100, 116]  0.028571\n",
       "0    Proxima       365  [107, 110, 122, 97, 76, 123, 101, 102, 100, 116]   0.00274\n",
       "0    Proxima        53  [107, 110, 122, 97, 76, 123, 101, 102, 100, 116]  0.018868\n",
       "..       ...       ...                                               ...       ...\n",
       "3   DFT-only        44          [62, 39, 44, 41, 37, 37, 42, 37, 54, 69]  0.022727\n",
       "3   DFT-only       769          [62, 39, 44, 41, 37, 37, 42, 37, 54, 69]    0.0013\n",
       "3   DFT-only        40          [62, 39, 44, 41, 37, 37, 42, 37, 54, 69]     0.025\n",
       "3   DFT-only       381          [62, 39, 44, 41, 37, 37, 42, 37, 54, 69]  0.002625\n",
       "3   DFT-only        60          [62, 39, 44, 41, 37, 37, 42, 37, 54, 69]  0.016667\n",
       "\n",
       "[4109 rows x 4 columns]"
      ]
     },
     "execution_count": 69,
     "metadata": {},
     "output_type": "execute_result"
    }
   ],
   "source": [
    "df_long"
   ]
  },
  {
   "cell_type": "code",
   "execution_count": 70,
   "id": "e17556d4-6877-4626-9ffe-100c9b2a2d00",
   "metadata": {},
   "outputs": [],
   "source": [
    "df_long = new_df.explode('nunique')"
   ]
  },
  {
   "cell_type": "code",
   "execution_count": 71,
   "id": "0ede9282-3b99-4e0e-bf35-7b14e5d4a237",
   "metadata": {},
   "outputs": [
    {
     "data": {
      "text/plain": [
       "<Axes: xlabel='condition', ylabel='nunique'>"
      ]
     },
     "execution_count": 71,
     "metadata": {},
     "output_type": "execute_result"
    },
    {
     "data": {
      "image/png": "[encoded data removed]",
      "text/plain": [
       "<Figure size 640x480 with 1 Axes>"
      ]
     },
     "metadata": {},
     "output_type": "display_data"
    }
   ],
   "source": [
    "sns.boxplot(data=df_long,x='condition', hue='condition', y='nunique')"
   ]
  },
  {
   "cell_type": "code",
   "execution_count": 72,
   "id": "0a896e7f-c441-4996-b8d9-42d8f483c5c8",
   "metadata": {},
   "outputs": [
    {
     "data": {
      "text/plain": [
       "<Axes: xlabel='condition', ylabel='nunique'>"
      ]
     },
     "execution_count": 72,
     "metadata": {},
     "output_type": "execute_result"
    },
    {
     "data": {
      "image/png": "[encoded data removed]",
      "text/plain": [
       "<Figure size 640x480 with 1 Axes>"
      ]
     },
     "metadata": {},
     "output_type": "display_data"
    }
   ],
   "source": [
    "sns.stripplot(data=df_long,x='condition', hue='condition', y='nunique')"
   ]
  },
  {
   "cell_type": "markdown",
   "id": "2e198286-2f43-426a-9ef2-9c76a21df29c",
   "metadata": {},
   "source": [
    "Another plot we could have: write down the hop rate of each duration. this would make it much more clear that there are very few long hops in proxima and many short hops -- the dynamics are bad. or we can still vote table. \n",
    "\n",
    "the frequency of occurence as the y axis."
   ]
  },
  {
   "cell_type": "code",
   "execution_count": 73,
   "id": "54f9660c-ab5e-409d-8405-31a6a59fe859",
   "metadata": {},
   "outputs": [],
   "source": [
    "hops_bad = np.load('runs/si-vacancy-2x2x2-temp=1573.0-method=lda-blend=10-4065eb7d/hops.npz')\n",
    "durations_bad = hops_bad['durations']\n",
    "nunique_bad = np.unique(hops_bad['nn_all'], axis=0).shape[0]"
   ]
  },
  {
   "cell_type": "code",
   "execution_count": 74,
   "id": "284fbb4f-b513-4fa3-b799-afdab321f9bf",
   "metadata": {},
   "outputs": [
    {
     "data": {
      "text/html": [
       "<div>\n",
       "<style scoped>\n",
       "    .dataframe tbody tr th:only-of-type {\n",
       "        vertical-align: middle;\n",
       "    }\n",
       "\n",
       "    .dataframe tbody tr th {\n",
       "        vertical-align: top;\n",
       "    }\n",
       "\n",
       "    .dataframe thead th {\n",
       "        text-align: right;\n",
       "    }\n",
       "</style>\n",
       "<table border=\"1\" class=\"dataframe\">\n",
       "  <thead>\n",
       "    <tr style=\"text-align: right;\">\n",
       "      <th></th>\n",
       "      <th>condition</th>\n",
       "      <th>duration</th>\n",
       "      <th>nunique</th>\n",
       "    </tr>\n",
       "  </thead>\n",
       "  <tbody>\n",
       "    <tr>\n",
       "      <th>0</th>\n",
       "      <td>Proxima</td>\n",
       "      <td>[34, 1053, 35, 365, 53, 525, 34, 505, 29, 96, ...</td>\n",
       "      <td>107</td>\n",
       "    </tr>\n",
       "    <tr>\n",
       "      <th>0</th>\n",
       "      <td>Proxima</td>\n",
       "      <td>[34, 1053, 35, 365, 53, 525, 34, 505, 29, 96, ...</td>\n",
       "      <td>110</td>\n",
       "    </tr>\n",
       "    <tr>\n",
       "      <th>0</th>\n",
       "      <td>Proxima</td>\n",
       "      <td>[34, 1053, 35, 365, 53, 525, 34, 505, 29, 96, ...</td>\n",
       "      <td>122</td>\n",
       "    </tr>\n",
       "    <tr>\n",
       "      <th>0</th>\n",
       "      <td>Proxima</td>\n",
       "      <td>[34, 1053, 35, 365, 53, 525, 34, 505, 29, 96, ...</td>\n",
       "      <td>97</td>\n",
       "    </tr>\n",
       "    <tr>\n",
       "      <th>0</th>\n",
       "      <td>Proxima</td>\n",
       "      <td>[34, 1053, 35, 365, 53, 525, 34, 505, 29, 96, ...</td>\n",
       "      <td>76</td>\n",
       "    </tr>\n",
       "    <tr>\n",
       "      <th>0</th>\n",
       "      <td>Proxima</td>\n",
       "      <td>[34, 1053, 35, 365, 53, 525, 34, 505, 29, 96, ...</td>\n",
       "      <td>123</td>\n",
       "    </tr>\n",
       "    <tr>\n",
       "      <th>0</th>\n",
       "      <td>Proxima</td>\n",
       "      <td>[34, 1053, 35, 365, 53, 525, 34, 505, 29, 96, ...</td>\n",
       "      <td>101</td>\n",
       "    </tr>\n",
       "    <tr>\n",
       "      <th>0</th>\n",
       "      <td>Proxima</td>\n",
       "      <td>[34, 1053, 35, 365, 53, 525, 34, 505, 29, 96, ...</td>\n",
       "      <td>102</td>\n",
       "    </tr>\n",
       "    <tr>\n",
       "      <th>0</th>\n",
       "      <td>Proxima</td>\n",
       "      <td>[34, 1053, 35, 365, 53, 525, 34, 505, 29, 96, ...</td>\n",
       "      <td>100</td>\n",
       "    </tr>\n",
       "    <tr>\n",
       "      <th>0</th>\n",
       "      <td>Proxima</td>\n",
       "      <td>[34, 1053, 35, 365, 53, 525, 34, 505, 29, 96, ...</td>\n",
       "      <td>116</td>\n",
       "    </tr>\n",
       "    <tr>\n",
       "      <th>1</th>\n",
       "      <td>Proxima + blend</td>\n",
       "      <td>[86, 329, 125, 3934, 40, 907, 32, 387, 8, 19, ...</td>\n",
       "      <td>51</td>\n",
       "    </tr>\n",
       "    <tr>\n",
       "      <th>1</th>\n",
       "      <td>Proxima + blend</td>\n",
       "      <td>[86, 329, 125, 3934, 40, 907, 32, 387, 8, 19, ...</td>\n",
       "      <td>35</td>\n",
       "    </tr>\n",
       "    <tr>\n",
       "      <th>1</th>\n",
       "      <td>Proxima + blend</td>\n",
       "      <td>[86, 329, 125, 3934, 40, 907, 32, 387, 8, 19, ...</td>\n",
       "      <td>65</td>\n",
       "    </tr>\n",
       "    <tr>\n",
       "      <th>1</th>\n",
       "      <td>Proxima + blend</td>\n",
       "      <td>[86, 329, 125, 3934, 40, 907, 32, 387, 8, 19, ...</td>\n",
       "      <td>74</td>\n",
       "    </tr>\n",
       "    <tr>\n",
       "      <th>1</th>\n",
       "      <td>Proxima + blend</td>\n",
       "      <td>[86, 329, 125, 3934, 40, 907, 32, 387, 8, 19, ...</td>\n",
       "      <td>64</td>\n",
       "    </tr>\n",
       "    <tr>\n",
       "      <th>1</th>\n",
       "      <td>Proxima + blend</td>\n",
       "      <td>[86, 329, 125, 3934, 40, 907, 32, 387, 8, 19, ...</td>\n",
       "      <td>52</td>\n",
       "    </tr>\n",
       "    <tr>\n",
       "      <th>1</th>\n",
       "      <td>Proxima + blend</td>\n",
       "      <td>[86, 329, 125, 3934, 40, 907, 32, 387, 8, 19, ...</td>\n",
       "      <td>53</td>\n",
       "    </tr>\n",
       "    <tr>\n",
       "      <th>1</th>\n",
       "      <td>Proxima + blend</td>\n",
       "      <td>[86, 329, 125, 3934, 40, 907, 32, 387, 8, 19, ...</td>\n",
       "      <td>57</td>\n",
       "    </tr>\n",
       "    <tr>\n",
       "      <th>1</th>\n",
       "      <td>Proxima + blend</td>\n",
       "      <td>[86, 329, 125, 3934, 40, 907, 32, 387, 8, 19, ...</td>\n",
       "      <td>44</td>\n",
       "    </tr>\n",
       "    <tr>\n",
       "      <th>1</th>\n",
       "      <td>Proxima + blend</td>\n",
       "      <td>[86, 329, 125, 3934, 40, 907, 32, 387, 8, 19, ...</td>\n",
       "      <td>61</td>\n",
       "    </tr>\n",
       "    <tr>\n",
       "      <th>2</th>\n",
       "      <td>Proxima + blend (high target)</td>\n",
       "      <td>[59, 311, 115, 144, 11, 57, 3998, 33, 4112, 48...</td>\n",
       "      <td>14</td>\n",
       "    </tr>\n",
       "    <tr>\n",
       "      <th>3</th>\n",
       "      <td>DFT-only</td>\n",
       "      <td>[19, 842, 120, 21, 96, 34, 363, 77, 54, 37, 84...</td>\n",
       "      <td>62</td>\n",
       "    </tr>\n",
       "    <tr>\n",
       "      <th>3</th>\n",
       "      <td>DFT-only</td>\n",
       "      <td>[19, 842, 120, 21, 96, 34, 363, 77, 54, 37, 84...</td>\n",
       "      <td>39</td>\n",
       "    </tr>\n",
       "    <tr>\n",
       "      <th>3</th>\n",
       "      <td>DFT-only</td>\n",
       "      <td>[19, 842, 120, 21, 96, 34, 363, 77, 54, 37, 84...</td>\n",
       "      <td>44</td>\n",
       "    </tr>\n",
       "    <tr>\n",
       "      <th>3</th>\n",
       "      <td>DFT-only</td>\n",
       "      <td>[19, 842, 120, 21, 96, 34, 363, 77, 54, 37, 84...</td>\n",
       "      <td>41</td>\n",
       "    </tr>\n",
       "    <tr>\n",
       "      <th>3</th>\n",
       "      <td>DFT-only</td>\n",
       "      <td>[19, 842, 120, 21, 96, 34, 363, 77, 54, 37, 84...</td>\n",
       "      <td>37</td>\n",
       "    </tr>\n",
       "    <tr>\n",
       "      <th>3</th>\n",
       "      <td>DFT-only</td>\n",
       "      <td>[19, 842, 120, 21, 96, 34, 363, 77, 54, 37, 84...</td>\n",
       "      <td>37</td>\n",
       "    </tr>\n",
       "    <tr>\n",
       "      <th>3</th>\n",
       "      <td>DFT-only</td>\n",
       "      <td>[19, 842, 120, 21, 96, 34, 363, 77, 54, 37, 84...</td>\n",
       "      <td>42</td>\n",
       "    </tr>\n",
       "    <tr>\n",
       "      <th>3</th>\n",
       "      <td>DFT-only</td>\n",
       "      <td>[19, 842, 120, 21, 96, 34, 363, 77, 54, 37, 84...</td>\n",
       "      <td>37</td>\n",
       "    </tr>\n",
       "    <tr>\n",
       "      <th>3</th>\n",
       "      <td>DFT-only</td>\n",
       "      <td>[19, 842, 120, 21, 96, 34, 363, 77, 54, 37, 84...</td>\n",
       "      <td>54</td>\n",
       "    </tr>\n",
       "    <tr>\n",
       "      <th>3</th>\n",
       "      <td>DFT-only</td>\n",
       "      <td>[19, 842, 120, 21, 96, 34, 363, 77, 54, 37, 84...</td>\n",
       "      <td>69</td>\n",
       "    </tr>\n",
       "  </tbody>\n",
       "</table>\n",
       "</div>"
      ],
      "text/plain": [
       "                       condition                                           duration nunique\n",
       "0                        Proxima  [34, 1053, 35, 365, 53, 525, 34, 505, 29, 96, ...     107\n",
       "0                        Proxima  [34, 1053, 35, 365, 53, 525, 34, 505, 29, 96, ...     110\n",
       "0                        Proxima  [34, 1053, 35, 365, 53, 525, 34, 505, 29, 96, ...     122\n",
       "0                        Proxima  [34, 1053, 35, 365, 53, 525, 34, 505, 29, 96, ...      97\n",
       "0                        Proxima  [34, 1053, 35, 365, 53, 525, 34, 505, 29, 96, ...      76\n",
       "0                        Proxima  [34, 1053, 35, 365, 53, 525, 34, 505, 29, 96, ...     123\n",
       "0                        Proxima  [34, 1053, 35, 365, 53, 525, 34, 505, 29, 96, ...     101\n",
       "0                        Proxima  [34, 1053, 35, 365, 53, 525, 34, 505, 29, 96, ...     102\n",
       "0                        Proxima  [34, 1053, 35, 365, 53, 525, 34, 505, 29, 96, ...     100\n",
       "0                        Proxima  [34, 1053, 35, 365, 53, 525, 34, 505, 29, 96, ...     116\n",
       "1                Proxima + blend  [86, 329, 125, 3934, 40, 907, 32, 387, 8, 19, ...      51\n",
       "1                Proxima + blend  [86, 329, 125, 3934, 40, 907, 32, 387, 8, 19, ...      35\n",
       "1                Proxima + blend  [86, 329, 125, 3934, 40, 907, 32, 387, 8, 19, ...      65\n",
       "1                Proxima + blend  [86, 329, 125, 3934, 40, 907, 32, 387, 8, 19, ...      74\n",
       "1                Proxima + blend  [86, 329, 125, 3934, 40, 907, 32, 387, 8, 19, ...      64\n",
       "1                Proxima + blend  [86, 329, 125, 3934, 40, 907, 32, 387, 8, 19, ...      52\n",
       "1                Proxima + blend  [86, 329, 125, 3934, 40, 907, 32, 387, 8, 19, ...      53\n",
       "1                Proxima + blend  [86, 329, 125, 3934, 40, 907, 32, 387, 8, 19, ...      57\n",
       "1                Proxima + blend  [86, 329, 125, 3934, 40, 907, 32, 387, 8, 19, ...      44\n",
       "1                Proxima + blend  [86, 329, 125, 3934, 40, 907, 32, 387, 8, 19, ...      61\n",
       "2  Proxima + blend (high target)  [59, 311, 115, 144, 11, 57, 3998, 33, 4112, 48...      14\n",
       "3                       DFT-only  [19, 842, 120, 21, 96, 34, 363, 77, 54, 37, 84...      62\n",
       "3                       DFT-only  [19, 842, 120, 21, 96, 34, 363, 77, 54, 37, 84...      39\n",
       "3                       DFT-only  [19, 842, 120, 21, 96, 34, 363, 77, 54, 37, 84...      44\n",
       "3                       DFT-only  [19, 842, 120, 21, 96, 34, 363, 77, 54, 37, 84...      41\n",
       "3                       DFT-only  [19, 842, 120, 21, 96, 34, 363, 77, 54, 37, 84...      37\n",
       "3                       DFT-only  [19, 842, 120, 21, 96, 34, 363, 77, 54, 37, 84...      37\n",
       "3                       DFT-only  [19, 842, 120, 21, 96, 34, 363, 77, 54, 37, 84...      42\n",
       "3                       DFT-only  [19, 842, 120, 21, 96, 34, 363, 77, 54, 37, 84...      37\n",
       "3                       DFT-only  [19, 842, 120, 21, 96, 34, 363, 77, 54, 37, 84...      54\n",
       "3                       DFT-only  [19, 842, 120, 21, 96, 34, 363, 77, 54, 37, 84...      69"
      ]
     },
     "execution_count": 74,
     "metadata": {},
     "output_type": "execute_result"
    }
   ],
   "source": [
    "df_long"
   ]
  },
  {
   "cell_type": "code",
   "execution_count": 75,
   "id": "177e4125-e507-4556-91c5-35586dac5cda",
   "metadata": {},
   "outputs": [],
   "source": [
    "df_long= pd.concat([df_long, \n",
    "           pd.DataFrame([['Proxima (bad params)', d, None, None] for d in durations_bad], \n",
    "             columns=['condition', 'duration', 'nunique', 'rate'])\n",
    "          ], \n",
    "          ignore_index=True)"
   ]
  },
  {
   "cell_type": "code",
   "execution_count": 76,
   "id": "a055c843-56a6-4506-a212-0f4b4c18d770",
   "metadata": {},
   "outputs": [
    {
     "ename": "TypeError",
     "evalue": "unhashable type: 'list'",
     "output_type": "error",
     "traceback": [
      "\u001b[0;31m---------------------------------------------------------------------------\u001b[0m",
      "\u001b[0;31mAttributeError\u001b[0m                            Traceback (most recent call last)",
      "File \u001b[0;32m~/miniconda3/envs/cascade/lib/python3.11/site-packages/seaborn/_base.py:1768\u001b[0m, in \u001b[0;36mcategorical_order\u001b[0;34m(vector, order)\u001b[0m\n\u001b[1;32m   1767\u001b[0m \u001b[38;5;28;01mtry\u001b[39;00m:\n\u001b[0;32m-> 1768\u001b[0m     order \u001b[38;5;241m=\u001b[39m vector\u001b[38;5;241m.\u001b[39mcat\u001b[38;5;241m.\u001b[39mcategories\n\u001b[1;32m   1769\u001b[0m \u001b[38;5;28;01mexcept\u001b[39;00m (\u001b[38;5;167;01mTypeError\u001b[39;00m, \u001b[38;5;167;01mAttributeError\u001b[39;00m):\n",
      "File \u001b[0;32m~/miniconda3/envs/cascade/lib/python3.11/site-packages/pandas/core/generic.py:6299\u001b[0m, in \u001b[0;36mNDFrame.__getattr__\u001b[0;34m(self, name)\u001b[0m\n\u001b[1;32m   6298\u001b[0m     \u001b[38;5;28;01mreturn\u001b[39;00m \u001b[38;5;28mself\u001b[39m[name]\n\u001b[0;32m-> 6299\u001b[0m \u001b[38;5;28;01mreturn\u001b[39;00m \u001b[38;5;28mobject\u001b[39m\u001b[38;5;241m.\u001b[39m\u001b[38;5;21m__getattribute__\u001b[39m(\u001b[38;5;28mself\u001b[39m, name)\n",
      "File \u001b[0;32m~/miniconda3/envs/cascade/lib/python3.11/site-packages/pandas/core/accessor.py:224\u001b[0m, in \u001b[0;36mCachedAccessor.__get__\u001b[0;34m(self, obj, cls)\u001b[0m\n\u001b[1;32m    223\u001b[0m     \u001b[38;5;28;01mreturn\u001b[39;00m \u001b[38;5;28mself\u001b[39m\u001b[38;5;241m.\u001b[39m_accessor\n\u001b[0;32m--> 224\u001b[0m accessor_obj \u001b[38;5;241m=\u001b[39m \u001b[38;5;28mself\u001b[39m\u001b[38;5;241m.\u001b[39m_accessor(obj)\n\u001b[1;32m    225\u001b[0m \u001b[38;5;66;03m# Replace the property with the accessor object. Inspired by:\u001b[39;00m\n\u001b[1;32m    226\u001b[0m \u001b[38;5;66;03m# https://www.pydanny.com/cached-property.html\u001b[39;00m\n\u001b[1;32m    227\u001b[0m \u001b[38;5;66;03m# We need to use object.__setattr__ because we overwrite __setattr__ on\u001b[39;00m\n\u001b[1;32m    228\u001b[0m \u001b[38;5;66;03m# NDFrame\u001b[39;00m\n",
      "File \u001b[0;32m~/miniconda3/envs/cascade/lib/python3.11/site-packages/pandas/core/arrays/categorical.py:2898\u001b[0m, in \u001b[0;36mCategoricalAccessor.__init__\u001b[0;34m(self, data)\u001b[0m\n\u001b[1;32m   2897\u001b[0m \u001b[38;5;28;01mdef\u001b[39;00m \u001b[38;5;21m__init__\u001b[39m(\u001b[38;5;28mself\u001b[39m, data) \u001b[38;5;241m-\u001b[39m\u001b[38;5;241m>\u001b[39m \u001b[38;5;28;01mNone\u001b[39;00m:\n\u001b[0;32m-> 2898\u001b[0m     \u001b[38;5;28mself\u001b[39m\u001b[38;5;241m.\u001b[39m_validate(data)\n\u001b[1;32m   2899\u001b[0m     \u001b[38;5;28mself\u001b[39m\u001b[38;5;241m.\u001b[39m_parent \u001b[38;5;241m=\u001b[39m data\u001b[38;5;241m.\u001b[39mvalues\n",
      "File \u001b[0;32m~/miniconda3/envs/cascade/lib/python3.11/site-packages/pandas/core/arrays/categorical.py:2907\u001b[0m, in \u001b[0;36mCategoricalAccessor._validate\u001b[0;34m(data)\u001b[0m\n\u001b[1;32m   2906\u001b[0m \u001b[38;5;28;01mif\u001b[39;00m \u001b[38;5;129;01mnot\u001b[39;00m \u001b[38;5;28misinstance\u001b[39m(data\u001b[38;5;241m.\u001b[39mdtype, CategoricalDtype):\n\u001b[0;32m-> 2907\u001b[0m     \u001b[38;5;28;01mraise\u001b[39;00m \u001b[38;5;167;01mAttributeError\u001b[39;00m(\u001b[38;5;124m\"\u001b[39m\u001b[38;5;124mCan only use .cat accessor with a \u001b[39m\u001b[38;5;124m'\u001b[39m\u001b[38;5;124mcategory\u001b[39m\u001b[38;5;124m'\u001b[39m\u001b[38;5;124m dtype\u001b[39m\u001b[38;5;124m\"\u001b[39m)\n",
      "\u001b[0;31mAttributeError\u001b[0m: Can only use .cat accessor with a 'category' dtype",
      "\nDuring handling of the above exception, another exception occurred:\n",
      "\u001b[0;31mTypeError\u001b[0m                                 Traceback (most recent call last)",
      "Cell \u001b[0;32mIn[76], line 1\u001b[0m\n\u001b[0;32m----> 1\u001b[0m sns\u001b[38;5;241m.\u001b[39mboxplot(x\u001b[38;5;241m=\u001b[39m\u001b[38;5;124m'\u001b[39m\u001b[38;5;124mduration\u001b[39m\u001b[38;5;124m'\u001b[39m,\n\u001b[1;32m      2\u001b[0m             \u001b[38;5;66;03m#col='condition',\u001b[39;00m\n\u001b[1;32m      3\u001b[0m             hue\u001b[38;5;241m=\u001b[39m\u001b[38;5;124m'\u001b[39m\u001b[38;5;124mcondition\u001b[39m\u001b[38;5;124m'\u001b[39m,\n\u001b[1;32m      4\u001b[0m             \u001b[38;5;66;03m#log_scale=(True, False),\u001b[39;00m\n\u001b[1;32m      5\u001b[0m             \u001b[38;5;66;03m#rug=True,\u001b[39;00m\n\u001b[1;32m      6\u001b[0m             \u001b[38;5;66;03m#common_norm=False,\u001b[39;00m\n\u001b[1;32m      7\u001b[0m             \u001b[38;5;66;03m#kind='kde',\u001b[39;00m\n\u001b[1;32m      8\u001b[0m             data\u001b[38;5;241m=\u001b[39mdf_long)\n",
      "File \u001b[0;32m~/miniconda3/envs/cascade/lib/python3.11/site-packages/seaborn/categorical.py:1619\u001b[0m, in \u001b[0;36mboxplot\u001b[0;34m(data, x, y, hue, order, hue_order, orient, color, palette, saturation, fill, dodge, width, gap, whis, linecolor, linewidth, fliersize, hue_norm, native_scale, log_scale, formatter, legend, ax, **kwargs)\u001b[0m\n\u001b[1;32m   1616\u001b[0m \u001b[38;5;28;01mif\u001b[39;00m p\u001b[38;5;241m.\u001b[39mvar_types\u001b[38;5;241m.\u001b[39mget(p\u001b[38;5;241m.\u001b[39morient) \u001b[38;5;241m==\u001b[39m \u001b[38;5;124m\"\u001b[39m\u001b[38;5;124mcategorical\u001b[39m\u001b[38;5;124m\"\u001b[39m \u001b[38;5;129;01mor\u001b[39;00m \u001b[38;5;129;01mnot\u001b[39;00m native_scale:\n\u001b[1;32m   1617\u001b[0m     p\u001b[38;5;241m.\u001b[39mscale_categorical(p\u001b[38;5;241m.\u001b[39morient, order\u001b[38;5;241m=\u001b[39morder, formatter\u001b[38;5;241m=\u001b[39mformatter)\n\u001b[0;32m-> 1619\u001b[0m p\u001b[38;5;241m.\u001b[39m_attach(ax, log_scale\u001b[38;5;241m=\u001b[39mlog_scale)\n\u001b[1;32m   1621\u001b[0m \u001b[38;5;66;03m# Deprecations to remove in v0.14.0.\u001b[39;00m\n\u001b[1;32m   1622\u001b[0m hue_order \u001b[38;5;241m=\u001b[39m p\u001b[38;5;241m.\u001b[39m_palette_without_hue_backcompat(palette, hue_order)\n",
      "File \u001b[0;32m~/miniconda3/envs/cascade/lib/python3.11/site-packages/seaborn/_base.py:1134\u001b[0m, in \u001b[0;36mVectorPlotter._attach\u001b[0;34m(self, obj, allowed_types, log_scale)\u001b[0m\n\u001b[1;32m   1132\u001b[0m             \u001b[38;5;28;01melse\u001b[39;00m:\n\u001b[1;32m   1133\u001b[0m                 order \u001b[38;5;241m=\u001b[39m \u001b[38;5;28;01mNone\u001b[39;00m\n\u001b[0;32m-> 1134\u001b[0m             seed_data \u001b[38;5;241m=\u001b[39m categorical_order(seed_data, order)\n\u001b[1;32m   1135\u001b[0m         converter\u001b[38;5;241m.\u001b[39mupdate_units(seed_data)\n\u001b[1;32m   1137\u001b[0m \u001b[38;5;66;03m# -- Set numerical axis scales\u001b[39;00m\n\u001b[1;32m   1138\u001b[0m \n\u001b[1;32m   1139\u001b[0m \u001b[38;5;66;03m# First unpack the log_scale argument\u001b[39;00m\n",
      "File \u001b[0;32m~/miniconda3/envs/cascade/lib/python3.11/site-packages/seaborn/_base.py:1771\u001b[0m, in \u001b[0;36mcategorical_order\u001b[0;34m(vector, order)\u001b[0m\n\u001b[1;32m   1768\u001b[0m     order \u001b[38;5;241m=\u001b[39m vector\u001b[38;5;241m.\u001b[39mcat\u001b[38;5;241m.\u001b[39mcategories\n\u001b[1;32m   1769\u001b[0m \u001b[38;5;28;01mexcept\u001b[39;00m (\u001b[38;5;167;01mTypeError\u001b[39;00m, \u001b[38;5;167;01mAttributeError\u001b[39;00m):\n\u001b[0;32m-> 1771\u001b[0m     order \u001b[38;5;241m=\u001b[39m pd\u001b[38;5;241m.\u001b[39mSeries(vector)\u001b[38;5;241m.\u001b[39munique()\n\u001b[1;32m   1773\u001b[0m     \u001b[38;5;28;01mif\u001b[39;00m variable_type(vector) \u001b[38;5;241m==\u001b[39m \u001b[38;5;124m\"\u001b[39m\u001b[38;5;124mnumeric\u001b[39m\u001b[38;5;124m\"\u001b[39m:\n\u001b[1;32m   1774\u001b[0m         order \u001b[38;5;241m=\u001b[39m np\u001b[38;5;241m.\u001b[39msort(order)\n",
      "File \u001b[0;32m~/miniconda3/envs/cascade/lib/python3.11/site-packages/pandas/core/series.py:2407\u001b[0m, in \u001b[0;36mSeries.unique\u001b[0;34m(self)\u001b[0m\n\u001b[1;32m   2344\u001b[0m \u001b[38;5;28;01mdef\u001b[39;00m \u001b[38;5;21munique\u001b[39m(\u001b[38;5;28mself\u001b[39m) \u001b[38;5;241m-\u001b[39m\u001b[38;5;241m>\u001b[39m ArrayLike:  \u001b[38;5;66;03m# pylint: disable=useless-parent-delegation\u001b[39;00m\n\u001b[1;32m   2345\u001b[0m \u001b[38;5;250m    \u001b[39m\u001b[38;5;124;03m\"\"\"\u001b[39;00m\n\u001b[1;32m   2346\u001b[0m \u001b[38;5;124;03m    Return unique values of Series object.\u001b[39;00m\n\u001b[1;32m   2347\u001b[0m \n\u001b[0;32m   (...)\u001b[0m\n\u001b[1;32m   2405\u001b[0m \u001b[38;5;124;03m    Categories (3, object): ['a' < 'b' < 'c']\u001b[39;00m\n\u001b[1;32m   2406\u001b[0m \u001b[38;5;124;03m    \"\"\"\u001b[39;00m\n\u001b[0;32m-> 2407\u001b[0m     \u001b[38;5;28;01mreturn\u001b[39;00m \u001b[38;5;28msuper\u001b[39m()\u001b[38;5;241m.\u001b[39munique()\n",
      "File \u001b[0;32m~/miniconda3/envs/cascade/lib/python3.11/site-packages/pandas/core/base.py:1025\u001b[0m, in \u001b[0;36mIndexOpsMixin.unique\u001b[0;34m(self)\u001b[0m\n\u001b[1;32m   1023\u001b[0m     result \u001b[38;5;241m=\u001b[39m values\u001b[38;5;241m.\u001b[39munique()\n\u001b[1;32m   1024\u001b[0m \u001b[38;5;28;01melse\u001b[39;00m:\n\u001b[0;32m-> 1025\u001b[0m     result \u001b[38;5;241m=\u001b[39m algorithms\u001b[38;5;241m.\u001b[39munique1d(values)\n\u001b[1;32m   1026\u001b[0m \u001b[38;5;28;01mreturn\u001b[39;00m result\n",
      "File \u001b[0;32m~/miniconda3/envs/cascade/lib/python3.11/site-packages/pandas/core/algorithms.py:401\u001b[0m, in \u001b[0;36munique\u001b[0;34m(values)\u001b[0m\n\u001b[1;32m    307\u001b[0m \u001b[38;5;28;01mdef\u001b[39;00m \u001b[38;5;21munique\u001b[39m(values):\n\u001b[1;32m    308\u001b[0m \u001b[38;5;250m    \u001b[39m\u001b[38;5;124;03m\"\"\"\u001b[39;00m\n\u001b[1;32m    309\u001b[0m \u001b[38;5;124;03m    Return unique values based on a hash table.\u001b[39;00m\n\u001b[1;32m    310\u001b[0m \n\u001b[0;32m   (...)\u001b[0m\n\u001b[1;32m    399\u001b[0m \u001b[38;5;124;03m    array([('a', 'b'), ('b', 'a'), ('a', 'c')], dtype=object)\u001b[39;00m\n\u001b[1;32m    400\u001b[0m \u001b[38;5;124;03m    \"\"\"\u001b[39;00m\n\u001b[0;32m--> 401\u001b[0m     \u001b[38;5;28;01mreturn\u001b[39;00m unique_with_mask(values)\n",
      "File \u001b[0;32m~/miniconda3/envs/cascade/lib/python3.11/site-packages/pandas/core/algorithms.py:440\u001b[0m, in \u001b[0;36munique_with_mask\u001b[0;34m(values, mask)\u001b[0m\n\u001b[1;32m    438\u001b[0m table \u001b[38;5;241m=\u001b[39m hashtable(\u001b[38;5;28mlen\u001b[39m(values))\n\u001b[1;32m    439\u001b[0m \u001b[38;5;28;01mif\u001b[39;00m mask \u001b[38;5;129;01mis\u001b[39;00m \u001b[38;5;28;01mNone\u001b[39;00m:\n\u001b[0;32m--> 440\u001b[0m     uniques \u001b[38;5;241m=\u001b[39m table\u001b[38;5;241m.\u001b[39munique(values)\n\u001b[1;32m    441\u001b[0m     uniques \u001b[38;5;241m=\u001b[39m _reconstruct_data(uniques, original\u001b[38;5;241m.\u001b[39mdtype, original)\n\u001b[1;32m    442\u001b[0m     \u001b[38;5;28;01mreturn\u001b[39;00m uniques\n",
      "File \u001b[0;32mpandas/_libs/hashtable_class_helper.pxi:7248\u001b[0m, in \u001b[0;36mpandas._libs.hashtable.PyObjectHashTable.unique\u001b[0;34m()\u001b[0m\n",
      "File \u001b[0;32mpandas/_libs/hashtable_class_helper.pxi:7195\u001b[0m, in \u001b[0;36mpandas._libs.hashtable.PyObjectHashTable._unique\u001b[0;34m()\u001b[0m\n",
      "\u001b[0;31mTypeError\u001b[0m: unhashable type: 'list'"
     ]
    },
    {
     "data": {
      "image/png": "[encoded data removed]",
      "text/plain": [
       "<Figure size 640x480 with 1 Axes>"
      ]
     },
     "metadata": {},
     "output_type": "display_data"
    }
   ],
   "source": [
    "sns.boxplot(x='duration',\n",
    "            #col='condition',\n",
    "            hue='condition',\n",
    "            #log_scale=(True, False),\n",
    "            #rug=True,\n",
    "            #common_norm=False,\n",
    "            #kind='kde',\n",
    "            data=df_long)\n"
   ]
  },
  {
   "cell_type": "markdown",
   "id": "0976b0d0-c435-492f-8006-384066638b74",
   "metadata": {},
   "source": [
    "## params"
   ]
  },
  {
   "cell_type": "code",
   "execution_count": null,
   "id": "70db97a5-8db2-4502-a39b-0da38ebba1f6",
   "metadata": {},
   "outputs": [],
   "source": [
    "run_dirs = sorted(glob('runs/nvt-fixed-temp/*si-vacancy*'))\n",
    "run_dirs"
   ]
  },
  {
   "cell_type": "code",
   "execution_count": null,
   "id": "0c871775-3a8b-489c-9efe-41d3aa8b59ad",
   "metadata": {},
   "outputs": [],
   "source": [
    "params = []\n",
    "for d in run_dirs:\n",
    "    try:\n",
    "        params.append(json.loads((Path(d)/'params.json').read_text()))\n",
    "    except: \n",
    "        print(f'couldnt find {d}/params.json; skipping')\n",
    "        continue\n",
    "    params[-1]['dir'] = d\n",
    "params = pd.DataFrame(params)"
   ]
  },
  {
   "cell_type": "code",
   "execution_count": null,
   "id": "a421921d-c015-4c8c-8650-0e4cca8e5272",
   "metadata": {},
   "outputs": [],
   "source": [
    "param_vars = ['seed', 'temperature', 'n_blending_steps', 'min_target_frac', 'target_error', 'stress_tau', 'steps']"
   ]
  },
  {
   "cell_type": "code",
   "execution_count": null,
   "id": "98916ec1-5db4-45d4-8ba1-ddb5df5f0182",
   "metadata": {},
   "outputs": [],
   "source": [
    "data = []\n",
    "hashes = []\n",
    "for i, row in params.iterrows(): \n",
    "    # read in the results for each set of parameters\n",
    "    run = row['dir']\n",
    "    try:\n",
    "        _data = pd.read_json(Path(run)/'proxima-log.json', lines=True)\n",
    "    except: \n",
    "        print('couldnt read proximal log for', run)\n",
    "        hashes.append(None)\n",
    "        continue\n",
    "    # make sure to have timestep\n",
    "    _data.reset_index(names='timestep', inplace=True)\n",
    "\n",
    "    # keep the hash of the run\n",
    "    _hash = run.split('-')[-1]\n",
    "    hashes.append(_hash)\n",
    "    _data['hash'] = _hash \n",
    "    #traj = read(Path(run)/'md.traj', index=':')\n",
    "    #break    \n",
    "    # add the parameters to the experiment df for easy plotting, grouping, etc\n",
    "    for var in param_vars:\n",
    "        _data[var] = row[var]\n",
    "    data.append(_data)\n",
    "\n",
    "# track the hashes as well for param lookup\n",
    "params['hash'] = hashes\n",
    "data = pd.concat(data)"
   ]
  },
  {
   "cell_type": "code",
   "execution_count": null,
   "id": "58f4b2f0-16f0-4800-9be4-7cea2bd95df6",
   "metadata": {},
   "outputs": [],
   "source": [
    "data['full_surrogate'] = (data['proxima_blending_step'] == data['n_blending_steps']) & data['used_surrogate']"
   ]
  },
  {
   "cell_type": "code",
   "execution_count": null,
   "id": "bf9181bb-df9b-4ab5-8c65-087a8b9dff76",
   "metadata": {},
   "outputs": [],
   "source": [
    "stuff = []\n",
    "for _hash, g  in data.groupby('hash'): \n",
    "    frac = g['full_surrogate'].mean()\n",
    "    stuff.append((_hash, frac))\n",
    "stuff = pd.DataFrame.from_records(stuff, columns=['hash', 'full_surrogate'])\n",
    "params = pd.merge(params, stuff, on='hash')"
   ]
  },
  {
   "cell_type": "code",
   "execution_count": null,
   "id": "66647d34-ab1f-41c4-aba5-9d22db15c808",
   "metadata": {},
   "outputs": [],
   "source": [
    "g = sns.catplot(x='n_blending_steps',\n",
    "                hue='n_blending_steps',\n",
    "            col='min_target_frac', \n",
    "            row='target_error',\n",
    "            y='full_surrogate',\n",
    "            data=params,\n",
    "            sharey=False,\n",
    "            sharex=False)\n",
    "plt.show()"
   ]
  },
  {
   "cell_type": "code",
   "execution_count": null,
   "id": "9a42ca8f-cb3e-4a32-bd54-fc91870a7c9a",
   "metadata": {},
   "outputs": [],
   "source": []
  },
  {
   "cell_type": "code",
   "execution_count": null,
   "id": "dbaa6e15-a636-4818-a3f9-e6b38ab3c1b3",
   "metadata": {},
   "outputs": [],
   "source": [
    "data_trained = data.loc[data['model_version'] > 0]"
   ]
  },
  {
   "cell_type": "code",
   "execution_count": null,
   "id": "4725ed75-51e2-4c7e-a66c-6a3b4336f26e",
   "metadata": {},
   "outputs": [],
   "source": [
    "((data_trained['last_uncer'] > data_trained['proxima_threshold']) & ~data_trained['used_surrogate']).mean()"
   ]
  },
  {
   "cell_type": "code",
   "execution_count": null,
   "id": "13477d66-9039-40ec-a8c8-25f791fbdd50",
   "metadata": {},
   "outputs": [],
   "source": [
    "data_trained.loc[:, 'over_thresh'] = (data_trained['last_uncer'] > data_trained['proxima_threshold'])"
   ]
  },
  {
   "cell_type": "code",
   "execution_count": null,
   "id": "7740e64e-2ec2-4dcf-9753-3f6c30ddbda5",
   "metadata": {},
   "outputs": [],
   "source": [
    "data_trained.loc[:, 'audited'] = ~data_trained['used_surrogate'] & ~data_trained['over_thresh']"
   ]
  },
  {
   "cell_type": "code",
   "execution_count": null,
   "id": "c4129448-8e27-4776-a599-5d7ed77e901a",
   "metadata": {},
   "outputs": [],
   "source": [
    "data_trained['audited'].mean()"
   ]
  },
  {
   "cell_type": "code",
   "execution_count": null,
   "id": "d453f080-aa18-4d16-9410-6864b205fee4",
   "metadata": {},
   "outputs": [],
   "source": [
    "data_trained.loc[:, 'within_target'] = data_trained['last_error'] < data_trained['target_error']"
   ]
  },
  {
   "cell_type": "code",
   "execution_count": null,
   "id": "b0cb1f01-009d-4a6e-a828-b14693edff28",
   "metadata": {},
   "outputs": [],
   "source": [
    "data_trained['within_target'].mean()"
   ]
  },
  {
   "cell_type": "code",
   "execution_count": null,
   "id": "fb465082-5b47-4979-8efe-8bcb3e25cb56",
   "metadata": {},
   "outputs": [],
   "source": [
    "data_trained['positive_audit'] = (data_trained['audited'] & ~data_trained['within_target'])"
   ]
  },
  {
   "cell_type": "code",
   "execution_count": null,
   "id": "ad2d3773-98f7-4643-b979-ef1f22a5a9a0",
   "metadata": {},
   "outputs": [],
   "source": [
    "data_trained['positive_thresh'] = data_trained['over_thresh'] & ~data_trained['within_target']"
   ]
  },
  {
   "cell_type": "code",
   "execution_count": null,
   "id": "4083f387-da41-4f18-8de9-744addccc7e2",
   "metadata": {},
   "outputs": [],
   "source": [
    "positive_rates = data_trained.groupby('hash')[['positive_thresh', 'positive_audit']].mean().reset_index()"
   ]
  },
  {
   "cell_type": "code",
   "execution_count": null,
   "id": "1e52ebee-6fe6-4d5d-96c0-7beb08e739a1",
   "metadata": {},
   "outputs": [],
   "source": [
    "params = pd.merge(params, positive_rates, how='left', on='hash')"
   ]
  },
  {
   "cell_type": "code",
   "execution_count": null,
   "id": "59393ba8-135b-4504-b531-229edbeeae61",
   "metadata": {},
   "outputs": [],
   "source": [
    "g = sns.catplot(x='n_blending_steps',\n",
    "                hue='n_blending_steps',\n",
    "            col='min_target_frac', \n",
    "            row='target_error',\n",
    "            y='positive_audit',\n",
    "            data=params,\n",
    "            sharey=False,\n",
    "            sharex=False)\n",
    "plt.show()"
   ]
  },
  {
   "cell_type": "code",
   "execution_count": null,
   "id": "1aab316d-834c-46f2-892e-01fe8770649c",
   "metadata": {},
   "outputs": [],
   "source": [
    "g = sns.catplot(x='n_blending_steps',\n",
    "                hue='n_blending_steps',\n",
    "            col='min_target_frac', \n",
    "            row='target_error',\n",
    "            y='positive_thresh',\n",
    "            data=params,\n",
    "            sharey=False,\n",
    "            sharex=False)\n",
    "plt.show()"
   ]
  },
  {
   "cell_type": "code",
   "execution_count": null,
   "id": "1b6d5b7b-4454-4afa-bbaf-ebea81b5adfd",
   "metadata": {},
   "outputs": [],
   "source": []
  }
 ],
 "metadata": {
  "kernelspec": {
   "display_name": "Python 3 (ipykernel)",
   "language": "python",
   "name": "python3"
  },
  "language_info": {
   "codemirror_mode": {
    "name": "ipython",
    "version": 3
   },
   "file_extension": ".py",
   "mimetype": "text/x-python",
   "name": "python",
   "nbconvert_exporter": "python",
   "pygments_lexer": "ipython3",
   "version": "3.11.0"
  }
 },
 "nbformat": 4,
 "nbformat_minor": 5
}
