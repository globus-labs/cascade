{
 "cells": [
  {
   "cell_type": "markdown",
   "id": "7a850a23-dd4a-49d1-8d24-9fa0500f85af",
   "metadata": {},
   "source": [
    "# Cascade: serial prototype implementation\n",
    "\n",
    "Here we use some of the classes we've written to create a serial prototype run of cascade\n",
    "\n",
    "This is the minimum viable run, intended to inform upcoming design decisions before distributed runs.\n",
    "\n",
    "No science is done here. "
   ]
  },
  {
   "cell_type": "code",
   "execution_count": null,
   "id": "103a28c9-a84c-42fd-b87d-d75635b76705",
   "metadata": {},
   "outputs": [],
   "source": []
  },
  {
   "cell_type": "code",
   "execution_count": 1,
   "id": "9c49f1f6-3a41-4d70-8126-236faccc3f4d",
   "metadata": {},
   "outputs": [
    {
     "name": "stderr",
     "output_type": "stream",
     "text": [
      "/home/mike/miniconda3/envs/cascade/lib/python3.11/site-packages/e3nn/o3/_wigner.py:10: FutureWarning: You are using `torch.load` with `weights_only=False` (the current default value), which uses the default pickle module implicitly. It is possible to construct malicious pickle data which will execute arbitrary code during unpickling (See https://github.com/pytorch/pytorch/blob/main/SECURITY.md#untrusted-models for more details). In a future release, the default value for `weights_only` will be flipped to `True`. This limits the functions that could be executed during unpickling. Arbitrary objects will no longer be allowed to be loaded via this mode unless they are explicitly allowlisted by the user via `torch.serialization.add_safe_globals`. We recommend you start setting `weights_only=True` for any use case where you don't have full control of the loaded file. Please open an issue on GitHub for any issues related to this experimental feature.\n",
      "  _Jd, _W3j_flat, _W3j_indices = torch.load(os.path.join(os.path.dirname(__file__), 'constants.pt'))\n",
      "/home/mike/miniconda3/envs/cascade/lib/python3.11/site-packages/torchani/aev.py:16: UserWarning: cuaev not installed\n",
      "  warnings.warn(\"cuaev not installed\")\n",
      "/home/mike/miniconda3/envs/cascade/lib/python3.11/site-packages/ignite/handlers/checkpoint.py:16: DeprecationWarning: `TorchScript` support for functional optimizers is deprecated and will be removed in a future PyTorch release. Consider using the `torch.compile` optimizer instead.\n",
      "  from torch.distributed.optim import ZeroRedundancyOptimizer\n"
     ]
    }
   ],
   "source": [
    "from glob import glob\n",
    "from pathlib import Path\n",
    "from dataclasses import dataclass, field\n",
    "\n",
    "\n",
    "import ase\n",
    "from ase.io import read, write\n",
    "from ase.io.trajectory import Trajectory, TrajectoryWriter\n",
    "from ase import units\n",
    "from ase.md import MDLogger, VelocityVerlet\n",
    "import numpy as np\n",
    "from mace.calculators import mace_mp\n",
    "\n",
    "from cascade.trajectory import CascadeTrajectory\n",
    "from cascade.utils import canonicalize, apply_calculator\n",
    "from cascade.auditor import RandomAuditor\n",
    "from cascade.learning.torchani import TorchANI\n",
    "from cascade.learning.torchani.build import make_output_nets, make_aev_computer\n",
    "from cascade.runner import SerialCascadeRunner\n",
    "\n",
    "%load_ext autoreload\n",
    "%autoreload 2"
   ]
  },
  {
   "cell_type": "markdown",
   "id": "57a27e82-15de-4767-befb-72b46f7fb6ce",
   "metadata": {},
   "source": [
    "## Read in structure\n",
    "We'll do these simulations on a Si 2x2x2 with a vacancy"
   ]
  },
  {
   "cell_type": "code",
   "execution_count": 2,
   "id": "59fc8963-e05d-449a-aeca-19d8aee6dac1",
   "metadata": {},
   "outputs": [],
   "source": [
    "atoms = read('../0_setup/initial-geometries/si-vacancy-2x2x2.vasp')"
   ]
  },
  {
   "cell_type": "markdown",
   "id": "dc76b922-d1ef-4b0d-a9c2-4ef5aea84819",
   "metadata": {},
   "source": [
    "## Set up calculator\n",
    "\n",
    "We'll use a small MACE model as our *target*.   \n",
    "That is to say, MACE is our ground truth physics.   \n",
    "(We want fast for this prototype)"
   ]
  },
  {
   "cell_type": "code",
   "execution_count": 3,
   "id": "08a8ef58-4ee3-4686-9ff4-3942211e23c2",
   "metadata": {},
   "outputs": [
    {
     "name": "stderr",
     "output_type": "stream",
     "text": [
      "/home/mike/miniconda3/envs/cascade/lib/python3.11/site-packages/mace/calculators/mace.py:128: FutureWarning: You are using `torch.load` with `weights_only=False` (the current default value), which uses the default pickle module implicitly. It is possible to construct malicious pickle data which will execute arbitrary code during unpickling (See https://github.com/pytorch/pytorch/blob/main/SECURITY.md#untrusted-models for more details). In a future release, the default value for `weights_only` will be flipped to `True`. This limits the functions that could be executed during unpickling. Arbitrary objects will no longer be allowed to be loaded via this mode unless they are explicitly allowlisted by the user via `torch.serialization.add_safe_globals`. We recommend you start setting `weights_only=True` for any use case where you don't have full control of the loaded file. Please open an issue on GitHub for any issues related to this experimental feature.\n",
      "  torch.load(f=model_path, map_location=device)\n"
     ]
    },
    {
     "name": "stdout",
     "output_type": "stream",
     "text": [
      "Using Materials Project MACE for MACECalculator with /home/mike/.cache/mace/20231210mace128L0_energy_epoch249model\n",
      "Using float32 for MACECalculator, which is faster but less accurate. Recommended for MD. Use float64 for geometry optimization.\n",
      "Default dtype float32 does not match model dtype float64, converting models to float32.\n"
     ]
    }
   ],
   "source": [
    "device = 'cuda:0'\n",
    "calc = mace_mp('small')"
   ]
  },
  {
   "cell_type": "markdown",
   "id": "9c5584da-e85c-4558-8150-c8fee87848a0",
   "metadata": {},
   "source": [
    "## Set up learner\n",
    "\n",
    "We'll fit two ANI models to MACE"
   ]
  },
  {
   "cell_type": "code",
   "execution_count": 4,
   "id": "a8f2e17c-c414-42da-ba43-3ebe7a49176d",
   "metadata": {},
   "outputs": [],
   "source": [
    "learner = TorchANI()"
   ]
  },
  {
   "cell_type": "code",
   "execution_count": 5,
   "id": "29fab573-4c07-49d0-aeed-db13b6c8f7df",
   "metadata": {},
   "outputs": [],
   "source": [
    "species = list(set(atoms.symbols))\n",
    "aev = make_aev_computer(species)\n",
    "\n",
    "model = aev, make_output_nets(species, aev), dict((s, 0.) for s in species)"
   ]
  },
  {
   "cell_type": "raw",
   "id": "18029a5c-a96a-44ad-ab72-5668f20a57c5",
   "metadata": {},
   "source": []
  },
  {
   "cell_type": "markdown",
   "id": "fffbbce3-a5d2-4f14-9095-261309a069a3",
   "metadata": {},
   "source": [
    "## Minimum viable cascasde loop"
   ]
  },
  {
   "cell_type": "code",
   "execution_count": null,
   "id": "a7857c24-b2a0-4ccd-b989-ed88844bec68",
   "metadata": {},
   "outputs": [],
   "source": []
  },
  {
   "cell_type": "code",
   "execution_count": 6,
   "id": "568bdb51-d2a5-4ff5-9b50-13d4bc111e5f",
   "metadata": {},
   "outputs": [
    {
     "name": "stdout",
     "output_type": "stream",
     "text": [
      "**********\n",
      "Starting pass 1/10 of cascade loop\n",
      "Currently 0 of 2 complete\n",
      "Examining trajectory 1 of 2\n",
      "Trajectory is trusted, advancing\n",
      "Running ML-driven dynamics\n"
     ]
    },
    {
     "name": "stderr",
     "output_type": "stream",
     "text": [
      "/home/mike/miniconda3/envs/cascade/lib/python3.11/site-packages/torchani/utils.py:158: UserWarning: To copy construct from a tensor, it is recommended to use sourceTensor.clone().detach() or sourceTensor.clone().detach().requires_grad_(True), rather than torch.tensor(sourceTensor).\n",
      "  self_energies = torch.tensor(self_energies, dtype=torch.double)\n"
     ]
    },
    {
     "name": "stdout",
     "output_type": "stream",
     "text": [
      "Examining trajectory 2 of 2\n",
      "Trajectory is trusted, advancing\n",
      "Running ML-driven dynamics\n",
      "**********\n",
      "Starting pass 2/10 of cascade loop\n",
      "Currently 0 of 2 complete\n",
      "Examining trajectory 1 of 2\n",
      "Trajectory has untrusted segment, auditing\n",
      "Auditing trajectory\n",
      "score < threshold (0.3745401188473625 < 0.5, marking recent segment as trusted\n",
      "Examining trajectory 2 of 2\n",
      "Trajectory has untrusted segment, auditing\n",
      "Auditing trajectory\n",
      "score < threshold (0.034388521115218396 < 0.5, marking recent segment as trusted\n",
      "**********\n",
      "Starting pass 3/10 of cascade loop\n",
      "Currently 0 of 2 complete\n",
      "Examining trajectory 1 of 2\n",
      "Trajectory is trusted, advancing\n",
      "Running ML-driven dynamics\n",
      "Examining trajectory 2 of 2\n",
      "Trajectory is trusted, advancing\n",
      "Running ML-driven dynamics\n",
      "**********\n",
      "Starting pass 4/10 of cascade loop\n",
      "Currently 0 of 2 complete\n",
      "Examining trajectory 1 of 2\n",
      "Trajectory has untrusted segment, auditing\n",
      "Auditing trajectory\n",
      "score > threshold (0.6688412526636073 > 0.5), running audit calculations and dropping untrusted segment\n",
      "Examining trajectory 2 of 2\n",
      "Trajectory has untrusted segment, auditing\n",
      "Auditing trajectory\n",
      "score < threshold (0.33761517140362796 < 0.5, marking recent segment as trusted\n",
      "Last audit passed; trajectory complete\n",
      "**********\n",
      "Starting pass 5/10 of cascade loop\n",
      "Currently 1 of 2 complete\n",
      "Examining trajectory 1 of 2\n",
      "Trajectory is trusted, advancing\n",
      "Running ML-driven dynamics\n",
      "Examining trajectory 2 of 2\n",
      "Trajectory is done, continuing\n",
      "**********\n",
      "Starting pass 6/10 of cascade loop\n",
      "Currently 1 of 2 complete\n",
      "Examining trajectory 1 of 2\n",
      "Trajectory has untrusted segment, auditing\n",
      "Auditing trajectory\n",
      "score > threshold (0.940523264489604 > 0.5), running audit calculations and dropping untrusted segment\n",
      "Examining trajectory 2 of 2\n",
      "Trajectory is done, continuing\n",
      "**********\n",
      "Starting pass 7/10 of cascade loop\n",
      "Currently 1 of 2 complete\n",
      "Examining trajectory 1 of 2\n",
      "Trajectory is trusted, advancing\n",
      "Running ML-driven dynamics\n",
      "Examining trajectory 2 of 2\n",
      "Trajectory is done, continuing\n",
      "**********\n",
      "Starting pass 8/10 of cascade loop\n",
      "Currently 1 of 2 complete\n",
      "Examining trajectory 1 of 2\n",
      "Trajectory has untrusted segment, auditing\n",
      "Auditing trajectory\n",
      "score < threshold (0.09367476782809248 < 0.5, marking recent segment as trusted\n",
      "Last audit passed; trajectory complete\n",
      "Examining trajectory 2 of 2\n",
      "Trajectory is done, continuing\n",
      "Finished all trajectories in 8 iterations\n"
     ]
    }
   ],
   "source": [
    "\n",
    "# create two cascasde trajectories from the same starating point but with different seeds\n",
    "seeds = [0, 1]\n",
    "trajectories = [CascadeTrajectory(path=f'si-diffusion-seed={s}.traj', \n",
    "                                  starting=atoms.copy()) for s in seeds]\n",
    "# notably, right now, the seeds have no effect since our dynamics are NVE\n",
    "\n",
    "cascade = SerialCascadeRunner(\n",
    "    trajectories=trajectories,\n",
    "    total_steps=128,\n",
    "    increment_steps=64,\n",
    "    uq_threshold=0.5,\n",
    "    auditor=RandomAuditor(random_state=42),\n",
    "    learner=learner,\n",
    "    model=model,\n",
    "    calculator=calc,\n",
    "    dyn_cls=VelocityVerlet,\n",
    "    train_kws=dict(device='cpu', num_epochs=1),\n",
    "    max_train=10,\n",
    "    val_frac=0.1,\n",
    "    training_file='train.traj',\n",
    ")\n",
    "\n",
    "cascade.run(max_iter=10)"
   ]
  },
  {
   "cell_type": "markdown",
   "id": "ea864495-142f-4640-b1c6-eaa341dbf581",
   "metadata": {},
   "source": [
    "## did those complete? \n",
    "\n",
    "This is great, next steps: \n",
    "- [ ] diagram out current/trusted logic\n",
    "- [x] add training\n",
    "- [x] break into functions/classes WIP\n",
    "- [x] add tests WIP\n",
    "- [ ] add logging"
   ]
  },
  {
   "cell_type": "code",
   "execution_count": 7,
   "id": "07448032-737c-49ac-9958-2829b95b841e",
   "metadata": {},
   "outputs": [
    {
     "data": {
      "text/plain": [
       "[129, 129]"
      ]
     },
     "execution_count": 7,
     "metadata": {},
     "output_type": "execute_result"
    }
   ],
   "source": [
    "[len(t.read()) for t in trajectories]"
   ]
  },
  {
   "cell_type": "markdown",
   "id": "96ebda21-bbbd-4e07-842b-d49e8f83ac7e",
   "metadata": {},
   "source": [
    "Seems done enough for now"
   ]
  },
  {
   "cell_type": "code",
   "execution_count": null,
   "id": "98dfe13d-24ea-4c0a-b9e3-4fed5133b255",
   "metadata": {},
   "outputs": [],
   "source": []
  }
 ],
 "metadata": {
  "kernelspec": {
   "display_name": "Python 3 (ipykernel)",
   "language": "python",
   "name": "python3"
  },
  "language_info": {
   "codemirror_mode": {
    "name": "ipython",
    "version": 3
   },
   "file_extension": ".py",
   "mimetype": "text/x-python",
   "name": "python",
   "nbconvert_exporter": "python",
   "pygments_lexer": "ipython3",
   "version": "3.11.0"
  }
 },
 "nbformat": 4,
 "nbformat_minor": 5
}
