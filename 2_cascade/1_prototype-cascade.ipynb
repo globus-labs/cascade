{
 "cells": [
  {
   "cell_type": "markdown",
   "id": "bcb6f711-2a4a-4908-85ac-e35d7b52fb03",
   "metadata": {},
   "source": [
    "## Pseudocode"
   ]
  },
  {
   "cell_type": "markdown",
   "id": "5f9929d1-ebb5-4a80-955a-f9370043e085",
   "metadata": {},
   "source": [
    "We want to build something like this\n",
    "```python\n",
    "new_training_examples = []\n",
    "initial_starting_points = []\n",
    "\n",
    "explore_timesteps = 50\n",
    "n_audit_frames = 10\n",
    "\n",
    "class Trajectory: \n",
    "    def __init__(self, file): \n",
    "        file = file\n",
    "    last_trusted_ix = 0\n",
    "\n",
    "def audit(trajectory, reference_calc): \n",
    "    uqs = [uq(frame) for frame in traj[last_trusted:]]\n",
    "    # audit the topk worst UQ frames\n",
    "    audit_indices = np.argsort(uqs)[::-n_audit_frames] # double check this indexing\n",
    "    ref_energies, ref_forces = [compute_forces(frames[i]) for i in audit_indices]\n",
    "    error = compute_error(forces, ref_forces)\n",
    "    return error, ref_energies, ref_forces\n",
    "    \n",
    "trajectories = [Trajectory() for file in initial_starting_points]\n",
    "\n",
    "done = False\n",
    "while not done: # loop breaks when all trajectories are done\n",
    "    if training_set.updated(): \n",
    "        model.retrain()\n",
    "    for traj in trajectories:\n",
    "        calc = reference_calc\n",
    "        init = read(traj.file, index=traj.last_trusted_ix)\n",
    "        dyn.run(init, explore_timesteps, traj)\n",
    "        error, audit_frames = audit(trajectory, calc)\n",
    "        if error > tol: \n",
    "            training_set.append(audit_frames)\n",
    "\n",
    "    done = all(traj.done() for traj in trajectory)\n",
    "```"
   ]
  },
  {
   "cell_type": "markdown",
   "id": "54f820f1-0550-4d3b-bb37-603131f848cc",
   "metadata": {},
   "source": [
    "## prototype"
   ]
  },
  {
   "cell_type": "code",
   "execution_count": 59,
   "id": "9c49f1f6-3a41-4d70-8126-236faccc3f4d",
   "metadata": {},
   "outputs": [],
   "source": [
    "from glob import glob\n",
    "from pathlib import Path\n",
    "from ase.io import read\n",
    "from ase.io.trajectory import Trajectory\n",
    "from ase import units\n",
    "from ase.md.npt import NPT\n",
    "\n",
    "import numpy as np\n",
    "from cascade.calculator import make_calculator\n",
    "\n",
    "from mace.calculators import MACECalculator"
   ]
  },
  {
   "cell_type": "code",
   "execution_count": null,
   "id": "96d521c2-9c3d-444f-bced-b72f9f0b464c",
   "metadata": {},
   "outputs": [],
   "source": []
  },
  {
   "cell_type": "markdown",
   "id": "106599fc-325b-44c2-b1d2-de5b86ba81da",
   "metadata": {},
   "source": [
    "### Read in initial conditions and get trajectory names"
   ]
  },
  {
   "cell_type": "code",
   "execution_count": 37,
   "id": "ee7db088-b996-4bae-b3c5-1d2180f806a7",
   "metadata": {},
   "outputs": [
    {
     "data": {
      "text/plain": [
       "['../0_setup/md/packmol-CH4-in-H2O=32-seed=3-blyp-npt=298/md.traj']"
      ]
     },
     "execution_count": 37,
     "metadata": {},
     "output_type": "execute_result"
    }
   ],
   "source": [
    "initial_trajectories = glob('../0_setup/md/**/*md.traj')[-1:]\n",
    "initial_trajectories"
   ]
  },
  {
   "cell_type": "code",
   "execution_count": 38,
   "id": "3cf58db7-8b22-4c92-af03-97553e8ba481",
   "metadata": {},
   "outputs": [
    {
     "data": {
      "text/plain": [
       "['packmol-CH4-in-H2O=32-seed=3-blyp-npt=298']"
      ]
     },
     "execution_count": 38,
     "metadata": {},
     "output_type": "execute_result"
    }
   ],
   "source": [
    "traj_names = [traj.split('/')[-2] for traj in initial_trajectories]\n",
    "traj_names"
   ]
  },
  {
   "cell_type": "code",
   "execution_count": 40,
   "id": "3fa67b03-b320-4a90-978b-e9642eaf78a2",
   "metadata": {},
   "outputs": [],
   "source": [
    "initial_conditions = {name: read(traj, index='0') \n",
    "                      for traj, name in \n",
    "                      zip(initial_trajectories, \n",
    "                          traj_names)}"
   ]
  },
  {
   "cell_type": "code",
   "execution_count": 43,
   "id": "3dea51da-ddac-416d-a8c1-b058b8dab889",
   "metadata": {},
   "outputs": [
    {
     "data": {
      "text/plain": [
       "{'packmol-CH4-in-H2O=32-seed=3-blyp-npt=298': Atoms(symbols='CH68O32', pbc=True, cell=[10.288817093428836, 10.288817093428836, 10.288817093428836], momenta=..., calculator=SinglePointCalculator(...))}"
      ]
     },
     "execution_count": 43,
     "metadata": {},
     "output_type": "execute_result"
    }
   ],
   "source": [
    "initial_conditions"
   ]
  },
  {
   "cell_type": "markdown",
   "id": "2ccce74a-3702-4dcf-b3ef-868a3ca235ca",
   "metadata": {},
   "source": [
    "## Read in initial models"
   ]
  },
  {
   "cell_type": "code",
   "execution_count": 44,
   "id": "76525cbb-f5e0-4b7e-a426-0d7624702f5e",
   "metadata": {},
   "outputs": [
    {
     "name": "stdout",
     "output_type": "stream",
     "text": [
      "Running committee mace with 4 models\n",
      "No dtype selected, switching to float32 to match model dtype.\n"
     ]
    }
   ],
   "source": [
    "initial_model_files = glob('../1_mace/ensemble/*.pt')\n",
    "calc_ml = MACECalculator(initial_model_files, device='cuda:0')\n",
    "calc_ref = make_calculator('blyp')"
   ]
  },
  {
   "cell_type": "code",
   "execution_count": 55,
   "id": "2520a2ed-3824-4e9b-8cfa-9b8c9237c350",
   "metadata": {},
   "outputs": [
    {
     "data": {
      "text/plain": [
       "12"
      ]
     },
     "execution_count": 55,
     "metadata": {},
     "output_type": "execute_result"
    }
   ],
   "source": [
    "min(chunk_size, total_time - 500)"
   ]
  },
  {
   "cell_type": "markdown",
   "id": "e4790f85-a806-4d12-87e8-cb9b2b350db1",
   "metadata": {},
   "source": [
    "## TODO:\n",
    "handle the trajectory splicing/overwiting. I think it makes sense to see how Logan did this. \n",
    "\n",
    "One idea is to track the trusted segments\n",
    "something like \n",
    "\n",
    "```python\n",
    "@dataclass\n",
    "class Trajectory: \n",
    "\n",
    "    id: str\n",
    "    starting: ase.Atoms\n",
    "    last_trusted_timestep = 0\n",
    "    \n",
    "    # which chunks to splice together into a trusted trajectory\n",
    "    trusted_chunks = tuple()\n",
    "```"
   ]
  },
  {
   "cell_type": "code",
   "execution_count": 61,
   "id": "568bdb51-d2a5-4ff5-9b50-13d4bc111e5f",
   "metadata": {},
   "outputs": [
    {
     "name": "stderr",
     "output_type": "stream",
     "text": [
      "WARNING: NPT: Setting the center-of-mass momentum to zero (was 0.00234261 -0.00646854 -0.00770384)\n"
     ]
    }
   ],
   "source": [
    "last_trusted_ix = 0\n",
    "chunk_size = 50\n",
    "total_time = 512\n",
    "retrain_ix = 0\n",
    "done = False\n",
    "\n",
    "while not done:\n",
    "    for name, atoms in initial_conditions.items():\n",
    "        # set up the run dir\n",
    "        run_dir = Path('cascade-md') / name\n",
    "        run_dir.mkdir(exist_ok=True, parents=True)\n",
    "        traj_file = run_dir / 'md.traj'\n",
    "\n",
    "        \n",
    "        if last_trusted_ix > 0: \n",
    "            atoms = read(traj_file, \n",
    "                         index=last_trusted_ix)\n",
    "        \n",
    "       \n",
    "        # setup the ml-driven dynamics\n",
    "        atoms.calc = calc_ml\n",
    "        dyn = NPT(atoms,\n",
    "          timestep=0.5 * units.fs,\n",
    "          temperature_K=298,\n",
    "          ttime=100 * units.fs,\n",
    "          pfactor=0.01,\n",
    "          externalstress=0,\n",
    "          logfile=str(run_dir / 'md.log'),\n",
    "          trajectory=str(traj_file),\n",
    "          append_trajectory=False)\n",
    "\n",
    "        # timestep indexing\n",
    "        start = last_trusted_ix\n",
    "        step = min(chunk_size, total_time - last_trusted_ix)\n",
    "        stop = start + step\n",
    "\n",
    "        # run the dynamics for this chunk\n",
    "        dyn.run(step)\n",
    "\n",
    "        # read in the recent chunk\n",
    "        chunk = read(traj_file, index=f'{start}:{stop}')\n",
    "\n",
    "        audit\n",
    "    break"
   ]
  },
  {
   "cell_type": "code",
   "execution_count": null,
   "id": "a8e3be7b-5b3c-4d50-ba75-460445f9428c",
   "metadata": {},
   "outputs": [],
   "source": []
  }
 ],
 "metadata": {
  "kernelspec": {
   "display_name": "Python 3 (ipykernel)",
   "language": "python",
   "name": "python3"
  },
  "language_info": {
   "codemirror_mode": {
    "name": "ipython",
    "version": 3
   },
   "file_extension": ".py",
   "mimetype": "text/x-python",
   "name": "python",
   "nbconvert_exporter": "python",
   "pygments_lexer": "ipython3",
   "version": "3.11.0"
  }
 },
 "nbformat": 4,
 "nbformat_minor": 5
}
