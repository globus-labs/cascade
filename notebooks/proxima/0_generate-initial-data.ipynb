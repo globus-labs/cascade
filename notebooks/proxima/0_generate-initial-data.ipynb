{
 "cells": [
  {
   "cell_type": "markdown",
   "id": "2ed052eb-92ce-463b-adb4-56ccc6fa54aa",
   "metadata": {},
   "source": [
    "# Generate Initial Dataset\n",
    "While it isn't necessary to start with a learned potential when doing on-the-fly learning, it will accelerate the process."
   ]
  },
  {
   "cell_type": "code",
   "execution_count": null,
   "id": "1d23250f-15ec-4283-895f-c8a96bf9eab4",
   "metadata": {},
   "outputs": [],
   "source": [
    "from cascade.calculator import make_calculator\n",
    "from ase.md.velocitydistribution import MaxwellBoltzmannDistribution\n",
    "from ase.md.nptberendsen import NPTBerendsen\n",
    "from ase.io import read, Trajectory\n",
    "from ase import units\n",
    "from pathlib import Path"
   ]
  },
  {
   "cell_type": "markdown",
   "id": "bf463a6d-c96a-4eac-bd03-4ad36cc5a071",
   "metadata": {},
   "source": [
    "Configuration"
   ]
  },
  {
   "cell_type": "code",
   "execution_count": null,
   "id": "17fc9f6c-0fb0-46ec-9e6a-c23c9e42595d",
   "metadata": {},
   "outputs": [],
   "source": [
    "starting_strc = 'structures/si-perfect-2x2x2.vasp'\n",
    "timesteps = 512"
   ]
  },
  {
   "cell_type": "code",
   "execution_count": null,
   "id": "ad173f41-15d7-40f7-bfa3-d82ff3698fea",
   "metadata": {},
   "outputs": [],
   "source": [
    "starting_strc = Path(starting_strc)"
   ]
  },
  {
   "cell_type": "markdown",
   "id": "7c796213-68ab-4572-86a0-502c33a53e32",
   "metadata": {},
   "source": [
    "## Load the Structure and make a Calculator\n",
    "The two ingredients we need to run the dynamics"
   ]
  },
  {
   "cell_type": "code",
   "execution_count": null,
   "id": "0d31e56d-a08b-4631-8542-2abecb7b8603",
   "metadata": {},
   "outputs": [],
   "source": [
    "atoms = read(starting_strc)"
   ]
  },
  {
   "cell_type": "code",
   "execution_count": null,
   "id": "46acd4e9-89d3-46ad-89d9-9e222e3c4d29",
   "metadata": {},
   "outputs": [],
   "source": [
    "calc = make_calculator('blyp')"
   ]
  },
  {
   "cell_type": "markdown",
   "id": "0b3cdc16-b319-43f6-9e98-f6bfb2952cc4",
   "metadata": {},
   "source": [
    "## Get the starting point\n",
    "Either a thermalized structure or the last checkpoint"
   ]
  },
  {
   "cell_type": "code",
   "execution_count": null,
   "id": "8a3d9ca1-ea0e-4f20-ae79-01c59ae1e8a4",
   "metadata": {},
   "outputs": [],
   "source": [
    "run_dir = Path('init-run') / starting_strc.name\n",
    "traj_path = run_dir / 'md.traj'"
   ]
  },
  {
   "cell_type": "code",
   "execution_count": null,
   "id": "a681c616-e10f-44f4-bb28-0f5629b3fc34",
   "metadata": {},
   "outputs": [],
   "source": [
    "if traj_path.exists():\n",
    "    atoms = read(traj_path, -1)\n",
    "else:\n",
    "    run_dir.mkdir(exist_ok=True, parents=True)\n",
    "    MaxwellBoltzmannDistribution(atoms, temperature_K=300)"
   ]
  },
  {
   "cell_type": "markdown",
   "id": "a6fd4e32-940c-490a-b324-d272aff3ba58",
   "metadata": {},
   "source": [
    "Run dynamics"
   ]
  },
  {
   "cell_type": "code",
   "execution_count": null,
   "id": "509e07d4-37d0-4b74-b1e2-bd4ccaa35680",
   "metadata": {},
   "outputs": [],
   "source": [
    "with Trajectory(traj_path, mode='a', atoms=atoms) as traj:\n",
    "    atoms.calc = calc\n",
    "    npt = NPTBerendsen(\n",
    "        atoms,\n",
    "        logfile=run_dir / 'md.log',\n",
    "        timestep=0.3 * units.fs,\n",
    "        taut=10. * units.fs,  # Small because the structure starts out very unrelaxed\n",
    "        temperature_K=300,\n",
    "        pressure_au=0,\n",
    "        compressibility_au=4.57e-5 / units.bar\n",
    "    )\n",
    "    npt.attach(traj.write, 1)\n",
    "    npt.run(timesteps)"
   ]
  },
  {
   "cell_type": "code",
   "execution_count": null,
   "id": "2fa3310e-dc90-4630-be1c-a1763f97c852",
   "metadata": {},
   "outputs": [],
   "source": []
  }
 ],
 "metadata": {
  "kernelspec": {
   "display_name": "Python 3 (ipykernel)",
   "language": "python",
   "name": "python3"
  },
  "language_info": {
   "codemirror_mode": {
    "name": "ipython",
    "version": 3
   },
   "file_extension": ".py",
   "mimetype": "text/x-python",
   "name": "python",
   "nbconvert_exporter": "python",
   "pygments_lexer": "ipython3",
   "version": "3.11.0"
  }
 },
 "nbformat": 4,
 "nbformat_minor": 5
}
