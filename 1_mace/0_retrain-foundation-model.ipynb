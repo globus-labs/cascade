{
 "cells": [
  {
   "cell_type": "markdown",
   "id": "0e479d33-f079-4972-b570-4a08424dfe0d",
   "metadata": {},
   "source": [
    "# Example Training Script\n",
    "See what I can do to set up a training run with MACE through it's Python interface.\n",
    "\n",
    "I may give up and use the CLI, but I would really prefer not to\n"
   ]
  },
  {
   "cell_type": "code",
   "execution_count": 1,
   "id": "e401bb55-85ea-45a6-827b-b48c8c44b275",
   "metadata": {},
   "outputs": [],
   "source": [
    "%matplotlib inline\n",
    "from matplotlib import pyplot as plt\n",
    "from mace.calculators.foundations_models import mace_mp\n",
    "from mace.data.utils import config_from_atoms, compute_average_E0s\n",
    "from mace.data import AtomicData\n",
    "from mace.modules import WeightedEnergyForcesLoss, scaling_classes\n",
    "from mace.tools.torch_geometric.dataloader import DataLoader\n",
    "from ignite.engine import Engine\n",
    "from ignite.metrics import Loss\n",
    "from ase.io import iread\n",
    "from tqdm import tqdm\n",
    "from torch import nn\n",
    "import pandas as pd\n",
    "import numpy as np\n",
    "import torch"
   ]
  },
  {
   "cell_type": "markdown",
   "id": "e26d3ca8-f6a7-4c74-a772-74295b3d6997",
   "metadata": {},
   "source": [
    "Config"
   ]
  },
  {
   "cell_type": "code",
   "execution_count": 2,
   "id": "bcf07b86-5930-4952-81f2-d8167b6789f6",
   "metadata": {},
   "outputs": [],
   "source": [
    "train_file = '../0_setup/md/packmol-CH4-in-H2O=32-seed=129-blyp-npt=298/md.traj'"
   ]
  },
  {
   "cell_type": "markdown",
   "id": "77464220-b185-4bf8-b70c-1b1afa7842cb",
   "metadata": {},
   "source": [
    "## Load MD Dataset\n",
    "Load the MD data from our previous run"
   ]
  },
  {
   "cell_type": "code",
   "execution_count": 3,
   "id": "4bec7b88-60a8-4faa-8a3c-8f69cf3feba6",
   "metadata": {},
   "outputs": [],
   "source": [
    "configs = []\n",
    "for atoms in iread(train_file):\n",
    "    # Move the data into an \"info\" so MACE can find it\n",
    "    atoms.info = {\n",
    "        'energy': atoms.get_potential_energy(),\n",
    "        'stress': atoms.get_stress()\n",
    "    }\n",
    "    atoms.arrays.update({\n",
    "        'forces': atoms.get_forces(),\n",
    "        'positions': atoms.positions,\n",
    "    })\n",
    "    configs.append(config_from_atoms(atoms))"
   ]
  },
  {
   "cell_type": "markdown",
   "id": "d85d848f-d343-4adc-9cff-7b1bbf13b844",
   "metadata": {},
   "source": [
    "## Load the Starting Model\n",
    "We are going to start from the [MACE-MP Medium](https://arxiv.org/abs/2401.00096) model.\n",
    "\n",
    "The first step is to re-compute the \"atomic energies\" to account for differences in energy scales for atomic refernece energies\n",
    "The dataloader for MACE needs a \"Z table\" to match between atomic number and index in the nueral network. \n",
    "We are going to use the same one as the MACE-MP model"
   ]
  },
  {
   "cell_type": "code",
   "execution_count": 4,
   "id": "d4f0a1c9-e6df-447e-b767-0ecc955a5003",
   "metadata": {},
   "outputs": [
    {
     "name": "stdout",
     "output_type": "stream",
     "text": [
      "Using Materials Project MACE for MACECalculator with /home/lward/.cache/mace/46jrkm3v\n",
      "Using float32 for MACECalculator, which is faster but less accurate. Recommended for MD. Use float64 for geometry optimization.\n",
      "Default dtype float32 does not match model dtype float64, converting models to float32.\n"
     ]
    }
   ],
   "source": [
    "calc = mace_mp('small', device='cuda')"
   ]
  },
  {
   "cell_type": "code",
   "execution_count": 5,
   "id": "248f7835-4ad8-4005-b1ee-f4c3540ed0d7",
   "metadata": {},
   "outputs": [
    {
     "data": {
      "text/plain": [
       "ScaleShiftMACE(\n",
       "  (node_embedding): LinearNodeEmbeddingBlock(\n",
       "    (linear): Linear(89x0e -> 128x0e | 11392 weights)\n",
       "  )\n",
       "  (radial_embedding): RadialEmbeddingBlock(\n",
       "    (bessel_fn): BesselBasis(r_max=6.0, num_basis=10, trainable=False)\n",
       "    (cutoff_fn): PolynomialCutoff(p=5.0, r_max=6.0)\n",
       "  )\n",
       "  (spherical_harmonics): SphericalHarmonics()\n",
       "  (atomic_energies_fn): AtomicEnergiesBlock(energies=[-3.6672, -1.3321, -3.4821, -4.7367, -7.7249, -8.4056, -7.3601, -7.2846, -4.8965, 0.0000, -2.7594, -2.8140, -4.8469, -7.6948, -6.9633, -4.6726, -2.8117, -0.0626, -2.6176, -5.3905, -7.8858, -10.2684, -8.6651, -9.2331, -8.3050, -7.0490, -5.5774, -5.1727, -3.2521, -1.2902, -3.5271, -4.7085, -3.9765, -3.8862, -2.5185, 6.7669, -2.5635, -4.9380, -10.1498, -11.8469, -12.1389, -8.7917, -8.7869, -7.7809, -6.8500, -4.8910, -2.0634, -0.6396, -2.7887, -3.8186, -3.5871, -2.8804, -1.6356, 9.8467, -2.7653, -4.9910, -8.9337, -8.7356, -8.0190, -8.2515, -7.5917, -8.1697, -13.5927, -18.5175, -7.6474, -8.1230, -7.6078, -6.8503, -7.8269, -3.5848, -7.4554, -12.7963, -14.1081, -9.3549, -11.3875, -9.6219, -7.3244, -5.3047, -2.3801, 0.2495, -2.3240, -3.7300, -3.4388, -5.0629, -11.0246, -12.2656, -13.8556, -14.9331, -15.2828])\n",
       "  (interactions): ModuleList(\n",
       "    (0-1): 2 x RealAgnosticResidualInteractionBlock(\n",
       "      (linear_up): Linear(128x0e -> 128x0e | 16384 weights)\n",
       "      (conv_tp): TensorProduct(128x0e x 1x0e+1x1o+1x2e+1x3o -> 128x0e+128x1o+128x2e+128x3o | 512 paths | 512 weights)\n",
       "      (conv_tp_weights): FullyConnectedNet[10, 64, 64, 64, 512]\n",
       "      (linear): Linear(128x0e+128x1o+128x2e+128x3o -> 128x0e+128x1o+128x2e+128x3o | 65536 weights)\n",
       "      (skip_tp): FullyConnectedTensorProduct(128x0e x 89x0e -> 128x0e | 1458176 paths | 1458176 weights)\n",
       "      (reshape): reshape_irreps()\n",
       "    )\n",
       "  )\n",
       "  (products): ModuleList(\n",
       "    (0-1): 2 x EquivariantProductBasisBlock(\n",
       "      (symmetric_contractions): SymmetricContraction(\n",
       "        (contractions): ModuleList(\n",
       "          (0): Contraction(\n",
       "            (contractions_weighting): ModuleList(\n",
       "              (0-1): 2 x GraphModule()\n",
       "            )\n",
       "            (contractions_features): ModuleList(\n",
       "              (0-1): 2 x GraphModule()\n",
       "            )\n",
       "            (weights): ParameterList(\n",
       "                (0): Parameter containing: [torch.float32 of size 89x4x128 (cuda:0)]\n",
       "                (1): Parameter containing: [torch.float32 of size 89x1x128 (cuda:0)]\n",
       "            )\n",
       "            (graph_opt_main): GraphModule()\n",
       "          )\n",
       "        )\n",
       "      )\n",
       "      (linear): Linear(128x0e -> 128x0e | 16384 weights)\n",
       "    )\n",
       "  )\n",
       "  (readouts): ModuleList(\n",
       "    (0): LinearReadoutBlock(\n",
       "      (linear): Linear(128x0e -> 1x0e | 128 weights)\n",
       "    )\n",
       "    (1): NonLinearReadoutBlock(\n",
       "      (linear_1): Linear(128x0e -> 16x0e | 2048 weights)\n",
       "      (non_linearity): Activation [x] (16x0e -> 16x0e)\n",
       "      (linear_2): Linear(16x0e -> 1x0e | 16 weights)\n",
       "    )\n",
       "  )\n",
       "  (scale_shift): ScaleShiftBlock(scale=0.804154, shift=0.164097)\n",
       ")"
      ]
     },
     "execution_count": 5,
     "metadata": {},
     "output_type": "execute_result"
    }
   ],
   "source": [
    "calc.models[0]"
   ]
  },
  {
   "cell_type": "code",
   "execution_count": 6,
   "id": "f9c1dc2c-aa74-4174-8977-ade251c398a9",
   "metadata": {},
   "outputs": [],
   "source": [
    "atomic_energies_dict = compute_average_E0s(configs, calc.z_table)\n",
    "atomic_energies = np.array([atomic_energies_dict[z] for z in calc.z_table.zs])"
   ]
  },
  {
   "cell_type": "code",
   "execution_count": 7,
   "id": "d1d8daa8-8061-451a-9cae-7c0e4a13ba96",
   "metadata": {},
   "outputs": [],
   "source": [
    "assert len(calc.models) == 1\n",
    "model = calc.models[0]"
   ]
  },
  {
   "cell_type": "code",
   "execution_count": 8,
   "id": "f13801d3-ddea-497d-8ae0-f62cac49735b",
   "metadata": {},
   "outputs": [
    {
     "data": {
      "text/plain": [
       "torch.Size([89, 23, 128])"
      ]
     },
     "execution_count": 8,
     "metadata": {},
     "output_type": "execute_result"
    }
   ],
   "source": [
    "next(model.products.parameters()).size()"
   ]
  },
  {
   "cell_type": "code",
   "execution_count": 9,
   "id": "5a65f2a9-421a-4388-a874-fc553f36e9dd",
   "metadata": {},
   "outputs": [],
   "source": [
    "with torch.no_grad():\n",
    "    ae = model.atomic_energies_fn.atomic_energies\n",
    "    model.atomic_energies_fn.atomic_energies = torch.from_numpy(atomic_energies).to(ae.dtype).to(ae.device)"
   ]
  },
  {
   "cell_type": "markdown",
   "id": "08b618e5-7aa2-4c70-aa51-fb89e6f9b45b",
   "metadata": {},
   "source": [
    "Then readjust the \"shift\" of the energy scale"
   ]
  },
  {
   "cell_type": "code",
   "execution_count": 10,
   "id": "ab56dcbf-e681-4123-8327-2338e7a6de9e",
   "metadata": {},
   "outputs": [
    {
     "name": "stderr",
     "output_type": "stream",
     "text": [
      "66it [00:03, 19.30it/s]\n"
     ]
    }
   ],
   "source": [
    "comparison = []\n",
    "for atoms in tqdm(iread(train_file)):\n",
    "    comparison.append({\n",
    "        'dft': atoms.get_potential_energy() / len(atoms),\n",
    "        'ml': calc.get_potential_energy(atoms) / len(atoms)\n",
    "    })"
   ]
  },
  {
   "cell_type": "code",
   "execution_count": 11,
   "id": "f5ef85b2-8840-49da-a9da-389fafa9a1cb",
   "metadata": {},
   "outputs": [],
   "source": [
    "comparison = pd.DataFrame(comparison)"
   ]
  },
  {
   "cell_type": "code",
   "execution_count": 12,
   "id": "ee24d63b-f94b-414d-9c99-dbb6d4e252e2",
   "metadata": {},
   "outputs": [
    {
     "data": {
      "text/plain": [
       "count    66.000000\n",
       "mean      0.011800\n",
       "std       0.000990\n",
       "min       0.010254\n",
       "25%       0.010992\n",
       "50%       0.011804\n",
       "75%       0.012666\n",
       "max       0.013674\n",
       "Name: error, dtype: float64"
      ]
     },
     "execution_count": 12,
     "metadata": {},
     "output_type": "execute_result"
    }
   ],
   "source": [
    "comparison['error'] = (comparison['ml'] - comparison['dft'])\n",
    "comparison['error'].describe()"
   ]
  },
  {
   "cell_type": "code",
   "execution_count": 13,
   "id": "005f5b40-a4fd-4868-9354-9625a3352a7b",
   "metadata": {},
   "outputs": [],
   "source": [
    "model.scale_shift.shift -=  comparison['error'].mean()"
   ]
  },
  {
   "cell_type": "markdown",
   "id": "7e70cd75-c11d-4f5d-b6c7-d1f852b61b95",
   "metadata": {},
   "source": [
    "Repeat analysis to make sure it gives the correct energy scale"
   ]
  },
  {
   "cell_type": "code",
   "execution_count": 14,
   "id": "21e495e0-b86a-47d8-a3a6-47f52949180a",
   "metadata": {},
   "outputs": [
    {
     "name": "stderr",
     "output_type": "stream",
     "text": [
      "66it [00:01, 45.67it/s]\n"
     ]
    }
   ],
   "source": [
    "comparison = []\n",
    "for atoms in tqdm(iread(train_file)):\n",
    "    comparison.append({\n",
    "        'dft': atoms.get_potential_energy() / len(atoms),\n",
    "        'dft-forces': atoms.get_forces(),\n",
    "        'ml': calc.get_potential_energy(atoms) / len(atoms),\n",
    "        'ml-forces': calc.get_forces(atoms),\n",
    "    })"
   ]
  },
  {
   "cell_type": "code",
   "execution_count": 15,
   "id": "becc7569-5867-4623-88c9-50977279aedd",
   "metadata": {},
   "outputs": [],
   "source": [
    "comparison = pd.DataFrame(comparison)"
   ]
  },
  {
   "cell_type": "code",
   "execution_count": 16,
   "id": "66101c0d-906e-45f0-b435-9ea36b6cd6fe",
   "metadata": {},
   "outputs": [],
   "source": [
    "comparison['force_rmse'] = np.sqrt([np.power(x - y, 2).mean() for x, y in \n",
    "                                    zip(comparison['dft-forces'], comparison['ml-forces'])])"
   ]
  },
  {
   "cell_type": "code",
   "execution_count": 17,
   "id": "1e965c5b-e3f1-4076-ba5e-9166dede2aaf",
   "metadata": {},
   "outputs": [
    {
     "data": {
      "text/plain": [
       "Text(0, 0.5, 'E, DFT (eV/atom)')"
      ]
     },
     "execution_count": 17,
     "metadata": {},
     "output_type": "execute_result"
    },
    {
     "data": {
      "image/png": "[encoded data removed]",
      "text/plain": [
       "<Figure size 300x300 with 1 Axes>"
      ]
     },
     "metadata": {},
     "output_type": "display_data"
    }
   ],
   "source": [
    "fig, ax = plt.subplots(figsize=(3., 3.))\n",
    "\n",
    "ref = comparison.loc[comparison['dft'].argmin()]\n",
    "ax.scatter(comparison['ml'] - ref['dft'], comparison['dft'] - ref['dft'], s=0.2)\n",
    "\n",
    "ax.set_xlim(ax.get_xlim())\n",
    "ax.set_ylim(ax.get_xlim())\n",
    "\n",
    "ax.plot(ax.get_xlim(), ax.get_xlim(), 'k--', lw=1)\n",
    "\n",
    "ax.set_xlabel('E, ML (eV/atom)')\n",
    "ax.set_ylabel('E, DFT (eV/atom)')"
   ]
  },
  {
   "cell_type": "markdown",
   "id": "645f58c9-a0fa-4616-afb6-43b735d4e02a",
   "metadata": {},
   "source": [
    "## Run a Few Training Sets\n",
    "Enough to show that we can get better"
   ]
  },
  {
   "cell_type": "code",
   "execution_count": 18,
   "id": "fdb4ab54-4189-43dd-97b3-25df68149ae3",
   "metadata": {},
   "outputs": [],
   "source": [
    "loader = DataLoader(\n",
    "    [AtomicData.from_config(c, z_table=calc.z_table, cutoff=calc.r_max) for c in configs],\n",
    "    batch_size=8,\n",
    "    shuffle=True,\n",
    "    drop_last=True,\n",
    ")"
   ]
  },
  {
   "cell_type": "markdown",
   "id": "fa533857-09e7-4ff5-a751-9028e708e13f",
   "metadata": {},
   "source": [
    "Set some weights as eligible for training"
   ]
  },
  {
   "cell_type": "code",
   "execution_count": 19,
   "id": "cd2fb1b5-a986-4fa2-97e4-0d8e7484f823",
   "metadata": {},
   "outputs": [],
   "source": [
    "for p in model.readouts.parameters():\n",
    "    p.requires_grad = True"
   ]
  },
  {
   "cell_type": "markdown",
   "id": "ec11dfd1-2fff-470f-b4bf-4596493823ba",
   "metadata": {},
   "source": [
    "Define the loss function and optimizer"
   ]
  },
  {
   "cell_type": "code",
   "execution_count": 20,
   "id": "1ef43fc8-5840-4bd4-a6af-3a9516ffb911",
   "metadata": {},
   "outputs": [],
   "source": [
    "opt = torch.optim.Adam(model.parameters(), lr=1e-5)\n",
    "criterion = WeightedEnergyForcesLoss(energy_weight=1.0, forces_weight=100.)"
   ]
  },
  {
   "cell_type": "markdown",
   "id": "a039f681-1444-4191-8f30-78a4eb05d6bf",
   "metadata": {},
   "source": [
    "Define the trainer and evaluators"
   ]
  },
  {
   "cell_type": "code",
   "execution_count": 21,
   "id": "9dde016d-14a6-4e3a-94d1-0a75963e40b9",
   "metadata": {},
   "outputs": [],
   "source": [
    "def train_step(engine, batch):\n",
    "    \"\"\"Borrowed from the training step used inside MACE\"\"\"\n",
    "    model.train()\n",
    "    opt.zero_grad()\n",
    "    batch = batch.to('cuda')\n",
    "    y = model(\n",
    "        batch,\n",
    "        training=True,\n",
    "        compute_force=True,\n",
    "        compute_virials=False,\n",
    "        compute_stress=False,\n",
    "    )\n",
    "    loss = criterion(pred=y, ref=batch)\n",
    "    loss.backward()\n",
    "    opt.step()\n",
    "    return loss.item()"
   ]
  },
  {
   "cell_type": "code",
   "execution_count": 22,
   "id": "67f562be-93a6-44fd-8bde-a2aafd4d1ae2",
   "metadata": {},
   "outputs": [],
   "source": [
    "val_metrics = {\n",
    "    \"loss\": Loss(criterion)\n",
    "}\n",
    "trainer = Engine(train_step)"
   ]
  },
  {
   "cell_type": "code",
   "execution_count": 23,
   "id": "d5936799-fe56-4cee-bb3f-d38b8e5f9581",
   "metadata": {},
   "outputs": [
    {
     "data": {
      "text/plain": [
       "State:\n",
       "\titeration: 512\n",
       "\tepoch: 64\n",
       "\tepoch_length: 8\n",
       "\tmax_epochs: 64\n",
       "\toutput: 1.3115605115890503\n",
       "\tbatch: <class 'mace.tools.torch_geometric.batch.Batch'>\n",
       "\tmetrics: <class 'dict'>\n",
       "\tdataloader: <class 'mace.tools.torch_geometric.dataloader.DataLoader'>\n",
       "\tseed: <class 'NoneType'>\n",
       "\ttimes: <class 'dict'>"
      ]
     },
     "execution_count": 23,
     "metadata": {},
     "output_type": "execute_result"
    }
   ],
   "source": [
    "trainer.run(loader, max_epochs=64)"
   ]
  },
  {
   "cell_type": "code",
   "execution_count": 24,
   "id": "885ff3e2-cb63-4f64-b7a2-391ee1490a9d",
   "metadata": {},
   "outputs": [
    {
     "name": "stderr",
     "output_type": "stream",
     "text": [
      "66it [00:01, 45.16it/s]\n"
     ]
    }
   ],
   "source": [
    "comparison['ml-next'] = [\n",
    "    calc.get_potential_energy(atoms) / len(atoms) for atoms \n",
    "    in tqdm(iread(train_file))\n",
    "]"
   ]
  },
  {
   "cell_type": "code",
   "execution_count": 25,
   "id": "30aa6566-d16a-4e3b-a1bf-01287fdd29ad",
   "metadata": {},
   "outputs": [
    {
     "name": "stderr",
     "output_type": "stream",
     "text": [
      "66it [00:01, 46.09it/s]\n"
     ]
    }
   ],
   "source": [
    "comparison['ml-forces-next'] = [\n",
    "    calc.get_forces(atoms) for atoms \n",
    "    in tqdm(iread(train_file))\n",
    "]\n"
   ]
  },
  {
   "cell_type": "code",
   "execution_count": 26,
   "id": "b7094e41-1300-452e-95e8-12884701128d",
   "metadata": {},
   "outputs": [],
   "source": [
    "comparison['force_rmse-next'] = np.sqrt([np.power(x - y, 2).mean() for x, y in \n",
    "                                    zip(comparison['dft-forces'], comparison['ml-forces-next'])])"
   ]
  },
  {
   "cell_type": "code",
   "execution_count": 27,
   "id": "b7693fca-97db-48ba-a84b-31aa5c6c6a1b",
   "metadata": {},
   "outputs": [
    {
     "data": {
      "text/html": [
       "<div>\n",
       "<style scoped>\n",
       "    .dataframe tbody tr th:only-of-type {\n",
       "        vertical-align: middle;\n",
       "    }\n",
       "\n",
       "    .dataframe tbody tr th {\n",
       "        vertical-align: top;\n",
       "    }\n",
       "\n",
       "    .dataframe thead th {\n",
       "        text-align: right;\n",
       "    }\n",
       "</style>\n",
       "<table border=\"1\" class=\"dataframe\">\n",
       "  <thead>\n",
       "    <tr style=\"text-align: right;\">\n",
       "      <th></th>\n",
       "      <th>force_rmse</th>\n",
       "      <th>force_rmse-next</th>\n",
       "    </tr>\n",
       "  </thead>\n",
       "  <tbody>\n",
       "    <tr>\n",
       "      <th>count</th>\n",
       "      <td>66.000000</td>\n",
       "      <td>66.000000</td>\n",
       "    </tr>\n",
       "    <tr>\n",
       "      <th>mean</th>\n",
       "      <td>0.120166</td>\n",
       "      <td>0.116996</td>\n",
       "    </tr>\n",
       "    <tr>\n",
       "      <th>std</th>\n",
       "      <td>0.019613</td>\n",
       "      <td>0.020249</td>\n",
       "    </tr>\n",
       "    <tr>\n",
       "      <th>min</th>\n",
       "      <td>0.072876</td>\n",
       "      <td>0.067872</td>\n",
       "    </tr>\n",
       "    <tr>\n",
       "      <th>25%</th>\n",
       "      <td>0.108996</td>\n",
       "      <td>0.105947</td>\n",
       "    </tr>\n",
       "    <tr>\n",
       "      <th>50%</th>\n",
       "      <td>0.117779</td>\n",
       "      <td>0.115000</td>\n",
       "    </tr>\n",
       "    <tr>\n",
       "      <th>75%</th>\n",
       "      <td>0.136721</td>\n",
       "      <td>0.134266</td>\n",
       "    </tr>\n",
       "    <tr>\n",
       "      <th>max</th>\n",
       "      <td>0.154518</td>\n",
       "      <td>0.152211</td>\n",
       "    </tr>\n",
       "  </tbody>\n",
       "</table>\n",
       "</div>"
      ],
      "text/plain": [
       "       force_rmse  force_rmse-next\n",
       "count   66.000000        66.000000\n",
       "mean     0.120166         0.116996\n",
       "std      0.019613         0.020249\n",
       "min      0.072876         0.067872\n",
       "25%      0.108996         0.105947\n",
       "50%      0.117779         0.115000\n",
       "75%      0.136721         0.134266\n",
       "max      0.154518         0.152211"
      ]
     },
     "execution_count": 27,
     "metadata": {},
     "output_type": "execute_result"
    }
   ],
   "source": [
    "comparison[['force_rmse', 'force_rmse-next']].describe()"
   ]
  },
  {
   "cell_type": "code",
   "execution_count": 28,
   "id": "8e23f32f-d408-4b73-a902-a2b4ab64bbbe",
   "metadata": {},
   "outputs": [
    {
     "name": "stdout",
     "output_type": "stream",
     "text": [
      "ml 0.0008460289928014694\n",
      "ml-next 0.000853703788254906\n"
     ]
    },
    {
     "data": {
      "text/plain": [
       "Text(0, 0.5, 'E, DFT (eV)')"
      ]
     },
     "execution_count": 28,
     "metadata": {},
     "output_type": "execute_result"
    },
    {
     "data": {
      "image/png": "[encoded data removed]",
      "text/plain": [
       "<Figure size 600x300 with 2 Axes>"
      ]
     },
     "metadata": {},
     "output_type": "display_data"
    }
   ],
   "source": [
    "fig, axs = plt.subplots(1, 2, figsize=(6., 3.), sharey=True, sharex=True)\n",
    "\n",
    "ref = comparison.loc[comparison['dft'].argmin()]\n",
    "for ax, c in zip(axs, ['ml', 'ml-next']):\n",
    "    mae = (comparison['dft'] - comparison[c]).abs().mean()\n",
    "    print(c, mae)\n",
    "    \n",
    "    ax.scatter(comparison[c] - ref[c], comparison['dft'] - ref['dft'], s=0.2)\n",
    "\n",
    "    ax.set_xlim(ax.get_xlim())\n",
    "    ax.set_ylim(ax.get_xlim())\n",
    "    \n",
    "    ax.plot(ax.get_xlim(), ax.get_xlim(), 'k--', lw=1)\n",
    "\n",
    "    ax.set_xlabel('E, ML (eV)')\n",
    "axs[0].set_ylabel('E, DFT (eV)')"
   ]
  },
  {
   "cell_type": "markdown",
   "id": "eb46a038-4e00-4e63-bf70-c490d13b403c",
   "metadata": {},
   "source": [
    "The energy is getting worse while our predictions of forces get better. Changes are happening and we've got work to do to make them work as well as we need"
   ]
  },
  {
   "cell_type": "code",
   "execution_count": null,
   "id": "85675acc-cd45-4ca7-8f90-0f96e515665a",
   "metadata": {},
   "outputs": [],
   "source": []
  }
 ],
 "metadata": {
  "kernelspec": {
   "display_name": "Python 3 (ipykernel)",
   "language": "python",
   "name": "python3"
  },
  "language_info": {
   "codemirror_mode": {
    "name": "ipython",
    "version": 3
   },
   "file_extension": ".py",
   "mimetype": "text/x-python",
   "name": "python",
   "nbconvert_exporter": "python",
   "pygments_lexer": "ipython3",
   "version": "3.11.0"
  }
 },
 "nbformat": 4,
 "nbformat_minor": 5
}
