{
 "cells": [
  {
   "cell_type": "markdown",
   "id": "fbe7239e-54bb-4bcd-a89d-01334c8a95ab",
   "metadata": {},
   "source": [
    "## Goal: demo training ani on MD trajectories from ASE"
   ]
  },
  {
   "cell_type": "code",
   "execution_count": 1,
   "id": "e87efa7c-bb8b-4fbc-848c-78e9400eda15",
   "metadata": {},
   "outputs": [
    {
     "name": "stderr",
     "output_type": "stream",
     "text": [
      "/home/mike/miniconda3/envs/cascade/lib/python3.11/site-packages/torchani/aev.py:16: UserWarning: cuaev not installed\n",
      "  warnings.warn(\"cuaev not installed\")\n"
     ]
    }
   ],
   "source": [
    "import torch\n",
    "import pandas as pd\n",
    "\n",
    "from ase.io import read\n",
    "\n",
    "from cascade.learning.torchani import TorchANI, estimate_atomic_energies\n",
    "from cascade.learning.torchani.build import make_aev_computer, make_output_nets\n",
    "\n",
    "import seaborn as sns\n",
    "import matplotlib.pyplot as plt"
   ]
  },
  {
   "cell_type": "code",
   "execution_count": 2,
   "id": "b13fb6f3-9d03-4eff-a619-135b5fbcc274",
   "metadata": {},
   "outputs": [],
   "source": [
    "traj = read('../0_setup/md/packmol-CH4-in-H2O=32-seed=0-blyp-npt=298/md.traj', \n",
    "            index=':')"
   ]
  },
  {
   "cell_type": "code",
   "execution_count": 3,
   "id": "2a3f40a1-27a6-4731-9364-ed511b7b0966",
   "metadata": {},
   "outputs": [],
   "source": [
    "ref_energies = estimate_atomic_energies(traj)\n",
    "species = list(ref_energies.keys())\n",
    "aev = make_aev_computer(species)\n",
    "nn = make_output_nets(species, aev, \n",
    "                      # hidden_units=8, \n",
    "                      # hidden_layers=1,\n",
    "                     )"
   ]
  },
  {
   "cell_type": "code",
   "execution_count": 4,
   "id": "ea869e4a-0331-48f8-b7d4-ad26d4c6fdac",
   "metadata": {},
   "outputs": [],
   "source": [
    "ani = TorchANI()"
   ]
  },
  {
   "cell_type": "code",
   "execution_count": 5,
   "id": "e5df0dc8-0f4d-49b8-9716-ffcb49a557ab",
   "metadata": {},
   "outputs": [
    {
     "data": {
      "text/plain": [
       "'cuda'"
      ]
     },
     "execution_count": 5,
     "metadata": {},
     "output_type": "execute_result"
    }
   ],
   "source": [
    "use_cuda = torch.cuda.is_available()\n",
    "device = 'cuda' if use_cuda else 'cpu'\n",
    "device"
   ]
  },
  {
   "cell_type": "code",
   "execution_count": 6,
   "id": "9ab9238c-ecc7-4e3e-97bd-00170fee7e9c",
   "metadata": {},
   "outputs": [],
   "source": [
    "#%%time\n",
    "orig_e, orig_f = ani.evaluate((aev, nn, ref_energies), \n",
    "                              traj,\n",
    "                              #batch_size=,\n",
    "                              device=device)"
   ]
  },
  {
   "cell_type": "code",
   "execution_count": 7,
   "id": "863d7a98-1746-40ac-a0d6-04435f27d7ff",
   "metadata": {},
   "outputs": [
    {
     "name": "stdout",
     "output_type": "stream",
     "text": [
      "CPU times: user 3min 58s, sys: 142 ms, total: 3min 59s\n",
      "Wall time: 3min 59s\n"
     ]
    }
   ],
   "source": [
    "%%time\n",
    "model_msg, results = ani.train((aev, nn, ref_energies), \n",
    "                               traj[:400], traj[400:], \n",
    "                               50, \n",
    "                               device=device)"
   ]
  },
  {
   "cell_type": "code",
   "execution_count": 8,
   "id": "2a4a83fa-1892-4ef9-9149-e128ea60a993",
   "metadata": {},
   "outputs": [
    {
     "data": {
      "text/html": [
       "<div>\n",
       "<style scoped>\n",
       "    .dataframe tbody tr th:only-of-type {\n",
       "        vertical-align: middle;\n",
       "    }\n",
       "\n",
       "    .dataframe tbody tr th {\n",
       "        vertical-align: top;\n",
       "    }\n",
       "\n",
       "    .dataframe thead th {\n",
       "        text-align: right;\n",
       "    }\n",
       "</style>\n",
       "<table border=\"1\" class=\"dataframe\">\n",
       "  <thead>\n",
       "    <tr style=\"text-align: right;\">\n",
       "      <th></th>\n",
       "      <th>iteration</th>\n",
       "      <th>e_rmse</th>\n",
       "      <th>e_mae</th>\n",
       "      <th>f_rmse</th>\n",
       "      <th>f_mae</th>\n",
       "      <th>split</th>\n",
       "    </tr>\n",
       "  </thead>\n",
       "  <tbody>\n",
       "    <tr>\n",
       "      <th>0</th>\n",
       "      <td>0</td>\n",
       "      <td>0.360975</td>\n",
       "      <td>0.360975</td>\n",
       "      <td>0.508469</td>\n",
       "      <td>0.508469</td>\n",
       "      <td>train</td>\n",
       "    </tr>\n",
       "    <tr>\n",
       "      <th>1</th>\n",
       "      <td>1</td>\n",
       "      <td>0.369748</td>\n",
       "      <td>0.369748</td>\n",
       "      <td>0.486155</td>\n",
       "      <td>0.486155</td>\n",
       "      <td>train</td>\n",
       "    </tr>\n",
       "    <tr>\n",
       "      <th>2</th>\n",
       "      <td>2</td>\n",
       "      <td>0.570661</td>\n",
       "      <td>0.570661</td>\n",
       "      <td>0.463665</td>\n",
       "      <td>0.463665</td>\n",
       "      <td>train</td>\n",
       "    </tr>\n",
       "    <tr>\n",
       "      <th>3</th>\n",
       "      <td>3</td>\n",
       "      <td>0.506368</td>\n",
       "      <td>0.506368</td>\n",
       "      <td>0.451273</td>\n",
       "      <td>0.451273</td>\n",
       "      <td>train</td>\n",
       "    </tr>\n",
       "    <tr>\n",
       "      <th>4</th>\n",
       "      <td>4</td>\n",
       "      <td>0.682475</td>\n",
       "      <td>0.682475</td>\n",
       "      <td>0.438189</td>\n",
       "      <td>0.438189</td>\n",
       "      <td>train</td>\n",
       "    </tr>\n",
       "  </tbody>\n",
       "</table>\n",
       "</div>"
      ],
      "text/plain": [
       "   iteration    e_rmse     e_mae    f_rmse     f_mae  split\n",
       "0          0  0.360975  0.360975  0.508469  0.508469  train\n",
       "1          1  0.369748  0.369748  0.486155  0.486155  train\n",
       "2          2  0.570661  0.570661  0.463665  0.463665  train\n",
       "3          3  0.506368  0.506368  0.451273  0.451273  train\n",
       "4          4  0.682475  0.682475  0.438189  0.438189  train"
      ]
     },
     "execution_count": 8,
     "metadata": {},
     "output_type": "execute_result"
    }
   ],
   "source": [
    "results.head()"
   ]
  },
  {
   "cell_type": "code",
   "execution_count": 10,
   "id": "7163f54f-7da2-46ba-bc15-f3aa1e529742",
   "metadata": {},
   "outputs": [
    {
     "data": {
      "text/plain": [
       "<matplotlib.legend.Legend at 0x7370c6066890>"
      ]
     },
     "execution_count": 10,
     "metadata": {},
     "output_type": "execute_result"
    },
    {
     "data": {
      "image/png": "[encoded data removed]",
      "text/plain": [
       "<Figure size 640x480 with 2 Axes>"
      ]
     },
     "metadata": {},
     "output_type": "display_data"
    }
   ],
   "source": [
    "fig, axs = plt.subplots(2)\n",
    "\n",
    "for split, marker in zip(['train', 'val'], ['x', 'o']):\n",
    "    for i, quantity in enumerate(['e_mae', 'f_mae']):\n",
    "        _df = results.query(f'split == \"{split}\"')\n",
    "        axs[i].plot(_df['iteration'], \n",
    "                    _df[quantity], \n",
    "                    label=split, \n",
    "                    #marker=marker,\n",
    "                   )\n",
    "\n",
    "axs[0].set_ylabel('Energy MAE (eV)')\n",
    "axs[0].legend()\n",
    "axs[1].set_ylabel('Force MAE (eV/$\\mathrm{\\AA}$')\n",
    "axs[1].legend()"
   ]
  },
  {
   "cell_type": "code",
   "execution_count": null,
   "id": "5f16a7ae-6d0d-4b9a-a100-502465450089",
   "metadata": {},
   "outputs": [],
   "source": []
  }
 ],
 "metadata": {
  "kernelspec": {
   "display_name": "Python 3 (ipykernel)",
   "language": "python",
   "name": "python3"
  },
  "language_info": {
   "codemirror_mode": {
    "name": "ipython",
    "version": 3
   },
   "file_extension": ".py",
   "mimetype": "text/x-python",
   "name": "python",
   "nbconvert_exporter": "python",
   "pygments_lexer": "ipython3",
   "version": "3.11.0"
  }
 },
 "nbformat": 4,
 "nbformat_minor": 5
}
