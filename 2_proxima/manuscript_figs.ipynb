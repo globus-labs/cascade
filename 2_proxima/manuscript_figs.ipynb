{
 "cells": [
  {
   "cell_type": "code",
   "execution_count": 1,
   "id": "39305f34-9659-49a6-9b59-8cb76ccce836",
   "metadata": {},
   "outputs": [
    {
     "name": "stderr",
     "output_type": "stream",
     "text": [
      "/home/mike/miniconda3/envs/cascade/lib/python3.11/site-packages/torchani/aev.py:16: UserWarning: cuaev not installed\n",
      "  warnings.warn(\"cuaev not installed\")\n",
      "/home/mike/miniconda3/envs/cascade/lib/python3.11/site-packages/ignite/handlers/checkpoint.py:16: DeprecationWarning: `TorchScript` support for functional optimizers is deprecated and will be removed in a future PyTorch release. Consider using the `torch.compile` optimizer instead.\n",
      "  from torch.distributed.optim import ZeroRedundancyOptimizer\n"
     ]
    }
   ],
   "source": [
    "import os\n",
    "from glob import glob\n",
    "from datetime import datetime\n",
    "\n",
    "%matplotlib inline\n",
    "from matplotlib import pyplot as plt\n",
    "import seaborn as sns\n",
    "import matplotlib as mpl\n",
    "import matplotlib.patches as mpatches\n",
    "\n",
    "from cascade.learning.torchani import TorchANI\n",
    "from pathlib import Path\n",
    "from ase.io import read\n",
    "from ase import units\n",
    "import pickle as pkl\n",
    "import pandas as pd\n",
    "import numpy as np\n",
    "import json\n",
    "\n",
    "pd.set_option('display.max_rows', 500)\n",
    "pd.set_option('display.max_columns', 500)\n",
    "pd.set_option('display.width', 1000)"
   ]
  },
  {
   "cell_type": "code",
   "execution_count": 2,
   "id": "ec6e70df-9129-4fce-80b0-0b208e34bee7",
   "metadata": {
    "scrolled": true
   },
   "outputs": [
    {
     "data": {
      "text/plain": [
       "['runs/800K-npt-single-train/si-vacancy-2x2x2-temp=800.0-method=lda-blend=0-00e6f7df',\n",
       " 'runs/800K-npt-single-train/si-vacancy-2x2x2-temp=800.0-method=lda-blend=0-05bd7fef',\n",
       " 'runs/800K-npt-single-train/si-vacancy-2x2x2-temp=800.0-method=lda-blend=0-0aff6fba',\n",
       " 'runs/800K-npt-single-train/si-vacancy-2x2x2-temp=800.0-method=lda-blend=0-105292bb',\n",
       " 'runs/800K-npt-single-train/si-vacancy-2x2x2-temp=800.0-method=lda-blend=0-1418cfda',\n",
       " 'runs/800K-npt-single-train/si-vacancy-2x2x2-temp=800.0-method=lda-blend=0-160f5dc6',\n",
       " 'runs/800K-npt-single-train/si-vacancy-2x2x2-temp=800.0-method=lda-blend=0-1ffe8b75',\n",
       " 'runs/800K-npt-single-train/si-vacancy-2x2x2-temp=800.0-method=lda-blend=0-24aacf2b',\n",
       " 'runs/800K-npt-single-train/si-vacancy-2x2x2-temp=800.0-method=lda-blend=0-2fc33503',\n",
       " 'runs/800K-npt-single-train/si-vacancy-2x2x2-temp=800.0-method=lda-blend=0-399f3417',\n",
       " 'runs/800K-npt-single-train/si-vacancy-2x2x2-temp=800.0-method=lda-blend=0-3c135b25',\n",
       " 'runs/800K-npt-single-train/si-vacancy-2x2x2-temp=800.0-method=lda-blend=0-41bda030',\n",
       " 'runs/800K-npt-single-train/si-vacancy-2x2x2-temp=800.0-method=lda-blend=0-4202e855',\n",
       " 'runs/800K-npt-single-train/si-vacancy-2x2x2-temp=800.0-method=lda-blend=0-43ad29a4',\n",
       " 'runs/800K-npt-single-train/si-vacancy-2x2x2-temp=800.0-method=lda-blend=0-4e1470ea',\n",
       " 'runs/800K-npt-single-train/si-vacancy-2x2x2-temp=800.0-method=lda-blend=0-5271547c',\n",
       " 'runs/800K-npt-single-train/si-vacancy-2x2x2-temp=800.0-method=lda-blend=0-576ac2ca',\n",
       " 'runs/800K-npt-single-train/si-vacancy-2x2x2-temp=800.0-method=lda-blend=0-68015472',\n",
       " 'runs/800K-npt-single-train/si-vacancy-2x2x2-temp=800.0-method=lda-blend=0-6a2330a6',\n",
       " 'runs/800K-npt-single-train/si-vacancy-2x2x2-temp=800.0-method=lda-blend=0-704a7aac',\n",
       " 'runs/800K-npt-single-train/si-vacancy-2x2x2-temp=800.0-method=lda-blend=0-741e74e4',\n",
       " 'runs/800K-npt-single-train/si-vacancy-2x2x2-temp=800.0-method=lda-blend=0-7c306fa4',\n",
       " 'runs/800K-npt-single-train/si-vacancy-2x2x2-temp=800.0-method=lda-blend=0-85ae0c38',\n",
       " 'runs/800K-npt-single-train/si-vacancy-2x2x2-temp=800.0-method=lda-blend=0-86fcda47',\n",
       " 'runs/800K-npt-single-train/si-vacancy-2x2x2-temp=800.0-method=lda-blend=0-8c47d5f6',\n",
       " 'runs/800K-npt-single-train/si-vacancy-2x2x2-temp=800.0-method=lda-blend=0-8d284b8b',\n",
       " 'runs/800K-npt-single-train/si-vacancy-2x2x2-temp=800.0-method=lda-blend=0-8ea1b743',\n",
       " 'runs/800K-npt-single-train/si-vacancy-2x2x2-temp=800.0-method=lda-blend=0-a5de4688',\n",
       " 'runs/800K-npt-single-train/si-vacancy-2x2x2-temp=800.0-method=lda-blend=0-a74eb1ba',\n",
       " 'runs/800K-npt-single-train/si-vacancy-2x2x2-temp=800.0-method=lda-blend=0-a87fe7ca',\n",
       " 'runs/800K-npt-single-train/si-vacancy-2x2x2-temp=800.0-method=lda-blend=0-aea7d1fc',\n",
       " 'runs/800K-npt-single-train/si-vacancy-2x2x2-temp=800.0-method=lda-blend=0-b0bcd4c2',\n",
       " 'runs/800K-npt-single-train/si-vacancy-2x2x2-temp=800.0-method=lda-blend=0-bec1053a',\n",
       " 'runs/800K-npt-single-train/si-vacancy-2x2x2-temp=800.0-method=lda-blend=0-d842a077',\n",
       " 'runs/800K-npt-single-train/si-vacancy-2x2x2-temp=800.0-method=lda-blend=0-df641e0d',\n",
       " 'runs/800K-npt-single-train/si-vacancy-2x2x2-temp=800.0-method=lda-blend=0-e4161130',\n",
       " 'runs/800K-npt-single-train/si-vacancy-2x2x2-temp=800.0-method=lda-blend=0-e8ec045c',\n",
       " 'runs/800K-npt-single-train/si-vacancy-2x2x2-temp=800.0-method=lda-blend=0-ec64d6a6',\n",
       " 'runs/800K-npt-single-train/si-vacancy-2x2x2-temp=800.0-method=lda-blend=0-f3b5ef7a',\n",
       " 'runs/800K-npt-single-train/si-vacancy-2x2x2-temp=800.0-method=lda-blend=0-f7c408bc',\n",
       " 'runs/800K-npt-single-train/si-vacancy-2x2x2-temp=800.0-method=lda-blend=0-fdf74584',\n",
       " 'runs/800K-npt-single-train/si-vacancy-2x2x2-temp=800.0-method=lda-blend=0-ffae3d1c',\n",
       " 'runs/800K-npt-single-train/si-vacancy-2x2x2-temp=800.0-method=lda-blend=10-0474190d',\n",
       " 'runs/800K-npt-single-train/si-vacancy-2x2x2-temp=800.0-method=lda-blend=10-06819c7d',\n",
       " 'runs/800K-npt-single-train/si-vacancy-2x2x2-temp=800.0-method=lda-blend=10-0a8231d9',\n",
       " 'runs/800K-npt-single-train/si-vacancy-2x2x2-temp=800.0-method=lda-blend=10-0ae9d559',\n",
       " 'runs/800K-npt-single-train/si-vacancy-2x2x2-temp=800.0-method=lda-blend=10-15ddd631',\n",
       " 'runs/800K-npt-single-train/si-vacancy-2x2x2-temp=800.0-method=lda-blend=10-194cd314',\n",
       " 'runs/800K-npt-single-train/si-vacancy-2x2x2-temp=800.0-method=lda-blend=10-1c126fcf',\n",
       " 'runs/800K-npt-single-train/si-vacancy-2x2x2-temp=800.0-method=lda-blend=10-1eb38402',\n",
       " 'runs/800K-npt-single-train/si-vacancy-2x2x2-temp=800.0-method=lda-blend=10-2c3cc071',\n",
       " 'runs/800K-npt-single-train/si-vacancy-2x2x2-temp=800.0-method=lda-blend=10-394f272e',\n",
       " 'runs/800K-npt-single-train/si-vacancy-2x2x2-temp=800.0-method=lda-blend=10-4121c393',\n",
       " 'runs/800K-npt-single-train/si-vacancy-2x2x2-temp=800.0-method=lda-blend=10-42e4fc56',\n",
       " 'runs/800K-npt-single-train/si-vacancy-2x2x2-temp=800.0-method=lda-blend=10-5103b1b4',\n",
       " 'runs/800K-npt-single-train/si-vacancy-2x2x2-temp=800.0-method=lda-blend=10-5218bab6',\n",
       " 'runs/800K-npt-single-train/si-vacancy-2x2x2-temp=800.0-method=lda-blend=10-58c32d14',\n",
       " 'runs/800K-npt-single-train/si-vacancy-2x2x2-temp=800.0-method=lda-blend=10-842df0f8',\n",
       " 'runs/800K-npt-single-train/si-vacancy-2x2x2-temp=800.0-method=lda-blend=10-886af225',\n",
       " 'runs/800K-npt-single-train/si-vacancy-2x2x2-temp=800.0-method=lda-blend=10-920fcbea',\n",
       " 'runs/800K-npt-single-train/si-vacancy-2x2x2-temp=800.0-method=lda-blend=10-978dd067',\n",
       " 'runs/800K-npt-single-train/si-vacancy-2x2x2-temp=800.0-method=lda-blend=10-97cff3ba',\n",
       " 'runs/800K-npt-single-train/si-vacancy-2x2x2-temp=800.0-method=lda-blend=10-9a21eaf5',\n",
       " 'runs/800K-npt-single-train/si-vacancy-2x2x2-temp=800.0-method=lda-blend=10-9b031a63',\n",
       " 'runs/800K-npt-single-train/si-vacancy-2x2x2-temp=800.0-method=lda-blend=10-9bd27cec',\n",
       " 'runs/800K-npt-single-train/si-vacancy-2x2x2-temp=800.0-method=lda-blend=10-ada08444',\n",
       " 'runs/800K-npt-single-train/si-vacancy-2x2x2-temp=800.0-method=lda-blend=10-b205a31d',\n",
       " 'runs/800K-npt-single-train/si-vacancy-2x2x2-temp=800.0-method=lda-blend=10-b51ee3f9',\n",
       " 'runs/800K-npt-single-train/si-vacancy-2x2x2-temp=800.0-method=lda-blend=10-bae87197',\n",
       " 'runs/800K-npt-single-train/si-vacancy-2x2x2-temp=800.0-method=lda-blend=10-c0686dc3',\n",
       " 'runs/800K-npt-single-train/si-vacancy-2x2x2-temp=800.0-method=lda-blend=10-cfe15dbd',\n",
       " 'runs/800K-npt-single-train/si-vacancy-2x2x2-temp=800.0-method=lda-blend=10-d173d31b',\n",
       " 'runs/800K-npt-single-train/si-vacancy-2x2x2-temp=800.0-method=lda-blend=10-e42250b5',\n",
       " 'runs/800K-npt-single-train/si-vacancy-2x2x2-temp=800.0-method=lda-blend=10-ea0e361c',\n",
       " 'runs/800K-npt-single-train/si-vacancy-2x2x2-temp=800.0-method=lda-blend=10-f5572179',\n",
       " 'runs/800K-npt-single-train/si-vacancy-2x2x2-temp=800.0-method=lda-blend=10-f5e2641c',\n",
       " 'runs/800K-npt-single-train/si-vacancy-2x2x2-temp=800.0-method=lda-blend=10-fbcb0b24',\n",
       " 'runs/800K-npt-single-train/si-vacancy-2x2x2-temp=800.0-method=lda-blend=10-ffe10d1f',\n",
       " 'runs/800K-npt-single-train/si-vacancy-2x2x2-temp=800.0-method=lda-blend=20-02638a3a',\n",
       " 'runs/800K-npt-single-train/si-vacancy-2x2x2-temp=800.0-method=lda-blend=20-19e496e9',\n",
       " 'runs/800K-npt-single-train/si-vacancy-2x2x2-temp=800.0-method=lda-blend=20-1b02f9bf',\n",
       " 'runs/800K-npt-single-train/si-vacancy-2x2x2-temp=800.0-method=lda-blend=20-1c8823dd',\n",
       " 'runs/800K-npt-single-train/si-vacancy-2x2x2-temp=800.0-method=lda-blend=20-1eec1d0c',\n",
       " 'runs/800K-npt-single-train/si-vacancy-2x2x2-temp=800.0-method=lda-blend=20-27b761b4',\n",
       " 'runs/800K-npt-single-train/si-vacancy-2x2x2-temp=800.0-method=lda-blend=20-2d3b2466',\n",
       " 'runs/800K-npt-single-train/si-vacancy-2x2x2-temp=800.0-method=lda-blend=20-3ab0d937',\n",
       " 'runs/800K-npt-single-train/si-vacancy-2x2x2-temp=800.0-method=lda-blend=20-3e2e99f7',\n",
       " 'runs/800K-npt-single-train/si-vacancy-2x2x2-temp=800.0-method=lda-blend=20-410c7293',\n",
       " 'runs/800K-npt-single-train/si-vacancy-2x2x2-temp=800.0-method=lda-blend=20-43293701',\n",
       " 'runs/800K-npt-single-train/si-vacancy-2x2x2-temp=800.0-method=lda-blend=20-480f3f83',\n",
       " 'runs/800K-npt-single-train/si-vacancy-2x2x2-temp=800.0-method=lda-blend=20-505dc0ee',\n",
       " 'runs/800K-npt-single-train/si-vacancy-2x2x2-temp=800.0-method=lda-blend=20-54c03254',\n",
       " 'runs/800K-npt-single-train/si-vacancy-2x2x2-temp=800.0-method=lda-blend=20-581af226',\n",
       " 'runs/800K-npt-single-train/si-vacancy-2x2x2-temp=800.0-method=lda-blend=20-5a69aa7e',\n",
       " 'runs/800K-npt-single-train/si-vacancy-2x2x2-temp=800.0-method=lda-blend=20-6b53c4f0',\n",
       " 'runs/800K-npt-single-train/si-vacancy-2x2x2-temp=800.0-method=lda-blend=20-6bd8440d',\n",
       " 'runs/800K-npt-single-train/si-vacancy-2x2x2-temp=800.0-method=lda-blend=20-729b9c6a',\n",
       " 'runs/800K-npt-single-train/si-vacancy-2x2x2-temp=800.0-method=lda-blend=20-74ab06f2',\n",
       " 'runs/800K-npt-single-train/si-vacancy-2x2x2-temp=800.0-method=lda-blend=20-7e942cad',\n",
       " 'runs/800K-npt-single-train/si-vacancy-2x2x2-temp=800.0-method=lda-blend=20-8ae14c5e',\n",
       " 'runs/800K-npt-single-train/si-vacancy-2x2x2-temp=800.0-method=lda-blend=20-8d3aa32a',\n",
       " 'runs/800K-npt-single-train/si-vacancy-2x2x2-temp=800.0-method=lda-blend=20-9066ba4f',\n",
       " 'runs/800K-npt-single-train/si-vacancy-2x2x2-temp=800.0-method=lda-blend=20-9fb6a2d7',\n",
       " 'runs/800K-npt-single-train/si-vacancy-2x2x2-temp=800.0-method=lda-blend=20-b4f49416',\n",
       " 'runs/800K-npt-single-train/si-vacancy-2x2x2-temp=800.0-method=lda-blend=20-d90b4754',\n",
       " 'runs/800K-npt-single-train/si-vacancy-2x2x2-temp=800.0-method=lda-blend=20-dd2c9b98',\n",
       " 'runs/800K-npt-single-train/si-vacancy-2x2x2-temp=800.0-method=lda-blend=20-dd7be245',\n",
       " 'runs/800K-npt-single-train/si-vacancy-2x2x2-temp=800.0-method=lda-blend=20-de3a275a',\n",
       " 'runs/800K-npt-single-train/si-vacancy-2x2x2-temp=800.0-method=lda-blend=20-e0a9558a',\n",
       " 'runs/800K-npt-single-train/si-vacancy-2x2x2-temp=800.0-method=lda-blend=20-ed7be914',\n",
       " 'runs/800K-npt-single-train/si-vacancy-2x2x2-temp=800.0-method=lda-blend=20-ef76acbf',\n",
       " 'runs/800K-npt-single-train/si-vacancy-2x2x2-temp=800.0-method=lda-blend=20-f05b5eda',\n",
       " 'runs/800K-npt-single-train/si-vacancy-2x2x2-temp=800.0-method=lda-blend=20-fd4e303c',\n",
       " 'runs/800K-npt-single-train/si-vacancy-2x2x2-temp=800.0-method=lda-blend=20-ff55457c']"
      ]
     },
     "execution_count": 2,
     "metadata": {},
     "output_type": "execute_result"
    }
   ],
   "source": [
    "run_dirs = sorted(glob('runs/800K-npt-single-train/si*temp=*00*blend*'))\n",
    "run_dirs"
   ]
  },
  {
   "cell_type": "code",
   "execution_count": 3,
   "id": "98fd82c2-9ff4-440c-bbe2-e734335807bd",
   "metadata": {},
   "outputs": [
    {
     "data": {
      "text/plain": [
       "(114, 30)"
      ]
     },
     "execution_count": 3,
     "metadata": {},
     "output_type": "execute_result"
    }
   ],
   "source": [
    "params = []\n",
    "for d in run_dirs:\n",
    "    try:\n",
    "        params.append(json.loads((Path(d)/'params.json').read_text()))\n",
    "    except: \n",
    "        print(f'couldnt find {d}/params.json; skipping')\n",
    "        continue\n",
    "    params[-1]['dir'] = d\n",
    "params = pd.DataFrame(params)\n",
    "params.shape"
   ]
  },
  {
   "cell_type": "code",
   "execution_count": 4,
   "id": "8878c7d1-375b-4456-a6ef-3542925d6cff",
   "metadata": {},
   "outputs": [],
   "source": [
    "params = params.query('min_target_frac == 0.1 or min_target_frac == 1')\n",
    "params = params.query('n_blending_steps == 0 or n_blending_steps == 10')\n",
    "params = params.query('target_error != 0.45')"
   ]
  },
  {
   "cell_type": "code",
   "execution_count": 5,
   "id": "13d2879f-df7e-4f3d-ad19-d63a3616bd93",
   "metadata": {},
   "outputs": [],
   "source": [
    "meth = []\n",
    "for i, row in params.iterrows():\n",
    "    if row['n_blending_steps'] == 0 and row['min_target_frac'] == 1:\n",
    "        meth.append('DFT (reference)')\n",
    "    elif row['n_blending_steps'] == 0: \n",
    "        meth.append('Proxima')\n",
    "    else: \n",
    "        meth.append('Proxima+blend')\n",
    "params['Method'] = pd.Categorical(meth, categories=['Proxima', 'Proxima+blend', 'DFT (reference)'])"
   ]
  },
  {
   "cell_type": "code",
   "execution_count": null,
   "id": "515aeb3a-fdfc-449f-b487-1be69c143be8",
   "metadata": {},
   "outputs": [],
   "source": []
  },
  {
   "cell_type": "code",
   "execution_count": 6,
   "id": "e4ebad4a-83c8-44b7-842f-331590935631",
   "metadata": {},
   "outputs": [
    {
     "data": {
      "text/html": [
       "<div>\n",
       "<style scoped>\n",
       "    .dataframe tbody tr th:only-of-type {\n",
       "        vertical-align: middle;\n",
       "    }\n",
       "\n",
       "    .dataframe tbody tr th {\n",
       "        vertical-align: top;\n",
       "    }\n",
       "\n",
       "    .dataframe thead th {\n",
       "        text-align: right;\n",
       "    }\n",
       "</style>\n",
       "<table border=\"1\" class=\"dataframe\">\n",
       "  <thead>\n",
       "    <tr style=\"text-align: right;\">\n",
       "      <th></th>\n",
       "      <th>seed</th>\n",
       "      <th>temperature</th>\n",
       "      <th>n_blending_steps</th>\n",
       "      <th>min_target_frac</th>\n",
       "      <th>target_error</th>\n",
       "      <th>stress_tau</th>\n",
       "      <th>steps</th>\n",
       "    </tr>\n",
       "  </thead>\n",
       "  <tbody>\n",
       "    <tr>\n",
       "      <th>count</th>\n",
       "      <td>18.000000</td>\n",
       "      <td>18.0</td>\n",
       "      <td>18.000000</td>\n",
       "      <td>18.000000</td>\n",
       "      <td>1.800000e+01</td>\n",
       "      <td>18.0</td>\n",
       "      <td>18.0</td>\n",
       "    </tr>\n",
       "    <tr>\n",
       "      <th>mean</th>\n",
       "      <td>2.500000</td>\n",
       "      <td>800.0</td>\n",
       "      <td>3.333333</td>\n",
       "      <td>0.400000</td>\n",
       "      <td>6.000000e-01</td>\n",
       "      <td>25.0</td>\n",
       "      <td>2048.0</td>\n",
       "    </tr>\n",
       "    <tr>\n",
       "      <th>std</th>\n",
       "      <td>1.757338</td>\n",
       "      <td>0.0</td>\n",
       "      <td>4.850713</td>\n",
       "      <td>0.436564</td>\n",
       "      <td>4.365641e-01</td>\n",
       "      <td>0.0</td>\n",
       "      <td>0.0</td>\n",
       "    </tr>\n",
       "    <tr>\n",
       "      <th>min</th>\n",
       "      <td>0.000000</td>\n",
       "      <td>800.0</td>\n",
       "      <td>0.000000</td>\n",
       "      <td>0.100000</td>\n",
       "      <td>1.000000e-12</td>\n",
       "      <td>25.0</td>\n",
       "      <td>2048.0</td>\n",
       "    </tr>\n",
       "    <tr>\n",
       "      <th>25%</th>\n",
       "      <td>1.000000</td>\n",
       "      <td>800.0</td>\n",
       "      <td>0.000000</td>\n",
       "      <td>0.100000</td>\n",
       "      <td>1.000000e-12</td>\n",
       "      <td>25.0</td>\n",
       "      <td>2048.0</td>\n",
       "    </tr>\n",
       "    <tr>\n",
       "      <th>50%</th>\n",
       "      <td>2.500000</td>\n",
       "      <td>800.0</td>\n",
       "      <td>0.000000</td>\n",
       "      <td>0.100000</td>\n",
       "      <td>9.000000e-01</td>\n",
       "      <td>25.0</td>\n",
       "      <td>2048.0</td>\n",
       "    </tr>\n",
       "    <tr>\n",
       "      <th>75%</th>\n",
       "      <td>4.000000</td>\n",
       "      <td>800.0</td>\n",
       "      <td>10.000000</td>\n",
       "      <td>1.000000</td>\n",
       "      <td>9.000000e-01</td>\n",
       "      <td>25.0</td>\n",
       "      <td>2048.0</td>\n",
       "    </tr>\n",
       "    <tr>\n",
       "      <th>max</th>\n",
       "      <td>5.000000</td>\n",
       "      <td>800.0</td>\n",
       "      <td>10.000000</td>\n",
       "      <td>1.000000</td>\n",
       "      <td>9.000000e-01</td>\n",
       "      <td>25.0</td>\n",
       "      <td>2048.0</td>\n",
       "    </tr>\n",
       "  </tbody>\n",
       "</table>\n",
       "</div>"
      ],
      "text/plain": [
       "            seed  temperature  n_blending_steps  min_target_frac  target_error  stress_tau   steps\n",
       "count  18.000000         18.0         18.000000        18.000000  1.800000e+01        18.0    18.0\n",
       "mean    2.500000        800.0          3.333333         0.400000  6.000000e-01        25.0  2048.0\n",
       "std     1.757338          0.0          4.850713         0.436564  4.365641e-01         0.0     0.0\n",
       "min     0.000000        800.0          0.000000         0.100000  1.000000e-12        25.0  2048.0\n",
       "25%     1.000000        800.0          0.000000         0.100000  1.000000e-12        25.0  2048.0\n",
       "50%     2.500000        800.0          0.000000         0.100000  9.000000e-01        25.0  2048.0\n",
       "75%     4.000000        800.0         10.000000         1.000000  9.000000e-01        25.0  2048.0\n",
       "max     5.000000        800.0         10.000000         1.000000  9.000000e-01        25.0  2048.0"
      ]
     },
     "execution_count": 6,
     "metadata": {},
     "output_type": "execute_result"
    }
   ],
   "source": [
    "param_vars = ['seed', 'temperature', 'n_blending_steps', 'min_target_frac', 'target_error', 'stress_tau', 'steps']\n",
    "_params = params[param_vars].sort_values(param_vars)\n",
    "_params.describe()"
   ]
  },
  {
   "cell_type": "code",
   "execution_count": 7,
   "id": "218b3dd7-64ff-4ba6-83eb-2c7218b8f509",
   "metadata": {},
   "outputs": [
    {
     "data": {
      "text/html": [
       "<div>\n",
       "<style scoped>\n",
       "    .dataframe tbody tr th:only-of-type {\n",
       "        vertical-align: middle;\n",
       "    }\n",
       "\n",
       "    .dataframe tbody tr th {\n",
       "        vertical-align: top;\n",
       "    }\n",
       "\n",
       "    .dataframe thead th {\n",
       "        text-align: right;\n",
       "    }\n",
       "</style>\n",
       "<table border=\"1\" class=\"dataframe\">\n",
       "  <thead>\n",
       "    <tr style=\"text-align: right;\">\n",
       "      <th></th>\n",
       "      <th>seed</th>\n",
       "      <th>temperature</th>\n",
       "      <th>n_blending_steps</th>\n",
       "      <th>min_target_frac</th>\n",
       "      <th>target_error</th>\n",
       "      <th>stress_tau</th>\n",
       "      <th>steps</th>\n",
       "    </tr>\n",
       "  </thead>\n",
       "  <tbody>\n",
       "    <tr>\n",
       "      <th>15</th>\n",
       "      <td>0</td>\n",
       "      <td>800.0</td>\n",
       "      <td>0</td>\n",
       "      <td>0.1</td>\n",
       "      <td>9.000000e-01</td>\n",
       "      <td>25.0</td>\n",
       "      <td>2048</td>\n",
       "    </tr>\n",
       "    <tr>\n",
       "      <th>4</th>\n",
       "      <td>0</td>\n",
       "      <td>800.0</td>\n",
       "      <td>0</td>\n",
       "      <td>1.0</td>\n",
       "      <td>1.000000e-12</td>\n",
       "      <td>25.0</td>\n",
       "      <td>2048</td>\n",
       "    </tr>\n",
       "    <tr>\n",
       "      <th>77</th>\n",
       "      <td>0</td>\n",
       "      <td>800.0</td>\n",
       "      <td>10</td>\n",
       "      <td>0.1</td>\n",
       "      <td>9.000000e-01</td>\n",
       "      <td>25.0</td>\n",
       "      <td>2048</td>\n",
       "    </tr>\n",
       "    <tr>\n",
       "      <th>35</th>\n",
       "      <td>1</td>\n",
       "      <td>800.0</td>\n",
       "      <td>0</td>\n",
       "      <td>0.1</td>\n",
       "      <td>9.000000e-01</td>\n",
       "      <td>25.0</td>\n",
       "      <td>2048</td>\n",
       "    </tr>\n",
       "    <tr>\n",
       "      <th>14</th>\n",
       "      <td>1</td>\n",
       "      <td>800.0</td>\n",
       "      <td>0</td>\n",
       "      <td>1.0</td>\n",
       "      <td>1.000000e-12</td>\n",
       "      <td>25.0</td>\n",
       "      <td>2048</td>\n",
       "    </tr>\n",
       "    <tr>\n",
       "      <th>46</th>\n",
       "      <td>1</td>\n",
       "      <td>800.0</td>\n",
       "      <td>10</td>\n",
       "      <td>0.1</td>\n",
       "      <td>9.000000e-01</td>\n",
       "      <td>25.0</td>\n",
       "      <td>2048</td>\n",
       "    </tr>\n",
       "    <tr>\n",
       "      <th>3</th>\n",
       "      <td>2</td>\n",
       "      <td>800.0</td>\n",
       "      <td>0</td>\n",
       "      <td>0.1</td>\n",
       "      <td>9.000000e-01</td>\n",
       "      <td>25.0</td>\n",
       "      <td>2048</td>\n",
       "    </tr>\n",
       "    <tr>\n",
       "      <th>18</th>\n",
       "      <td>2</td>\n",
       "      <td>800.0</td>\n",
       "      <td>0</td>\n",
       "      <td>1.0</td>\n",
       "      <td>1.000000e-12</td>\n",
       "      <td>25.0</td>\n",
       "      <td>2048</td>\n",
       "    </tr>\n",
       "    <tr>\n",
       "      <th>44</th>\n",
       "      <td>2</td>\n",
       "      <td>800.0</td>\n",
       "      <td>10</td>\n",
       "      <td>0.1</td>\n",
       "      <td>9.000000e-01</td>\n",
       "      <td>25.0</td>\n",
       "      <td>2048</td>\n",
       "    </tr>\n",
       "    <tr>\n",
       "      <th>20</th>\n",
       "      <td>3</td>\n",
       "      <td>800.0</td>\n",
       "      <td>0</td>\n",
       "      <td>0.1</td>\n",
       "      <td>9.000000e-01</td>\n",
       "      <td>25.0</td>\n",
       "      <td>2048</td>\n",
       "    </tr>\n",
       "    <tr>\n",
       "      <th>10</th>\n",
       "      <td>3</td>\n",
       "      <td>800.0</td>\n",
       "      <td>0</td>\n",
       "      <td>1.0</td>\n",
       "      <td>1.000000e-12</td>\n",
       "      <td>25.0</td>\n",
       "      <td>2048</td>\n",
       "    </tr>\n",
       "    <tr>\n",
       "      <th>64</th>\n",
       "      <td>3</td>\n",
       "      <td>800.0</td>\n",
       "      <td>10</td>\n",
       "      <td>0.1</td>\n",
       "      <td>9.000000e-01</td>\n",
       "      <td>25.0</td>\n",
       "      <td>2048</td>\n",
       "    </tr>\n",
       "    <tr>\n",
       "      <th>2</th>\n",
       "      <td>4</td>\n",
       "      <td>800.0</td>\n",
       "      <td>0</td>\n",
       "      <td>0.1</td>\n",
       "      <td>9.000000e-01</td>\n",
       "      <td>25.0</td>\n",
       "      <td>2048</td>\n",
       "    </tr>\n",
       "    <tr>\n",
       "      <th>21</th>\n",
       "      <td>4</td>\n",
       "      <td>800.0</td>\n",
       "      <td>0</td>\n",
       "      <td>1.0</td>\n",
       "      <td>1.000000e-12</td>\n",
       "      <td>25.0</td>\n",
       "      <td>2048</td>\n",
       "    </tr>\n",
       "    <tr>\n",
       "      <th>43</th>\n",
       "      <td>4</td>\n",
       "      <td>800.0</td>\n",
       "      <td>10</td>\n",
       "      <td>0.1</td>\n",
       "      <td>9.000000e-01</td>\n",
       "      <td>25.0</td>\n",
       "      <td>2048</td>\n",
       "    </tr>\n",
       "    <tr>\n",
       "      <th>12</th>\n",
       "      <td>5</td>\n",
       "      <td>800.0</td>\n",
       "      <td>0</td>\n",
       "      <td>0.1</td>\n",
       "      <td>9.000000e-01</td>\n",
       "      <td>25.0</td>\n",
       "      <td>2048</td>\n",
       "    </tr>\n",
       "    <tr>\n",
       "      <th>34</th>\n",
       "      <td>5</td>\n",
       "      <td>800.0</td>\n",
       "      <td>0</td>\n",
       "      <td>1.0</td>\n",
       "      <td>1.000000e-12</td>\n",
       "      <td>25.0</td>\n",
       "      <td>2048</td>\n",
       "    </tr>\n",
       "    <tr>\n",
       "      <th>57</th>\n",
       "      <td>5</td>\n",
       "      <td>800.0</td>\n",
       "      <td>10</td>\n",
       "      <td>0.1</td>\n",
       "      <td>9.000000e-01</td>\n",
       "      <td>25.0</td>\n",
       "      <td>2048</td>\n",
       "    </tr>\n",
       "  </tbody>\n",
       "</table>\n",
       "</div>"
      ],
      "text/plain": [
       "    seed  temperature  n_blending_steps  min_target_frac  target_error  stress_tau  steps\n",
       "15     0        800.0                 0              0.1  9.000000e-01        25.0   2048\n",
       "4      0        800.0                 0              1.0  1.000000e-12        25.0   2048\n",
       "77     0        800.0                10              0.1  9.000000e-01        25.0   2048\n",
       "35     1        800.0                 0              0.1  9.000000e-01        25.0   2048\n",
       "14     1        800.0                 0              1.0  1.000000e-12        25.0   2048\n",
       "46     1        800.0                10              0.1  9.000000e-01        25.0   2048\n",
       "3      2        800.0                 0              0.1  9.000000e-01        25.0   2048\n",
       "18     2        800.0                 0              1.0  1.000000e-12        25.0   2048\n",
       "44     2        800.0                10              0.1  9.000000e-01        25.0   2048\n",
       "20     3        800.0                 0              0.1  9.000000e-01        25.0   2048\n",
       "10     3        800.0                 0              1.0  1.000000e-12        25.0   2048\n",
       "64     3        800.0                10              0.1  9.000000e-01        25.0   2048\n",
       "2      4        800.0                 0              0.1  9.000000e-01        25.0   2048\n",
       "21     4        800.0                 0              1.0  1.000000e-12        25.0   2048\n",
       "43     4        800.0                10              0.1  9.000000e-01        25.0   2048\n",
       "12     5        800.0                 0              0.1  9.000000e-01        25.0   2048\n",
       "34     5        800.0                 0              1.0  1.000000e-12        25.0   2048\n",
       "57     5        800.0                10              0.1  9.000000e-01        25.0   2048"
      ]
     },
     "execution_count": 7,
     "metadata": {},
     "output_type": "execute_result"
    }
   ],
   "source": [
    "_params"
   ]
  },
  {
   "cell_type": "code",
   "execution_count": 8,
   "id": "d8a90c3a-8526-4c61-82c0-2899009a764c",
   "metadata": {},
   "outputs": [],
   "source": [
    "assert not _params.duplicated().any()"
   ]
  },
  {
   "cell_type": "code",
   "execution_count": null,
   "id": "e80bd935-c737-494f-b1bc-ecddc30a47da",
   "metadata": {},
   "outputs": [],
   "source": []
  },
  {
   "cell_type": "markdown",
   "id": "464c731a-1e5a-45ae-895e-4145e516745b",
   "metadata": {},
   "source": [
    "## Read all of the trajectory data into one dataframe"
   ]
  },
  {
   "cell_type": "code",
   "execution_count": 9,
   "id": "d778be5c-e1ad-4ad6-a0ce-7e8c8e4b84f0",
   "metadata": {},
   "outputs": [],
   "source": [
    "data = []\n",
    "hashes = []\n",
    "for i, row in params.iterrows(): \n",
    "    # read in the results for each set of parameters\n",
    "    run = row['dir']\n",
    "    try:\n",
    "        _data = pd.read_json(Path(run)/'proxima-log.json', lines=True)\n",
    "    except: \n",
    "        print('couldnt read proxima log for', run)\n",
    "        hashes.append(None)\n",
    "        continue\n",
    "    # make sure to have timestep\n",
    "    _data.reset_index(names='timestep', inplace=True)\n",
    "\n",
    "    # keep the hash of the run\n",
    "    _hash = run.split('-')[-1]\n",
    "    hashes.append(_hash)\n",
    "    _data['hash'] = _hash \n",
    "    #traj = read(Path(run)/'md.traj', index=':')\n",
    "    #break    \n",
    "    # add the parameters to the experiment df for easy plotting, grouping, etc\n",
    "    for var in param_vars:\n",
    "        _data[var] = row[var]\n",
    "    data.append(_data)\n",
    "\n",
    "# track the hashes as well for param lookup\n",
    "params['hash'] = hashes\n",
    "data = pd.concat(data)"
   ]
  },
  {
   "cell_type": "markdown",
   "id": "b3262c89-79f4-46bf-97c6-9ce0c7ad989c",
   "metadata": {},
   "source": [
    "## Volume gradients and Runtimes"
   ]
  },
  {
   "cell_type": "code",
   "execution_count": 10,
   "id": "dd875037-bc0c-426d-ac9f-9a34274e909a",
   "metadata": {},
   "outputs": [],
   "source": [
    "v_diff = []\n",
    "for _hash, g  in data.groupby('hash'):\n",
    "    diff = g['volume'].diff().abs()\n",
    "    v_diff.append((_hash, diff.max(), diff.mean(), diff.std()))\n",
    "v_diff = pd.DataFrame.from_records(v_diff, columns=['hash', 'diff_max', 'diff_mean', 'diff_sd'])"
   ]
  },
  {
   "cell_type": "code",
   "execution_count": 11,
   "id": "43673ce0-a991-4a08-ace1-e1eb1e41097e",
   "metadata": {},
   "outputs": [],
   "source": [
    "params = pd.merge(params, v_diff, on='hash')"
   ]
  },
  {
   "cell_type": "code",
   "execution_count": 12,
   "id": "d129887d-ac70-4875-887a-1a91dc618a73",
   "metadata": {},
   "outputs": [],
   "source": [
    "runtimes = []\n",
    "for _hash, g  in data.groupby('hash'):\n",
    "    #g = g.query('model_version > 0')\n",
    "    n_target_evals = g['target_invocations'].max() / g['total_invocations'].max()\n",
    "    runtime = g['step_time'].sum()\n",
    "    runtimes.append((_hash, runtime, n_target_evals))\n",
    "runtimes = pd.DataFrame.from_records(runtimes, columns=['hash', 'runtime', 'target_evals'])"
   ]
  },
  {
   "cell_type": "code",
   "execution_count": 13,
   "id": "efcdf974-8184-4833-a11f-44bbe646858e",
   "metadata": {},
   "outputs": [],
   "source": [
    "params = pd.merge(params, runtimes, on='hash')"
   ]
  },
  {
   "cell_type": "code",
   "execution_count": 14,
   "id": "21dd740d-021e-4738-9ba8-4d4f1b3ae229",
   "metadata": {},
   "outputs": [],
   "source": [
    "params['runtime_h'] = params['runtime'] / (60*60)"
   ]
  },
  {
   "cell_type": "markdown",
   "id": "3ad90962-299b-4f3b-ad3a-f274d58057aa",
   "metadata": {},
   "source": [
    "## volume and density"
   ]
  },
  {
   "cell_type": "code",
   "execution_count": 15,
   "id": "c1b05561-bd4b-46ce-b510-d752482e982b",
   "metadata": {},
   "outputs": [],
   "source": [
    "v_mean = data.query('timestep > 1536').groupby('hash')['volume'].mean().reset_index()"
   ]
  },
  {
   "cell_type": "code",
   "execution_count": 16,
   "id": "2dd7c5f9-25e4-47f9-bcc5-233295674160",
   "metadata": {},
   "outputs": [],
   "source": [
    "params = pd.merge(params, v_mean, on='hash')"
   ]
  },
  {
   "cell_type": "code",
   "execution_count": 17,
   "id": "2c271904-4aa5-4d4a-bd5c-ade476c79824",
   "metadata": {},
   "outputs": [],
   "source": [
    "ang_3_to_cm_3 = 1e-24\n",
    "Si_mm = 28.0855 # g / mol\n",
    "N_av = 6.02e23 # n / mol"
   ]
  },
  {
   "cell_type": "code",
   "execution_count": 18,
   "id": "e8205a12-0f1c-4d2c-98e4-6d022955c4c0",
   "metadata": {},
   "outputs": [],
   "source": [
    "rho = 63 / params['volume'] # n / ang_3\n",
    "rho = rho * Si_mm / N_av / ang_3_to_cm_3\n",
    "params['density'] = rho"
   ]
  },
  {
   "cell_type": "code",
   "execution_count": 19,
   "id": "09dcd2e1-e778-4516-9dc0-f7723d9b33e9",
   "metadata": {},
   "outputs": [
    {
     "data": {
      "image/png": "[encoded data removed]",
      "text/plain": [
       "<Figure size 500x200 with 2 Axes>"
      ]
     },
     "metadata": {},
     "output_type": "display_data"
    }
   ],
   "source": [
    "fig, axs = plt.subplots(1, 2, figsize=(5,2))\n",
    "labels = ['$\\max_t$ $[|dV/dt|]$ ($\\AA^3/fs$)', \n",
    "          r'$\\boldsymbol{E}_t$ $[|dV/dt|]$ ($\\AA^3/fs$)']\n",
    "for i, var in enumerate(['diff_max', 'diff_mean']):\n",
    "    plt.sca(axs[i])\n",
    "    ax = plt.gca()\n",
    "    sns.boxplot(x='Method', \n",
    "                y=var,\n",
    "                data=params,\n",
    "                hue='Method',\n",
    "                boxprops=dict(alpha=.6),\n",
    "                showfliers=False,\n",
    "                legend=i,\n",
    "                ax=ax\n",
    "               )\n",
    "    sns.swarmplot(x='Method', \n",
    "                y=var,\n",
    "                data=params,\n",
    "                hue='Method',\n",
    "                ax=ax\n",
    "                #marker='Method',\n",
    "               )\n",
    "    plt.ylabel(labels[i])\n",
    "    plt.xlabel('')\n",
    "    plt.xticks([])\n",
    "    plt.grid('on', which='both')\n",
    "    # plt.legend()\n",
    "    #plt.ylim(bottom=0)\n",
    "plt.tight_layout()\n",
    "sns.move_legend(\n",
    "    ax, \"upper right\",\n",
    "    bbox_to_anchor=(1, 1.25), ncol=3, title=None, frameon=False,\n",
    ")\n",
    "plt.savefig('volume_gradients.png', dpi=500, bbox_inches='tight')\n",
    "plt.show()\n"
   ]
  },
  {
   "cell_type": "code",
   "execution_count": 20,
   "id": "cc7756f3-2941-4ac2-8f0d-a797128bc700",
   "metadata": {},
   "outputs": [
    {
     "data": {
      "text/plain": [
       "<Axes: ylabel='$\\\\boldsymbol{E}_t$ $[|dV/dt|]$ ($\\\\AA^3/fs$)'>"
      ]
     },
     "execution_count": 20,
     "metadata": {},
     "output_type": "execute_result"
    }
   ],
   "source": [
    "ax"
   ]
  },
  {
   "cell_type": "code",
   "execution_count": 21,
   "id": "ccf43639-ad15-43f0-929f-6e85f72ac92a",
   "metadata": {},
   "outputs": [
    {
     "data": {
      "image/png": "[encoded data removed]",
      "text/plain": [
       "<Figure size 700x300 with 2 Axes>"
      ]
     },
     "metadata": {},
     "output_type": "display_data"
    }
   ],
   "source": [
    "fig, axs = plt.subplots(1, 2, figsize=(7,3))\n",
    "labels = ['Runtime (h)', \n",
    "          r'Fractoion Target Evals']\n",
    "for i, var in enumerate(['runtime_h', 'target_evals']):\n",
    "    plt.sca(axs[i])\n",
    "    sns.boxplot(x='Method', \n",
    "                y=var,\n",
    "                data=params,\n",
    "                hue='Method',\n",
    "                boxprops=dict(alpha=.6),\n",
    "                showfliers=False\n",
    "               )\n",
    "    sns.swarmplot(x='Method', \n",
    "                y=var,\n",
    "                data=params,\n",
    "                hue='Method',\n",
    "                #style='Method',\n",
    "               )\n",
    "    plt.ylabel(labels[i])\n",
    "    plt.xticks(rotation=10)\n",
    "    plt.grid('on', which='both')\n",
    "plt.tight_layout()\n",
    "plt.show()"
   ]
  },
  {
   "cell_type": "code",
   "execution_count": 22,
   "id": "2b9517f9-a13a-4daf-bae6-c5deac78d300",
   "metadata": {},
   "outputs": [
    {
     "name": "stderr",
     "output_type": "stream",
     "text": [
      "/tmp/ipykernel_142725/1726218294.py:6: SettingWithCopyWarning: \n",
      "A value is trying to be set on a copy of a slice from a DataFrame.\n",
      "Try using .loc[row_indexer,col_indexer] = value instead\n",
      "\n",
      "See the caveats in the documentation: https://pandas.pydata.org/pandas-docs/stable/user_guide/indexing.html#returning-a-view-versus-a-copy\n",
      "  _data['Method'] = _data['Method'].cat.remove_unused_categories()\n"
     ]
    },
    {
     "data": {
      "image/png": "[encoded data removed]",
      "text/plain": [
       "<Figure size 500x200 with 2 Axes>"
      ]
     },
     "metadata": {},
     "output_type": "display_data"
    }
   ],
   "source": [
    "fig, axs = plt.subplots(1, 2, figsize=(5,2))\n",
    "labels = [r'Density (g/cc)', \n",
    "          r'Runtime (h)']\n",
    "\n",
    "_data = params.query('Method != \"Proxima+blend\"')\n",
    "_data['Method'] = _data['Method'].cat.remove_unused_categories()\n",
    "\n",
    "for i, var in enumerate(['density', 'runtime_h']):\n",
    "    plt.sca(axs[i])\n",
    "    ax = sns.boxplot(x='Method', \n",
    "                y=var,\n",
    "                data=_data,\n",
    "                hue='Method',\n",
    "                boxprops=dict(alpha=.6),\n",
    "                showfliers=False,\n",
    "                legend=i\n",
    "               )\n",
    "    sns.swarmplot(x='Method', \n",
    "                y=var,\n",
    "                data=_data,\n",
    "                hue='Method',\n",
    "               )\n",
    "    plt.ylabel(labels[i])\n",
    "    plt.xlabel('')\n",
    "    plt.xticks([])\n",
    "    plt.grid('on', which='both')\n",
    "plt.tight_layout()\n",
    "sns.move_legend(\n",
    "    ax, \"upper right\",\n",
    "    bbox_to_anchor=(0.5, 1.25), ncol=3, title=None, frameon=False,\n",
    ")\n",
    "plt.show()"
   ]
  },
  {
   "cell_type": "code",
   "execution_count": 23,
   "id": "73ab6a0f-5a06-45bf-867a-841395e29a23",
   "metadata": {},
   "outputs": [],
   "source": [
    "marker_dict = {\n",
    "    'Proxima': 'o', \n",
    "    'Proxima+blend': 'v',\n",
    "    'DFT (reference)': 'x'\n",
    "}"
   ]
  },
  {
   "cell_type": "code",
   "execution_count": 24,
   "id": "567d339c-aded-4f8e-b704-c6f13eac7635",
   "metadata": {},
   "outputs": [
    {
     "data": {
      "image/png": "[encoded data removed]",
      "text/plain": [
       "<Figure size 500x200 with 2 Axes>"
      ]
     },
     "metadata": {},
     "output_type": "display_data"
    }
   ],
   "source": [
    "fig, axs = plt.subplots(1, 2, figsize=(5,2))\n",
    "labels = [r'Density (g/cc)', \n",
    "          r'Runtime (h)']\n",
    "\n",
    "_data = params#.query('Method != \"Proxima+blend\"')\n",
    "#_data['Method'] = _data['Method'].cat.remove_unused_categories()\n",
    "\n",
    "for i, var in enumerate(['density', 'runtime_h']):\n",
    "    plt.sca(axs[i])\n",
    "    ax = sns.boxplot(x='Method', \n",
    "                y=var,\n",
    "                data=_data,\n",
    "                hue='Method',\n",
    "                boxprops=dict(alpha=.6),\n",
    "                showfliers=False,\n",
    "                legend=i,\n",
    "               )\n",
    "    sns.swarmplot(x='Method', \n",
    "                y=var,\n",
    "                data=_data,\n",
    "                hue='Method',\n",
    "                # legend=i,\n",
    "               )\n",
    "    plt.ylabel(labels[i])\n",
    "    plt.xlabel('')\n",
    "    plt.xticks([])\n",
    "    plt.grid('on', which='both')\n",
    "plt.tight_layout()\n",
    "sns.move_legend(\n",
    "    ax, \"upper right\",\n",
    "    bbox_to_anchor=(1, 1.25), ncol=3, title=None, frameon=False,\n",
    ")\n",
    "plt.savefig('density_runtime.png', dpi=500, bbox_inches='tight')\n",
    "plt.show()\n"
   ]
  },
  {
   "cell_type": "code",
   "execution_count": null,
   "id": "71cd4b25-fa33-4266-96dc-765d92dfc0ac",
   "metadata": {},
   "outputs": [],
   "source": []
  },
  {
   "cell_type": "code",
   "execution_count": 49,
   "id": "391dae3a-7dd7-4227-b8ab-c7af8892f909",
   "metadata": {},
   "outputs": [],
   "source": [
    "ran_surrogate = data.query('used_surrogate == True and n_blending_steps == 0')"
   ]
  },
  {
   "cell_type": "code",
   "execution_count": 52,
   "id": "afe76166-c063-469d-8117-5e69170a5986",
   "metadata": {},
   "outputs": [
    {
     "data": {
      "image/png": "[encoded data removed]",
      "text/plain": [
       "<Figure size 625x250 with 1 Axes>"
      ]
     },
     "metadata": {},
     "output_type": "display_data"
    },
    {
     "name": "stdout",
     "output_type": "stream",
     "text": [
      "mean=1.29025, median=0.83284\n"
     ]
    }
   ],
   "source": [
    "mean, median = ran_surrogate.last_error.mean(), ran_surrogate.last_error.median()\n",
    "target_error = ran_surrogate.target_error.unique()\n",
    "g = sns.displot(ran_surrogate.last_error, \n",
    "                #log_scale=True,\n",
    "                height=2.5, \n",
    "                aspect=5/2,\n",
    "               )\n",
    "g.ax.axvline(median, \n",
    "             color='tab:orange', \n",
    "             label='Median')\n",
    "g.ax.axvline(mean,\n",
    "             color='tab:green', \n",
    "             label='Mean')\n",
    "g.ax.axvline(target_error, color='k', linestyle ='dashed', label='Target')\n",
    "plt.xlabel('$\\epsilon_\\mathrm{observed}$ (eV/$\\mathrm{\\AA}$)')\n",
    "plt.legend()\n",
    "plt.savefig('observed_error_histogram.png', dpi=500, bbox_inches='tight')\n",
    "plt.show()\n",
    "print(f'{mean=:0.5f}, {median=:0.5f}')"
   ]
  },
  {
   "cell_type": "code",
   "execution_count": 61,
   "id": "83874e9a-68e6-4d68-a524-aab82ccf3863",
   "metadata": {},
   "outputs": [
    {
     "data": {
      "text/plain": [
       "(4153, 24)"
      ]
     },
     "execution_count": 61,
     "metadata": {},
     "output_type": "execute_result"
    }
   ],
   "source": [
    "ran_surrogate = data.query('proxima_blending_step == n_blending_steps and n_blending_steps == 10')\n",
    "ran_surrogate.shape"
   ]
  },
  {
   "cell_type": "code",
   "execution_count": 62,
   "id": "7a032314-7250-493a-9cdb-591a110d599d",
   "metadata": {},
   "outputs": [
    {
     "data": {
      "image/png": "[encoded data removed]",
      "text/plain": [
       "<Figure size 625x250 with 1 Axes>"
      ]
     },
     "metadata": {},
     "output_type": "display_data"
    },
    {
     "name": "stdout",
     "output_type": "stream",
     "text": [
      "mean=1.63114, median=0.95520\n"
     ]
    }
   ],
   "source": [
    "mean, median = ran_surrogate.last_error.mean(), ran_surrogate.last_error.median()\n",
    "target_error = ran_surrogate.target_error.unique()\n",
    "g = sns.displot(ran_surrogate.last_error, \n",
    "                #log_scale=True,\n",
    "                height=2.5, \n",
    "                aspect=5/2,\n",
    "               )\n",
    "g.ax.axvline(median, \n",
    "             color='tab:orange', \n",
    "             label='Median')\n",
    "g.ax.axvline(mean,\n",
    "             color='tab:green', \n",
    "             label='Mean')\n",
    "g.ax.axvline(target_error, color='k', linestyle ='dashed', label='Target')\n",
    "plt.xlabel('$\\epsilon_\\mathrm{observed}$ (eV/$\\mathrm{\\AA}$)')\n",
    "plt.legend()\n",
    "plt.savefig('observed_error_histogram.png', dpi=500, bbox_inches='tight')\n",
    "plt.suptitle('Blending = True')\n",
    "plt.show()\n",
    "print(f'{mean=:0.5f}, {median=:0.5f}')"
   ]
  },
  {
   "cell_type": "code",
   "execution_count": null,
   "id": "d01c0c34-f3cc-4154-ab58-6a6279f00561",
   "metadata": {},
   "outputs": [],
   "source": []
  }
 ],
 "metadata": {
  "kernelspec": {
   "display_name": "Python 3 (ipykernel)",
   "language": "python",
   "name": "python3"
  },
  "language_info": {
   "codemirror_mode": {
    "name": "ipython",
    "version": 3
   },
   "file_extension": ".py",
   "mimetype": "text/x-python",
   "name": "python",
   "nbconvert_exporter": "python",
   "pygments_lexer": "ipython3",
   "version": "3.11.0"
  }
 },
 "nbformat": 4,
 "nbformat_minor": 5
}
