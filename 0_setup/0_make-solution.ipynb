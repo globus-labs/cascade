{
 "cells": [
  {
   "cell_type": "markdown",
   "id": "aef8d388-475a-4c18-a5a3-0687811ba0ad",
   "metadata": {},
   "source": [
    "# Make a Simulation Cell with Aqueous Solution\n",
    "Create a cell with a single solute atom"
   ]
  },
  {
   "cell_type": "code",
   "execution_count": 1,
   "id": "b3c5c486-3615-43cd-8484-6d4485b65863",
   "metadata": {},
   "outputs": [],
   "source": [
    "from ase.optimize import LBFGS\n",
    "from ase.build import molecule\n",
    "from ase.io import read\n",
    "from ase import Atoms, units\n",
    "from subprocess import run\n",
    "from pathlib import Path\n",
    "from random import randint\n",
    "import numpy as np"
   ]
  },
  {
   "cell_type": "markdown",
   "id": "c30898f7-7dd9-4a5d-aa95-01ff07b56923",
   "metadata": {},
   "source": [
    "Configuration"
   ]
  },
  {
   "cell_type": "code",
   "execution_count": 2,
   "id": "092cf4a0-b188-4c24-b3e4-f95dd5527f46",
   "metadata": {},
   "outputs": [],
   "source": [
    "distance_tolerance = 2  # Ensure they do not get too close\n",
    "density = 1.1  # In g/cm^3, based only on the water\n",
    "solute = 'CH4'\n",
    "solvent = 'H2O'\n",
    "num_solvent = 32\n",
    "seed = randint(0, 256)"
   ]
  },
  {
   "cell_type": "markdown",
   "id": "d8231b6c-bf5a-4f1f-90c9-99f797d96ecf",
   "metadata": {},
   "source": [
    "## Make the solution with Packmol\n",
    "Give it PBC and ensure we have just enough spacing between molecules"
   ]
  },
  {
   "cell_type": "code",
   "execution_count": 3,
   "id": "4106180d-725e-4c47-8866-b03a41295833",
   "metadata": {},
   "outputs": [],
   "source": [
    "solvent_atoms = molecule(solvent)\n",
    "solute_atoms = molecule(solute)"
   ]
  },
  {
   "cell_type": "markdown",
   "id": "378ca0dc-756d-4b2b-bb0d-7a82332b740d",
   "metadata": {},
   "source": [
    "Write the structure to disk in PDB format"
   ]
  },
  {
   "cell_type": "code",
   "execution_count": 4,
   "id": "d61a7336-6a1c-4515-9d64-6193a2940d42",
   "metadata": {},
   "outputs": [],
   "source": [
    "solvent_atoms.write('solvent.pdb')"
   ]
  },
  {
   "cell_type": "code",
   "execution_count": 5,
   "id": "184d2fdf-d28c-4e6b-bc3d-d7270d7c27a9",
   "metadata": {},
   "outputs": [],
   "source": [
    "solute_atoms.write('solute.pdb')"
   ]
  },
  {
   "cell_type": "markdown",
   "id": "82cf8421-2308-47ae-bcab-3d894299c46c",
   "metadata": {},
   "source": [
    "Compute the density based on the solvent"
   ]
  },
  {
   "cell_type": "code",
   "execution_count": 6,
   "id": "6669ea00-ee0c-44ab-9638-bb193ead0126",
   "metadata": {},
   "outputs": [],
   "source": [
    "total_mass = solvent_atoms.get_masses().sum() * num_solvent / units.mol # g"
   ]
  },
  {
   "cell_type": "code",
   "execution_count": 7,
   "id": "b4edb210-d860-4ce5-8f6a-caf56f7c0d44",
   "metadata": {},
   "outputs": [],
   "source": [
    "volume = (total_mass / units.mol) / density * (units.kg / 1000)  # cm^3\n",
    "volume /= 1e-24  # A^3"
   ]
  },
  {
   "cell_type": "code",
   "execution_count": 8,
   "id": "0505359f-68ae-4366-bebc-42898d569246",
   "metadata": {},
   "outputs": [
    {
     "name": "stdout",
     "output_type": "stream",
     "text": [
      "Building a box with side lengths of 9.55 A\n"
     ]
    }
   ],
   "source": [
    "side_length = np.power(volume, 1./3)\n",
    "print(f'Building a box with side lengths of {side_length:.2f} A')"
   ]
  },
  {
   "cell_type": "markdown",
   "id": "c7d5d480-9120-43d4-91df-f982ceba58a6",
   "metadata": {},
   "source": [
    "Assemble the input file"
   ]
  },
  {
   "cell_type": "code",
   "execution_count": 9,
   "id": "f2a67dc3-ce26-4c55-b5a5-018767bc161d",
   "metadata": {},
   "outputs": [],
   "source": [
    "middle = side_length / 2\n",
    "packmol_inp = f'''\n",
    "seed {seed}\n",
    "tolerance {distance_tolerance:.1f}\n",
    "output cell.pdb\n",
    "structure solvent.pdb\n",
    "  number {num_solvent}\n",
    "  inside cube 0. 0. 0. {side_length:.2f}\n",
    "end structure\n",
    "structure solute.pdb\n",
    "   number 1\n",
    "   center \n",
    "   fixed {middle:.2f} {middle:.2f} {middle:.2f} 0. 0. 0.\n",
    "end structure \n",
    "'''"
   ]
  },
  {
   "cell_type": "code",
   "execution_count": 10,
   "id": "f37372f7-77fc-4c37-aa96-d335b570f422",
   "metadata": {},
   "outputs": [
    {
     "data": {
      "text/plain": [
       "208"
      ]
     },
     "execution_count": 10,
     "metadata": {},
     "output_type": "execute_result"
    }
   ],
   "source": [
    "Path('packmol.inp').write_text(packmol_inp)"
   ]
  },
  {
   "cell_type": "code",
   "execution_count": 11,
   "id": "80dd06b1-9f19-448d-b635-45ee47c2c1ff",
   "metadata": {},
   "outputs": [],
   "source": [
    "with Path('packmol.inp').open() as fp:\n",
    "    run('packmol', stdin=fp, capture_output=True)"
   ]
  },
  {
   "cell_type": "code",
   "execution_count": 12,
   "id": "6eccf295-9213-403b-a5a4-ee0d822f6cd2",
   "metadata": {},
   "outputs": [],
   "source": [
    "cell = read('cell.pdb')"
   ]
  },
  {
   "cell_type": "markdown",
   "id": "2ff4eb95-7305-4b69-a6ae-72f8eb48108c",
   "metadata": {},
   "source": [
    "Make it periodic and add a buffer around the side for PBC"
   ]
  },
  {
   "cell_type": "code",
   "execution_count": 13,
   "id": "55556ca0-b200-4c30-9ffb-417408f1253a",
   "metadata": {},
   "outputs": [],
   "source": [
    "cell.pbc = True"
   ]
  },
  {
   "cell_type": "code",
   "execution_count": 14,
   "id": "2556331c-dc84-4b35-8670-916441c86481",
   "metadata": {},
   "outputs": [],
   "source": [
    "cell.cell = [side_length + distance_tolerance / 2] * 3"
   ]
  },
  {
   "cell_type": "markdown",
   "id": "36d1bb76-fae9-483b-a4c3-ea517cfc2730",
   "metadata": {},
   "source": [
    "Save it to disk"
   ]
  },
  {
   "cell_type": "code",
   "execution_count": 15,
   "id": "b65e2f8a-7553-4a29-ac8f-350b5719680e",
   "metadata": {},
   "outputs": [],
   "source": [
    "Path('initial-geometries').mkdir(exist_ok=True)\n",
    "cell.write(f'initial-geometries/packmol-{solute}-in-{solvent}={num_solvent}-seed={seed}.vasp', sort=True)"
   ]
  },
  {
   "cell_type": "code",
   "execution_count": null,
   "id": "dcae3013-ceb3-4b42-8c55-0679eb9af5df",
   "metadata": {},
   "outputs": [],
   "source": []
  }
 ],
 "metadata": {
  "kernelspec": {
   "display_name": "Python 3 (ipykernel)",
   "language": "python",
   "name": "python3"
  },
  "language_info": {
   "codemirror_mode": {
    "name": "ipython",
    "version": 3
   },
   "file_extension": ".py",
   "mimetype": "text/x-python",
   "name": "python",
   "nbconvert_exporter": "python",
   "pygments_lexer": "ipython3",
   "version": "3.11.0"
  }
 },
 "nbformat": 4,
 "nbformat_minor": 5
}
