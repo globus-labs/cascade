{
 "cells": [
  {
   "cell_type": "code",
   "execution_count": 5,
   "id": "98670c4e-b7e7-4780-9c3f-7096226b576a",
   "metadata": {},
   "outputs": [],
   "source": [
    "from ase.io import read\n",
    "from cascade.learning.torchani import TorchANI"
   ]
  },
  {
   "cell_type": "code",
   "execution_count": 8,
   "id": "0ccbde53-cf67-4f8e-8b52-8e75704a6a9e",
   "metadata": {},
   "outputs": [],
   "source": [
    "test = read('../0_setup/md/packmol-CH4-in-H2O=32-seed=3-blyp-npt=298/md.traj', index=':')"
   ]
  },
  {
   "cell_type": "code",
   "execution_count": 6,
   "id": "caebe1eb-1d1d-4122-bfb3-445a04f0073f",
   "metadata": {},
   "outputs": [],
   "source": [
    "with open('ensemble/ani_rep_0.blob', 'rb') as f: \n",
    "    mmsg = f.read()"
   ]
  },
  {
   "cell_type": "code",
   "execution_count": 11,
   "id": "5746a628-1874-4695-89e2-63fc7dc9b8d8",
   "metadata": {
    "scrolled": true
   },
   "outputs": [],
   "source": [
    "a0 = TorchANI()"
   ]
  },
  {
   "cell_type": "code",
   "execution_count": 10,
   "id": "6a16a1ff-3edf-445d-b1f9-53088ef7c300",
   "metadata": {},
   "outputs": [
    {
     "data": {
      "text/plain": [
       "<cascade.learning.torchani.TorchANI at 0x7f556e2f5510>"
      ]
     },
     "execution_count": 10,
     "metadata": {},
     "output_type": "execute_result"
    }
   ],
   "source": [
    "a0"
   ]
  },
  {
   "cell_type": "code",
   "execution_count": 15,
   "id": "cb077dcb-0992-4a4b-9386-08ae4bb602cb",
   "metadata": {},
   "outputs": [],
   "source": [
    "energies, forces = a0.evaluate(mmsg, test, device='cuda:0')"
   ]
  },
  {
   "cell_type": "code",
   "execution_count": null,
   "id": "51923107-7a5e-4ebd-8133-25ac7a27eb33",
   "metadata": {},
   "outputs": [],
   "source": []
  },
  {
   "cell_type": "code",
   "execution_count": null,
   "id": "67c591b2-d1d2-4a46-996e-4fc428479b74",
   "metadata": {},
   "outputs": [],
   "source": []
  }
 ],
 "metadata": {
  "kernelspec": {
   "display_name": "Python 3 (ipykernel)",
   "language": "python",
   "name": "python3"
  },
  "language_info": {
   "codemirror_mode": {
    "name": "ipython",
    "version": 3
   },
   "file_extension": ".py",
   "mimetype": "text/x-python",
   "name": "python",
   "nbconvert_exporter": "python",
   "pygments_lexer": "ipython3",
   "version": "3.11.0"
  }
 },
 "nbformat": 4,
 "nbformat_minor": 5
}
