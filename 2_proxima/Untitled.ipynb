{
 "cells": [
  {
   "cell_type": "code",
   "execution_count": 29,
   "id": "8ba474d6-be49-4643-9bb2-17674074c211",
   "metadata": {},
   "outputs": [],
   "source": [
    "from ase.io import read, extxyz\n",
    "from glob import glob\n",
    "from pathlib import Path\n",
    "import json\n",
    "\n",
    "import matplotlib.pyplot as plt"
   ]
  },
  {
   "cell_type": "code",
   "execution_count": 30,
   "id": "f887ee81-052b-44d7-b109-f8ead74f5cff",
   "metadata": {},
   "outputs": [
    {
     "data": {
      "text/plain": [
       "['runs/nvt-fixed-temp/si-vacancy-2x2x2-temp=1573.0-method=lda-blend=0-9fb85a0f',\n",
       " 'runs/nvt-fixed-temp/si-vacancy-2x2x2-temp=1573.0-method=lda-blend=10-00f4d1ee',\n",
       " 'runs/nvt-fixed-temp/si-vacancy-2x2x2-temp=1573.0-method=lda-blend=10-3edef378',\n",
       " 'runs/nvt-fixed-temp/si-vacancy-2x2x2-temp=1573.0-method=lda-blend=0-c6b2fa55',\n",
       " 'runs/nvt-fixed-temp/si-vacancy-2x2x2-temp=1573.0-method=lda-blend=10-c87f8b96',\n",
       " 'runs/nvt-fixed-temp/si-vacancy-2x2x2-temp=1573.0-method=lda-blend=0-fc69a0ed',\n",
       " 'runs/nvt-fixed-temp/si-vacancy-2x2x2-temp=1573.0-method=lda-blend=0-c530dbd2',\n",
       " 'runs/nvt-fixed-temp/si-vacancy-2x2x2-temp=1573.0-method=lda-blend=0-e16683d7',\n",
       " 'runs/nvt-fixed-temp/si-vacancy-2x2x2-temp=1573.0-method=lda-blend=0-d8af6f3e',\n",
       " 'runs/nvt-fixed-temp/si-vacancy-2x2x2-temp=1573.0-method=lda-blend=0-526f7ee4',\n",
       " 'runs/nvt-fixed-temp/si-vacancy-2x2x2-temp=1573.0-method=lda-blend=0-8e988302',\n",
       " 'runs/nvt-fixed-temp/si-vacancy-2x2x2-temp=1573.0-method=lda-blend=0-2bcd06d4',\n",
       " 'runs/nvt-fixed-temp/si-vacancy-2x2x2-temp=1573.0-method=lda-blend=0-39c7c71d',\n",
       " 'runs/nvt-fixed-temp/si-vacancy-2x2x2-temp=1573.0-method=lda-blend=0-e74a3487',\n",
       " 'runs/nvt-fixed-temp/si-vacancy-2x2x2-temp=1573.0-method=lda-blend=10-8b4dc1de',\n",
       " 'runs/nvt-fixed-temp/si-vacancy-2x2x2-temp=1573.0-method=lda-blend=10-6126682e',\n",
       " 'runs/nvt-fixed-temp/si-vacancy-2x2x2-temp=1573.0-method=lda-blend=10-3399d3ee',\n",
       " 'runs/nvt-fixed-temp/si-vacancy-2x2x2-temp=1573.0-method=lda-blend=0-10ce8f31',\n",
       " 'runs/nvt-fixed-temp/si-vacancy-2x2x2-temp=1573.0-method=lda-blend=0-a81cf9bb',\n",
       " 'runs/nvt-fixed-temp/si-vacancy-2x2x2-temp=1573.0-method=lda-blend=0-b5e442bd',\n",
       " 'runs/nvt-fixed-temp/si-vacancy-2x2x2-temp=1573.0-method=lda-blend=0-97d501be',\n",
       " 'runs/nvt-fixed-temp/si-vacancy-2x2x2-temp=1573.0-method=lda-blend=0-01bd9480',\n",
       " 'runs/nvt-fixed-temp/si-vacancy-2x2x2-temp=1573.0-method=lda-blend=10-2605a33c',\n",
       " 'runs/nvt-fixed-temp/si-vacancy-2x2x2-temp=1573.0-method=lda-blend=10-7ac8dce3',\n",
       " 'runs/nvt-fixed-temp/si-vacancy-2x2x2-temp=1573.0-method=lda-blend=0-6456c0b8',\n",
       " 'runs/nvt-fixed-temp/si-vacancy-2x2x2-temp=1573.0-method=lda-blend=10-5121bf75',\n",
       " 'runs/nvt-fixed-temp/si-vacancy-2x2x2-temp=1573.0-method=lda-blend=10-d6c11ef4',\n",
       " 'runs/nvt-fixed-temp/si-vacancy-2x2x2-temp=1573.0-method=lda-blend=0-89979534',\n",
       " 'runs/nvt-fixed-temp/si-vacancy-2x2x2-temp=1573.0-method=lda-blend=0-d980181e',\n",
       " 'runs/nvt-fixed-temp/si-vacancy-2x2x2-temp=1573.0-method=lda-blend=0-382ae57a']"
      ]
     },
     "execution_count": 30,
     "metadata": {},
     "output_type": "execute_result"
    }
   ],
   "source": [
    "paths = glob('runs/nvt-fixed-temp/si*')\n",
    "paths"
   ]
  },
  {
   "cell_type": "code",
   "execution_count": 47,
   "id": "3c8bc727-6df0-4002-b72d-aa91236d9c6f",
   "metadata": {},
   "outputs": [
    {
     "data": {
      "text/plain": [
       "PosixPath('runs/nvt-fixed-temp/si-vacancy-2x2x2-temp=1573.0-method=lda-blend=0-9fb85a0f')"
      ]
     },
     "execution_count": 47,
     "metadata": {},
     "output_type": "execute_result"
    }
   ],
   "source": [
    "path"
   ]
  },
  {
   "cell_type": "code",
   "execution_count": 57,
   "id": "74acedea-9863-442f-ad92-82a881e293cf",
   "metadata": {},
   "outputs": [
    {
     "data": {
      "text/plain": [
       "{'file': None,\n",
       " 'starting_strc': '../0_setup/initial-geometries/si-vacancy-2x2x2.vasp',\n",
       " 'temperature': 1573.0,\n",
       " 'timestep': 1,\n",
       " 'calculator': 'lda',\n",
       " 'ensemble': 'nvt',\n",
       " 'temp_tau': 25,\n",
       " 'stress_tau': 25.0,\n",
       " 'steps': 40000,\n",
       " 'seed': 6,\n",
       " 'bulk_modulus': 98.0,\n",
       " 'initial_volume': 1376.0,\n",
       " 'model_type': 'ani',\n",
       " 'initial_model': None,\n",
       " 'initial_data': [],\n",
       " 'ensemble_size': 2,\n",
       " 'online_training': True,\n",
       " 'training_epochs': 16,\n",
       " 'training_batch_size': 32,\n",
       " 'training_max_size': 512,\n",
       " 'training_recency_bias': 1.0,\n",
       " 'training_device': 'cpu',\n",
       " 'target_error': 0.9,\n",
       " 'error_history': 8,\n",
       " 'retrain_freq': 512,\n",
       " 'min_target_frac': 0.1,\n",
       " 'n_blending_steps': 0,\n",
       " 'cascade_commit': '5fda70cf55730fb117bf65924cfd5fae9fd3b0ed',\n",
       " 'my_commit': '5fda70cf55730fb117bf65924cfd5fae9fd3b0ed',\n",
       " 'start_time': '2024-10-03T21:01:56.904690'}"
      ]
     },
     "execution_count": 57,
     "metadata": {},
     "output_type": "execute_result"
    }
   ],
   "source": [
    "path = Path(paths[6])\n",
    "with open(path/'params.json', 'r') as f:\n",
    "    params = json.load(f)\n",
    "params"
   ]
  },
  {
   "cell_type": "code",
   "execution_count": 8,
   "id": "0176b350-8b95-4eb6-8c11-017fa48a6871",
   "metadata": {},
   "outputs": [],
   "source": []
  },
  {
   "cell_type": "code",
   "execution_count": 58,
   "id": "b6c9388f-325b-4b83-b511-f948b28cb2c5",
   "metadata": {},
   "outputs": [
    {
     "data": {
      "text/plain": [
       "11.892318512039678"
      ]
     },
     "execution_count": 58,
     "metadata": {},
     "output_type": "execute_result"
    }
   ],
   "source": [
    "atoms = traj[0]\n",
    "atoms.get_kinetic_energy()"
   ]
  },
  {
   "cell_type": "code",
   "execution_count": 59,
   "id": "81856cb0-c792-4895-a66b-d1275d17c58a",
   "metadata": {},
   "outputs": [
    {
     "data": {
      "text/plain": [
       "array([-8.81129385e-19,  5.50705865e-18,  6.38818804e-18])"
      ]
     },
     "execution_count": 59,
     "metadata": {},
     "output_type": "execute_result"
    }
   ],
   "source": [
    "v_mean = atoms.get_velocities().mean(0)\n",
    "v_mean"
   ]
  },
  {
   "cell_type": "code",
   "execution_count": 60,
   "id": "cfa1568e-2e97-4227-8825-f6b99a8d1e7c",
   "metadata": {},
   "outputs": [],
   "source": [
    "atoms.set_velocities(atoms.get_velocities() - v_mean)"
   ]
  },
  {
   "cell_type": "code",
   "execution_count": 61,
   "id": "d76af438-3ced-4045-af07-aebff9c0cf3c",
   "metadata": {},
   "outputs": [
    {
     "data": {
      "text/plain": [
       "11.892318512039678"
      ]
     },
     "execution_count": 61,
     "metadata": {},
     "output_type": "execute_result"
    }
   ],
   "source": [
    "atoms.get_kinetic_energy()"
   ]
  },
  {
   "cell_type": "code",
   "execution_count": 62,
   "id": "4f46ba67-a6f9-40be-948e-6f3181964c31",
   "metadata": {},
   "outputs": [],
   "source": [
    "traj = read(path/'md.traj', index=':')\n",
    "KE = []\n",
    "KE_v_shifted = []\n",
    "for atoms in traj:\n",
    "    v = atoms.get_velocities()\n",
    "    KE.append(atoms.get_kinetic_energy())\n",
    "\n",
    "    atoms.set_velocities(v - v.mean(0))\n",
    "    KE_v_shifted.append(atoms.get_kinetic_energy())"
   ]
  },
  {
   "cell_type": "code",
   "execution_count": 63,
   "id": "f4f06c74-b11f-4b8f-a348-18309a6f80ba",
   "metadata": {},
   "outputs": [
    {
     "data": {
      "image/png": "[encoded data removed]",
      "text/plain": [
       "<Figure size 640x480 with 1 Axes>"
      ]
     },
     "metadata": {},
     "output_type": "display_data"
    }
   ],
   "source": [
    "plt.plot(KE, label='With observed vel')\n",
    "plt.plot(KE_v_shifted, alpha=0.5, label='With vel - vel.mean()')\n",
    "plt.ylabel('KE eV')\n",
    "plt.xlabel('t (fs)')\n",
    "plt.legend();"
   ]
  },
  {
   "cell_type": "code",
   "execution_count": null,
   "id": "a4bada7d-1121-48b2-97f3-321485a76bbc",
   "metadata": {},
   "outputs": [],
   "source": []
  },
  {
   "cell_type": "code",
   "execution_count": null,
   "id": "da1ecd24-6b57-46d5-86c9-7da11aea37fc",
   "metadata": {
    "scrolled": true
   },
   "outputs": [],
   "source": [
    "traj"
   ]
  },
  {
   "cell_type": "code",
   "execution_count": null,
   "id": "293bfe66-2eb4-40d2-b48b-2d87ac4b8f2a",
   "metadata": {},
   "outputs": [],
   "source": [
    "((traj[-1].positions - traj[0].positions)**2).mean()"
   ]
  },
  {
   "cell_type": "code",
   "execution_count": null,
   "id": "dfb459a7-3a6c-4f6b-8b1a-36288a9f0e13",
   "metadata": {},
   "outputs": [],
   "source": [
    "delta_com = traj[-1].get_center_of_mass() - traj[0].get_center_of_mass()"
   ]
  },
  {
   "cell_type": "code",
   "execution_count": null,
   "id": "6d806a99-dd32-46b5-9428-bc8a81c1e3ca",
   "metadata": {},
   "outputs": [],
   "source": [
    "delta_com"
   ]
  },
  {
   "cell_type": "code",
   "execution_count": null,
   "id": "1aac6850-e7fe-4242-b2b8-a95387f50071",
   "metadata": {},
   "outputs": [],
   "source": [
    "((traj[-1].positions - traj[0].positions - delta_com)**2).mean()"
   ]
  },
  {
   "cell_type": "code",
   "execution_count": null,
   "id": "05d730b1-150b-4b62-bee5-2c99c5e9f02d",
   "metadata": {},
   "outputs": [],
   "source": []
  }
 ],
 "metadata": {
  "kernelspec": {
   "display_name": "Python 3 (ipykernel)",
   "language": "python",
   "name": "python3"
  },
  "language_info": {
   "codemirror_mode": {
    "name": "ipython",
    "version": 3
   },
   "file_extension": ".py",
   "mimetype": "text/x-python",
   "name": "python",
   "nbconvert_exporter": "python",
   "pygments_lexer": "ipython3",
   "version": "3.11.0"
  }
 },
 "nbformat": 4,
 "nbformat_minor": 5
}
